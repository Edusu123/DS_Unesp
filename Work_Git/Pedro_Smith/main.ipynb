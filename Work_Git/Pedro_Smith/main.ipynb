{
 "cells": [
  {
   "cell_type": "code",
   "execution_count": 1,
   "metadata": {},
   "outputs": [
    {
     "name": "stdout",
     "output_type": "stream",
     "text": [
      "       Year  Month  DayofMonth  DayOfWeek  DepTime  CRSDepTime  ArrTime  \\\n",
      "0      2006      4          10          1   1405.0        1410   1456.0   \n",
      "1      2006      1           3          2   1344.0        1321   2116.0   \n",
      "2      2006     11          26          7   1810.0        1725   2107.0   \n",
      "3      2006      1          25          3   2326.0        2323    737.0   \n",
      "4      2006      8          11          5   1409.0        1410   1628.0   \n",
      "...     ...    ...         ...        ...      ...         ...      ...   \n",
      "71414  2006      5          20          6    901.0         910   1022.0   \n",
      "71415  2006      1          23          1   1500.0        1500   1553.0   \n",
      "71416  2006      7          25          2   1910.0        1915   2205.0   \n",
      "71417  2006      8          23          3   1331.0        1335   1501.0   \n",
      "71418  2006     11           6          1    705.0         707    920.0   \n",
      "\n",
      "       CRSArrTime UniqueCarrier  FlightNum  ... TaxiIn  TaxiOut  Cancelled  \\\n",
      "0            1505            MQ       3503  ...      2        8          0   \n",
      "1            2100            DL        461  ...      4       14          0   \n",
      "2            2025            WN       2308  ...      4       32          0   \n",
      "3             731            AS         10  ...      6        9          0   \n",
      "4            1632            US       1038  ...      3       10          0   \n",
      "...           ...           ...        ...  ...    ...      ...        ...   \n",
      "71414        1045            XE       2253  ...      3       14          0   \n",
      "71415        1600            WN       2126  ...      3       10          0   \n",
      "71416        2149            OH       5064  ...     15       19          0   \n",
      "71417        1510            WN       2956  ...      4       10          0   \n",
      "71418         947            UA        842  ...      6       19          0   \n",
      "\n",
      "       CancellationCode  Diverted  CarrierDelay WeatherDelay NASDelay  \\\n",
      "0                   NaN         0             0            0        0   \n",
      "1                   NaN         0             5            0        0   \n",
      "2                   NaN         0             0            0        6   \n",
      "3                   NaN         0             0            0        0   \n",
      "4                   NaN         0             0            0        0   \n",
      "...                 ...       ...           ...          ...      ...   \n",
      "71414               NaN         0             0            0        0   \n",
      "71415               NaN         0             0            0        0   \n",
      "71416               NaN         0             0            0       16   \n",
      "71417               NaN         0             0            0        0   \n",
      "71418               NaN         0             0            0        0   \n",
      "\n",
      "       SecurityDelay  LateAircraftDelay  \n",
      "0                  0                  0  \n",
      "1                  0                 11  \n",
      "2                  0                 36  \n",
      "3                  0                  0  \n",
      "4                  0                  0  \n",
      "...              ...                ...  \n",
      "71414              0                  0  \n",
      "71415              0                  0  \n",
      "71416              0                  0  \n",
      "71417              0                  0  \n",
      "71418              0                  0  \n",
      "\n",
      "[71419 rows x 29 columns]\n"
     ]
    }
   ],
   "source": [
    "import pandas as pd\n",
    "\n",
    "df = pd.read_csv(r\"C:\\Users\\pirsp\\Documents\\Aula_clayton 21.08\\Datasets\\2006-sample.csv\")\n",
    "\n",
    "print(df)\n"
   ]
  },
  {
   "cell_type": "code",
   "execution_count": null,
   "metadata": {},
   "outputs": [],
   "source": [
    "# 1. Descobrir a quantiade de atrasos de uma dada companhia passada como parâmetro.\n",
    "\n",
    "#def qntd_atrasos (companhia):\n"
   ]
  },
  {
   "cell_type": "code",
   "execution_count": 14,
   "metadata": {},
   "outputs": [
    {
     "name": "stdout",
     "output_type": "stream",
     "text": [
      "O voo de numero 740 é o que possui o maior atraso na chegada\n"
     ]
    }
   ],
   "source": [
    "# 1. Descobrir o vôo com maior atraso na chegada (`ArrDelay`) registrado.\n",
    "\n",
    "df_atrasos = df[['FlightNum', 'ArrDelay']]\n",
    "\n",
    "maior_atraso = 0\n",
    "voo_atrasado = 0\n",
    "\n",
    "for index,linha in df_atrasos.iterrows():\n",
    "    if linha['ArrDelay'] > maior_atraso:\n",
    "        maior_atraso = linha['ArrDelay']\n",
    "        voo_atrasado = linha['FlightNum']\n",
    "\n",
    "voo_atrasado = int(voo_atrasado)\n",
    "\n",
    "print(f'O vôo de numero {voo_atrasado} é o que possui o maior atraso na chegada')"
   ]
  },
  {
   "cell_type": "code",
   "execution_count": 15,
   "metadata": {},
   "outputs": [
    {
     "name": "stdout",
     "output_type": "stream",
     "text": [
      "O voo de numero 740 é o que possui o maior atraso na saida\n"
     ]
    }
   ],
   "source": [
    "# 1. Descobrir o vôo com maior atraso na saída (`DepDelay`) registrado.\n",
    "\n",
    "df_atrasos = df[['FlightNum', 'DepDelay']]\n",
    "\n",
    "maior_atraso = 0\n",
    "voo_atrasado = 0\n",
    "\n",
    "for index,linha in df_atrasos.iterrows():\n",
    "    if linha['DepDelay'] > maior_atraso:\n",
    "        maior_atraso = linha['DepDelay']\n",
    "        voo_atrasado = linha['FlightNum']\n",
    "\n",
    "voo_atrasado = int(voo_atrasado)\n",
    "\n",
    "print(f'O vôo de numero {voo_atrasado} é o que possui o maior atraso na saida')"
   ]
  },
  {
   "cell_type": "code",
   "execution_count": 19,
   "metadata": {},
   "outputs": [
    {
     "name": "stdout",
     "output_type": "stream",
     "text": [
      "O vôo de numero 116 é o mais longo\n"
     ]
    }
   ],
   "source": [
    "# 1. Descobrir o vôo mais longo.\n",
    "\n",
    "df_longo = df[['FlightNum', 'AirTime']]\n",
    "\n",
    "maior_voo = max(df_longo['AirTime'])\n",
    "voo_num = 0\n",
    "\n",
    "for index,linha in df_longo.iterrows():\n",
    "    if linha['AirTime'] == maior_voo:\n",
    "        voo_num = linha['FlightNum']\n",
    "\n",
    "voo_num = int(voo_num)\n",
    "\n",
    "print(f'O vôo de numero {voo_num} é o mais longo')"
   ]
  },
  {
   "cell_type": "code",
   "execution_count": 21,
   "metadata": {},
   "outputs": [
    {
     "name": "stdout",
     "output_type": "stream",
     "text": [
      "Os vôos precisaram ser redirecionados 131 vezes\n"
     ]
    }
   ],
   "source": [
    "# 1. Contar quantos vôos precisaram ser redirecionados (`Diverted`).\n",
    "\n",
    "df_diverted = df[['FlightNum', 'Diverted']]\n",
    "\n",
    "aux = set()\n",
    "qntd_diverted = 0\n",
    "\n",
    "for index,linha in df_diverted.iterrows():\n",
    "    if linha['Diverted'] == 1 and linha['FlightNum'] not in aux:\n",
    "        aux.add(linha['FlightNum'])\n",
    "        qntd_diverted += 1\n",
    "\n",
    "print(f'Os vôos precisaram ser redirecionados {qntd_diverted} vezes')"
   ]
  },
  {
   "cell_type": "code",
   "execution_count": null,
   "metadata": {},
   "outputs": [],
   "source": [
    "# 1. Calcular o tempo de atraso total para a companhia `Delta Air Lines`. Não esquecer de filtrar linhas com dados faltando e também com valores negativos (casos em que os vôos são adiantados)\n",
    "\n"
   ]
  },
  {
   "cell_type": "code",
   "execution_count": 34,
   "metadata": {},
   "outputs": [
    {
     "name": "stdout",
     "output_type": "stream",
     "text": [
      "O tempo total de atrasos para a decolagem no aeroporto JFK foi de 13763\n"
     ]
    }
   ],
   "source": [
    "# 1. Mostrar o tempo total de atrasos para a decolagem ('DepDelay') de vôos no aeroporto `JFK`, de Nova Iorque.\n",
    "\n",
    "df_aeroporto = df[['DepDelay', 'Origin']]\n",
    "\n",
    "tempo = 0.0\n",
    "\n",
    "for index,linha in df_aeroporto.iterrows():\n",
    "    if linha['Origin'] == 'JFK' and pd.notna(linha['DepDelay']):\n",
    "        tempo += linha['DepDelay']\n",
    "\n",
    "tempo = int(tempo)\n",
    "\n",
    "print(f'O tempo total de atrasos para a decolagem no aeroporto JFK foi de {tempo}')"
   ]
  }
 ],
 "metadata": {
  "kernelspec": {
   "display_name": "Python 3",
   "language": "python",
   "name": "python3"
  },
  "language_info": {
   "codemirror_mode": {
    "name": "ipython",
    "version": 3
   },
   "file_extension": ".py",
   "mimetype": "text/x-python",
   "name": "python",
   "nbconvert_exporter": "python",
   "pygments_lexer": "ipython3",
   "version": "3.12.4"
  }
 },
 "nbformat": 4,
 "nbformat_minor": 2
}
