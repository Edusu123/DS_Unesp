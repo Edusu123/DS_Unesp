{
 "cells": [
  {
   "cell_type": "code",
   "execution_count": 8,
   "metadata": {},
   "outputs": [],
   "source": [
    "import pandas as pd\n",
    "\n",
    "df = pd.read_csv(r\"C:\\Users\\pirsp\\Documents\\Aula_clayton 21.08\\Datasets\\2006-sample.csv\")\n"
   ]
  },
  {
   "cell_type": "code",
   "execution_count": 9,
   "metadata": {},
   "outputs": [
    {
     "name": "stdout",
     "output_type": "stream",
     "text": [
      "O tempo de atraso foi de 63427.0\n"
     ]
    }
   ],
   "source": [
    "# 1. Calcular o tempo de atraso total para a companhia `Delta Air Lines`. Não esquecer de filtrar linhas com dados faltando e também com valores negativos (casos em que os vôos são adiantados)\n",
    "\n",
    "import pandas as pd\n",
    "\n",
    "df = pd.read_csv(r\"C:\\Users\\pirsp\\Documents\\Aula_clayton 21.08\\Datasets\\2006-sample.csv\")\n",
    "\n",
    "delta_airlines_atrasos = df[(df['UniqueCarrier'] == 'DL') & (df[\"ArrDelay\"] > 0) & (df['ArrDelay'].notna())]\n",
    "tempo_total = delta_airlines_atrasos['ArrDelay'].sum()\n",
    "\n",
    "print(f'O tempo de atraso foi de {tempo_total}')"
   ]
  },
  {
   "cell_type": "code",
   "execution_count": 14,
   "metadata": {},
   "outputs": [
    {
     "name": "stdout",
     "output_type": "stream",
     "text": [
      "O voo de numero 740 é o que possui o maior atraso na chegada\n"
     ]
    }
   ],
   "source": [
    "# 1. Descobrir o vôo com maior atraso na chegada (`ArrDelay`) registrado.\n",
    "\n",
    "df_atrasos = df[['FlightNum', 'ArrDelay']]\n",
    "\n",
    "maior_atraso = 0\n",
    "voo_atrasado = 0\n",
    "\n",
    "for index,linha in df_atrasos.iterrows():\n",
    "    if linha['ArrDelay'] > maior_atraso:\n",
    "        maior_atraso = linha['ArrDelay']\n",
    "        voo_atrasado = linha['FlightNum']\n",
    "\n",
    "voo_atrasado = int(voo_atrasado)\n",
    "\n",
    "print(f'O vôo de numero {voo_atrasado} é o que possui o maior atraso na chegada')"
   ]
  },
  {
   "cell_type": "code",
   "execution_count": 15,
   "metadata": {},
   "outputs": [
    {
     "name": "stdout",
     "output_type": "stream",
     "text": [
      "O voo de numero 740 é o que possui o maior atraso na saida\n"
     ]
    }
   ],
   "source": [
    "# 1. Descobrir o vôo com maior atraso na saída (`DepDelay`) registrado.\n",
    "\n",
    "df_atrasos = df[['FlightNum', 'DepDelay']]\n",
    "\n",
    "maior_atraso = 0\n",
    "voo_atrasado = 0\n",
    "\n",
    "for index,linha in df_atrasos.iterrows():\n",
    "    if linha['DepDelay'] > maior_atraso:\n",
    "        maior_atraso = linha['DepDelay']\n",
    "        voo_atrasado = linha['FlightNum']\n",
    "\n",
    "voo_atrasado = int(voo_atrasado)\n",
    "\n",
    "print(f'O vôo de numero {voo_atrasado} é o que possui o maior atraso na saida')"
   ]
  },
  {
   "cell_type": "code",
   "execution_count": 19,
   "metadata": {},
   "outputs": [
    {
     "name": "stdout",
     "output_type": "stream",
     "text": [
      "O vôo de numero 116 é o mais longo\n"
     ]
    }
   ],
   "source": [
    "# 1. Descobrir o vôo mais longo.\n",
    "\n",
    "df_longo = df[['FlightNum', 'AirTime']]\n",
    "\n",
    "maior_voo = max(df_longo['AirTime'])\n",
    "voo_num = 0\n",
    "\n",
    "for index,linha in df_longo.iterrows():\n",
    "    if linha['AirTime'] == maior_voo:\n",
    "        voo_num = linha['FlightNum']\n",
    "\n",
    "voo_num = int(voo_num)\n",
    "\n",
    "print(f'O vôo de numero {voo_num} é o mais longo')"
   ]
  },
  {
   "cell_type": "code",
   "execution_count": 3,
   "metadata": {},
   "outputs": [
    {
     "name": "stdout",
     "output_type": "stream",
     "text": [
      "Os vôos precisaram ser redirecionados 133 vezes\n"
     ]
    }
   ],
   "source": [
    "# 1. Contar quantos vôos precisaram ser redirecionados (`Diverted`).\n",
    "\n",
    "df_diverted = df[['FlightNum', 'Diverted']]\n",
    "\n",
    "aux = set()\n",
    "qntd_diverted = 0\n",
    "\n",
    "for index,linha in df_diverted.iterrows():\n",
    "    if linha['Diverted'] == 1:\n",
    "        aux.add(linha['FlightNum'])\n",
    "        qntd_diverted += 1\n",
    "\n",
    "print(f'Os vôos precisaram ser redirecionados {qntd_diverted} vezes')"
   ]
  },
  {
   "cell_type": "code",
   "execution_count": 7,
   "metadata": {},
   "outputs": [
    {
     "name": "stdout",
     "output_type": "stream",
     "text": [
      "O tempo de atraso foi de 63427.0\n"
     ]
    }
   ],
   "source": [
    "# 1. Calcular o tempo de atraso total para a companhia `Delta Air Lines`. Não esquecer de filtrar linhas com dados faltando e também com valores negativos (casos em que os vôos são adiantados)\n",
    "\n",
    "delta_airlines_atrasos = df[(df['UniqueCarrier'] == 'DL') & (df[\"ArrDelay\"] > 0) & (df['ArrDelay'].notna())]\n",
    "tempo_total = delta_airlines_atrasos['ArrDelay'].sum()\n",
    "\n",
    "print(f'O tempo de atraso foi de {tempo_total}')"
   ]
  },
  {
   "cell_type": "code",
   "execution_count": 34,
   "metadata": {},
   "outputs": [
    {
     "name": "stdout",
     "output_type": "stream",
     "text": [
      "O tempo total de atrasos para a decolagem no aeroporto JFK foi de 13763\n"
     ]
    }
   ],
   "source": [
    "# 1. Mostrar o tempo total de atrasos para a decolagem ('DepDelay') de vôos no aeroporto `JFK`, de Nova Iorque.\n",
    "\n",
    "df_aeroporto = df[['DepDelay', 'Origin']]\n",
    "\n",
    "tempo = 0.0\n",
    "\n",
    "for index,linha in df_aeroporto.iterrows():\n",
    "    if linha['Origin'] == 'JFK' and pd.notna(linha['DepDelay']):\n",
    "        tempo += linha['DepDelay']\n",
    "\n",
    "tempo = int(tempo)\n",
    "\n",
    "print(f'O tempo total de atrasos para a decolagem no aeroporto JFK foi de {tempo}')"
   ]
  }
 ],
 "metadata": {
  "kernelspec": {
   "display_name": "Python 3",
   "language": "python",
   "name": "python3"
  },
  "language_info": {
   "codemirror_mode": {
    "name": "ipython",
    "version": 3
   },
   "file_extension": ".py",
   "mimetype": "text/x-python",
   "name": "python",
   "nbconvert_exporter": "python",
   "pygments_lexer": "ipython3",
   "version": "3.12.4"
  }
 },
 "nbformat": 4,
 "nbformat_minor": 2
}
