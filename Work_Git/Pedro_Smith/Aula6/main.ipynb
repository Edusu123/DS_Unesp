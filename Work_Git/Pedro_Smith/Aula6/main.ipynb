{
 "cells": [
  {
   "cell_type": "markdown",
   "metadata": {},
   "source": [
    "Criando o DataFrame"
   ]
  },
  {
   "cell_type": "code",
   "execution_count": 2,
   "metadata": {},
   "outputs": [
    {
     "name": "stdout",
     "output_type": "stream",
     "text": [
      " Id_Produto        Produto  Categoria  Preço_Unitário  Quantidade Vendida  Id_loja          Localidade Data_Venda  Preço_Total\n",
      "          0            SSD   Hardware          502.48                   9        0 São José dos Campos 2023-01-01      4522.32\n",
      "          1    Processador   Hardware          772.59                  32        1           São Paulo 2023-01-02     24722.88\n",
      "          2          Mouse Periférico         1350.49                  49        2            Torrinha 2023-01-03     66174.01\n",
      "          3          Mouse Periférico          314.34                  76        3 São José dos Campos 2023-01-04     23889.84\n",
      "          4        Teclado Periférico          423.83                   2        4 São José dos Campos 2023-01-05       847.66\n",
      "          5        Teclado Periférico          906.41                  43        5           São Paulo 2023-01-06     38975.63\n",
      "          6        Monitor Periférico         1435.17                  18        6 São José dos Campos 2023-01-07     25833.06\n",
      "          7          Mouse Periférico         1318.17                  21        7           São Paulo 2023-01-08     27681.57\n",
      "          8            SSD   Hardware         1543.96                  67        8           São Paulo 2023-01-09    103445.32\n",
      "          9            SSD   Hardware          680.91                  55        9           São Paulo 2023-01-10     37450.05\n",
      "         10        Teclado Periférico         1802.27                  53       10 São José dos Campos 2023-01-11     95520.31\n",
      "         11        Monitor Periférico         1244.37                   7       11 São José dos Campos 2023-01-12      8710.59\n",
      "         12    Processador   Hardware          394.83                  20       12           São Paulo 2023-01-13      7896.60\n",
      "         13            SSD   Hardware         1589.51                  42       13           São Paulo 2023-01-14     66759.42\n",
      "         14    Processador   Hardware         1783.05                  52       14 São José dos Campos 2023-01-15     92718.60\n",
      "         15            SSD   Hardware          927.45                  40       15 São José dos Campos 2023-01-16     37098.00\n",
      "         16        Monitor Periférico         1388.90                  39       16            Torrinha 2023-01-17     54167.10\n",
      "         17          Mouse Periférico         1807.12                  72       17            Torrinha 2023-01-18    130112.64\n",
      "         18            SSD   Hardware          261.86                  62       18               Bauru 2023-01-19     16235.32\n",
      "         19          Mouse Periférico          420.57                  27       19 São José dos Campos 2023-01-20     11355.39\n",
      "         20 Placa de Video   Hardware         1560.28                  40       20               Bauru 2023-01-21     62411.20\n",
      "         21            SSD   Hardware          769.35                   5       21            Torrinha 2023-01-22      3846.75\n",
      "         22        Teclado Periférico          311.32                  78       22           São Paulo 2023-01-23     24282.96\n",
      "         23        Teclado Periférico         1913.52                  77       23            Torrinha 2023-01-24    147341.04\n",
      "         24    Processador   Hardware         1766.26                  42       24           São Paulo 2023-01-25     74182.92\n",
      "         25          Mouse Periférico          353.53                  19       25           São Paulo 2023-01-26      6717.07\n",
      "         26        Monitor Periférico         1743.36                  37       26            Torrinha 2023-01-27     64504.32\n",
      "         27    Processador   Hardware         1402.26                  15       27 São José dos Campos 2023-01-28     21033.90\n",
      "         28        Teclado Periférico         1670.28                  63       28 São José dos Campos 2023-01-29    105227.64\n",
      "         29    Processador   Hardware         1268.62                  17       29 São José dos Campos 2023-01-30     21566.54\n",
      "         30 Placa de Video   Hardware         1266.25                  71       30           São Paulo 2023-01-31     89903.75\n",
      "         31          Mouse Periférico         1933.06                  66       31            Torrinha 2023-02-01    127581.96\n",
      "         32            SSD   Hardware          486.45                  42       32 São José dos Campos 2023-02-02     20430.90\n",
      "         33          Mouse Periférico         1942.91                  74       33 São José dos Campos 2023-02-03    143775.34\n",
      "         34 Placa de Video   Hardware         1931.09                   1       34            Torrinha 2023-02-04      1931.09\n",
      "         35    Processador   Hardware          986.66                  72       35            Torrinha 2023-02-05     71039.52\n",
      "         36            SSD   Hardware          275.88                  77       36               Bauru 2023-02-06     21242.76\n",
      "         37    Processador   Hardware          468.72                  50       37           São Paulo 2023-02-07     23436.00\n",
      "         38 Placa de Video   Hardware         1472.31                  71       38 São José dos Campos 2023-02-08    104534.01\n",
      "         39            SSD   Hardware         1291.10                   1       39           São Paulo 2023-02-09      1291.10\n",
      "         40    Processador   Hardware          554.99                  12       40               Bauru 2023-02-10      6659.88\n",
      "         41          Mouse Periférico         1883.53                  50       41            Torrinha 2023-02-11     94176.50\n",
      "         42            SSD   Hardware          802.73                  43       42            Torrinha 2023-02-12     34517.39\n",
      "         43        Teclado Periférico         1930.69                  28       43 São José dos Campos 2023-02-13     54059.32\n",
      "         44          Mouse Periférico          906.96                  22       44               Bauru 2023-02-14     19953.12\n",
      "         45          Mouse Periférico          775.59                  24       45 São José dos Campos 2023-02-15     18614.16\n",
      "         46        Teclado Periférico          518.87                  51       46               Bauru 2023-02-16     26462.37\n",
      "         47          Mouse Periférico          349.11                  72       47            Torrinha 2023-02-17     25135.92\n",
      "         48 Placa de Video   Hardware          612.10                  30       48           São Paulo 2023-02-18     18363.00\n",
      "         49 Placa de Video   Hardware          546.30                  79       49           São Paulo 2023-02-19     43157.70\n",
      "         50            SSD   Hardware         1738.96                  13       50            Torrinha 2023-02-20     22606.48\n",
      "         51        Monitor Periférico         1373.64                  15       51               Bauru 2023-02-21     20604.60\n",
      "         52        Teclado Periférico          281.74                  56       52               Bauru 2023-02-22     15777.44\n",
      "         53          Mouse Periférico         1932.48                  46       53 São José dos Campos 2023-02-23     88894.08\n",
      "         54          Mouse Periférico         1944.28                  38       54            Torrinha 2023-02-24     73882.64\n",
      "         55 Placa de Video   Hardware          412.59                   7       55 São José dos Campos 2023-02-25      2888.13\n",
      "         56        Monitor Periférico         1805.18                  79       56           São Paulo 2023-02-26    142609.22\n",
      "         57    Processador   Hardware          796.70                  42       57               Bauru 2023-02-27     33461.40\n",
      "         58    Processador   Hardware          893.39                  23       58               Bauru 2023-02-28     20547.97\n",
      "         59    Processador   Hardware         1650.93                  16       59               Bauru 2023-03-01     26414.88\n",
      "         60            SSD   Hardware         1720.15                  72       60            Torrinha 2023-03-02    123850.80\n",
      "         61        Teclado Periférico         1993.63                  62       61               Bauru 2023-03-03    123605.06\n",
      "         62    Processador   Hardware         1048.02                  65       62           São Paulo 2023-03-04     68121.30\n",
      "         63 Placa de Video   Hardware          324.31                  33       63            Torrinha 2023-03-05     10702.23\n",
      "         64          Mouse Periférico          598.96                  45       64           São Paulo 2023-03-06     26953.20\n",
      "         65    Processador   Hardware         1265.73                  33       65           São Paulo 2023-03-07     41769.09\n",
      "         66 Placa de Video   Hardware         1035.73                  77       66 São José dos Campos 2023-03-08     79751.21\n",
      "         67    Processador   Hardware          710.41                  27       67 São José dos Campos 2023-03-09     19181.07\n",
      "         68        Teclado Periférico         1535.03                  20       68               Bauru 2023-03-10     30700.60\n",
      "         69    Processador   Hardware         1492.47                  36       69            Torrinha 2023-03-11     53728.92\n",
      "         70            SSD   Hardware          944.94                   3       70               Bauru 2023-03-12      2834.82\n",
      "         71        Monitor Periférico         1581.24                  12       71           São Paulo 2023-03-13     18974.88\n",
      "         72            SSD   Hardware          530.19                  12       72 São José dos Campos 2023-03-14      6362.28\n",
      "         73        Monitor Periférico         1904.12                  71       73               Bauru 2023-03-15    135192.52\n",
      "         74        Teclado Periférico         1057.33                  33       74            Torrinha 2023-03-16     34891.89\n",
      "         75          Mouse Periférico         1795.87                  56       75            Torrinha 2023-03-17    100568.72\n",
      "         76    Processador   Hardware         1094.09                  51       76            Torrinha 2023-03-18     55798.59\n",
      "         77        Teclado Periférico         1747.08                  66       77 São José dos Campos 2023-03-19    115307.28\n",
      "         78        Teclado Periférico         1518.10                  46       78           São Paulo 2023-03-20     69832.60\n",
      "         79        Teclado Periférico          744.65                  11       79            Torrinha 2023-03-21      8191.15\n",
      "         80        Monitor Periférico         1259.98                  30       80           São Paulo 2023-03-22     37799.40\n",
      "         81    Processador   Hardware          594.80                  30       81 São José dos Campos 2023-03-23     17844.00\n",
      "         82            SSD   Hardware          756.52                  42       82               Bauru 2023-03-24     31773.84\n",
      "         83    Processador   Hardware         1204.04                  59       83 São José dos Campos 2023-03-25     71038.36\n",
      "         84            SSD   Hardware         1490.80                   4       84            Torrinha 2023-03-26      5963.20\n",
      "         85        Monitor Periférico         1420.03                  55       85               Bauru 2023-03-27     78101.65\n",
      "         86        Monitor Periférico         1417.01                  70       86               Bauru 2023-03-28     99190.70\n",
      "         87        Teclado Periférico          485.46                  11       87           São Paulo 2023-03-29      5340.06\n",
      "         88    Processador   Hardware         1437.51                  44       88           São Paulo 2023-03-30     63250.44\n",
      "         89 Placa de Video   Hardware         1979.92                  61       89 São José dos Campos 2023-03-31    120775.12\n",
      "         90        Teclado Periférico          532.16                  53       90 São José dos Campos 2023-04-01     28204.48\n",
      "         91          Mouse Periférico         1894.58                  34       91            Torrinha 2023-04-02     64415.72\n",
      "         92            SSD   Hardware          455.93                  76       92            Torrinha 2023-04-03     34650.68\n",
      "         93        Monitor Periférico          819.74                  18       93 São José dos Campos 2023-04-04     14755.32\n",
      "         94    Processador   Hardware          770.06                  27       94               Bauru 2023-04-05     20791.62\n",
      "         95        Monitor Periférico         1071.06                  54       95            Torrinha 2023-04-06     57837.24\n",
      "         96 Placa de Video   Hardware          852.85                  56       96               Bauru 2023-04-07     47759.60\n",
      "         97        Teclado Periférico         1903.40                  41       97            Torrinha 2023-04-08     78039.40\n",
      "         98        Teclado Periférico          851.14                  15       98               Bauru 2023-04-09     12767.10\n",
      "         99        Monitor Periférico         1994.19                  37       99            Torrinha 2023-04-10     73785.03\n",
      "        100        Teclado Periférico          862.31                  68      100           São Paulo 2023-04-11     58637.08\n",
      "        101        Monitor Periférico          931.93                  72      101               Bauru 2023-04-12     67098.96\n",
      "        102        Monitor Periférico         1730.87                  30      102            Torrinha 2023-04-13     51926.10\n",
      "        103        Teclado Periférico          600.94                  41      103           São Paulo 2023-04-14     24638.54\n",
      "        104            SSD   Hardware         1246.34                  42      104 São José dos Campos 2023-04-15     52346.28\n",
      "        105          Mouse Periférico         1093.61                  59      105           São Paulo 2023-04-16     64522.99\n",
      "        106          Mouse Periférico         1627.07                  44      106               Bauru 2023-04-17     71591.08\n",
      "        107 Placa de Video   Hardware          710.14                  52      107           São Paulo 2023-04-18     36927.28\n",
      "        108          Mouse Periférico         1505.90                  76      108           São Paulo 2023-04-19    114448.40\n",
      "        109        Monitor Periférico         1714.08                  57      109            Torrinha 2023-04-20     97702.56\n",
      "        110        Monitor Periférico         1468.83                  40      110               Bauru 2023-04-21     58753.20\n",
      "        111        Teclado Periférico         1179.79                  69      111           São Paulo 2023-04-22     81405.51\n",
      "        112            SSD   Hardware          563.77                  44      112            Torrinha 2023-04-23     24805.88\n",
      "        113            SSD   Hardware         1287.60                  14      113            Torrinha 2023-04-24     18026.40\n",
      "        114        Monitor Periférico          475.98                  49      114           São Paulo 2023-04-25     23323.02\n",
      "        115    Processador   Hardware         1769.48                  77      115 São José dos Campos 2023-04-26    136249.96\n",
      "        116        Teclado Periférico         1202.70                  58      116               Bauru 2023-04-27     69756.60\n",
      "        117          Mouse Periférico          840.87                  10      117           São Paulo 2023-04-28      8408.70\n",
      "        118    Processador   Hardware          827.48                  79      118            Torrinha 2023-04-29     65370.92\n",
      "        119            SSD   Hardware         1182.22                  64      119 São José dos Campos 2023-04-30     75662.08\n",
      "        120    Processador   Hardware          505.22                  41      120 São José dos Campos 2023-05-01     20714.02\n",
      "        121        Teclado Periférico         1090.58                   3      121           São Paulo 2023-05-02      3271.74\n",
      "        122    Processador   Hardware         1591.98                  19      122 São José dos Campos 2023-05-03     30247.62\n",
      "        123        Teclado Periférico         1943.85                  69      123 São José dos Campos 2023-05-04    134125.65\n",
      "        124    Processador   Hardware          326.59                   6      124 São José dos Campos 2023-05-05      1959.54\n",
      "        125    Processador   Hardware         1592.20                  33      125            Torrinha 2023-05-06     52542.60\n",
      "        126        Teclado Periférico          907.52                  56      126 São José dos Campos 2023-05-07     50821.12\n",
      "        127          Mouse Periférico         1661.54                  73      127            Torrinha 2023-05-08    121292.42\n",
      "        128        Teclado Periférico          923.36                  15      128 São José dos Campos 2023-05-09     13850.40\n",
      "        129 Placa de Video   Hardware          261.29                  39      129               Bauru 2023-05-10     10190.31\n",
      "        130          Mouse Periférico         1134.33                  55      130           São Paulo 2023-05-11     62388.15\n",
      "        131    Processador   Hardware          461.87                  16      131           São Paulo 2023-05-12      7389.92\n",
      "        132        Monitor Periférico         1077.57                  63      132 São José dos Campos 2023-05-13     67886.91\n",
      "        133 Placa de Video   Hardware         1564.52                  56      133            Torrinha 2023-05-14     87613.12\n",
      "        134        Monitor Periférico          328.73                   6      134               Bauru 2023-05-15      1972.38\n",
      "        135        Monitor Periférico         1989.31                  77      135           São Paulo 2023-05-16    153176.87\n",
      "        136    Processador   Hardware         1067.83                  58      136           São Paulo 2023-05-17     61934.14\n",
      "        137    Processador   Hardware          582.18                  58      137            Torrinha 2023-05-18     33766.44\n",
      "        138    Processador   Hardware         1289.17                  44      138 São José dos Campos 2023-05-19     56723.48\n",
      "        139        Monitor Periférico         1242.47                   6      139           São Paulo 2023-05-20      7454.82\n",
      "        140    Processador   Hardware         1908.25                  37      140           São Paulo 2023-05-21     70605.25\n",
      "        141        Monitor Periférico         1108.22                   6      141 São José dos Campos 2023-05-22      6649.32\n",
      "        142          Mouse Periférico         1548.80                   3      142            Torrinha 2023-05-23      4646.40\n",
      "        143        Teclado Periférico         1281.38                  50      143            Torrinha 2023-05-24     64069.00\n",
      "        144          Mouse Periférico         1457.38                  44      144           São Paulo 2023-05-25     64124.72\n",
      "        145        Monitor Periférico         1773.87                  28      145 São José dos Campos 2023-05-26     49668.36\n",
      "        146        Monitor Periférico         1047.65                  43      146            Torrinha 2023-05-27     45048.95\n",
      "        147          Mouse Periférico          600.30                  40      147               Bauru 2023-05-28     24012.00\n",
      "        148    Processador   Hardware         1942.81                  49      148 São José dos Campos 2023-05-29     95197.69\n",
      "        149            SSD   Hardware         1146.56                  51      149               Bauru 2023-05-30     58474.56\n",
      "        150        Monitor Periférico          967.77                  70      150           São Paulo 2023-05-31     67743.90\n",
      "        151          Mouse Periférico         1022.35                  44      151 São José dos Campos 2023-06-01     44983.40\n",
      "        152        Monitor Periférico          390.34                  28      152 São José dos Campos 2023-06-02     10929.52\n",
      "        153    Processador   Hardware          567.46                  43      153               Bauru 2023-06-03     24400.78\n",
      "        154 Placa de Video   Hardware         1496.98                  69      154           São Paulo 2023-06-04    103291.62\n",
      "        155 Placa de Video   Hardware          637.53                  68      155           São Paulo 2023-06-05     43352.04\n",
      "        156        Monitor Periférico         1779.98                  12      156 São José dos Campos 2023-06-06     21359.76\n",
      "        157          Mouse Periférico          649.49                  77      157               Bauru 2023-06-07     50010.73\n",
      "        158    Processador   Hardware         1927.56                  37      158            Torrinha 2023-06-08     71319.72\n",
      "        159        Monitor Periférico         1608.53                  33      159            Torrinha 2023-06-09     53081.49\n",
      "        160    Processador   Hardware         1069.45                  23      160            Torrinha 2023-06-10     24597.35\n",
      "        161          Mouse Periférico         1936.45                  76      161               Bauru 2023-06-11    147170.20\n",
      "        162    Processador   Hardware         1132.62                  15      162               Bauru 2023-06-12     16989.30\n",
      "        163    Processador   Hardware         1260.64                  72      163            Torrinha 2023-06-13     90766.08\n",
      "        164 Placa de Video   Hardware          326.71                  76      164            Torrinha 2023-06-14     24829.96\n",
      "        165          Mouse Periférico          332.38                  20      165 São José dos Campos 2023-06-15      6647.60\n",
      "        166            SSD   Hardware          829.25                  12      166 São José dos Campos 2023-06-16      9951.00\n",
      "        167    Processador   Hardware         1258.57                  78      167               Bauru 2023-06-17     98168.46\n",
      "        168          Mouse Periférico         1645.11                  20      168           São Paulo 2023-06-18     32902.20\n",
      "        169        Teclado Periférico         1929.07                  45      169           São Paulo 2023-06-19     86808.15\n",
      "        170          Mouse Periférico          914.98                   1      170            Torrinha 2023-06-20       914.98\n",
      "        171    Processador   Hardware         1736.57                  38      171           São Paulo 2023-06-21     65989.66\n",
      "        172        Monitor Periférico          818.21                  14      172               Bauru 2023-06-22     11454.94\n",
      "        173          Mouse Periférico         1167.43                  30      173            Torrinha 2023-06-23     35022.90\n",
      "        174    Processador   Hardware         1544.56                  43      174               Bauru 2023-06-24     66416.08\n",
      "        175            SSD   Hardware         1154.40                  21      175            Torrinha 2023-06-25     24242.40\n",
      "        176          Mouse Periférico         1473.53                  36      176 São José dos Campos 2023-06-26     53047.08\n",
      "        177            SSD   Hardware          508.17                  10      177 São José dos Campos 2023-06-27      5081.70\n",
      "        178        Monitor Periférico         1295.55                  50      178           São Paulo 2023-06-28     64777.50\n",
      "        179          Mouse Periférico         1191.07                  79      179 São José dos Campos 2023-06-29     94094.53\n",
      "        180          Mouse Periférico          788.53                  44      180            Torrinha 2023-06-30     34695.32\n",
      "        181            SSD   Hardware         1953.20                  28      181 São José dos Campos 2023-07-01     54689.60\n",
      "        182        Monitor Periférico         1561.03                   2      182               Bauru 2023-07-02      3122.06\n",
      "        183          Mouse Periférico         1932.98                  58      183               Bauru 2023-07-03    112112.84\n",
      "        184            SSD   Hardware         1888.36                  55      184 São José dos Campos 2023-07-04    103859.80\n",
      "        185    Processador   Hardware          835.39                  56      185           São Paulo 2023-07-05     46781.84\n",
      "        186        Monitor Periférico          735.37                  13      186            Torrinha 2023-07-06      9559.81\n",
      "        187            SSD   Hardware         1363.53                   6      187           São Paulo 2023-07-07      8181.18\n",
      "        188    Processador   Hardware         1248.27                  24      188               Bauru 2023-07-08     29958.48\n",
      "        189        Teclado Periférico         1131.81                  12      189               Bauru 2023-07-09     13581.72\n",
      "        190            SSD   Hardware         1153.43                  60      190           São Paulo 2023-07-10     69205.80\n",
      "        191        Monitor Periférico          737.62                  42      191 São José dos Campos 2023-07-11     30980.04\n",
      "        192            SSD   Hardware         1944.62                  13      192               Bauru 2023-07-12     25280.06\n",
      "        193        Monitor Periférico         1342.55                  46      193               Bauru 2023-07-13     61757.30\n",
      "        194          Mouse Periférico          516.90                  75      194 São José dos Campos 2023-07-14     38767.50\n",
      "        195 Placa de Video   Hardware         1403.53                  32      195               Bauru 2023-07-15     44912.96\n",
      "        196 Placa de Video   Hardware          312.54                  19      196            Torrinha 2023-07-16      5938.26\n",
      "        197 Placa de Video   Hardware          635.75                  54      197           São Paulo 2023-07-17     34330.50\n",
      "        198        Teclado Periférico         1574.56                  75      198            Torrinha 2023-07-18    118092.00\n",
      "        199          Mouse Periférico         1913.27                  56      199            Torrinha 2023-07-19    107143.12\n",
      "        200        Monitor Periférico          450.21                  62      200               Bauru 2023-07-20     27913.02\n",
      "        201          Mouse Periférico          900.66                  76      201               Bauru 2023-07-21     68450.16\n",
      "        202        Teclado Periférico          653.61                  17      202               Bauru 2023-07-22     11111.37\n",
      "        203            SSD   Hardware         1721.86                  51      203           São Paulo 2023-07-23     87814.86\n",
      "        204            SSD   Hardware         1869.58                  31      204               Bauru 2023-07-24     57956.98\n",
      "        205          Mouse Periférico          673.25                  63      205 São José dos Campos 2023-07-25     42414.75\n",
      "        206 Placa de Video   Hardware          737.06                  17      206           São Paulo 2023-07-26     12530.02\n",
      "        207 Placa de Video   Hardware         1649.24                  16      207            Torrinha 2023-07-27     26387.84\n",
      "        208            SSD   Hardware         1402.47                  25      208           São Paulo 2023-07-28     35061.75\n",
      "        209    Processador   Hardware         1143.70                  39      209               Bauru 2023-07-29     44604.30\n",
      "        210            SSD   Hardware         1862.96                  18      210           São Paulo 2023-07-30     33533.28\n",
      "        211          Mouse Periférico          479.79                   6      211           São Paulo 2023-07-31      2878.74\n",
      "        212        Monitor Periférico          682.23                  37      212           São Paulo 2023-08-01     25242.51\n",
      "        213    Processador   Hardware          507.38                   2      213           São Paulo 2023-08-02      1014.76\n",
      "        214    Processador   Hardware          560.60                  50      214           São Paulo 2023-08-03     28030.00\n",
      "        215          Mouse Periférico         1383.78                  18      215           São Paulo 2023-08-04     24908.04\n",
      "        216        Teclado Periférico         1565.10                  70      216 São José dos Campos 2023-08-05    109557.00\n",
      "        217          Mouse Periférico         1822.73                  77      217            Torrinha 2023-08-06    140350.21\n",
      "        218        Monitor Periférico          401.89                  79      218               Bauru 2023-08-07     31749.31\n",
      "        219        Teclado Periférico          908.08                  36      219            Torrinha 2023-08-08     32690.88\n",
      "        220          Mouse Periférico         1390.23                  57      220           São Paulo 2023-08-09     79243.11\n",
      "        221            SSD   Hardware          929.40                  30      221           São Paulo 2023-08-10     27882.00\n",
      "        222        Monitor Periférico         1591.38                  20      222               Bauru 2023-08-11     31827.60\n",
      "        223        Teclado Periférico          924.52                  52      223            Torrinha 2023-08-12     48075.04\n",
      "        224          Mouse Periférico          325.25                   9      224           São Paulo 2023-08-13      2927.25\n",
      "        225 Placa de Video   Hardware         1947.87                  46      225               Bauru 2023-08-14     89602.02\n",
      "        226        Teclado Periférico         1950.83                  18      226               Bauru 2023-08-15     35114.94\n",
      "        227 Placa de Video   Hardware         1889.01                  61      227           São Paulo 2023-08-16    115229.61\n",
      "        228            SSD   Hardware          806.20                   5      228           São Paulo 2023-08-17      4031.00\n",
      "        229        Monitor Periférico          842.19                  35      229           São Paulo 2023-08-18     29476.65\n",
      "        230        Teclado Periférico         1296.29                  70      230 São José dos Campos 2023-08-19     90740.30\n",
      "        231        Teclado Periférico         1104.57                   5      231 São José dos Campos 2023-08-20      5522.85\n",
      "        232        Monitor Periférico         1730.44                   3      232           São Paulo 2023-08-21      5191.32\n",
      "        233            SSD   Hardware          641.28                  30      233 São José dos Campos 2023-08-22     19238.40\n",
      "        234        Teclado Periférico         1668.74                  58      234               Bauru 2023-08-23     96786.92\n",
      "        235          Mouse Periférico         1799.69                  51      235               Bauru 2023-08-24     91784.19\n",
      "        236          Mouse Periférico         1827.00                  18      236            Torrinha 2023-08-25     32886.00\n",
      "        237          Mouse Periférico         1532.02                  27      237            Torrinha 2023-08-26     41364.54\n",
      "        238            SSD   Hardware          273.73                   6      238 São José dos Campos 2023-08-27      1642.38\n",
      "        239        Monitor Periférico         1525.50                  13      239               Bauru 2023-08-28     19831.50\n",
      "        240        Teclado Periférico         1592.96                  48      240               Bauru 2023-08-29     76462.08\n",
      "        241          Mouse Periférico         1616.50                  31      241 São José dos Campos 2023-08-30     50111.50\n",
      "        242 Placa de Video   Hardware          830.79                  58      242            Torrinha 2023-08-31     48185.82\n",
      "        243 Placa de Video   Hardware         1325.24                  46      243 São José dos Campos 2023-09-01     60961.04\n",
      "        244            SSD   Hardware         1223.34                  34      244            Torrinha 2023-09-02     41593.56\n",
      "        245    Processador   Hardware         1052.78                  71      245            Torrinha 2023-09-03     74747.38\n",
      "        246    Processador   Hardware          540.74                  30      246               Bauru 2023-09-04     16222.20\n",
      "        247        Teclado Periférico          703.12                  65      247           São Paulo 2023-09-05     45702.80\n",
      "        248          Mouse Periférico          595.52                  26      248           São Paulo 2023-09-06     15483.52\n",
      "        249            SSD   Hardware         1785.15                  15      249           São Paulo 2023-09-07     26777.25\n"
     ]
    }
   ],
   "source": [
    "import pandas as pd\n",
    "from datetime import datetime\n",
    "import random as rd\n",
    "import matplotlib.pyplot as plt\n",
    "import seaborn as sns\n",
    "\n",
    "# Criação do dataset\n",
    "\n",
    "n = range(250) # numero de linhas\n",
    "\n",
    "# Dicionário com as categorias e os produtos correspondentes\n",
    "category_produto = {        \n",
    "    'Periférico': ['Monitor', 'Mouse', 'Teclado'],\n",
    "    'Hardware': ['Processador', 'Placa de Video', 'SSD']\n",
    "}\n",
    "\n",
    "location = ['São Paulo', 'Bauru', 'São José dos Campos', 'Torrinha']\n",
    "data_range = pd.date_range(start = datetime(2023,1,1), end = datetime(2023,9,7), freq='D')\n",
    "\n",
    "# Função para selecionar categoria e produto corretos\n",
    "categorias_array = []\n",
    "product_array = []\n",
    "\n",
    "for _ in n:\n",
    "    category = rd.choice(list(category_produto.keys()))  # Seleciona uma categoria\n",
    "    produto = rd.choice(category_produto[category])  # Seleciona um produto vinculado à categoria\n",
    "    categorias_array.append(category)\n",
    "    product_array.append(produto)\n",
    "\n",
    "# Criação do dataset\n",
    "data_market = {\n",
    "    'Id_Produto': list(n),\n",
    "    'Produto': product_array,\n",
    "    'Categoria': categorias_array,\n",
    "    'Preço_Unitário': [round(rd.uniform(250,2000), 2) for _ in n],\n",
    "    'Quantidade Vendida': [int(rd.uniform(1,80)) for _ in n],\n",
    "    'Id_loja': list(n),\n",
    "    'Localidade': [rd.choice(location) for _ in n],\n",
    "    'Data_Venda': data_range\n",
    "}\n",
    "\n",
    "# Criação do dataframe\n",
    "df_market = pd.DataFrame(data_market)\n",
    "\n",
    "# Criando preço total\n",
    "\n",
    "df_market['Preço_Total'] = df_market['Preço_Unitário'] * df_market['Quantidade Vendida']\n",
    "\n",
    "print(df_market.to_string(index=False))"
   ]
  },
  {
   "cell_type": "markdown",
   "metadata": {},
   "source": [
    "ANÁLISE EXPLORATÓRIA"
   ]
  },
  {
   "cell_type": "markdown",
   "metadata": {},
   "source": [
    "    Qual é o total de vendas por produto?"
   ]
  },
  {
   "cell_type": "code",
   "execution_count": 4,
   "metadata": {},
   "outputs": [
    {
     "data": {
      "text/plain": [
       "Produto\n",
       "Monitor           1578\n",
       "Mouse             2270\n",
       "Placa de Video    1235\n",
       "Processador       1903\n",
       "SSD               1330\n",
       "Teclado           1809\n",
       "Name: Quantidade Vendida, dtype: int64"
      ]
     },
     "execution_count": 4,
     "metadata": {},
     "output_type": "execute_result"
    }
   ],
   "source": [
    "df_market.groupby('Produto')['Quantidade Vendida'].sum()"
   ]
  },
  {
   "cell_type": "markdown",
   "metadata": {},
   "source": [
    "    Qual é a loja que vendeu mais produtos?"
   ]
  },
  {
   "cell_type": "code",
   "execution_count": 5,
   "metadata": {},
   "outputs": [
    {
     "name": "stdout",
     "output_type": "stream",
     "text": [
      "Localidade\n",
      "São Paulo              2801\n",
      "Torrinha               2601\n",
      "São José dos Campos    2415\n",
      "Bauru                  2308\n",
      "Name: Quantidade Vendida, dtype: int64\n"
     ]
    }
   ],
   "source": [
    "df_aux = df_market.groupby('Localidade')['Quantidade Vendida'].sum()\n",
    "print((df_aux.sort_values(ascending=False)))"
   ]
  },
  {
   "cell_type": "markdown",
   "metadata": {},
   "source": [
    "    Qual categoria de produto teve mais vendas em termos de quantidade?"
   ]
  },
  {
   "cell_type": "code",
   "execution_count": 6,
   "metadata": {},
   "outputs": [
    {
     "name": "stdout",
     "output_type": "stream",
     "text": [
      "Categoria\n",
      "Periférico    5657\n",
      "Hardware      4468\n",
      "Name: Quantidade Vendida, dtype: int64\n"
     ]
    }
   ],
   "source": [
    "df_aux = df_market.groupby('Categoria')['Quantidade Vendida'].sum()\n",
    "print(df_aux.sort_values(ascending=False))"
   ]
  },
  {
   "cell_type": "markdown",
   "metadata": {},
   "source": [
    "ANÁLISE TEMPORAL"
   ]
  },
  {
   "cell_type": "markdown",
   "metadata": {},
   "source": [
    "    Identifique qual mês do ano teve mais vendas (quantidade) e qual mês gerou mais receita (valor total de vendas)"
   ]
  },
  {
   "cell_type": "code",
   "execution_count": 7,
   "metadata": {},
   "outputs": [
    {
     "name": "stdout",
     "output_type": "stream",
     "text": [
      "Mes_Venda\n",
      "April        79\n",
      "August       79\n",
      "February     79\n",
      "June         79\n",
      "January      78\n",
      "May          77\n",
      "March        77\n",
      "July         76\n",
      "September    71\n",
      "Name: Quantidade Vendida, dtype: int64\n",
      "\n",
      "Mes_Venda\n",
      "May          153176.87\n",
      "January      147341.04\n",
      "June         147170.20\n",
      "February     143775.34\n",
      "August       140350.21\n",
      "April        136249.96\n",
      "March        135192.52\n",
      "July         118092.00\n",
      "September     74747.38\n",
      "Name: Preço_Total, dtype: float64\n"
     ]
    }
   ],
   "source": [
    "# Criar a coluna de meses a partir da coluna Data_Venda\n",
    "df_market['Mes_Venda'] = pd.to_datetime(df_market['Data_Venda']).dt.strftime('%B')\n",
    "\n",
    "# Mes co0m mais vendas\n",
    "df_vendas = df_market.groupby('Mes_Venda')['Quantidade Vendida']\n",
    "print(df_vendas.max().sort_values(ascending=False))\n",
    "\n",
    "print()\n",
    "\n",
    "# Mes com mais receita\n",
    "df_receita = df_market.groupby('Mes_Venda')['Preço_Total']\n",
    "print(df_receita.max().sort_values(ascending=False))"
   ]
  },
  {
   "cell_type": "markdown",
   "metadata": {},
   "source": [
    "AGRUPAMENTO DE DADOS"
   ]
  },
  {
   "cell_type": "markdown",
   "metadata": {},
   "source": [
    "    Agrupe os dados por categoria e calcule a média de vendas por produto dentro de cada categoria"
   ]
  },
  {
   "cell_type": "code",
   "execution_count": 73,
   "metadata": {},
   "outputs": [
    {
     "name": "stdout",
     "output_type": "stream",
     "text": [
      " Categoria        Produto  Quantidade Vendida\n",
      "  Hardware Placa de Video           44.821429\n",
      "  Hardware    Processador           41.000000\n",
      "  Hardware            SSD           42.189189\n",
      "Periférico        Monitor           41.791667\n",
      "Periférico          Mouse           42.666667\n",
      "Periférico        Teclado           41.600000\n"
     ]
    }
   ],
   "source": [
    "# Agrupando os dados\n",
    "df_agrupado = df_market.groupby(['Categoria', 'Produto'])['Quantidade Vendida'].mean().reset_index()\n",
    "\n",
    "print(df_agrupado.to_string(index=False))"
   ]
  },
  {
   "cell_type": "markdown",
   "metadata": {},
   "source": [
    "    Quais produtos tiveram as melhores vendas em cada localidade?"
   ]
  },
  {
   "cell_type": "code",
   "execution_count": 74,
   "metadata": {},
   "outputs": [
    {
     "name": "stdout",
     "output_type": "stream",
     "text": [
      "         Localidade        Produto  Preço_Total\n",
      "              Bauru Placa de Video    589014.66\n",
      "São José dos Campos        Monitor    929546.08\n",
      "          São Paulo Placa de Video    642432.33\n",
      "           Torrinha Placa de Video    767185.21\n"
     ]
    }
   ],
   "source": [
    "# Agrupando os dados\n",
    "df_vendas = df_market.groupby(['Localidade', 'Produto'])['Preço_Total'].sum().reset_index()\n",
    "\n",
    "# Encontrar o produto com a maior venda em cada localidade\n",
    "idx_max_vendas = df_vendas.groupby('Localidade')['Preço_Total'].idxmax()\n",
    "\n",
    "# Selecionar os produtos com a melhor venda em cada localidade\n",
    "melhores_vendas_por_localidade = df_vendas.loc[idx_max_vendas]\n",
    "\n",
    "print(melhores_vendas_por_localidade.to_string(index=False))"
   ]
  },
  {
   "cell_type": "markdown",
   "metadata": {},
   "source": [
    "CRIAÇÃO DE GRÁFICOS"
   ]
  },
  {
   "cell_type": "markdown",
   "metadata": {},
   "source": [
    "    Crie gráficos de barras para visualizar as vendas por produto e por loja."
   ]
  },
  {
   "cell_type": "code",
   "execution_count": 3,
   "metadata": {},
   "outputs": [
    {
     "data": {
      "image/png": "[encoded data removed]",
      "text/plain": [
       "<Figure size 1200x600 with 1 Axes>"
      ]
     },
     "metadata": {},
     "output_type": "display_data"
    },
    {
     "name": "stderr",
     "output_type": "stream",
     "text": [
      "C:\\Users\\pirsp\\AppData\\Local\\Temp\\ipykernel_17992\\1145322713.py:16: FutureWarning: \n",
      "\n",
      "Passing `palette` without assigning `hue` is deprecated and will be removed in v0.14.0. Assign the `x` variable to `hue` and set `legend=False` for the same effect.\n",
      "\n",
      "  sns.barplot(x='Preço_Total', y='Id_loja', data=sales_by_store, palette='magma')\n"
     ]
    },
    {
     "data": {
      "image/png": "[encoded data removed]",
      "text/plain": [
       "<Figure size 1200x600 with 1 Axes>"
      ]
     },
     "metadata": {},
     "output_type": "display_data"
    }
   ],
   "source": [
    "# Configurando o estilo do seaborn\n",
    "sns.set(style=\"whitegrid\")\n",
    "\n",
    "# Gráfico de barras para vendas por produto\n",
    "plt.figure(figsize=(12, 6))\n",
    "sales_by_product = df_market.groupby('Produto')['Preço_Total'].sum().reset_index()\n",
    "sns.barplot(x='Preço_Total', y='Produto', data=sales_by_product)\n",
    "plt.title('Total de Vendas por Produto')\n",
    "plt.xlabel('Preço Total (R$)')\n",
    "plt.ylabel('Produto')\n",
    "plt.show()\n",
    "\n",
    "# Gráfico de barras para vendas por loja\n",
    "plt.figure(figsize=(12, 6))\n",
    "sales_by_store = df_market.groupby('Id_loja')['Preço_Total'].sum().reset_index()\n",
    "sns.barplot(x='Preço_Total', y='Id_loja', data=sales_by_store, palette='magma')\n",
    "plt.title('Total de Vendas por Loja')\n",
    "plt.xlabel('Preço Total (R$)')\n",
    "plt.ylabel('ID da Loja')\n",
    "plt.show()"
   ]
  },
  {
   "cell_type": "markdown",
   "metadata": {},
   "source": [
    "    Crie um gráfico de linha para mostrar a evolução das vendas ao longo do tempo."
   ]
  },
  {
   "cell_type": "code",
   "execution_count": null,
   "metadata": {},
   "outputs": [],
   "source": []
  }
 ],
 "metadata": {
  "kernelspec": {
   "display_name": "Python 3",
   "language": "python",
   "name": "python3"
  },
  "language_info": {
   "codemirror_mode": {
    "name": "ipython",
    "version": 3
   },
   "file_extension": ".py",
   "mimetype": "text/x-python",
   "name": "python",
   "nbconvert_exporter": "python",
   "pygments_lexer": "ipython3",
   "version": "3.12.4"
  }
 },
 "nbformat": 4,
 "nbformat_minor": 2
}
