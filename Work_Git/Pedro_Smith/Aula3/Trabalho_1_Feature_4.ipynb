{
 "cells": [
  {
   "cell_type": "code",
   "execution_count": 1,
   "metadata": {},
   "outputs": [
    {
     "name": "stdout",
     "output_type": "stream",
     "text": [
      "O vôo de numero 116 é o mais longo\n"
     ]
    }
   ],
   "source": [
    "# 1. Descobrir o vôo mais longo.\n",
    "\n",
    "import pandas as pd\n",
    "\n",
    "df = pd.read_csv(r\"C:\\Users\\pirsp\\Documents\\Aula_clayton 21.08\\Datasets\\2006-sample.csv\")\n",
    "\n",
    "df_longo = df[['FlightNum', 'AirTime']]\n",
    "\n",
    "maior_voo = max(df_longo['AirTime'])\n",
    "voo_num = 0\n",
    "\n",
    "for index,linha in df_longo.iterrows():\n",
    "    if linha['AirTime'] == maior_voo:\n",
    "        voo_num = linha['FlightNum']\n",
    "\n",
    "voo_num = int(voo_num)\n",
    "\n",
    "print(f'O vôo de numero {voo_num} é o mais longo')"
   ]
  }
 ],
 "metadata": {
  "kernelspec": {
   "display_name": "Python 3",
   "language": "python",
   "name": "python3"
  },
  "language_info": {
   "codemirror_mode": {
    "name": "ipython",
    "version": 3
   },
   "file_extension": ".py",
   "mimetype": "text/x-python",
   "name": "python",
   "nbconvert_exporter": "python",
   "pygments_lexer": "ipython3",
   "version": "3.12.4"
  }
 },
 "nbformat": 4,
 "nbformat_minor": 2
}
