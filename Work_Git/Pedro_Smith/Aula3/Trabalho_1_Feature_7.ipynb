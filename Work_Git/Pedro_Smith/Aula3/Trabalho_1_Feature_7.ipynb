{
 "cells": [
  {
   "cell_type": "code",
   "execution_count": 2,
   "metadata": {},
   "outputs": [
    {
     "name": "stdout",
     "output_type": "stream",
     "text": [
      "O tempo total de atrasos para a decolagem no aeroporto JFK foi de 13763\n"
     ]
    }
   ],
   "source": [
    "# 1. Mostrar o tempo total de atrasos para a decolagem ('DepDelay') de vôos no aeroporto `JFK`, de Nova Iorque.\n",
    "\n",
    "import pandas as pd\n",
    "\n",
    "df = pd.read_csv(r\"C:\\Users\\pirsp\\Documents\\Aula_clayton 21.08\\Datasets\\2006-sample.csv\")\n",
    "\n",
    "df_aeroporto = df[['DepDelay', 'Origin']]\n",
    "\n",
    "tempo = 0.0\n",
    "\n",
    "for index,linha in df_aeroporto.iterrows():\n",
    "    if linha['Origin'] == 'JFK' and pd.notna(linha['DepDelay']):\n",
    "        tempo += linha['DepDelay']\n",
    "\n",
    "tempo = int(tempo)\n",
    "\n",
    "print(f'O tempo total de atrasos para a decolagem no aeroporto JFK foi de {tempo}')"
   ]
  }
 ],
 "metadata": {
  "kernelspec": {
   "display_name": "Python 3",
   "language": "python",
   "name": "python3"
  },
  "language_info": {
   "codemirror_mode": {
    "name": "ipython",
    "version": 3
   },
   "file_extension": ".py",
   "mimetype": "text/x-python",
   "name": "python",
   "nbconvert_exporter": "python",
   "pygments_lexer": "ipython3",
   "version": "3.12.4"
  }
 },
 "nbformat": 4,
 "nbformat_minor": 2
}
