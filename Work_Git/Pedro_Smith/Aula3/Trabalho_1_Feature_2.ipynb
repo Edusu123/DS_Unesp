{
 "cells": [
  {
   "cell_type": "code",
   "execution_count": 1,
   "metadata": {},
   "outputs": [
    {
     "name": "stdout",
     "output_type": "stream",
     "text": [
      "O vôo de numero 740 é o que possui o maior atraso na chegada\n"
     ]
    }
   ],
   "source": [
    "# 1. Descobrir o vôo com maior atraso na chegada (`ArrDelay`) registrado.\n",
    "\n",
    "import pandas as pd\n",
    "\n",
    "df = pd.read_csv(r\"C:\\Users\\pirsp\\Documents\\Aula_clayton 21.08\\Datasets\\2006-sample.csv\")\n",
    "\n",
    "df_atrasos = df[['FlightNum', 'ArrDelay']]\n",
    "\n",
    "maior_atraso = 0\n",
    "voo_atrasado = 0\n",
    "\n",
    "for index,linha in df_atrasos.iterrows():\n",
    "    if linha['ArrDelay'] > maior_atraso:\n",
    "        maior_atraso = linha['ArrDelay']\n",
    "        voo_atrasado = linha['FlightNum']\n",
    "\n",
    "voo_atrasado = int(voo_atrasado)\n",
    "\n",
    "print(f'O vôo de numero {voo_atrasado} é o que possui o maior atraso na chegada')"
   ]
  }
 ],
 "metadata": {
  "kernelspec": {
   "display_name": "Python 3",
   "language": "python",
   "name": "python3"
  },
  "language_info": {
   "codemirror_mode": {
    "name": "ipython",
    "version": 3
   },
   "file_extension": ".py",
   "mimetype": "text/x-python",
   "name": "python",
   "nbconvert_exporter": "python",
   "pygments_lexer": "ipython3",
   "version": "3.12.4"
  }
 },
 "nbformat": 4,
 "nbformat_minor": 2
}
