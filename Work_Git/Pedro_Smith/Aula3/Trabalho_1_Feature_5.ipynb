{
 "cells": [
  {
   "cell_type": "code",
   "execution_count": 1,
   "metadata": {},
   "outputs": [
    {
     "name": "stdout",
     "output_type": "stream",
     "text": [
      "Os vôos precisaram ser redirecionados 131 vezes\n"
     ]
    }
   ],
   "source": [
    "# 1. Contar quantos vôos precisaram ser redirecionados (`Diverted`).\n",
    "\n",
    "import pandas as pd\n",
    "\n",
    "df = pd.read_csv(r\"C:\\Users\\pirsp\\Documents\\Aula_clayton 21.08\\Datasets\\2006-sample.csv\")\n",
    "\n",
    "df_diverted = df[['FlightNum', 'Diverted']]\n",
    "\n",
    "aux = set()\n",
    "qntd_diverted = 0\n",
    "\n",
    "for index,linha in df_diverted.iterrows():\n",
    "    if linha['Diverted'] == 1 and linha['FlightNum'] not in aux:\n",
    "        aux.add(linha['FlightNum'])\n",
    "        qntd_diverted += 1\n",
    "\n",
    "print(f'Os vôos precisaram ser redirecionados {qntd_diverted} vezes')"
   ]
  }
 ],
 "metadata": {
  "kernelspec": {
   "display_name": "Python 3",
   "language": "python",
   "name": "python3"
  },
  "language_info": {
   "codemirror_mode": {
    "name": "ipython",
    "version": 3
   },
   "file_extension": ".py",
   "mimetype": "text/x-python",
   "name": "python",
   "nbconvert_exporter": "python",
   "pygments_lexer": "ipython3",
   "version": "3.12.4"
  }
 },
 "nbformat": 4,
 "nbformat_minor": 2
}
