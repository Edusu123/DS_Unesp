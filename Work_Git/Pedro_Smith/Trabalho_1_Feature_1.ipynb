{
 "cells": [
  {
   "cell_type": "code",
   "execution_count": 8,
   "metadata": {},
   "outputs": [
    {
     "name": "stdout",
     "output_type": "stream",
     "text": [
      "A companhia B6 teve 1553 atrasos\n"
     ]
    }
   ],
   "source": [
    "# 1. Descobrir a quantiade de atrasos de uma dada companhia passada como parâmetro.\n",
    "\n",
    "import pandas as pd\n",
    "\n",
    "def contador_atrasos(companhia):    \n",
    "    atrasos = 0\n",
    "    for index,linha in df_companhia.iterrows():\n",
    "        if linha['UniqueCarrier'] == companhia and (linha['ArrDelay'] or linha['DepDelay'] > 0):\n",
    "            atrasos += 1\n",
    "    return atrasos\n",
    "    \n",
    "df = pd.read_csv(r\"C:\\Users\\pirsp\\Documents\\Aula_clayton 21.08\\Datasets\\2006-sample.csv\")\n",
    "\n",
    "df_companhia = df[['UniqueCarrier', 'ArrDelay', 'DepDelay']]\n",
    "\n",
    "companhia = input(\"Digite a companhia: \")\n",
    "\n",
    "atrasos = contador_atrasos(companhia)\n",
    "\n",
    "print(f'A companhia {companhia} teve {atrasos} atrasos')\n",
    "\n"
   ]
  }
 ],
 "metadata": {
  "kernelspec": {
   "display_name": "Python 3",
   "language": "python",
   "name": "python3"
  },
  "language_info": {
   "codemirror_mode": {
    "name": "ipython",
    "version": 3
   },
   "file_extension": ".py",
   "mimetype": "text/x-python",
   "name": "python",
   "nbconvert_exporter": "python",
   "pygments_lexer": "ipython3",
   "version": "3.12.4"
  }
 },
 "nbformat": 4,
 "nbformat_minor": 2
}
