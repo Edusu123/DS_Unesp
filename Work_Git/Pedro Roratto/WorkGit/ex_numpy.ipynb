{
 "cells": [
  {
   "cell_type": "code",
   "execution_count": 1,
   "metadata": {},
   "outputs": [
    {
     "name": "stdout",
     "output_type": "stream",
     "text": [
      "    ID  Idade  Salário  Anos de Experiência\n",
      "0    1     58    40189                    7\n",
      "1    2     48    59118                    8\n",
      "2    3     34    75773                   14\n",
      "3    4     27    93810                   17\n",
      "4    5     40    41899                    4\n",
      "5    6     58    96886                    2\n",
      "6    7     38    41267                    6\n",
      "7    8     42    71551                    4\n",
      "8    9     30    90680                   29\n",
      "9   10     30    51394                   18\n",
      "10  11     43    43556                   26\n",
      "11  12     55    43890                   34\n",
      "12  13     59    81606                   10\n",
      "13  14     43    70740                   14\n",
      "14  15     22    54502                   31\n",
      "15  16     41    61777                   15\n",
      "16  17     21    50627                    8\n",
      "17  18     43    48792                   14\n",
      "18  19     49    83323                   23\n",
      "19  20     57    83021                   21\n",
      "20  21     21    48433                   16\n",
      "21  22     40    83001                   18\n",
      "22  23     52    51016                   24\n",
      "23  24     31    63897                   26\n",
      "24  25     41    42612                   25\n",
      "25  26     44    96193                   29\n",
      "26  27     46    98707                   15\n",
      "27  28     47    95387                    1\n",
      "28  29     35    94638                   25\n",
      "29  30     34    63483                    7\n"
     ]
    }
   ],
   "source": [
    "import numpy as np\n",
    "import pandas as pd\n",
    "\n",
    "# Definindo uma semente para garantir que os dados sejam reprodutíveis\n",
    "np.random.seed(42)\n",
    "\n",
    "# Criando um dataset fictício de 30 linhas (30 funcionários) com as colunas ID, Idade, Salário, Anos de Experiência\n",
    "n = 30\n",
    "ids = np.arange(1, n + 1)  # IDs de 1 a 30\n",
    "idades = np.random.randint(20, 60, size=n)  # Idades entre 20 e 60 anos\n",
    "salarios = np.random.randint(40000, 100000, size=n)  # Salários entre 40.000 e 100.000\n",
    "anos_experiencia = np.random.randint(1, 35, size=n)  # Anos de experiência entre 1 e 35 anos\n",
    "\n",
    "# Combinando os dados em um array\n",
    "dataset = np.column_stack((ids, idades, salarios, anos_experiencia))\n",
    "\n",
    "# Convertendo para DataFrame para visualização\n",
    "df = pd.DataFrame(dataset, columns=['ID', 'Idade', 'Salário', 'Anos de Experiência'])\n",
    "\n",
    "# Exibindo o DataFrame\n",
    "print(df)"
   ]
  },
  {
   "cell_type": "code",
   "execution_count": null,
   "metadata": {},
   "outputs": [],
   "source": [
    "# Exercício 1: Redimensionar o dataset (30 linhas para 10 linhas e 12 colunas)\n",
    "reshaped_dataset = dataset.reshape(10, 12)\n",
    "print(\"Dataset redimensionado (10x12):\\n\", reshaped_dataset)"
   ]
  },
  {
   "cell_type": "code",
   "execution_count": null,
   "metadata": {},
   "outputs": [],
   "source": [
    "# Exercício 2: Acessar o primeiro elemento (primeira linha) do dataset\n",
    "first_row = dataset[0]\n",
    "print(\"Primeira linha do dataset:\\n\", first_row)"
   ]
  },
  {
   "cell_type": "code",
   "execution_count": null,
   "metadata": {},
   "outputs": [],
   "source": [
    "# Exercício 3: Acessar o salário (terceira coluna) da terceira pessoa\n",
    "third_person_salary = dataset[2, 2]\n",
    "print(\"Salário da terceira pessoa:\", third_person_salary)"
   ]
  },
  {
   "cell_type": "code",
   "execution_count": null,
   "metadata": {},
   "outputs": [],
   "source": [
    "# Exercício 4: Selecionar os salários de todos os funcionários\n",
    "all_salaries = dataset[:, 2]\n",
    "print(\"Salários de todos os funcionários:\\n\", all_salaries)"
   ]
  },
  {
   "cell_type": "code",
   "execution_count": null,
   "metadata": {},
   "outputs": [],
   "source": [
    "# Exercício 5: Concatenar o dataset com um array de bônus (nova coluna)\n",
    "bonus = np.random.randint(5000, 20000, size=n)  # Exemplo de bônus\n",
    "dataset_with_bonus = np.column_stack((dataset, bonus))\n",
    "print(\"Dataset com bônus:\\n\", dataset_with_bonus)"
   ]
  },
  {
   "cell_type": "code",
   "execution_count": null,
   "metadata": {},
   "outputs": [],
   "source": [
    "# Exercício 6: Transpor o dataset\n",
    "transposed_dataset = dataset.T\n",
    "print(\"Dataset transposto:\\n\", transposed_dataset)"
   ]
  },
  {
   "cell_type": "code",
   "execution_count": null,
   "metadata": {},
   "outputs": [],
   "source": [
    "# Exercício 7: Calcular a soma dos salários\n",
    "sum_salaries = np.sum(dataset[:, 2])\n",
    "print(\"Soma dos salários:\", sum_salaries)"
   ]
  },
  {
   "cell_type": "code",
   "execution_count": null,
   "metadata": {},
   "outputs": [],
   "source": [
    "# Exercício 8: Calcular a média dos anos de experiência\n",
    "mean_experience = np.mean(dataset[:, 3])\n",
    "print(\"Média dos anos de experiência:\", mean_experience)"
   ]
  },
  {
   "cell_type": "code",
   "execution_count": null,
   "metadata": {},
   "outputs": [],
   "source": [
    "# Exercício 9: Calcular o desvio padrão das idades\n",
    "std_dev_ages = np.std(dataset[:, 1])\n",
    "print(\"Desvio padrão das idades:\", std_dev_ages)"
   ]
  },
  {
   "cell_type": "code",
   "execution_count": null,
   "metadata": {},
   "outputs": [],
   "source": [
    "# Exercício 10: Multiplicar o salário e os anos de experiência de cada funcionário\n",
    "salary_experience_product = dataset[:, 2] * dataset[:, 3]\n",
    "print(\"Produto do salário e anos de experiência de cada funcionário:\\n\", salary_experience_product)"
   ]
  },
  {
   "cell_type": "code",
   "execution_count": null,
   "metadata": {},
   "outputs": [],
   "source": [
    "# Exercício 11: Calcular o produto da matriz transposta do dataset com ela mesma\n",
    "matrix_product = np.dot(dataset.T, dataset)\n",
    "print(\"Produto da matriz transposta:\\n\", matrix_product)\n"
   ]
  },
  {
   "cell_type": "code",
   "execution_count": null,
   "metadata": {},
   "outputs": [],
   "source": [
    "# Exercício 12: Filtrar funcionários com salários maiores que 60.000\n",
    "high_salary_employees = dataset[dataset[:, 2] > 60000]\n",
    "print(\"Funcionários com salários maiores que 60.000:\\n\", high_salary_employees)"
   ]
  },
  {
   "cell_type": "code",
   "execution_count": null,
   "metadata": {},
   "outputs": [],
   "source": [
    "# Exercício 13: Ordenar o dataset pelo salário\n",
    "sorted_by_salary = dataset[dataset[:, 2].argsort()]\n",
    "print(\"Dataset ordenado pelo salário:\\n\", sorted_by_salary)"
   ]
  },
  {
   "cell_type": "code",
   "execution_count": null,
   "metadata": {},
   "outputs": [],
   "source": [
    "# Exercício 14: Criar uma cópia do dataset\n",
    "dataset_copy = np.copy(dataset)\n",
    "print(\"Cópia do dataset:\\n\", dataset_copy)"
   ]
  }
 ],
 "metadata": {
  "kernelspec": {
   "display_name": "Python 3",
   "language": "python",
   "name": "python3"
  },
  "language_info": {
   "codemirror_mode": {
    "name": "ipython",
    "version": 3
   },
   "file_extension": ".py",
   "mimetype": "text/x-python",
   "name": "python",
   "nbconvert_exporter": "python",
   "pygments_lexer": "ipython3",
   "version": "3.10.12"
  }
 },
 "nbformat": 4,
 "nbformat_minor": 2
}
