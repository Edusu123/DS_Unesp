{
 "cells": [
  {
   "cell_type": "code",
   "execution_count": 16,
   "metadata": {},
   "outputs": [
    {
     "name": "stdout",
     "output_type": "stream",
     "text": [
      "/home/roratto/study/facul/DS_Unesp/Work_Git/Pedro Roratto/WorkGit\n"
     ]
    }
   ],
   "source": [
    "import pandas as pd\n",
    "import os"
   ]
  },
  {
   "cell_type": "code",
   "execution_count": 28,
   "metadata": {},
   "outputs": [
    {
     "name": "stdout",
     "output_type": "stream",
     "text": [
      "Quantidade de voos atrasados da companhia AA: 2765\n"
     ]
    }
   ],
   "source": [
    "df = pd.read_csv('/home/roratto/study/facul/DS_Unesp/Datasets/2006-sample.csv')\n",
    "\n",
    "#Descobrir a quantiade de atrasos de uma dada companhia passada como parâmetro. \n",
    "company = 'AA'\n",
    "def late_flights_by_company(company):\n",
    "    return df[(df['UniqueCarrier'] == company) & (df['ArrDelay'] > 0)].shape[0]\n",
    "\n",
    "print(f'Quantidade de voos atrasados da companhia {company}: {late_flights_by_company(company)}')"
   ]
  },
  {
   "cell_type": "code",
   "execution_count": 26,
   "metadata": {},
   "outputs": [
    {
     "name": "stdout",
     "output_type": "stream",
     "text": [
      "Vôo com maior atraso na chegada: 740\n"
     ]
    }
   ],
   "source": [
    "#Descobrir o vôo com maior atraso na chegada (`ArrDelay`) registrado.\n",
    "def max_delay():\n",
    "    return df[df['ArrDelay'] == df['ArrDelay'].max()]['FlightNum'].values[0]\n",
    "\n",
    "print(f'Vôo com maior atraso na chegada: {max_delay()}')"
   ]
  },
  {
   "cell_type": "code",
   "execution_count": 25,
   "metadata": {},
   "outputs": [
    {
     "name": "stdout",
     "output_type": "stream",
     "text": [
      "Vôo com maior atraso na saída: 740\n"
     ]
    }
   ],
   "source": [
    "#Descobrir o vôo com maior atraso na saída (`DepDelay`) registrado.\n",
    "def max_dep_delay():\n",
    "    return df[df['DepDelay'] == df['DepDelay'].max()]['FlightNum'].values[0]\n",
    "\n",
    "print(f'Vôo com maior atraso na saída: {max_dep_delay()}')"
   ]
  },
  {
   "cell_type": "code",
   "execution_count": 27,
   "metadata": {},
   "outputs": [
    {
     "name": "stdout",
     "output_type": "stream",
     "text": [
      "Vôo mais longo: 317\n"
     ]
    }
   ],
   "source": [
    "#Descobrir o vôo mais longo\n",
    "def longest_flight():\n",
    "    return df[df['Distance'] == df['Distance'].max()]['FlightNum'].values[0]\n",
    "\n",
    "print(f'Vôo mais longo: {longest_flight()}')"
   ]
  },
  {
   "cell_type": "code",
   "execution_count": 29,
   "metadata": {},
   "outputs": [
    {
     "name": "stdout",
     "output_type": "stream",
     "text": [
      "Quantidade de vôos redirecionados: 133\n"
     ]
    }
   ],
   "source": [
    "#Contar quantos vôos precisaram ser redirecionados (`Diverted`).\n",
    "\n",
    "def diverted_flights():\n",
    "    return df[df['Diverted'] == 1].shape[0]\n",
    "\n",
    "print(f'Quantidade de vôos redirecionados: {diverted_flights()}')"
   ]
  },
  {
   "cell_type": "code",
   "execution_count": 1,
   "metadata": {},
   "outputs": [],
   "source": [
    "#calcular o tempo de atraso total para a companhia `Delta Air Lines` (DAL). Não esquecer de filtrar linhas com dados faltando e também com valores negativos (casos em que os vôos são adiantados) "
   ]
  },
  {
   "cell_type": "code",
   "execution_count": 30,
   "metadata": {},
   "outputs": [
    {
     "name": "stdout",
     "output_type": "stream",
     "text": [
      "Tempo total de atrasos para a decolagem de vôos no aeroporto JFK: 13763.0\n"
     ]
    }
   ],
   "source": [
    "#Mostrar o tempo total de atrasos para a decolagem de vôos no aeroporto `JFK`, de Nova Iorque.\n",
    "\n",
    "def total_dep_delay():\n",
    "    return df[df['Origin'] == 'JFK']['DepDelay'].sum()\n",
    "\n",
    "print(f'Tempo total de atrasos para a decolagem de vôos no aeroporto JFK: {total_dep_delay()}')"
   ]
  }
 ],
 "metadata": {
  "kernelspec": {
   "display_name": "Python 3",
   "language": "python",
   "name": "python3"
  },
  "language_info": {
   "codemirror_mode": {
    "name": "ipython",
    "version": 3
   },
   "file_extension": ".py",
   "mimetype": "text/x-python",
   "name": "python",
   "nbconvert_exporter": "python",
   "pygments_lexer": "ipython3",
   "version": "3.10.12"
  }
 },
 "nbformat": 4,
 "nbformat_minor": 2
}
