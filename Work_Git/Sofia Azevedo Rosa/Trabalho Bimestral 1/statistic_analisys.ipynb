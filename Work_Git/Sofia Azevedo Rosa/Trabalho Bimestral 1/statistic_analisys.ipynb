{
 "cells": [
  {
   "cell_type": "markdown",
   "metadata": {},
   "source": [
    "## Análise Estatística dos Resultados da Pesquisa\n",
    "O tema: \"O Impacto dos Exercícios Físicos na Qualidade do Sono\"  \n",
    "Vamos organizar essa análise em algumas **perguntas básicas** sobre o tema, que podemos responder com base nas respostas do formulário."
   ]
  },
  {
   "cell_type": "code",
   "execution_count": 21,
   "metadata": {},
   "outputs": [],
   "source": [
    "import pandas as pd\n",
    "import matplotlib.pyplot as plt"
   ]
  },
  {
   "cell_type": "code",
   "execution_count": 5,
   "metadata": {},
   "outputs": [
    {
     "data": {
      "text/html": [
       "<div>\n",
       "<style scoped>\n",
       "    .dataframe tbody tr th:only-of-type {\n",
       "        vertical-align: middle;\n",
       "    }\n",
       "\n",
       "    .dataframe tbody tr th {\n",
       "        vertical-align: top;\n",
       "    }\n",
       "\n",
       "    .dataframe thead th {\n",
       "        text-align: right;\n",
       "    }\n",
       "</style>\n",
       "<table border=\"1\" class=\"dataframe\">\n",
       "  <thead>\n",
       "    <tr style=\"text-align: right;\">\n",
       "      <th></th>\n",
       "      <th>timestamp</th>\n",
       "      <th>age</th>\n",
       "      <th>exercise_practice</th>\n",
       "      <th>exercise_freq</th>\n",
       "      <th>exercise_cardio</th>\n",
       "      <th>exercise_duration</th>\n",
       "      <th>exercise_period</th>\n",
       "      <th>sleep_duration</th>\n",
       "      <th>sleep_quality</th>\n",
       "      <th>sleep_affects</th>\n",
       "      <th>...</th>\n",
       "      <th>caminhada</th>\n",
       "      <th>ciclismo</th>\n",
       "      <th>corrida</th>\n",
       "      <th>esgrima</th>\n",
       "      <th>esportes coletivos</th>\n",
       "      <th>luta</th>\n",
       "      <th>natação</th>\n",
       "      <th>pilates</th>\n",
       "      <th>treino de força</th>\n",
       "      <th>yoga</th>\n",
       "    </tr>\n",
       "  </thead>\n",
       "  <tbody>\n",
       "    <tr>\n",
       "      <th>0</th>\n",
       "      <td>28/04/2025 21:09:39</td>\n",
       "      <td>21</td>\n",
       "      <td>Não</td>\n",
       "      <td>1</td>\n",
       "      <td>Não</td>\n",
       "      <td>15</td>\n",
       "      <td>Manhã</td>\n",
       "      <td>7</td>\n",
       "      <td>3</td>\n",
       "      <td>Sim, afeta para melhor</td>\n",
       "      <td>...</td>\n",
       "      <td>1</td>\n",
       "      <td>0</td>\n",
       "      <td>0</td>\n",
       "      <td>0</td>\n",
       "      <td>0</td>\n",
       "      <td>0</td>\n",
       "      <td>0</td>\n",
       "      <td>0</td>\n",
       "      <td>0</td>\n",
       "      <td>0</td>\n",
       "    </tr>\n",
       "    <tr>\n",
       "      <th>1</th>\n",
       "      <td>28/04/2025 21:16:31</td>\n",
       "      <td>22</td>\n",
       "      <td>Sim</td>\n",
       "      <td>4</td>\n",
       "      <td>Sim</td>\n",
       "      <td>90</td>\n",
       "      <td>Tarde</td>\n",
       "      <td>6</td>\n",
       "      <td>2</td>\n",
       "      <td>Sim, afeta para melhor</td>\n",
       "      <td>...</td>\n",
       "      <td>1</td>\n",
       "      <td>0</td>\n",
       "      <td>1</td>\n",
       "      <td>0</td>\n",
       "      <td>0</td>\n",
       "      <td>0</td>\n",
       "      <td>0</td>\n",
       "      <td>1</td>\n",
       "      <td>1</td>\n",
       "      <td>1</td>\n",
       "    </tr>\n",
       "    <tr>\n",
       "      <th>2</th>\n",
       "      <td>28/04/2025 21:16:32</td>\n",
       "      <td>23</td>\n",
       "      <td>Não</td>\n",
       "      <td>0</td>\n",
       "      <td>Não</td>\n",
       "      <td>10</td>\n",
       "      <td>Manhã</td>\n",
       "      <td>9</td>\n",
       "      <td>3</td>\n",
       "      <td>Não, não afeta</td>\n",
       "      <td>...</td>\n",
       "      <td>1</td>\n",
       "      <td>0</td>\n",
       "      <td>0</td>\n",
       "      <td>0</td>\n",
       "      <td>0</td>\n",
       "      <td>0</td>\n",
       "      <td>0</td>\n",
       "      <td>0</td>\n",
       "      <td>0</td>\n",
       "      <td>0</td>\n",
       "    </tr>\n",
       "    <tr>\n",
       "      <th>3</th>\n",
       "      <td>28/04/2025 21:18:08</td>\n",
       "      <td>21</td>\n",
       "      <td>Sim</td>\n",
       "      <td>4</td>\n",
       "      <td>Sim</td>\n",
       "      <td>120</td>\n",
       "      <td>Noite</td>\n",
       "      <td>6</td>\n",
       "      <td>4</td>\n",
       "      <td>Sim, afeta para melhor</td>\n",
       "      <td>...</td>\n",
       "      <td>0</td>\n",
       "      <td>0</td>\n",
       "      <td>0</td>\n",
       "      <td>0</td>\n",
       "      <td>0</td>\n",
       "      <td>0</td>\n",
       "      <td>0</td>\n",
       "      <td>0</td>\n",
       "      <td>1</td>\n",
       "      <td>0</td>\n",
       "    </tr>\n",
       "    <tr>\n",
       "      <th>4</th>\n",
       "      <td>28/04/2025 21:18:13</td>\n",
       "      <td>21</td>\n",
       "      <td>Não</td>\n",
       "      <td>0</td>\n",
       "      <td>Não</td>\n",
       "      <td>0</td>\n",
       "      <td>Tarde</td>\n",
       "      <td>6</td>\n",
       "      <td>3</td>\n",
       "      <td>Não, não afeta</td>\n",
       "      <td>...</td>\n",
       "      <td>1</td>\n",
       "      <td>0</td>\n",
       "      <td>0</td>\n",
       "      <td>0</td>\n",
       "      <td>0</td>\n",
       "      <td>0</td>\n",
       "      <td>0</td>\n",
       "      <td>0</td>\n",
       "      <td>0</td>\n",
       "      <td>0</td>\n",
       "    </tr>\n",
       "  </tbody>\n",
       "</table>\n",
       "<p>5 rows × 31 columns</p>\n",
       "</div>"
      ],
      "text/plain": [
       "             timestamp  age exercise_practice  exercise_freq exercise_cardio  \\\n",
       "0  28/04/2025 21:09:39   21               Não              1             Não   \n",
       "1  28/04/2025 21:16:31   22               Sim              4             Sim   \n",
       "2  28/04/2025 21:16:32   23               Não              0             Não   \n",
       "3  28/04/2025 21:18:08   21               Sim              4             Sim   \n",
       "4  28/04/2025 21:18:13   21               Não              0             Não   \n",
       "\n",
       "   exercise_duration exercise_period  sleep_duration  sleep_quality  \\\n",
       "0                 15           Manhã               7              3   \n",
       "1                 90           Tarde               6              2   \n",
       "2                 10           Manhã               9              3   \n",
       "3                120           Noite               6              4   \n",
       "4                  0           Tarde               6              3   \n",
       "\n",
       "            sleep_affects  ... caminhada  ciclismo   corrida esgrima  \\\n",
       "0  Sim, afeta para melhor  ...         1          0        0       0   \n",
       "1  Sim, afeta para melhor  ...         1          0        1       0   \n",
       "2          Não, não afeta  ...         1          0        0       0   \n",
       "3  Sim, afeta para melhor  ...         0          0        0       0   \n",
       "4          Não, não afeta  ...         1          0        0       0   \n",
       "\n",
       "   esportes coletivos   luta  natação  pilates  treino de força   yoga  \n",
       "0                    0     0        0        0                 0     0  \n",
       "1                    0     0        0        1                 1     1  \n",
       "2                    0     0        0        0                 0     0  \n",
       "3                    0     0        0        0                 1     0  \n",
       "4                    0     0        0        0                 0     0  \n",
       "\n",
       "[5 rows x 31 columns]"
      ]
     },
     "execution_count": 5,
     "metadata": {},
     "output_type": "execute_result"
    }
   ],
   "source": [
    "df = pd.read_csv(\"forms_responses_clear.csv\")\n",
    "df.head()"
   ]
  },
  {
   "cell_type": "code",
   "execution_count": 6,
   "metadata": {},
   "outputs": [
    {
     "data": {
      "text/plain": [
       "Index(['timestamp', 'age', 'exercise_practice', 'exercise_freq',\n",
       "       'exercise_cardio', 'exercise_duration', 'exercise_period',\n",
       "       'sleep_duration', 'sleep_quality', 'sleep_affects', 'opinion',\n",
       "       'recent_exercise_frequency', 'recent_sleep_quality',\n",
       "       'recent_ext_factors', 'ansiolíticos', 'antidepressivos',\n",
       "       'antidepressivos ', 'estimulantes ', 'indutores de sono ', 'nenhum',\n",
       "       'outro ', 'caminhada', 'ciclismo ', 'corrida', 'esgrima',\n",
       "       'esportes coletivos ', 'luta', 'natação', 'pilates', 'treino de força ',\n",
       "       'yoga'],\n",
       "      dtype='object')"
      ]
     },
     "execution_count": 6,
     "metadata": {},
     "output_type": "execute_result"
    }
   ],
   "source": [
    "df.columns"
   ]
  },
  {
   "cell_type": "markdown",
   "metadata": {},
   "source": [
    "### Quem faz exercício físico tem uma média de qualidade de sono maior?"
   ]
  },
  {
   "cell_type": "code",
   "execution_count": 35,
   "metadata": {},
   "outputs": [
    {
     "data": {
      "text/html": [
       "<div>\n",
       "<style scoped>\n",
       "    .dataframe tbody tr th:only-of-type {\n",
       "        vertical-align: middle;\n",
       "    }\n",
       "\n",
       "    .dataframe tbody tr th {\n",
       "        vertical-align: top;\n",
       "    }\n",
       "\n",
       "    .dataframe thead tr th {\n",
       "        text-align: left;\n",
       "    }\n",
       "\n",
       "    .dataframe thead tr:last-of-type th {\n",
       "        text-align: right;\n",
       "    }\n",
       "</style>\n",
       "<table border=\"1\" class=\"dataframe\">\n",
       "  <thead>\n",
       "    <tr>\n",
       "      <th></th>\n",
       "      <th>sleep_quality</th>\n",
       "      <th>recent_exercise_frequency</th>\n",
       "      <th>recent_sleep_quality</th>\n",
       "    </tr>\n",
       "    <tr>\n",
       "      <th></th>\n",
       "      <th>mean</th>\n",
       "      <th>mean</th>\n",
       "      <th>mean</th>\n",
       "    </tr>\n",
       "    <tr>\n",
       "      <th>exercise_practice</th>\n",
       "      <th></th>\n",
       "      <th></th>\n",
       "      <th></th>\n",
       "    </tr>\n",
       "  </thead>\n",
       "  <tbody>\n",
       "    <tr>\n",
       "      <th>Não</th>\n",
       "      <td>3.333333</td>\n",
       "      <td>1.333333</td>\n",
       "      <td>3.111111</td>\n",
       "    </tr>\n",
       "    <tr>\n",
       "      <th>Sim</th>\n",
       "      <td>3.500000</td>\n",
       "      <td>3.071429</td>\n",
       "      <td>3.321429</td>\n",
       "    </tr>\n",
       "  </tbody>\n",
       "</table>\n",
       "</div>"
      ],
      "text/plain": [
       "                  sleep_quality recent_exercise_frequency recent_sleep_quality\n",
       "                           mean                      mean                 mean\n",
       "exercise_practice                                                             \n",
       "Não                    3.333333                  1.333333             3.111111\n",
       "Sim                    3.500000                  3.071429             3.321429"
      ]
     },
     "execution_count": 35,
     "metadata": {},
     "output_type": "execute_result"
    }
   ],
   "source": [
    "df_exercisexquality = df.groupby('exercise_practice')[[\"sleep_quality\", \"recent_exercise_frequency\", \"recent_sleep_quality\"]].agg(['mean'])\n",
    "df_exercisexquality"
   ]
  },
  {
   "cell_type": "code",
   "execution_count": 36,
   "metadata": {},
   "outputs": [],
   "source": [
    "avg_sleep_yes = df_exercisexquality.loc[\"Sim\", (\"sleep_quality\", \"mean\")]\n",
    "avg_sleep_no = df_exercisexquality.loc[\"Não\", (\"sleep_quality\", \"mean\")]\n",
    "avg_rsleep_yes = df_exercisexquality.loc[\"Sim\", (\"recent_sleep_quality\", \"mean\")]\n",
    "avg_rsleep_no = df_exercisexquality.loc[\"Não\", (\"recent_sleep_quality\", \"mean\")]"
   ]
  },
  {
   "cell_type": "code",
   "execution_count": 38,
   "metadata": {},
   "outputs": [
    {
     "name": "stdout",
     "output_type": "stream",
     "text": [
      "Média de qualidade de sono de quem faz exercício: 3.5\n",
      "Média de qualidade de sono de quem NÃO faz exercício: 3.3333333333333335\n",
      "Pessoas que fazem exercício físico têm, em média, um sono melhorado em 0.16666666666666652 pontos (4.76%), numa avaliação de 0 a 5\n"
     ]
    }
   ],
   "source": [
    "# comparação da média do sono no geral\n",
    "\n",
    "dif = avg_sleep_yes - avg_sleep_no\n",
    "p = (dif/avg_sleep_yes) * 100\n",
    "\n",
    "print(f\"Média de qualidade de sono de quem faz exercício: {avg_sleep_yes}\")\n",
    "print(f\"Média de qualidade de sono de quem NÃO faz exercício: {avg_sleep_no}\")\n",
    "print(f\"Pessoas que fazem exercício físico têm, em média, um sono melhorado em {dif} pontos ({p.round(2)}%), numa avaliação de 0 a 5\")"
   ]
  },
  {
   "cell_type": "code",
   "execution_count": null,
   "metadata": {},
   "outputs": [
    {
     "name": "stdout",
     "output_type": "stream",
     "text": [
      "Média de qualidade de sono de quem faz exercício: 3.3214285714285716\n",
      "Média de qualidade de sono de quem NÃO faz exercício: 3.111111111111111\n",
      "Pessoas que fazem exercício físico tiveram nos últimos 7 dias, em média, o sono melhorado em 0.21031746031746046 pontos (6.33%), numa avaliação de 0 a 5\n"
     ]
    }
   ],
   "source": [
    "# comparação da média do sono recentemente\n",
    "\n",
    "dif = avg_rsleep_yes - avg_rsleep_no\n",
    "p = (dif/avg_rsleep_yes) * 100\n",
    "\n",
    "print(f\"Média de qualidade de sono de quem faz exercício: {avg_rsleep_yes}\")\n",
    "print(f\"Média de qualidade de sono de quem NÃO faz exercício: {avg_rsleep_no}\")\n",
    "print(f\"Diferença de {dif.round(2)} pontos ({p.round(2)}%)\")\n"
   ]
  },
  {
   "cell_type": "code",
   "execution_count": 29,
   "metadata": {},
   "outputs": [
    {
     "data": {
      "image/png": "[encoded data removed]",
      "text/plain": [
       "<Figure size 640x480 with 1 Axes>"
      ]
     },
     "metadata": {},
     "output_type": "display_data"
    }
   ],
   "source": [
    "# plotar o gráfico\n",
    "cat = [\"Pratica Exercício\", \"NÃO Pratica Exercício\"]\n",
    "sleep_avg = [avg_sleep_yes, avg_sleep_no]\n",
    "rsleep_avg = [avg_rsleep_yes, avg_rsleep_no]\n",
    "bar_l = 0.35\n",
    "x = range(len(cat))\n",
    "\n",
    "fig, ax = plt.subplots()\n",
    "\n",
    "# Barras\n",
    "ax.bar(x, sleep_avg, width=bar_l, label='Qualidade Sono Geral')\n",
    "ax.bar([p + bar_l for p in x], rsleep_avg, width=bar_l, label='Qualidade Sono Recente')\n",
    "\n",
    "# Eixos e título\n",
    "ax.set_xlabel('Prática de Exercício')\n",
    "ax.set_ylabel('Média da Qualidade do Sono')\n",
    "ax.set_title('Média da Qualidade do Sono - Quem Pratica e Quem Não Pratica Exercícios')\n",
    "ax.set_xticks([p + bar_l / 2 for p in x])\n",
    "ax.set_xticklabels(cat)\n",
    "\n",
    "# Legenda\n",
    "ax.legend()\n",
    "\n",
    "plt.show()"
   ]
  },
  {
   "cell_type": "code",
   "execution_count": 30,
   "metadata": {},
   "outputs": [
    {
     "name": "stderr",
     "output_type": "stream",
     "text": [
      "/tmp/ipykernel_64180/1419801653.py:8: MatplotlibDeprecationWarning: The 'labels' parameter of boxplot() has been renamed 'tick_labels' since Matplotlib 3.9; support for the old name will be dropped in 3.11.\n",
      "  ax.boxplot(data, labels=['Pratica Exercício', 'Não Pratica Exercício'])\n"
     ]
    },
    {
     "data": {
      "image/png": "[encoded data removed]",
      "text/plain": [
       "<Figure size 640x480 with 1 Axes>"
      ]
     },
     "metadata": {},
     "output_type": "display_data"
    }
   ],
   "source": [
    "fig, ax = plt.subplots()\n",
    "\n",
    "data = [\n",
    "    df_yes['sleep_quality'],\n",
    "    df_no['recent_sleep_quality']\n",
    "]\n",
    "\n",
    "ax.boxplot(data, labels=['Pratica Exercício', 'Não Pratica Exercício'])\n",
    "ax.set_title('Distribuição da Qualidade do Sono Geral por Prática de Exercício')\n",
    "ax.set_ylabel('Qualidade do Sono Geral')\n",
    "\n",
    "plt.show()"
   ]
  },
  {
   "cell_type": "code",
   "execution_count": null,
   "metadata": {},
   "outputs": [],
   "source": []
  }
 ],
 "metadata": {
  "kernelspec": {
   "display_name": ".venv",
   "language": "python",
   "name": "python3"
  },
  "language_info": {
   "codemirror_mode": {
    "name": "ipython",
    "version": 3
   },
   "file_extension": ".py",
   "mimetype": "text/x-python",
   "name": "python",
   "nbconvert_exporter": "python",
   "pygments_lexer": "ipython3",
   "version": "3.10.12"
  }
 },
 "nbformat": 4,
 "nbformat_minor": 2
}
