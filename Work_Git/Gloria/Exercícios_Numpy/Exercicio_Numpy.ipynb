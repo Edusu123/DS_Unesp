{
 "cells": [
  {
   "cell_type": "markdown",
   "id": "cd4b8dc4-ff48-4a0c-bce3-280d94386b4a",
   "metadata": {},
   "source": [
    "## Exercícios Numpy e Python"
   ]
  },
  {
   "cell_type": "code",
   "execution_count": 69,
   "id": "d66fb93d-58ed-4d58-bb22-949eb8ecc4ca",
   "metadata": {},
   "outputs": [],
   "source": [
    "import numpy "
   ]
  },
  {
   "cell_type": "markdown",
   "id": "6c2f5821-8076-40e5-ba21-99a00a0df0b8",
   "metadata": {},
   "source": [
    "##### Criando um dataframe fictício"
   ]
  },
  {
   "cell_type": "code",
   "execution_count": 9,
   "id": "efb24fcd-7742-4484-a00a-02a057772520",
   "metadata": {},
   "outputs": [],
   "source": [
    "import pandas as pd\n",
    "\n",
    "# Definindo uma semente para garantir que os dados sejam reprodutíveis\n",
    "np.random.seed(42)\n",
    "\n",
    "# Criando um dataset fictício de 30 linhas (30 funcionários) com as colunas ID, Idade, Salário, Anos de Experiência\n",
    "n = 30\n",
    "ids = np.arange(1, n + 1)  # IDs de 1 a 30\n",
    "idades = np.random.randint(20, 60, size=n)  # Idades entre 20 e 60 anos\n",
    "salarios = np.random.randint(40000, 100000, size=n)  # Salários entre 40.000 e 100.000\n",
    "anos_experiencia = np.random.randint(1, 35, size=n)  # Anos de experiência entre 1 e 35 anos\n",
    "\n",
    "# Combinando os dados em um array\n",
    "dataset = np.column_stack((ids, idades, salarios, anos_experiencia))\n",
    "\n",
    "# Convertendo para DataFrame para visualização\n",
    "df = pd.DataFrame(dataset, columns=['ID', 'Idade', 'Salário', 'Anos de Experiência'])"
   ]
  },
  {
   "cell_type": "code",
   "execution_count": 11,
   "id": "bad38178-ffa8-451f-81f9-37f3349fac8d",
   "metadata": {},
   "outputs": [
    {
     "data": {
      "text/html": [
       "<div>\n",
       "<style scoped>\n",
       "    .dataframe tbody tr th:only-of-type {\n",
       "        vertical-align: middle;\n",
       "    }\n",
       "\n",
       "    .dataframe tbody tr th {\n",
       "        vertical-align: top;\n",
       "    }\n",
       "\n",
       "    .dataframe thead th {\n",
       "        text-align: right;\n",
       "    }\n",
       "</style>\n",
       "<table border=\"1\" class=\"dataframe\">\n",
       "  <thead>\n",
       "    <tr style=\"text-align: right;\">\n",
       "      <th></th>\n",
       "      <th>ID</th>\n",
       "      <th>Idade</th>\n",
       "      <th>Salário</th>\n",
       "      <th>Anos de Experiência</th>\n",
       "    </tr>\n",
       "  </thead>\n",
       "  <tbody>\n",
       "    <tr>\n",
       "      <th>0</th>\n",
       "      <td>1</td>\n",
       "      <td>58</td>\n",
       "      <td>40189</td>\n",
       "      <td>7</td>\n",
       "    </tr>\n",
       "    <tr>\n",
       "      <th>1</th>\n",
       "      <td>2</td>\n",
       "      <td>48</td>\n",
       "      <td>59118</td>\n",
       "      <td>8</td>\n",
       "    </tr>\n",
       "    <tr>\n",
       "      <th>2</th>\n",
       "      <td>3</td>\n",
       "      <td>34</td>\n",
       "      <td>75773</td>\n",
       "      <td>14</td>\n",
       "    </tr>\n",
       "    <tr>\n",
       "      <th>3</th>\n",
       "      <td>4</td>\n",
       "      <td>27</td>\n",
       "      <td>93810</td>\n",
       "      <td>17</td>\n",
       "    </tr>\n",
       "    <tr>\n",
       "      <th>4</th>\n",
       "      <td>5</td>\n",
       "      <td>40</td>\n",
       "      <td>41899</td>\n",
       "      <td>4</td>\n",
       "    </tr>\n",
       "    <tr>\n",
       "      <th>5</th>\n",
       "      <td>6</td>\n",
       "      <td>58</td>\n",
       "      <td>96886</td>\n",
       "      <td>2</td>\n",
       "    </tr>\n",
       "    <tr>\n",
       "      <th>6</th>\n",
       "      <td>7</td>\n",
       "      <td>38</td>\n",
       "      <td>41267</td>\n",
       "      <td>6</td>\n",
       "    </tr>\n",
       "    <tr>\n",
       "      <th>7</th>\n",
       "      <td>8</td>\n",
       "      <td>42</td>\n",
       "      <td>71551</td>\n",
       "      <td>4</td>\n",
       "    </tr>\n",
       "    <tr>\n",
       "      <th>8</th>\n",
       "      <td>9</td>\n",
       "      <td>30</td>\n",
       "      <td>90680</td>\n",
       "      <td>29</td>\n",
       "    </tr>\n",
       "    <tr>\n",
       "      <th>9</th>\n",
       "      <td>10</td>\n",
       "      <td>30</td>\n",
       "      <td>51394</td>\n",
       "      <td>18</td>\n",
       "    </tr>\n",
       "    <tr>\n",
       "      <th>10</th>\n",
       "      <td>11</td>\n",
       "      <td>43</td>\n",
       "      <td>43556</td>\n",
       "      <td>26</td>\n",
       "    </tr>\n",
       "    <tr>\n",
       "      <th>11</th>\n",
       "      <td>12</td>\n",
       "      <td>55</td>\n",
       "      <td>43890</td>\n",
       "      <td>34</td>\n",
       "    </tr>\n",
       "    <tr>\n",
       "      <th>12</th>\n",
       "      <td>13</td>\n",
       "      <td>59</td>\n",
       "      <td>81606</td>\n",
       "      <td>10</td>\n",
       "    </tr>\n",
       "    <tr>\n",
       "      <th>13</th>\n",
       "      <td>14</td>\n",
       "      <td>43</td>\n",
       "      <td>70740</td>\n",
       "      <td>14</td>\n",
       "    </tr>\n",
       "    <tr>\n",
       "      <th>14</th>\n",
       "      <td>15</td>\n",
       "      <td>22</td>\n",
       "      <td>54502</td>\n",
       "      <td>31</td>\n",
       "    </tr>\n",
       "    <tr>\n",
       "      <th>15</th>\n",
       "      <td>16</td>\n",
       "      <td>41</td>\n",
       "      <td>61777</td>\n",
       "      <td>15</td>\n",
       "    </tr>\n",
       "    <tr>\n",
       "      <th>16</th>\n",
       "      <td>17</td>\n",
       "      <td>21</td>\n",
       "      <td>50627</td>\n",
       "      <td>8</td>\n",
       "    </tr>\n",
       "    <tr>\n",
       "      <th>17</th>\n",
       "      <td>18</td>\n",
       "      <td>43</td>\n",
       "      <td>48792</td>\n",
       "      <td>14</td>\n",
       "    </tr>\n",
       "    <tr>\n",
       "      <th>18</th>\n",
       "      <td>19</td>\n",
       "      <td>49</td>\n",
       "      <td>83323</td>\n",
       "      <td>23</td>\n",
       "    </tr>\n",
       "    <tr>\n",
       "      <th>19</th>\n",
       "      <td>20</td>\n",
       "      <td>57</td>\n",
       "      <td>83021</td>\n",
       "      <td>21</td>\n",
       "    </tr>\n",
       "    <tr>\n",
       "      <th>20</th>\n",
       "      <td>21</td>\n",
       "      <td>21</td>\n",
       "      <td>48433</td>\n",
       "      <td>16</td>\n",
       "    </tr>\n",
       "    <tr>\n",
       "      <th>21</th>\n",
       "      <td>22</td>\n",
       "      <td>40</td>\n",
       "      <td>83001</td>\n",
       "      <td>18</td>\n",
       "    </tr>\n",
       "    <tr>\n",
       "      <th>22</th>\n",
       "      <td>23</td>\n",
       "      <td>52</td>\n",
       "      <td>51016</td>\n",
       "      <td>24</td>\n",
       "    </tr>\n",
       "    <tr>\n",
       "      <th>23</th>\n",
       "      <td>24</td>\n",
       "      <td>31</td>\n",
       "      <td>63897</td>\n",
       "      <td>26</td>\n",
       "    </tr>\n",
       "    <tr>\n",
       "      <th>24</th>\n",
       "      <td>25</td>\n",
       "      <td>41</td>\n",
       "      <td>42612</td>\n",
       "      <td>25</td>\n",
       "    </tr>\n",
       "    <tr>\n",
       "      <th>25</th>\n",
       "      <td>26</td>\n",
       "      <td>44</td>\n",
       "      <td>96193</td>\n",
       "      <td>29</td>\n",
       "    </tr>\n",
       "    <tr>\n",
       "      <th>26</th>\n",
       "      <td>27</td>\n",
       "      <td>46</td>\n",
       "      <td>98707</td>\n",
       "      <td>15</td>\n",
       "    </tr>\n",
       "    <tr>\n",
       "      <th>27</th>\n",
       "      <td>28</td>\n",
       "      <td>47</td>\n",
       "      <td>95387</td>\n",
       "      <td>1</td>\n",
       "    </tr>\n",
       "    <tr>\n",
       "      <th>28</th>\n",
       "      <td>29</td>\n",
       "      <td>35</td>\n",
       "      <td>94638</td>\n",
       "      <td>25</td>\n",
       "    </tr>\n",
       "    <tr>\n",
       "      <th>29</th>\n",
       "      <td>30</td>\n",
       "      <td>34</td>\n",
       "      <td>63483</td>\n",
       "      <td>7</td>\n",
       "    </tr>\n",
       "  </tbody>\n",
       "</table>\n",
       "</div>"
      ],
      "text/plain": [
       "    ID  Idade  Salário  Anos de Experiência\n",
       "0    1     58    40189                    7\n",
       "1    2     48    59118                    8\n",
       "2    3     34    75773                   14\n",
       "3    4     27    93810                   17\n",
       "4    5     40    41899                    4\n",
       "5    6     58    96886                    2\n",
       "6    7     38    41267                    6\n",
       "7    8     42    71551                    4\n",
       "8    9     30    90680                   29\n",
       "9   10     30    51394                   18\n",
       "10  11     43    43556                   26\n",
       "11  12     55    43890                   34\n",
       "12  13     59    81606                   10\n",
       "13  14     43    70740                   14\n",
       "14  15     22    54502                   31\n",
       "15  16     41    61777                   15\n",
       "16  17     21    50627                    8\n",
       "17  18     43    48792                   14\n",
       "18  19     49    83323                   23\n",
       "19  20     57    83021                   21\n",
       "20  21     21    48433                   16\n",
       "21  22     40    83001                   18\n",
       "22  23     52    51016                   24\n",
       "23  24     31    63897                   26\n",
       "24  25     41    42612                   25\n",
       "25  26     44    96193                   29\n",
       "26  27     46    98707                   15\n",
       "27  28     47    95387                    1\n",
       "28  29     35    94638                   25\n",
       "29  30     34    63483                    7"
      ]
     },
     "execution_count": 11,
     "metadata": {},
     "output_type": "execute_result"
    }
   ],
   "source": [
    "df"
   ]
  },
  {
   "cell_type": "markdown",
   "id": "6efd8ae4-128e-433b-bc88-73026acb8328",
   "metadata": {},
   "source": [
    "1. Redimensionar o dataset (por exemplo, transformar 30 linhas em 10 linhas e 12 colunas)\n"
   ]
  },
  {
   "cell_type": "code",
   "execution_count": 41,
   "id": "33107537-55eb-4bf3-b844-899b50bc69a7",
   "metadata": {},
   "outputs": [],
   "source": [
    "#transformando o dataframe e array\n",
    "df_array = df.values\n",
    "redimensionado = df_array.reshape(60,2) #60 linhas e 2 colunas\n",
    "redimensionado2 = df_array.reshape(10,12) #10 linhas e 12 colunas"
   ]
  },
  {
   "cell_type": "markdown",
   "id": "5f712473-d2b4-422c-983c-807f9dd535cf",
   "metadata": {},
   "source": [
    "2. Acessar o primeiro elemento (primeira linha) do dataset"
   ]
  },
  {
   "cell_type": "code",
   "execution_count": 44,
   "id": "51c3651a-eeda-4ca0-a5de-fea873eca6ed",
   "metadata": {},
   "outputs": [
    {
     "data": {
      "text/plain": [
       "array([    1,    58, 40189,     7])"
      ]
     },
     "execution_count": 44,
     "metadata": {},
     "output_type": "execute_result"
    }
   ],
   "source": [
    "df_array[0]"
   ]
  },
  {
   "cell_type": "markdown",
   "id": "0e05f96c-c648-41ef-921b-9750bed0fa6b",
   "metadata": {},
   "source": [
    "3. Acessar o salário (terceira coluna) da terceira pessoa"
   ]
  },
  {
   "cell_type": "code",
   "execution_count": 63,
   "id": "95eb80fc-80fe-4c19-9d08-250eb1ee816a",
   "metadata": {},
   "outputs": [
    {
     "data": {
      "text/plain": [
       "75773"
      ]
     },
     "execution_count": 63,
     "metadata": {},
     "output_type": "execute_result"
    }
   ],
   "source": [
    "df_array[2][2]"
   ]
  },
  {
   "cell_type": "markdown",
   "id": "3918d290-78f1-4163-bb94-f32da42d01b5",
   "metadata": {},
   "source": [
    "4. Selecionar os salários de todos os funcionários"
   ]
  },
  {
   "cell_type": "code",
   "execution_count": 58,
   "id": "2af1855e-f037-4980-b7dd-6aa5e642decb",
   "metadata": {},
   "outputs": [
    {
     "data": {
      "text/plain": [
       "array([40189, 59118, 75773, 93810, 41899, 96886, 41267, 71551, 90680,\n",
       "       51394, 43556, 43890, 81606, 70740, 54502, 61777, 50627, 48792,\n",
       "       83323, 83021, 48433, 83001, 51016, 63897, 42612, 96193, 98707,\n",
       "       95387, 94638, 63483])"
      ]
     },
     "execution_count": 58,
     "metadata": {},
     "output_type": "execute_result"
    }
   ],
   "source": [
    "df_array[:,2]"
   ]
  },
  {
   "cell_type": "markdown",
   "id": "fc2f65f2-eb5e-4066-b632-953b0988746f",
   "metadata": {},
   "source": [
    "5. Concatenar o dataset com um array de bônus (por exemplo, uma nova coluna)\n"
   ]
  },
  {
   "cell_type": "code",
   "execution_count": 97,
   "id": "3d5664ad-651d-42b2-80aa-422f813f9369",
   "metadata": {},
   "outputs": [
    {
     "data": {
      "text/plain": [
       "array([[    1.  ,    58.  , 40189.  ,     7.  ,     0.55],\n",
       "       [    2.  ,    48.  , 59118.  ,     8.  ,     0.12],\n",
       "       [    3.  ,    34.  , 75773.  ,    14.  ,     0.09],\n",
       "       [    4.  ,    27.  , 93810.  ,    17.  ,     0.36],\n",
       "       [    5.  ,    40.  , 41899.  ,     4.  ,     0.63],\n",
       "       [    6.  ,    58.  , 96886.  ,     2.  ,     0.69],\n",
       "       [    7.  ,    38.  , 41267.  ,     6.  ,     0.29],\n",
       "       [    8.  ,    42.  , 71551.  ,     4.  ,     0.07],\n",
       "       [    9.  ,    30.  , 90680.  ,    29.  ,     0.95],\n",
       "       [   10.  ,    30.  , 51394.  ,    18.  ,     0.81],\n",
       "       [   11.  ,    43.  , 43556.  ,    26.  ,     0.34],\n",
       "       [   12.  ,    55.  , 43890.  ,    34.  ,     0.36],\n",
       "       [   13.  ,    59.  , 81606.  ,    10.  ,     0.97],\n",
       "       [   14.  ,    43.  , 70740.  ,    14.  ,     0.81],\n",
       "       [   15.  ,    22.  , 54502.  ,    31.  ,     0.84],\n",
       "       [   16.  ,    41.  , 61777.  ,    15.  ,     0.38],\n",
       "       [   17.  ,    21.  , 50627.  ,     8.  ,     0.06],\n",
       "       [   18.  ,    43.  , 48792.  ,    14.  ,     0.07],\n",
       "       [   19.  ,    49.  , 83323.  ,    23.  ,     0.47],\n",
       "       [   20.  ,    57.  , 83021.  ,    21.  ,     0.88],\n",
       "       [   21.  ,    21.  , 48433.  ,    16.  ,     0.12],\n",
       "       [   22.  ,    40.  , 83001.  ,    18.  ,     0.67],\n",
       "       [   23.  ,    52.  , 51016.  ,    24.  ,     0.8 ],\n",
       "       [   24.  ,    31.  , 63897.  ,    26.  ,     0.17],\n",
       "       [   25.  ,    41.  , 42612.  ,    25.  ,     0.56],\n",
       "       [   26.  ,    44.  , 96193.  ,    29.  ,     0.12],\n",
       "       [   27.  ,    46.  , 98707.  ,    15.  ,     0.89],\n",
       "       [   28.  ,    47.  , 95387.  ,     1.  ,     0.13],\n",
       "       [   29.  ,    35.  , 94638.  ,    25.  ,     0.31],\n",
       "       [   30.  ,    34.  , 63483.  ,     7.  ,     0.07]])"
      ]
     },
     "execution_count": 97,
     "metadata": {},
     "output_type": "execute_result"
    }
   ],
   "source": [
    "rng = np.random.default_rng()\n",
    "nova = rng.random((30,1))\n",
    "\n",
    "concatenado = np.concatenate((df_array, nova), axis = 1)\n",
    "concatenado"
   ]
  },
  {
   "cell_type": "markdown",
   "id": "95ebbb97-78af-4b70-b3c6-5e48b2e3c14b",
   "metadata": {},
   "source": [
    "6. Transpor o dataset\n"
   ]
  },
  {
   "cell_type": "code",
   "execution_count": 102,
   "id": "efb21b69-de1c-413e-bc16-af4f404e0b9d",
   "metadata": {},
   "outputs": [
    {
     "data": {
      "text/plain": [
       "array([[    1,     2,     3,     4,     5,     6,     7,     8,     9,\n",
       "           10,    11,    12,    13,    14,    15,    16,    17,    18,\n",
       "           19,    20,    21,    22,    23,    24,    25,    26,    27,\n",
       "           28,    29,    30],\n",
       "       [   58,    48,    34,    27,    40,    58,    38,    42,    30,\n",
       "           30,    43,    55,    59,    43,    22,    41,    21,    43,\n",
       "           49,    57,    21,    40,    52,    31,    41,    44,    46,\n",
       "           47,    35,    34],\n",
       "       [40189, 59118, 75773, 93810, 41899, 96886, 41267, 71551, 90680,\n",
       "        51394, 43556, 43890, 81606, 70740, 54502, 61777, 50627, 48792,\n",
       "        83323, 83021, 48433, 83001, 51016, 63897, 42612, 96193, 98707,\n",
       "        95387, 94638, 63483],\n",
       "       [    7,     8,    14,    17,     4,     2,     6,     4,    29,\n",
       "           18,    26,    34,    10,    14,    31,    15,     8,    14,\n",
       "           23,    21,    16,    18,    24,    26,    25,    29,    15,\n",
       "            1,    25,     7]])"
      ]
     },
     "execution_count": 102,
     "metadata": {},
     "output_type": "execute_result"
    }
   ],
   "source": [
    "transposta = df_array.T\n",
    "transposta"
   ]
  },
  {
   "cell_type": "markdown",
   "id": "595ab7ff-79fa-4a9e-ad98-5c2905554840",
   "metadata": {},
   "source": [
    "7. Calcular a soma dos salários"
   ]
  },
  {
   "cell_type": "code",
   "execution_count": 105,
   "id": "8983efae-60fa-4401-a26c-689cf3f7fb5b",
   "metadata": {},
   "outputs": [
    {
     "data": {
      "text/plain": [
       "2021768"
      ]
     },
     "execution_count": 105,
     "metadata": {},
     "output_type": "execute_result"
    }
   ],
   "source": [
    "soma = np.sum(df_array[:,2])\n",
    "soma"
   ]
  },
  {
   "cell_type": "markdown",
   "id": "a662b04f-f4de-4b25-bee9-82cef2a7a2e0",
   "metadata": {},
   "source": [
    "8. Calcular a média dos anos de experiência\n"
   ]
  },
  {
   "cell_type": "code",
   "execution_count": 110,
   "id": "c3f15392-dd89-4348-af15-44ead6e0c6ff",
   "metadata": {},
   "outputs": [
    {
     "data": {
      "text/plain": [
       "16.366666666666667"
      ]
     },
     "execution_count": 110,
     "metadata": {},
     "output_type": "execute_result"
    }
   ],
   "source": [
    "media = np.mean(df_array[:,3])\n",
    "media"
   ]
  },
  {
   "cell_type": "markdown",
   "id": "52b75c86-58c4-4497-8612-1fe5b8181138",
   "metadata": {},
   "source": [
    "9. Calcular o desvio padrão das idades\n"
   ]
  },
  {
   "cell_type": "code",
   "execution_count": 113,
   "id": "60deb8f7-1425-41f3-8d2d-0690c2067d08",
   "metadata": {},
   "outputs": [
    {
     "data": {
      "text/plain": [
       "10.824303929378349"
      ]
     },
     "execution_count": 113,
     "metadata": {},
     "output_type": "execute_result"
    }
   ],
   "source": [
    "desvio = np.std(df_array[:,1])\n",
    "desvio"
   ]
  },
  {
   "cell_type": "markdown",
   "id": "ba6c5afa-82b2-4ea3-8cc0-7f9a6bae3e39",
   "metadata": {},
   "source": [
    "10. Multiplicar o salário e os anos de experiência de cada funcionário\n"
   ]
  },
  {
   "cell_type": "code",
   "execution_count": 118,
   "id": "89a6ca2d-ce84-4728-b347-da63b2723112",
   "metadata": {},
   "outputs": [
    {
     "data": {
      "text/plain": [
       "array([ 281323,  472944, 1060822, 1594770,  167596,  193772,  247602,\n",
       "        286204, 2629720,  925092, 1132456, 1492260,  816060,  990360,\n",
       "       1689562,  926655,  405016,  683088, 1916429, 1743441,  774928,\n",
       "       1494018, 1224384, 1661322, 1065300, 2789597, 1480605,   95387,\n",
       "       2365950,  444381])"
      ]
     },
     "execution_count": 118,
     "metadata": {},
     "output_type": "execute_result"
    }
   ],
   "source": [
    "multiplicação = df_array[:,2]*df_array[:,3]\n",
    "multiplicação"
   ]
  },
  {
   "cell_type": "markdown",
   "id": "1c90716f-e769-486f-a9b2-22ea5fee21ac",
   "metadata": {},
   "source": [
    "11. Calcular o produto da matriz transposta do dataset com ela mesma\n"
   ]
  },
  {
   "cell_type": "code",
   "execution_count": 123,
   "id": "cf94359e-63c2-406f-b0ed-4d3024f2568d",
   "metadata": {},
   "outputs": [
    {
     "data": {
      "text/plain": [
       "array([[        9455,        18797,     32689846,         8305],\n",
       "       [       18797,        53863,     83705033,        19639],\n",
       "       [    32689846,     83705033, 148351518064,     33051044],\n",
       "       [        8305,        19639,     33051044,        10577]])"
      ]
     },
     "execution_count": 123,
     "metadata": {},
     "output_type": "execute_result"
    }
   ],
   "source": [
    "produto = df_array@transposta\n",
    "produto\n",
    "\n",
    "#ou"
   ]
  },
  {
   "cell_type": "code",
   "execution_count": 125,
   "id": "092877c6-7127-4b7a-988c-3518447bb4c4",
   "metadata": {},
   "outputs": [
    {
     "data": {
      "text/plain": [
       "array([[        9455,        18797,     32689846,         8305],\n",
       "       [       18797,        53863,     83705033,        19639],\n",
       "       [    32689846,     83705033, 148351518064,     33051044],\n",
       "       [        8305,        19639,     33051044,        10577]])"
      ]
     },
     "execution_count": 125,
     "metadata": {},
     "output_type": "execute_result"
    }
   ],
   "source": [
    "produto2 = np.dot(transposta, df_array)\n",
    "produto2"
   ]
  },
  {
   "cell_type": "markdown",
   "id": "0d7c8517-b1ce-4842-a0ca-7aab7f58de96",
   "metadata": {},
   "source": [
    "12. Filtrar funcionários com salários maiores que 60.000\n"
   ]
  },
  {
   "cell_type": "code",
   "execution_count": 140,
   "id": "4c09afaf-ae7e-474d-a828-dbe390456fcf",
   "metadata": {},
   "outputs": [
    {
     "data": {
      "text/plain": [
       "array([[    3,    34, 75773,    14],\n",
       "       [    4,    27, 93810,    17],\n",
       "       [    6,    58, 96886,     2],\n",
       "       [    8,    42, 71551,     4],\n",
       "       [    9,    30, 90680,    29],\n",
       "       [   13,    59, 81606,    10],\n",
       "       [   14,    43, 70740,    14],\n",
       "       [   16,    41, 61777,    15],\n",
       "       [   19,    49, 83323,    23],\n",
       "       [   20,    57, 83021,    21],\n",
       "       [   22,    40, 83001,    18],\n",
       "       [   24,    31, 63897,    26],\n",
       "       [   26,    44, 96193,    29],\n",
       "       [   27,    46, 98707,    15],\n",
       "       [   28,    47, 95387,     1],\n",
       "       [   29,    35, 94638,    25],\n",
       "       [   30,    34, 63483,     7]])"
      ]
     },
     "execution_count": 140,
     "metadata": {},
     "output_type": "execute_result"
    }
   ],
   "source": [
    "filtro = df_array[df_array[:,2]>60000]\n",
    "filtro"
   ]
  },
  {
   "cell_type": "markdown",
   "id": "895b7e01-097b-412b-8f56-0082b02bf07f",
   "metadata": {},
   "source": [
    "13. Ordenar o dataset pelo salário\n"
   ]
  },
  {
   "cell_type": "code",
   "execution_count": 147,
   "id": "3de505ca-23ae-467a-9ebe-b544269d1193",
   "metadata": {},
   "outputs": [
    {
     "data": {
      "text/plain": [
       "array([[   27,    46, 98707,    15],\n",
       "       [    6,    58, 96886,     2],\n",
       "       [   26,    44, 96193,    29],\n",
       "       [   28,    47, 95387,     1],\n",
       "       [   29,    35, 94638,    25],\n",
       "       [    4,    27, 93810,    17],\n",
       "       [    9,    30, 90680,    29],\n",
       "       [   19,    49, 83323,    23],\n",
       "       [   20,    57, 83021,    21],\n",
       "       [   22,    40, 83001,    18],\n",
       "       [   13,    59, 81606,    10],\n",
       "       [    3,    34, 75773,    14],\n",
       "       [    8,    42, 71551,     4],\n",
       "       [   14,    43, 70740,    14],\n",
       "       [   24,    31, 63897,    26],\n",
       "       [   30,    34, 63483,     7],\n",
       "       [   16,    41, 61777,    15],\n",
       "       [    2,    48, 59118,     8],\n",
       "       [   15,    22, 54502,    31],\n",
       "       [   10,    30, 51394,    18],\n",
       "       [   23,    52, 51016,    24],\n",
       "       [   17,    21, 50627,     8],\n",
       "       [   18,    43, 48792,    14],\n",
       "       [   21,    21, 48433,    16],\n",
       "       [   12,    55, 43890,    34],\n",
       "       [   11,    43, 43556,    26],\n",
       "       [   25,    41, 42612,    25],\n",
       "       [    5,    40, 41899,     4],\n",
       "       [    7,    38, 41267,     6],\n",
       "       [    1,    58, 40189,     7]])"
      ]
     },
     "execution_count": 147,
     "metadata": {},
     "output_type": "execute_result"
    }
   ],
   "source": [
    "ordenado = df_array[np.argsort(df_array[:, 2])[::-1]]\n",
    "ordenado"
   ]
  },
  {
   "cell_type": "markdown",
   "id": "d4d2fe25-86ab-420a-8ca2-d5119e2b75e1",
   "metadata": {},
   "source": [
    "14. Criar uma cópia do dataset\n"
   ]
  },
  {
   "cell_type": "code",
   "execution_count": 150,
   "id": "0ef742ea-e750-4ccd-b060-ffd90f51ac30",
   "metadata": {},
   "outputs": [
    {
     "data": {
      "text/html": [
       "<div>\n",
       "<style scoped>\n",
       "    .dataframe tbody tr th:only-of-type {\n",
       "        vertical-align: middle;\n",
       "    }\n",
       "\n",
       "    .dataframe tbody tr th {\n",
       "        vertical-align: top;\n",
       "    }\n",
       "\n",
       "    .dataframe thead th {\n",
       "        text-align: right;\n",
       "    }\n",
       "</style>\n",
       "<table border=\"1\" class=\"dataframe\">\n",
       "  <thead>\n",
       "    <tr style=\"text-align: right;\">\n",
       "      <th></th>\n",
       "      <th>0</th>\n",
       "      <th>1</th>\n",
       "      <th>2</th>\n",
       "      <th>3</th>\n",
       "    </tr>\n",
       "  </thead>\n",
       "  <tbody>\n",
       "    <tr>\n",
       "      <th>0</th>\n",
       "      <td>1</td>\n",
       "      <td>58</td>\n",
       "      <td>40189</td>\n",
       "      <td>7</td>\n",
       "    </tr>\n",
       "    <tr>\n",
       "      <th>1</th>\n",
       "      <td>2</td>\n",
       "      <td>48</td>\n",
       "      <td>59118</td>\n",
       "      <td>8</td>\n",
       "    </tr>\n",
       "    <tr>\n",
       "      <th>2</th>\n",
       "      <td>3</td>\n",
       "      <td>34</td>\n",
       "      <td>75773</td>\n",
       "      <td>14</td>\n",
       "    </tr>\n",
       "    <tr>\n",
       "      <th>3</th>\n",
       "      <td>4</td>\n",
       "      <td>27</td>\n",
       "      <td>93810</td>\n",
       "      <td>17</td>\n",
       "    </tr>\n",
       "    <tr>\n",
       "      <th>4</th>\n",
       "      <td>5</td>\n",
       "      <td>40</td>\n",
       "      <td>41899</td>\n",
       "      <td>4</td>\n",
       "    </tr>\n",
       "    <tr>\n",
       "      <th>5</th>\n",
       "      <td>6</td>\n",
       "      <td>58</td>\n",
       "      <td>96886</td>\n",
       "      <td>2</td>\n",
       "    </tr>\n",
       "    <tr>\n",
       "      <th>6</th>\n",
       "      <td>7</td>\n",
       "      <td>38</td>\n",
       "      <td>41267</td>\n",
       "      <td>6</td>\n",
       "    </tr>\n",
       "    <tr>\n",
       "      <th>7</th>\n",
       "      <td>8</td>\n",
       "      <td>42</td>\n",
       "      <td>71551</td>\n",
       "      <td>4</td>\n",
       "    </tr>\n",
       "    <tr>\n",
       "      <th>8</th>\n",
       "      <td>9</td>\n",
       "      <td>30</td>\n",
       "      <td>90680</td>\n",
       "      <td>29</td>\n",
       "    </tr>\n",
       "    <tr>\n",
       "      <th>9</th>\n",
       "      <td>10</td>\n",
       "      <td>30</td>\n",
       "      <td>51394</td>\n",
       "      <td>18</td>\n",
       "    </tr>\n",
       "    <tr>\n",
       "      <th>10</th>\n",
       "      <td>11</td>\n",
       "      <td>43</td>\n",
       "      <td>43556</td>\n",
       "      <td>26</td>\n",
       "    </tr>\n",
       "    <tr>\n",
       "      <th>11</th>\n",
       "      <td>12</td>\n",
       "      <td>55</td>\n",
       "      <td>43890</td>\n",
       "      <td>34</td>\n",
       "    </tr>\n",
       "    <tr>\n",
       "      <th>12</th>\n",
       "      <td>13</td>\n",
       "      <td>59</td>\n",
       "      <td>81606</td>\n",
       "      <td>10</td>\n",
       "    </tr>\n",
       "    <tr>\n",
       "      <th>13</th>\n",
       "      <td>14</td>\n",
       "      <td>43</td>\n",
       "      <td>70740</td>\n",
       "      <td>14</td>\n",
       "    </tr>\n",
       "    <tr>\n",
       "      <th>14</th>\n",
       "      <td>15</td>\n",
       "      <td>22</td>\n",
       "      <td>54502</td>\n",
       "      <td>31</td>\n",
       "    </tr>\n",
       "    <tr>\n",
       "      <th>15</th>\n",
       "      <td>16</td>\n",
       "      <td>41</td>\n",
       "      <td>61777</td>\n",
       "      <td>15</td>\n",
       "    </tr>\n",
       "    <tr>\n",
       "      <th>16</th>\n",
       "      <td>17</td>\n",
       "      <td>21</td>\n",
       "      <td>50627</td>\n",
       "      <td>8</td>\n",
       "    </tr>\n",
       "    <tr>\n",
       "      <th>17</th>\n",
       "      <td>18</td>\n",
       "      <td>43</td>\n",
       "      <td>48792</td>\n",
       "      <td>14</td>\n",
       "    </tr>\n",
       "    <tr>\n",
       "      <th>18</th>\n",
       "      <td>19</td>\n",
       "      <td>49</td>\n",
       "      <td>83323</td>\n",
       "      <td>23</td>\n",
       "    </tr>\n",
       "    <tr>\n",
       "      <th>19</th>\n",
       "      <td>20</td>\n",
       "      <td>57</td>\n",
       "      <td>83021</td>\n",
       "      <td>21</td>\n",
       "    </tr>\n",
       "    <tr>\n",
       "      <th>20</th>\n",
       "      <td>21</td>\n",
       "      <td>21</td>\n",
       "      <td>48433</td>\n",
       "      <td>16</td>\n",
       "    </tr>\n",
       "    <tr>\n",
       "      <th>21</th>\n",
       "      <td>22</td>\n",
       "      <td>40</td>\n",
       "      <td>83001</td>\n",
       "      <td>18</td>\n",
       "    </tr>\n",
       "    <tr>\n",
       "      <th>22</th>\n",
       "      <td>23</td>\n",
       "      <td>52</td>\n",
       "      <td>51016</td>\n",
       "      <td>24</td>\n",
       "    </tr>\n",
       "    <tr>\n",
       "      <th>23</th>\n",
       "      <td>24</td>\n",
       "      <td>31</td>\n",
       "      <td>63897</td>\n",
       "      <td>26</td>\n",
       "    </tr>\n",
       "    <tr>\n",
       "      <th>24</th>\n",
       "      <td>25</td>\n",
       "      <td>41</td>\n",
       "      <td>42612</td>\n",
       "      <td>25</td>\n",
       "    </tr>\n",
       "    <tr>\n",
       "      <th>25</th>\n",
       "      <td>26</td>\n",
       "      <td>44</td>\n",
       "      <td>96193</td>\n",
       "      <td>29</td>\n",
       "    </tr>\n",
       "    <tr>\n",
       "      <th>26</th>\n",
       "      <td>27</td>\n",
       "      <td>46</td>\n",
       "      <td>98707</td>\n",
       "      <td>15</td>\n",
       "    </tr>\n",
       "    <tr>\n",
       "      <th>27</th>\n",
       "      <td>28</td>\n",
       "      <td>47</td>\n",
       "      <td>95387</td>\n",
       "      <td>1</td>\n",
       "    </tr>\n",
       "    <tr>\n",
       "      <th>28</th>\n",
       "      <td>29</td>\n",
       "      <td>35</td>\n",
       "      <td>94638</td>\n",
       "      <td>25</td>\n",
       "    </tr>\n",
       "    <tr>\n",
       "      <th>29</th>\n",
       "      <td>30</td>\n",
       "      <td>34</td>\n",
       "      <td>63483</td>\n",
       "      <td>7</td>\n",
       "    </tr>\n",
       "  </tbody>\n",
       "</table>\n",
       "</div>"
      ],
      "text/plain": [
       "     0   1      2   3\n",
       "0    1  58  40189   7\n",
       "1    2  48  59118   8\n",
       "2    3  34  75773  14\n",
       "3    4  27  93810  17\n",
       "4    5  40  41899   4\n",
       "5    6  58  96886   2\n",
       "6    7  38  41267   6\n",
       "7    8  42  71551   4\n",
       "8    9  30  90680  29\n",
       "9   10  30  51394  18\n",
       "10  11  43  43556  26\n",
       "11  12  55  43890  34\n",
       "12  13  59  81606  10\n",
       "13  14  43  70740  14\n",
       "14  15  22  54502  31\n",
       "15  16  41  61777  15\n",
       "16  17  21  50627   8\n",
       "17  18  43  48792  14\n",
       "18  19  49  83323  23\n",
       "19  20  57  83021  21\n",
       "20  21  21  48433  16\n",
       "21  22  40  83001  18\n",
       "22  23  52  51016  24\n",
       "23  24  31  63897  26\n",
       "24  25  41  42612  25\n",
       "25  26  44  96193  29\n",
       "26  27  46  98707  15\n",
       "27  28  47  95387   1\n",
       "28  29  35  94638  25\n",
       "29  30  34  63483   7"
      ]
     },
     "execution_count": 150,
     "metadata": {},
     "output_type": "execute_result"
    }
   ],
   "source": [
    "copia = df_array.copy()\n",
    "novodf = pd.DataFrame(copia)\n",
    "novodf"
   ]
  },
  {
   "cell_type": "code",
   "execution_count": null,
   "id": "6cfe0756-2ad8-4418-b5c4-714c1bf4778b",
   "metadata": {},
   "outputs": [],
   "source": []
  }
 ],
 "metadata": {
  "kernelspec": {
   "display_name": "Python 3 (ipykernel)",
   "language": "python",
   "name": "python3"
  },
  "language_info": {
   "codemirror_mode": {
    "name": "ipython",
    "version": 3
   },
   "file_extension": ".py",
   "mimetype": "text/x-python",
   "name": "python",
   "nbconvert_exporter": "python",
   "pygments_lexer": "ipython3",
   "version": "3.12.4"
  }
 },
 "nbformat": 4,
 "nbformat_minor": 5
}
