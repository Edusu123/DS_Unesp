{
 "cells": [
  {
   "cell_type": "markdown",
   "id": "a7ec3d72-6a42-458d-b1dd-66ea4a93385d",
   "metadata": {},
   "source": [
    "2. Descobrir o vôo com maior atraso na chegada (`ArrDelay`) registrado."
   ]
  },
  {
   "cell_type": "code",
   "execution_count": 21,
   "id": "98f3a63a-729c-4739-9a42-5b4fa7593c45",
   "metadata": {},
   "outputs": [
    {
     "name": "stdout",
     "output_type": "stream",
     "text": [
      "O vôo com maior atraso na chegada foi o de número 740, com 822.0 minutos\n"
     ]
    }
   ],
   "source": [
    "import pandas as pd\n",
    "\n",
    "#opening csv file\n",
    "df = pd.read_csv('2006-sample.csv')\n",
    "\n",
    "#sorting `ArrDelay` by descending value\n",
    "sortedDf = df.sort_values(by = 'ArrDelay', ascending = False)\n",
    "\n",
    "#removing NaN values from the column\n",
    "sortedDf = sortedDf.dropna(subset=['ArrDelay'])\n",
    "\n",
    "#selecting ArrDelay e flightNum columns\n",
    "separatedDf = sortedDf[['ArrDelay', 'FlightNum']]\n",
    "\n",
    "#getting the most delayed flight info\n",
    "flightNumber = separatedDf.iloc[0,1]\n",
    "minutesDelay = separatedDf.iloc[0,0]\n",
    "\n",
    "print(f\"O vôo com maior atraso na chegada foi o de número {flightNumber}, com {minutesDelay} minutos\")"
   ]
  }
 ],
 "metadata": {
  "kernelspec": {
   "display_name": "Python 3 (ipykernel)",
   "language": "python",
   "name": "python3"
  },
  "language_info": {
   "codemirror_mode": {
    "name": "ipython",
    "version": 3
   },
   "file_extension": ".py",
   "mimetype": "text/x-python",
   "name": "python",
   "nbconvert_exporter": "python",
   "pygments_lexer": "ipython3",
   "version": "3.10.6"
  }
 },
 "nbformat": 4,
 "nbformat_minor": 5
}
