{
 "cells": [
  {
   "cell_type": "markdown",
   "id": "d2f8f9cb-f155-452a-81f6-43dd97b9dd39",
   "metadata": {},
   "source": [
    "7. Mostrar o tempo total de atrasos para a decolagem de vôos no aeroporto `JFK`, de Nova Iorque."
   ]
  },
  {
   "cell_type": "code",
   "execution_count": 8,
   "id": "d89409f6-04e2-4449-8ac3-d101132513ce",
   "metadata": {},
   "outputs": [
    {
     "name": "stdout",
     "output_type": "stream",
     "text": [
      "16065.0\n"
     ]
    }
   ],
   "source": [
    "import pandas as pd\n",
    "\n",
    "df = pd.read_csv('2006-sample.csv')\n",
    "\n",
    "#filtering JFK as the origin \n",
    "dfJfk = df[df['Origin'] == 'JFK']\n",
    "\n",
    "#removing early flights\n",
    "filteredDf = dfJfk[dfJfk['DepDelay'] > 0]\n",
    "\n",
    "#calculating the total delay time \n",
    "delaySum = filteredDf['DepDelay'].sum()\n",
    "\n",
    "print(delaySum)"
   ]
  }
 ],
 "metadata": {
  "kernelspec": {
   "display_name": "Python 3 (ipykernel)",
   "language": "python",
   "name": "python3"
  },
  "language_info": {
   "codemirror_mode": {
    "name": "ipython",
    "version": 3
   },
   "file_extension": ".py",
   "mimetype": "text/x-python",
   "name": "python",
   "nbconvert_exporter": "python",
   "pygments_lexer": "ipython3",
   "version": "3.10.6"
  }
 },
 "nbformat": 4,
 "nbformat_minor": 5
}
