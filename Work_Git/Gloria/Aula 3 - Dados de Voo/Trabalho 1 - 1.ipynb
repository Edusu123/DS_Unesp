{
 "cells": [
  {
   "cell_type": "markdown",
   "id": "396d8a86-5d4d-4fe1-9ffc-08aa7e3b4941",
   "metadata": {},
   "source": [
    "1. Descobrir a quantiade de atrasos de uma dada companhia passada como parâmetro. "
   ]
  },
  {
   "cell_type": "code",
   "execution_count": 7,
   "id": "e713b3e4-f032-4a8d-8fab-e24ab0d61e3c",
   "metadata": {},
   "outputs": [],
   "source": [
    "import pandas as pd\n",
    "\n",
    "# opening csv file\n",
    "df = pd.read_csv('2006-sample.csv')"
   ]
  },
  {
   "cell_type": "code",
   "execution_count": 8,
   "id": "853389b4-01c8-41fc-8bb9-b742718d0bf2",
   "metadata": {},
   "outputs": [
    {
     "name": "stdout",
     "output_type": "stream",
     "text": [
      "Códigos das companhias aéreas: WN, AA, MQ, OO, US, DL, UA, NW, XE, YV, CO, EV, OH, FL, AS, B6, F9, HA, AQ, TZ\n"
     ]
    },
    {
     "name": "stdin",
     "output_type": "stream",
     "text": [
      "Digite o código da companhia aérea para descobrir sua quantidade de atrasos:  CO\n"
     ]
    },
    {
     "name": "stdout",
     "output_type": "stream",
     "text": [
      "Número de atrasos da companhia CO: 1829\n"
     ]
    }
   ],
   "source": [
    "# gathering all unique carrier codes\n",
    "valueCarrierCounts = df['UniqueCarrier'].value_counts()\n",
    "\n",
    "# obtains the valueCarrierCounts index \n",
    "indexList = valueCarrierCounts.index.tolist()\n",
    "\n",
    "# converts the index to a string\n",
    "indexString = \", \".join(indexList)\n",
    "\n",
    "# filtered dataframe with delays in at least one column \n",
    "dfDelay = df[(df['ArrDelay'] > 0) | (df['DepDelay'] > 0)]\n",
    "\n",
    "# prints the message with carrier list\n",
    "print(f\"Códigos das companhias aéreas: {indexString}\")\n",
    "\n",
    "# reads user input\n",
    "inputIndex = input(\"Digite o código da companhia aérea para descobrir sua quantidade de atrasos: \")\n",
    "\n",
    "# number of delays of each carrier\n",
    "carrierValues = dfDelay['UniqueCarrier'].value_counts()\n",
    "\n",
    "# checks input value and returns the result\n",
    "carrierDelays = carrierValues.get(inputIndex, \"Companhia não encontrada\")\n",
    "\n",
    "print(f\"Número de atrasos da companhia {inputIndex}: {carrierDelays}\")\n"
   ]
  },
  {
   "cell_type": "code",
   "execution_count": null,
   "id": "bbadd40a-1a20-490b-8a52-828c24bd8fc5",
   "metadata": {},
   "outputs": [],
   "source": []
  }
 ],
 "metadata": {
  "kernelspec": {
   "display_name": "Python 3 (ipykernel)",
   "language": "python",
   "name": "python3"
  },
  "language_info": {
   "codemirror_mode": {
    "name": "ipython",
    "version": 3
   },
   "file_extension": ".py",
   "mimetype": "text/x-python",
   "name": "python",
   "nbconvert_exporter": "python",
   "pygments_lexer": "ipython3",
   "version": "3.10.6"
  }
 },
 "nbformat": 4,
 "nbformat_minor": 5
}
