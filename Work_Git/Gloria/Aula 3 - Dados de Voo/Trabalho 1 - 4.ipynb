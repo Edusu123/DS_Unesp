{
 "cells": [
  {
   "cell_type": "markdown",
   "id": "da7dc046-72f7-48dc-bae2-368214444b07",
   "metadata": {},
   "source": [
    "4. Descobrir o vôo mais longo."
   ]
  },
  {
   "cell_type": "code",
   "execution_count": 7,
   "id": "b3c28e79-b484-4249-8361-821f1988d1e2",
   "metadata": {},
   "outputs": [
    {
     "name": "stdout",
     "output_type": "stream",
     "text": [
      "O voo mais longo foi o de número 116, que durou 1584.0 minutos\n"
     ]
    }
   ],
   "source": [
    "import pandas as pd\n",
    "\n",
    "#reading csv file\n",
    "df = pd.read_csv('2006-sample.csv')\n",
    "\n",
    "#sorting `AirTime` by descending value\n",
    "sortedDf = df.sort_values(by = 'AirTime', ascending = False)\n",
    "\n",
    "#removing NaN values from the column\n",
    "sortedDf = sortedDf.dropna(subset=['AirTime'])\n",
    "\n",
    "#selecting DepDelay e flightNum columns\n",
    "separatedDf = sortedDf[['AirTime', 'FlightNum']]\n",
    "\n",
    "#getting the most delayed flight info\n",
    "flightNumber = separatedDf.iloc[0,1]\n",
    "airTime = separatedDf.iloc[0,0]\n",
    "\n",
    "\n",
    "print(f\"O voo mais longo foi o de número {flightNumber}, que durou {airTime} minutos\")"
   ]
  }
 ],
 "metadata": {
  "kernelspec": {
   "display_name": "Python 3 (ipykernel)",
   "language": "python",
   "name": "python3"
  },
  "language_info": {
   "codemirror_mode": {
    "name": "ipython",
    "version": 3
   },
   "file_extension": ".py",
   "mimetype": "text/x-python",
   "name": "python",
   "nbconvert_exporter": "python",
   "pygments_lexer": "ipython3",
   "version": "3.10.6"
  }
 },
 "nbformat": 4,
 "nbformat_minor": 5
}
