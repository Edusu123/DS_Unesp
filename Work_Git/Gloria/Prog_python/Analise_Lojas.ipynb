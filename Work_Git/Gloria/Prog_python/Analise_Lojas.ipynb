{
 "cells": [
  {
   "cell_type": "markdown",
   "id": "1b8757c4-8299-4c0f-b067-1108f700fa64",
   "metadata": {},
   "source": [
    "#### Importando bibliotecas"
   ]
  },
  {
   "cell_type": "code",
   "execution_count": 4,
   "id": "849ad130-a39c-4153-8d61-ec84375b43c8",
   "metadata": {},
   "outputs": [],
   "source": [
    "import pandas as pd\n",
    "import random\n",
    "import numpy as np\n",
    "from faker import Faker\n",
    "fake = Faker()\n",
    "from datetime import datetime, timedelta\n"
   ]
  },
  {
   "cell_type": "markdown",
   "id": "a9259cbe-ccef-4a1f-bad3-0a56f4ac4d7b",
   "metadata": {},
   "source": [
    "#### Criando um dataframe com dados fictícios:"
   ]
  },
  {
   "cell_type": "code",
   "execution_count": 8,
   "id": "0094e457-b40d-49ef-aac0-b953a2e34c93",
   "metadata": {},
   "outputs": [],
   "source": [
    "regnum = 250\n",
    "produto = ['Geladeira', 'Air Fryer', 'Celular', 'Notebook', 'Sofá', 'Cama']\n",
    "categoria = ['Casual', 'Profissional', 'Luxo', 'Edição Limitada']\n",
    "localidade = ['São Paulo', 'Rio de Janeiro', 'Curitiba', 'Brasília']\n",
    "\n",
    "\n",
    "dateRange = pd.date_range(start=datetime(2024, 1, 1), end=datetime(2024, 12, 31), freq='D')\n",
    "\n",
    "lojasData = {\n",
    "    \"ID_Produto\" : [random.randint(0,25) for _ in range (len(dateRange))],\n",
    "    \"NomeProduto\" : [random.choice(produto) for _ in range (len(dateRange))],\n",
    "    \"Categoria\" : [random.choice(categoria) for _ in range (len(dateRange))],\n",
    "    \"Preço\" : [round(random.uniform(100, 10000)) for _ in range (len(dateRange))],\n",
    "    \"QuantidadeVendida\" : [random.randint(1,100) for _ in range (len(dateRange))],\n",
    "    \"ID_Loja\":[random.randint(100,125) for _ in range (len(dateRange))],\n",
    "    \"LocalidadeLoja\":[random.choice(localidade) for _ in range (len(dateRange))],\n",
    "    \"DataVenda\": dateRange,\n",
    "}\n"
   ]
  },
  {
   "cell_type": "code",
   "execution_count": 10,
   "id": "334df9dc-b798-4549-a3ad-e05d6c6881fd",
   "metadata": {},
   "outputs": [
    {
     "data": {
      "text/html": [
       "<div>\n",
       "<style scoped>\n",
       "    .dataframe tbody tr th:only-of-type {\n",
       "        vertical-align: middle;\n",
       "    }\n",
       "\n",
       "    .dataframe tbody tr th {\n",
       "        vertical-align: top;\n",
       "    }\n",
       "\n",
       "    .dataframe thead th {\n",
       "        text-align: right;\n",
       "    }\n",
       "</style>\n",
       "<table border=\"1\" class=\"dataframe\">\n",
       "  <thead>\n",
       "    <tr style=\"text-align: right;\">\n",
       "      <th></th>\n",
       "      <th>ID_Produto</th>\n",
       "      <th>NomeProduto</th>\n",
       "      <th>Categoria</th>\n",
       "      <th>Preço</th>\n",
       "      <th>QuantidadeVendida</th>\n",
       "      <th>ID_Loja</th>\n",
       "      <th>LocalidadeLoja</th>\n",
       "      <th>DataVenda</th>\n",
       "    </tr>\n",
       "  </thead>\n",
       "  <tbody>\n",
       "    <tr>\n",
       "      <th>0</th>\n",
       "      <td>9</td>\n",
       "      <td>Notebook</td>\n",
       "      <td>Profissional</td>\n",
       "      <td>1486</td>\n",
       "      <td>70</td>\n",
       "      <td>125</td>\n",
       "      <td>São Paulo</td>\n",
       "      <td>2024-01-01</td>\n",
       "    </tr>\n",
       "    <tr>\n",
       "      <th>1</th>\n",
       "      <td>22</td>\n",
       "      <td>Sofá</td>\n",
       "      <td>Profissional</td>\n",
       "      <td>1063</td>\n",
       "      <td>75</td>\n",
       "      <td>114</td>\n",
       "      <td>Rio de Janeiro</td>\n",
       "      <td>2024-01-02</td>\n",
       "    </tr>\n",
       "    <tr>\n",
       "      <th>2</th>\n",
       "      <td>21</td>\n",
       "      <td>Cama</td>\n",
       "      <td>Edição Limitada</td>\n",
       "      <td>1748</td>\n",
       "      <td>33</td>\n",
       "      <td>125</td>\n",
       "      <td>Rio de Janeiro</td>\n",
       "      <td>2024-01-03</td>\n",
       "    </tr>\n",
       "    <tr>\n",
       "      <th>3</th>\n",
       "      <td>20</td>\n",
       "      <td>Air Fryer</td>\n",
       "      <td>Luxo</td>\n",
       "      <td>4199</td>\n",
       "      <td>5</td>\n",
       "      <td>100</td>\n",
       "      <td>Rio de Janeiro</td>\n",
       "      <td>2024-01-04</td>\n",
       "    </tr>\n",
       "    <tr>\n",
       "      <th>4</th>\n",
       "      <td>11</td>\n",
       "      <td>Geladeira</td>\n",
       "      <td>Profissional</td>\n",
       "      <td>7289</td>\n",
       "      <td>57</td>\n",
       "      <td>104</td>\n",
       "      <td>Curitiba</td>\n",
       "      <td>2024-01-05</td>\n",
       "    </tr>\n",
       "    <tr>\n",
       "      <th>...</th>\n",
       "      <td>...</td>\n",
       "      <td>...</td>\n",
       "      <td>...</td>\n",
       "      <td>...</td>\n",
       "      <td>...</td>\n",
       "      <td>...</td>\n",
       "      <td>...</td>\n",
       "      <td>...</td>\n",
       "    </tr>\n",
       "    <tr>\n",
       "      <th>361</th>\n",
       "      <td>19</td>\n",
       "      <td>Air Fryer</td>\n",
       "      <td>Edição Limitada</td>\n",
       "      <td>657</td>\n",
       "      <td>90</td>\n",
       "      <td>102</td>\n",
       "      <td>Rio de Janeiro</td>\n",
       "      <td>2024-12-27</td>\n",
       "    </tr>\n",
       "    <tr>\n",
       "      <th>362</th>\n",
       "      <td>4</td>\n",
       "      <td>Notebook</td>\n",
       "      <td>Casual</td>\n",
       "      <td>6150</td>\n",
       "      <td>45</td>\n",
       "      <td>107</td>\n",
       "      <td>Brasília</td>\n",
       "      <td>2024-12-28</td>\n",
       "    </tr>\n",
       "    <tr>\n",
       "      <th>363</th>\n",
       "      <td>21</td>\n",
       "      <td>Notebook</td>\n",
       "      <td>Luxo</td>\n",
       "      <td>7744</td>\n",
       "      <td>75</td>\n",
       "      <td>121</td>\n",
       "      <td>Brasília</td>\n",
       "      <td>2024-12-29</td>\n",
       "    </tr>\n",
       "    <tr>\n",
       "      <th>364</th>\n",
       "      <td>12</td>\n",
       "      <td>Sofá</td>\n",
       "      <td>Profissional</td>\n",
       "      <td>4986</td>\n",
       "      <td>9</td>\n",
       "      <td>118</td>\n",
       "      <td>Brasília</td>\n",
       "      <td>2024-12-30</td>\n",
       "    </tr>\n",
       "    <tr>\n",
       "      <th>365</th>\n",
       "      <td>18</td>\n",
       "      <td>Sofá</td>\n",
       "      <td>Casual</td>\n",
       "      <td>1953</td>\n",
       "      <td>50</td>\n",
       "      <td>105</td>\n",
       "      <td>Rio de Janeiro</td>\n",
       "      <td>2024-12-31</td>\n",
       "    </tr>\n",
       "  </tbody>\n",
       "</table>\n",
       "<p>366 rows × 8 columns</p>\n",
       "</div>"
      ],
      "text/plain": [
       "     ID_Produto NomeProduto        Categoria  Preço  QuantidadeVendida  \\\n",
       "0             9    Notebook     Profissional   1486                 70   \n",
       "1            22        Sofá     Profissional   1063                 75   \n",
       "2            21        Cama  Edição Limitada   1748                 33   \n",
       "3            20   Air Fryer             Luxo   4199                  5   \n",
       "4            11   Geladeira     Profissional   7289                 57   \n",
       "..          ...         ...              ...    ...                ...   \n",
       "361          19   Air Fryer  Edição Limitada    657                 90   \n",
       "362           4    Notebook           Casual   6150                 45   \n",
       "363          21    Notebook             Luxo   7744                 75   \n",
       "364          12        Sofá     Profissional   4986                  9   \n",
       "365          18        Sofá           Casual   1953                 50   \n",
       "\n",
       "     ID_Loja  LocalidadeLoja   DataVenda  \n",
       "0        125       São Paulo  2024-01-01  \n",
       "1        114  Rio de Janeiro  2024-01-02  \n",
       "2        125  Rio de Janeiro  2024-01-03  \n",
       "3        100  Rio de Janeiro  2024-01-04  \n",
       "4        104        Curitiba  2024-01-05  \n",
       "..       ...             ...         ...  \n",
       "361      102  Rio de Janeiro  2024-12-27  \n",
       "362      107        Brasília  2024-12-28  \n",
       "363      121        Brasília  2024-12-29  \n",
       "364      118        Brasília  2024-12-30  \n",
       "365      105  Rio de Janeiro  2024-12-31  \n",
       "\n",
       "[366 rows x 8 columns]"
      ]
     },
     "execution_count": 10,
     "metadata": {},
     "output_type": "execute_result"
    }
   ],
   "source": [
    "lojasDf = pd.DataFrame(lojasData)\n",
    "lojasDf.to_csv('lojasData.csv', index = False)\n",
    "df = pd.read_csv('lojasData.csv')\n",
    "df"
   ]
  },
  {
   "cell_type": "markdown",
   "id": "6dbbbc7d-3a63-4196-aca0-024b3a77d90f",
   "metadata": {},
   "source": [
    "### Análises"
   ]
  },
  {
   "cell_type": "markdown",
   "id": "56239741-e158-45c0-a340-a536421c64f0",
   "metadata": {},
   "source": [
    "##### Análise exploratória"
   ]
  },
  {
   "cell_type": "markdown",
   "id": "df97060d-72fd-4bf4-b21b-7a10bfa751db",
   "metadata": {},
   "source": [
    "##### Total de vendas por produto"
   ]
  },
  {
   "cell_type": "code",
   "execution_count": 114,
   "id": "212b4a8f-bc2e-4136-b50f-eb5f8793a0a1",
   "metadata": {},
   "outputs": [
    {
     "data": {
      "text/html": [
       "<div>\n",
       "<style scoped>\n",
       "    .dataframe tbody tr th:only-of-type {\n",
       "        vertical-align: middle;\n",
       "    }\n",
       "\n",
       "    .dataframe tbody tr th {\n",
       "        vertical-align: top;\n",
       "    }\n",
       "\n",
       "    .dataframe thead th {\n",
       "        text-align: right;\n",
       "    }\n",
       "</style>\n",
       "<table border=\"1\" class=\"dataframe\">\n",
       "  <thead>\n",
       "    <tr style=\"text-align: right;\">\n",
       "      <th></th>\n",
       "      <th>NomeProduto</th>\n",
       "      <th>QuantidadeVendida</th>\n",
       "    </tr>\n",
       "  </thead>\n",
       "  <tbody>\n",
       "    <tr>\n",
       "      <th>0</th>\n",
       "      <td>Air Fryer</td>\n",
       "      <td>3449</td>\n",
       "    </tr>\n",
       "    <tr>\n",
       "      <th>1</th>\n",
       "      <td>Cama</td>\n",
       "      <td>2616</td>\n",
       "    </tr>\n",
       "    <tr>\n",
       "      <th>2</th>\n",
       "      <td>Celular</td>\n",
       "      <td>2878</td>\n",
       "    </tr>\n",
       "    <tr>\n",
       "      <th>3</th>\n",
       "      <td>Geladeira</td>\n",
       "      <td>2806</td>\n",
       "    </tr>\n",
       "    <tr>\n",
       "      <th>4</th>\n",
       "      <td>Notebook</td>\n",
       "      <td>3580</td>\n",
       "    </tr>\n",
       "    <tr>\n",
       "      <th>5</th>\n",
       "      <td>Sofá</td>\n",
       "      <td>2300</td>\n",
       "    </tr>\n",
       "  </tbody>\n",
       "</table>\n",
       "</div>"
      ],
      "text/plain": [
       "  NomeProduto  QuantidadeVendida\n",
       "0   Air Fryer               3449\n",
       "1        Cama               2616\n",
       "2     Celular               2878\n",
       "3   Geladeira               2806\n",
       "4    Notebook               3580\n",
       "5        Sofá               2300"
      ]
     },
     "execution_count": 114,
     "metadata": {},
     "output_type": "execute_result"
    }
   ],
   "source": [
    "df.groupby('NomeProduto')['QuantidadeVendida'].sum().reset_index()\n"
   ]
  },
  {
   "cell_type": "markdown",
   "id": "9ea10575-d440-4645-81b6-5c28bc74b2c2",
   "metadata": {},
   "source": [
    "##### Qual é a loja que vendeu mais produtos?\n"
   ]
  },
  {
   "cell_type": "code",
   "execution_count": 18,
   "id": "6ef87361-317b-418b-9096-8914484333f6",
   "metadata": {},
   "outputs": [
    {
     "name": "stdout",
     "output_type": "stream",
     "text": [
      "A loja com maior quantidade vendida é a 112 com 1159 vendas.\n"
     ]
    }
   ],
   "source": [
    "loja_max = df.groupby('ID_Loja')['QuantidadeVendida'].sum().idxmax()\n",
    "vendas_max = df.groupby('ID_Loja')['QuantidadeVendida'].sum().max()\n",
    "print(f\"A loja com maior quantidade vendida é a {loja_max} com {vendas_max} vendas.\")\n"
   ]
  },
  {
   "cell_type": "markdown",
   "id": "6e9ef8b6-313a-4051-a56a-82997d0ff326",
   "metadata": {},
   "source": [
    "##### Qual categoria de produto teve mais vendas em termos de quantidade?\n"
   ]
  },
  {
   "cell_type": "code",
   "execution_count": 47,
   "id": "34757256-60d9-4f78-ac6c-53dd3afca017",
   "metadata": {},
   "outputs": [
    {
     "name": "stdout",
     "output_type": "stream",
     "text": [
      "A categoria com mais vendas foi a Luxo, com 4945 unidades\n"
     ]
    }
   ],
   "source": [
    "print(f\"A categoria com mais vendas foi a {df.groupby('Categoria')['QuantidadeVendida'].sum().idxmax()}, com {df.groupby('Categoria')['QuantidadeVendida'].sum().max()} unidades\")"
   ]
  },
  {
   "cell_type": "markdown",
   "id": "854ee397-04e4-4d45-afc8-cbceeef513ac",
   "metadata": {},
   "source": [
    "##### Análise Temporal"
   ]
  },
  {
   "cell_type": "markdown",
   "id": "29d725f7-ab20-4d75-83b7-b8cd0f1d9e24",
   "metadata": {},
   "source": [
    "##### Qual mês do ano teve mais vendas (quantidade) "
   ]
  },
  {
   "cell_type": "code",
   "execution_count": 67,
   "id": "d31556ef-f55d-400c-b852-81ee725eb1b8",
   "metadata": {},
   "outputs": [
    {
     "name": "stdout",
     "output_type": "stream",
     "text": [
      "O mês do ano com maior número de vendas foi o 7, com 1680 produtos vendidos.\n"
     ]
    }
   ],
   "source": [
    "\n",
    "# Converter a coluna 'data_completa' para datetime\n",
    "df['DataVenda'] = pd.to_datetime(df['DataVenda'])\n",
    "\n",
    "df['Ano'] = df['DataVenda'].dt.year\n",
    "df['Mes'] = df['DataVenda'].dt.month\n",
    "df['Dia'] = df['DataVenda'].dt.day\n",
    "\n",
    "print(f\"O mês do ano com maior número de vendas foi o {df.groupby('Mes')['QuantidadeVendida'].sum().idxmax()}, com {df.groupby('Mes')['QuantidadeVendida'].sum().max()} produtos vendidos.\")"
   ]
  },
  {
   "cell_type": "markdown",
   "id": "343cfd35-8192-4938-9231-3238f9f013d6",
   "metadata": {},
   "source": [
    "##### Qual mês gerou mais receita (valor total de vendas)"
   ]
  },
  {
   "cell_type": "code",
   "execution_count": 73,
   "id": "491cd73d-2477-435c-871a-e2e0c0b848b3",
   "metadata": {},
   "outputs": [
    {
     "name": "stdout",
     "output_type": "stream",
     "text": [
      "O mês do ano com maior receita foi o 5, com 9371527 reais faturados.\n"
     ]
    }
   ],
   "source": [
    "df['Receita'] = df['QuantidadeVendida']*df['Preço']\n",
    "\n",
    "print(f\"O mês do ano com maior receita foi o {df.groupby('Mes')['Receita'].sum().idxmax()}, com {df.groupby('Mes')['Receita'].sum().max()} reais faturados.\")\n"
   ]
  },
  {
   "cell_type": "markdown",
   "id": "fd5ecaf9-4eca-49e8-bced-f9528b9643d7",
   "metadata": {},
   "source": [
    "##### Agrupamento de dados"
   ]
  },
  {
   "cell_type": "markdown",
   "id": "8a718fa1-0cea-4e93-b005-12d22a65ecff",
   "metadata": {},
   "source": [
    "##### Média de vendas por produto dentro de cada categoria"
   ]
  },
  {
   "cell_type": "code",
   "execution_count": 184,
   "id": "b279b316-dafb-4d4f-bc95-a2a6cbfd920f",
   "metadata": {},
   "outputs": [
    {
     "data": {
      "text/html": [
       "<div>\n",
       "<style scoped>\n",
       "    .dataframe tbody tr th:only-of-type {\n",
       "        vertical-align: middle;\n",
       "    }\n",
       "\n",
       "    .dataframe tbody tr th {\n",
       "        vertical-align: top;\n",
       "    }\n",
       "\n",
       "    .dataframe thead th {\n",
       "        text-align: right;\n",
       "    }\n",
       "</style>\n",
       "<table border=\"1\" class=\"dataframe\">\n",
       "  <thead>\n",
       "    <tr style=\"text-align: right;\">\n",
       "      <th></th>\n",
       "      <th>Categoria</th>\n",
       "      <th>QuantidadeVendida</th>\n",
       "    </tr>\n",
       "  </thead>\n",
       "  <tbody>\n",
       "    <tr>\n",
       "      <th>0</th>\n",
       "      <td>Casual</td>\n",
       "      <td>657.000000</td>\n",
       "    </tr>\n",
       "    <tr>\n",
       "      <th>1</th>\n",
       "      <td>Edição Limitada</td>\n",
       "      <td>738.500000</td>\n",
       "    </tr>\n",
       "    <tr>\n",
       "      <th>2</th>\n",
       "      <td>Luxo</td>\n",
       "      <td>824.166667</td>\n",
       "    </tr>\n",
       "    <tr>\n",
       "      <th>3</th>\n",
       "      <td>Profissional</td>\n",
       "      <td>718.500000</td>\n",
       "    </tr>\n",
       "  </tbody>\n",
       "</table>\n",
       "</div>"
      ],
      "text/plain": [
       "         Categoria  QuantidadeVendida\n",
       "0           Casual         657.000000\n",
       "1  Edição Limitada         738.500000\n",
       "2             Luxo         824.166667\n",
       "3     Profissional         718.500000"
      ]
     },
     "execution_count": 184,
     "metadata": {},
     "output_type": "execute_result"
    }
   ],
   "source": [
    "media = df.groupby(['Categoria', 'NomeProduto'])['QuantidadeVendida'].sum().reset_index()\n",
    "\n",
    "media_final = media.groupby('Categoria')['QuantidadeVendida'].mean().reset_index()\n",
    "media_final"
   ]
  },
  {
   "cell_type": "markdown",
   "id": "a521ec5b-4094-4e01-80ef-95d94a180f76",
   "metadata": {},
   "source": [
    "##### Quais produtos tiveram as melhores vendas em cada localidade?"
   ]
  },
  {
   "cell_type": "code",
   "execution_count": 150,
   "id": "d4680b18-7c45-4e84-ba5f-ad60cb8b159e",
   "metadata": {},
   "outputs": [
    {
     "name": "stdout",
     "output_type": "stream",
     "text": [
      "    LocalidadeLoja NomeProduto  QuantidadeVendida\n",
      "0         Brasília   Air Fryer               1021\n",
      "10        Curitiba    Notebook               1002\n",
      "12  Rio de Janeiro   Air Fryer                950\n",
      "22       São Paulo    Notebook               1026\n"
     ]
    }
   ],
   "source": [
    "vendas_localidade = df.groupby(['LocalidadeLoja', 'NomeProduto'])['QuantidadeVendida'].sum().reset_index()\n",
    "melhores_vendas = vendas_localidade.loc[vendas_localidade.groupby('LocalidadeLoja')['QuantidadeVendida'].idxmax()]\n",
    "\n",
    "print(melhores_vendas)\n"
   ]
  },
  {
   "cell_type": "markdown",
   "id": "ac9f1184-68c0-45a8-bb1c-281c4240cccb",
   "metadata": {},
   "source": [
    "##### Criação de Gráficos"
   ]
  },
  {
   "cell_type": "markdown",
   "id": "f861c740-aa65-4f53-ab80-83c44f037a5b",
   "metadata": {},
   "source": [
    "##### Crie gráficos de barras para visualizar as vendas por produto e por loja."
   ]
  },
  {
   "cell_type": "code",
   "execution_count": 210,
   "id": "743b49cb-535d-4c4b-a84f-2d7918119877",
   "metadata": {},
   "outputs": [
    {
     "data": {
      "image/png": "[encoded data removed]",
      "text/plain": [
       "<Figure size 1000x600 with 1 Axes>"
      ]
     },
     "metadata": {},
     "output_type": "display_data"
    },
    {
     "data": {
      "image/png": "[encoded data removed]",
      "text/plain": [
       "<Figure size 1000x600 with 1 Axes>"
      ]
     },
     "metadata": {},
     "output_type": "display_data"
    }
   ],
   "source": [
    "import pandas as pd\n",
    "import matplotlib.pyplot as plt\n",
    "import seaborn as sns\n",
    "\n",
    "vendas_produto = df.groupby('NomeProduto')['QuantidadeVendida'].sum().reset_index()\n",
    "\n",
    "vendas_loja = df.groupby('LocalidadeLoja')['QuantidadeVendida'].sum().reset_index()\n",
    "\n",
    "sns.set(style=\"whitegrid\")\n",
    "\n",
    "plt.figure(figsize=(10,6))\n",
    "sns.barplot(x='QuantidadeVendida', y='NomeProduto', data=vendas_produto, color='crimson')\n",
    "plt.title('Vendas Totais por Produto')\n",
    "plt.xlabel('Quantidade Vendida')\n",
    "plt.ylabel('Produto')\n",
    "plt.tight_layout()\n",
    "plt.show()\n",
    "\n",
    "plt.figure(figsize=(10,6))\n",
    "sns.barplot(x='QuantidadeVendida', y='LocalidadeLoja', data=vendas_loja, color='midnightblue')\n",
    "plt.title('Vendas Totais por Loja')\n",
    "plt.xlabel('Quantidade Vendida')\n",
    "plt.ylabel('Localidade da Loja')\n",
    "plt.tight_layout()\n",
    "plt.show()\n"
   ]
  },
  {
   "cell_type": "markdown",
   "id": "2b512c16-380a-4f6f-92af-9857c96fdb1a",
   "metadata": {},
   "source": [
    "\n",
    "\n",
    "##### Crie um gráfico de linha para mostrar a evolução das vendas ao longo do tempo."
   ]
  },
  {
   "cell_type": "code",
   "execution_count": 200,
   "id": "bbe08deb-1b77-49ae-9cfd-4d3d314c766e",
   "metadata": {},
   "outputs": [
    {
     "data": {
      "image/png": "[encoded data removed]",
      "text/plain": [
       "<Figure size 1000x600 with 1 Axes>"
      ]
     },
     "metadata": {},
     "output_type": "display_data"
    }
   ],
   "source": [
    "import pandas as pd\n",
    "import matplotlib.pyplot as plt\n",
    "\n",
    "vendas_mensais = df.groupby('Mes')['QuantidadeVendida'].sum().reset_index()\n",
    "\n",
    "vendas_mensais = vendas_mensais.sort_values('Mes')\n",
    "\n",
    "plt.figure(figsize=(10,6))\n",
    "plt.plot(vendas_mensais['Mes'], vendas_mensais['QuantidadeVendida'], marker='o', linestyle='-', color='b')\n",
    "\n",
    "plt.title('Evolução das Vendas Mensais')\n",
    "plt.xlabel('Mês')\n",
    "plt.ylabel('Quantidade Vendida')\n",
    "\n",
    "plt.xticks(rotation=45)\n",
    "plt.grid(True)\n",
    "plt.tight_layout()\n",
    "\n",
    "plt.show()\n"
   ]
  },
  {
   "cell_type": "code",
   "execution_count": null,
   "id": "e1035390-e5ae-49d4-a374-4a76c3555550",
   "metadata": {},
   "outputs": [],
   "source": []
  }
 ],
 "metadata": {
  "kernelspec": {
   "display_name": "Python 3 (ipykernel)",
   "language": "python",
   "name": "python3"
  },
  "language_info": {
   "codemirror_mode": {
    "name": "ipython",
    "version": 3
   },
   "file_extension": ".py",
   "mimetype": "text/x-python",
   "name": "python",
   "nbconvert_exporter": "python",
   "pygments_lexer": "ipython3",
   "version": "3.12.4"
  }
 },
 "nbformat": 4,
 "nbformat_minor": 5
}
