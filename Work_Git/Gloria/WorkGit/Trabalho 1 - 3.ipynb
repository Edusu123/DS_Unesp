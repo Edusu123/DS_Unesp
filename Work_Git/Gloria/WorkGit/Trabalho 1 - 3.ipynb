{
 "cells": [
  {
   "cell_type": "markdown",
   "id": "dacd521c-063d-48f1-9793-337eec95b68e",
   "metadata": {},
   "source": [
    "3. Descobrir o vôo com maior atraso na saída (`DepDelay`) registrado."
   ]
  },
  {
   "cell_type": "code",
   "execution_count": 7,
   "id": "118a6605-4b30-46ba-9ac6-fd25192f0cb0",
   "metadata": {},
   "outputs": [
    {
     "name": "stdout",
     "output_type": "stream",
     "text": [
      "O vôo com maior atraso na saída foi o de número 740, com 792.0 minutos\n"
     ]
    }
   ],
   "source": [
    "import pandas as pd\n",
    "\n",
    "#opening csv file\n",
    "df = pd.read_csv('2006-sample.csv')\n",
    "\n",
    "#sorting `DepDelay` by descending value\n",
    "sortedDf = df.sort_values(by = 'DepDelay', ascending = False)\n",
    "\n",
    "#removing NaN values from the column\n",
    "sortedDf = sortedDf.dropna(subset=['DepDelay'])\n",
    "\n",
    "#selecting DepDelay e flightNum columns\n",
    "separatedDf = sortedDf[['DepDelay', 'FlightNum']]\n",
    "\n",
    "#getting the most delayed flight info\n",
    "flightNumber = separatedDf.iloc[0,1]\n",
    "minutesDelay = separatedDf.iloc[0,0]\n",
    "\n",
    "print(f\"O vôo com maior atraso na saída foi o de número {flightNumber}, com {minutesDelay} minutos\")"
   ]
  }
 ],
 "metadata": {
  "kernelspec": {
   "display_name": "Python 3 (ipykernel)",
   "language": "python",
   "name": "python3"
  },
  "language_info": {
   "codemirror_mode": {
    "name": "ipython",
    "version": 3
   },
   "file_extension": ".py",
   "mimetype": "text/x-python",
   "name": "python",
   "nbconvert_exporter": "python",
   "pygments_lexer": "ipython3",
   "version": "3.10.6"
  }
 },
 "nbformat": 4,
 "nbformat_minor": 5
}
