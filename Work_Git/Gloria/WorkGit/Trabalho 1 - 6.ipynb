{
 "cells": [
  {
   "cell_type": "markdown",
   "id": "d28e039a-294a-426a-8dbe-90e60ed35de0",
   "metadata": {},
   "source": [
    "6. Calcular o tempo de atraso total para a companhia `Delta Air Lines`"
   ]
  },
  {
   "cell_type": "code",
   "execution_count": 6,
   "id": "c7432c32-6d9c-403b-8bd0-5bba05a4c304",
   "metadata": {},
   "outputs": [],
   "source": [
    "import pandas as pd\n",
    "\n",
    "#reading csv file\n",
    "df = pd.read_csv('2006-sample.csv')\n",
    "\n",
    "#filtering the column that have the DL code\n",
    "filteredCodes = df[df['UniqueCarrier'] == 'DL']\n",
    "\n",
    "#removing NaN values\n",
    "filteredDepCodes = filteredCodes.dropna(subset = ['DepDelay'])\n",
    "filteredArrCodes = filteredCodes.dropna(subset = ['ArrDelay'])\n",
    "\n",
    "#removing early flights\n",
    "filteredDep = filteredDepCodes[filteredDepCodes['DepDelay'] > 0]\n",
    "filteredArr = filteredArrCodes[filteredArrCodes['ArrDelay'] > 0]\n",
    "\n",
    "#copying the columns into a new dataframe\n",
    "dfDep = filteredDep[['DepDelay']].copy()\n",
    "dfArr = filteredArr[['ArrDelay']].copy()\n",
    "\n",
    "#renaming the dataframe columns\n",
    "dfDep = dfDep.rename(columns={'DepDelay': 'Delay'})\n",
    "dfArr = dfArr.rename(columns={'ArrDelay': 'Delay'})\n",
    "\n",
    "#combining both DataFrames into one datarame with a single column\n",
    "dfCombined = pd.concat([dfDep, dfArr], axis=0, ignore_index=True)\n",
    "\n",
    "#saving the column into csv format, so it is possible to run the paste -sd+ infile.csv | bc command\n",
    "dfCombined.to_csv('infile.csv', index=False, header=False)"
   ]
  },
  {
   "cell_type": "markdown",
   "id": "29523c11-4ef8-4ff6-bb0c-91d9661fdd32",
   "metadata": {},
   "source": [
    "##### Comando para efetuar a soma dos atrasos:"
   ]
  },
  {
   "cell_type": "code",
   "execution_count": 4,
   "id": "14ae019b-6239-41ca-bfd6-9774c1d18e7e",
   "metadata": {},
   "outputs": [
    {
     "name": "stdout",
     "output_type": "stream",
     "text": [
      "116185.0\n"
     ]
    }
   ],
   "source": [
    "!paste -sd+ infile.csv | bc\n"
   ]
  }
 ],
 "metadata": {
  "kernelspec": {
   "display_name": "Python 3 (ipykernel)",
   "language": "python",
   "name": "python3"
  },
  "language_info": {
   "codemirror_mode": {
    "name": "ipython",
    "version": 3
   },
   "file_extension": ".py",
   "mimetype": "text/x-python",
   "name": "python",
   "nbconvert_exporter": "python",
   "pygments_lexer": "ipython3",
   "version": "3.10.6"
  }
 },
 "nbformat": 4,
 "nbformat_minor": 5
}
