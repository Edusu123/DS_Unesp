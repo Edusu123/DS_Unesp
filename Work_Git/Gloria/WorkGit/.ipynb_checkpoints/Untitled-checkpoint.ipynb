{
 "cells": [
  {
   "cell_type": "markdown",
   "id": "396d8a86-5d4d-4fe1-9ffc-08aa7e3b4941",
   "metadata": {},
   "source": [
    "1. Descobrir a quantiade de atrasos de uma dada companhia passada como parâmetro. \n",
    "\n",
    "1. Descobrir o vôo com maior atraso na chegada (`ArrDelay`) registrado.\n",
    "\n",
    "1. Descobrir o vôo com maior atraso na saída (`DepDelay`) registrado.\n",
    "\n",
    "1. Descobrir o vôo mais longo.\n",
    "\n",
    "1. Contar quantos vôos precisaram ser redirecionados (`Diverted`).\n",
    "\n",
    "1. Utilizando a dica [nessa resposta](https://stackoverflow.com/a/3096575), calcular o tempo de atraso total para a companhia `Delta Air Lines`. Não esquecer de filtrar linhas com dados faltando e também com valores negativos (casos em que os vôos são adiantados) \n",
    "\n",
    "1. Mostrar o tempo total de atrasos para a decolagem de vôos no aeroporto `JFK`, de Nova Iorque.\n"
   ]
  },
  {
   "cell_type": "code",
   "execution_count": 7,
   "id": "e713b3e4-f032-4a8d-8fab-e24ab0d61e3c",
   "metadata": {},
   "outputs": [
    {
     "name": "stdout",
     "output_type": "stream",
     "text": [
      "UniqueCarrier\n",
      "WN    1099321\n",
      "AA     643597\n",
      "MQ     550088\n",
      "OO     548109\n",
      "DL     506086\n",
      "US     504844\n",
      "UA     500008\n",
      "XE     441470\n",
      "NW     432880\n",
      "CO     309389\n",
      "YV     304764\n",
      "OH     278099\n",
      "EV     273143\n",
      "FL     237645\n",
      "AS     159404\n",
      "B6     155732\n",
      "F9      90181\n",
      "HA      52173\n",
      "AQ      35387\n",
      "TZ      19602\n",
      "Name: count, dtype: int64\n"
     ]
    }
   ],
   "source": [
    "import pandas as pd\n",
    "\n",
    "# Carregar o arquivo CSV\n",
    "df = pd.read_csv('2006.csv')\n",
    "\n",
    "# Verificar o número total de linhas\n",
    "total_linhas = df.shape[0]\n",
    "print(f\"Total de linhas no DataFrame: {total_linhas}\")\n",
    "\n",
    "# Contar as ocorrências na coluna 'UniqueCarrier'\n",
    "value_counts = df['UniqueCarrier'].value_counts()\n",
    "print(value_counts)\n",
    "\n",
    "# Verificar valores únicos e contagem de valores nulos\n",
    "unique_values = df['UniqueCarrier'].value_counts(dropna=False)\n",
    "print(unique_values)\n",
    "\n",
    "# Verificar se há valores ausentes\n",
    "missing_values = df['UniqueCarrier'].isnull().sum()\n",
    "print(f\"Total de valores ausentes na coluna 'UniqueCarrier': {missing_values}\")\n"
   ]
  },
  {
   "cell_type": "code",
   "execution_count": 10,
   "id": "853389b4-01c8-41fc-8bb9-b742718d0bf2",
   "metadata": {},
   "outputs": [
    {
     "name": "stdout",
     "output_type": "stream",
     "text": [
      "   Year  Month  DayofMonth  DayOfWeek  DepTime  CRSDepTime  ArrTime  \\\n",
      "0  2006      1          11          3    743.0         745   1024.0   \n",
      "1  2006      1          11          3   1053.0        1053   1313.0   \n",
      "2  2006      1          11          3   1915.0        1915   2110.0   \n",
      "3  2006      1          11          3   1753.0        1755   1925.0   \n",
      "4  2006      1          11          3    824.0         832   1015.0   \n",
      "\n",
      "   CRSArrTime UniqueCarrier  FlightNum  ... TaxiIn  TaxiOut  Cancelled  \\\n",
      "0        1018            US        343  ...     45       13          0   \n",
      "1        1318            US        613  ...     27       19          0   \n",
      "2        2133            US        617  ...      4       11          0   \n",
      "3        1933            US        300  ...     16       10          0   \n",
      "4        1015            US        765  ...     27       12          0   \n",
      "\n",
      "   CancellationCode  Diverted  CarrierDelay WeatherDelay NASDelay  \\\n",
      "0               NaN         0             0            0        0   \n",
      "1               NaN         0             0            0        0   \n",
      "2               NaN         0             0            0        0   \n",
      "3               NaN         0             0            0        0   \n",
      "4               NaN         0             0            0        0   \n",
      "\n",
      "   SecurityDelay  LateAircraftDelay  \n",
      "0              0                  0  \n",
      "1              0                  0  \n",
      "2              0                  0  \n",
      "3              0                  0  \n",
      "4              0                  0  \n",
      "\n",
      "[5 rows x 29 columns]\n"
     ]
    }
   ],
   "source": []
  },
  {
   "cell_type": "code",
   "execution_count": null,
   "id": "9120c984-9665-4769-b819-77b6807af2fe",
   "metadata": {},
   "outputs": [],
   "source": []
  }
 ],
 "metadata": {
  "kernelspec": {
   "display_name": "Python 3 (ipykernel)",
   "language": "python",
   "name": "python3"
  },
  "language_info": {
   "codemirror_mode": {
    "name": "ipython",
    "version": 3
   },
   "file_extension": ".py",
   "mimetype": "text/x-python",
   "name": "python",
   "nbconvert_exporter": "python",
   "pygments_lexer": "ipython3",
   "version": "3.10.6"
  }
 },
 "nbformat": 4,
 "nbformat_minor": 5
}
