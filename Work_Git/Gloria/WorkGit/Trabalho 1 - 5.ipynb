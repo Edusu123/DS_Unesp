{
 "cells": [
  {
   "cell_type": "markdown",
   "id": "42d41bab-9cd5-46c4-ba7b-eccd1c09e704",
   "metadata": {},
   "source": [
    "5. Contar quantos vôos precisaram ser redirecionados (`Diverted`)."
   ]
  },
  {
   "cell_type": "code",
   "execution_count": 5,
   "id": "ede8b85a-8287-4c52-b576-5f7a1b7db5b3",
   "metadata": {},
   "outputs": [
    {
     "name": "stdout",
     "output_type": "stream",
     "text": [
      "133 voos precisaram ser redirecionados\n"
     ]
    }
   ],
   "source": [
    "import pandas as pd\n",
    "\n",
    "#opening csv file\n",
    "df = pd.read_csv('2006-sample.csv')\n",
    "\n",
    "#removing NaN values from the column\n",
    "df = df.dropna(subset=['Diverted'])\n",
    "\n",
    "#counts diverted flights\n",
    "divertedCount = df['Diverted'].sum()\n",
    "\n",
    "print(f\"{divertedCount} voos precisaram ser redirecionados\")"
   ]
  }
 ],
 "metadata": {
  "kernelspec": {
   "display_name": "Python 3 (ipykernel)",
   "language": "python",
   "name": "python3"
  },
  "language_info": {
   "codemirror_mode": {
    "name": "ipython",
    "version": 3
   },
   "file_extension": ".py",
   "mimetype": "text/x-python",
   "name": "python",
   "nbconvert_exporter": "python",
   "pygments_lexer": "ipython3",
   "version": "3.10.6"
  }
 },
 "nbformat": 4,
 "nbformat_minor": 5
}
