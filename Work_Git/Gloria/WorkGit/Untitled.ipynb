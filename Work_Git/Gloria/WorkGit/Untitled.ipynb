{
 "cells": [
  {
   "cell_type": "markdown",
   "id": "396d8a86-5d4d-4fe1-9ffc-08aa7e3b4941",
   "metadata": {},
   "source": [
    "1. Descobrir a quantiade de atrasos de uma dada companhia passada como parâmetro. "
   ]
  },
  {
   "cell_type": "code",
   "execution_count": 1,
   "id": "e713b3e4-f032-4a8d-8fab-e24ab0d61e3c",
   "metadata": {},
   "outputs": [],
   "source": [
    "import pandas as pd\n",
    "\n",
    "# opening csv file\n",
    "df = pd.read_csv('2006.csv')"
   ]
  },
  {
   "cell_type": "code",
   "execution_count": null,
   "id": "853389b4-01c8-41fc-8bb9-b742718d0bf2",
   "metadata": {},
   "outputs": [
    {
     "name": "stdout",
     "output_type": "stream",
     "text": [
      "Códigos das companhias aéreas: WN, AA, MQ, OO, US, UA, DL, XE, NW, YV, CO, OH, EV, FL, AS, B6, F9, HA, AQ, TZ\n"
     ]
    }
   ],
   "source": [
    "# gathering all unique carrier codes\n",
    "valueCarrierCounts = df['UniqueCarrier'].value_counts()\n",
    "\n",
    "# obtains the valueCarrierCounts index \n",
    "indexList = valueCarrierCounts.index.tolist()\n",
    "\n",
    "# converts the index to a string\n",
    "indexString = \", \".join(indexList)\n",
    "\n",
    "# filtered dataframe with delays in at least one column \n",
    "dfDelay = df[(df['ArrDelay'] > 0) | (df['DepDelay'] > 0)]\n",
    "\n",
    "# prints the message with carrier list\n",
    "print(f\"Códigos das companhias aéreas: {indexString}\")\n",
    "\n",
    "# reads user input\n",
    "inputIndex = input(\"Digite o código da companhia aérea para descobrir sua quantidade de atrasos: \")\n",
    "\n",
    "# number of delays of each carrier\n",
    "carrierValues = dfDelay['UniqueCarrier'].value_counts()\n",
    "\n",
    "# checks input value and returns the result\n",
    "carrierDelays = carrierValues.get(inputIndex, \"Companhia não encontrada\")\n",
    "\n",
    "print(f\"Número de atrasos da companhia {inputIndex}: {carrierDelays}\")\n"
   ]
  },
  {
   "cell_type": "code",
   "execution_count": 9,
   "id": "0a44bcab-04b6-448f-8d2c-5f40aa03c8e4",
   "metadata": {},
   "outputs": [
    {
     "name": "stdout",
     "output_type": "stream",
     "text": [
      "UniqueCarrier\n",
      "WN    594299\n",
      "AA    338346\n",
      "US    292881\n",
      "MQ    283528\n",
      "OO    282767\n",
      "UA    267785\n",
      "DL    255411\n",
      "NW    240192\n",
      "XE    224958\n",
      "CO    166454\n",
      "EV    165639\n",
      "YV    139840\n",
      "OH    135967\n",
      "FL    127040\n",
      "B6     89783\n",
      "AS     89361\n",
      "F9     50402\n",
      "HA     14395\n",
      "AQ     11670\n",
      "TZ     11414\n",
      "Name: count, dtype: int64\n"
     ]
    }
   ],
   "source": [
    "print(carrierValues)"
   ]
  },
  {
   "cell_type": "code",
   "execution_count": null,
   "id": "26d176cd-a434-47dd-8df2-8553d9102e18",
   "metadata": {},
   "outputs": [],
   "source": []
  }
 ],
 "metadata": {
  "kernelspec": {
   "display_name": "Python 3 (ipykernel)",
   "language": "python",
   "name": "python3"
  },
  "language_info": {
   "codemirror_mode": {
    "name": "ipython",
    "version": 3
   },
   "file_extension": ".py",
   "mimetype": "text/x-python",
   "name": "python",
   "nbconvert_exporter": "python",
   "pygments_lexer": "ipython3",
   "version": "3.10.6"
  }
 },
 "nbformat": 4,
 "nbformat_minor": 5
}
