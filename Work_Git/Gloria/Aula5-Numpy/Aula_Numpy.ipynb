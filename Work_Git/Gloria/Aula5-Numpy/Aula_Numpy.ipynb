{
 "cells": [
  {
   "cell_type": "code",
   "execution_count": 5,
   "id": "7296c7b2-ae70-4f53-a27f-884481f95502",
   "metadata": {},
   "outputs": [
    {
     "name": "stdout",
     "output_type": "stream",
     "text": [
      "[0, 1, 4, 9, 16]\n",
      "[0, 1, 8, 27, 64]\n",
      "[0, 2, 12, 36, 80]\n"
     ]
    }
   ],
   "source": [
    "a = [2, 4, 6, 8, 10]\n",
    "b = [1, 1, 1, 1, 1]\n",
    "c = []\n",
    "\n",
    "for i in range (len(a)):\n",
    "    a[i] = i**2\n",
    "    b[i] = i**3\n",
    "    c.append(a[i]+b[i])\n",
    "\n",
    "print(a)\n",
    "print(b)\n",
    "print(c)"
   ]
  },
  {
   "cell_type": "code",
   "execution_count": 2,
   "id": "f0aa7abd-9504-41c8-98bc-22f36b7f0f42",
   "metadata": {},
   "outputs": [
    {
     "name": "stdout",
     "output_type": "stream",
     "text": [
      "[0, 2, 12, 36, 80]\n"
     ]
    }
   ],
   "source": [
    "#list comprehension\n",
    "a = [i ** 2 for i in range (len(a))]\n",
    "b = [i ** 3 for i in range (len(b))]\n",
    "c = [a[i]+b[i] for i in range (len(a))]\n",
    "print(c)"
   ]
  },
  {
   "cell_type": "code",
   "execution_count": 3,
   "id": "4b9e6a2c-109f-44b9-bbb6-0d17f7f4013b",
   "metadata": {},
   "outputs": [
    {
     "name": "stdout",
     "output_type": "stream",
     "text": [
      "[0, 2, 12, 36, 80]\n"
     ]
    }
   ],
   "source": [
    "c = [i**2 + i**3 for i in range(len(a))]\n",
    "print(c)"
   ]
  },
  {
   "cell_type": "code",
   "execution_count": 9,
   "id": "a3d2295e-9de0-4438-a1e0-c0ba06f9a7d4",
   "metadata": {},
   "outputs": [
    {
     "name": "stdout",
     "output_type": "stream",
     "text": [
      "[0, 2, 12, 36, 80]\n"
     ]
    }
   ],
   "source": [
    "c = [a[i] + b[i] for i in range(len(a))]\n",
    "print(c)"
   ]
  },
  {
   "cell_type": "code",
   "execution_count": 11,
   "id": "4042beb8-c292-4370-9e51-2bb81dd0fc54",
   "metadata": {},
   "outputs": [
    {
     "name": "stdout",
     "output_type": "stream",
     "text": [
      "['Jetta', 'Motor 4.0', 2003, ['Rodas de liga', 'Travas elétricas', 'Piloto automático']]\n"
     ]
    }
   ],
   "source": [
    "Acessorios = ['Rodas de liga', 'Travas elétricas', 'Piloto automático']\n",
    "\n",
    "carro1 = ['Jetta', 'Motor 4.0', 2003,Acessorios]\n",
    "carro2 = ['Passat', 'Motor Diesel', 1991]\n",
    "\n",
    "print(carro1)"
   ]
  },
  {
   "cell_type": "code",
   "execution_count": 15,
   "id": "29e809f7-0455-441e-8afc-c4b6e37181ba",
   "metadata": {},
   "outputs": [
    {
     "name": "stdout",
     "output_type": "stream",
     "text": [
      "[['Jetta', 'Motor 4.0', 2003, ['Rodas de liga', 'Travas elétricas', 'Piloto automático']], ['Passat', 'Motor Diesel', 1991]]\n"
     ]
    }
   ],
   "source": [
    "Carros = [carro1, carro2]\n",
    "\n",
    "print(Carros)"
   ]
  },
  {
   "cell_type": "code",
   "execution_count": 21,
   "id": "c14eb685-969a-4596-aa64-e57ee18822d9",
   "metadata": {},
   "outputs": [
    {
     "data": {
      "text/plain": [
       "True"
      ]
     },
     "execution_count": 21,
     "metadata": {},
     "output_type": "execute_result"
    }
   ],
   "source": [
    "'Piloto automático' in Acessorios\n"
   ]
  },
  {
   "cell_type": "code",
   "execution_count": 23,
   "id": "4fe98fdc-cd83-407a-9ba2-cf7d26d27d0b",
   "metadata": {},
   "outputs": [
    {
     "data": {
      "text/plain": [
       "False"
      ]
     },
     "execution_count": 23,
     "metadata": {},
     "output_type": "execute_result"
    }
   ],
   "source": [
    "'Rodas de liga' not in Acessorios"
   ]
  },
  {
   "cell_type": "code",
   "execution_count": 47,
   "id": "ec8a41a1-7528-4e24-884c-535d553b5b5e",
   "metadata": {},
   "outputs": [
    {
     "name": "stdout",
     "output_type": "stream",
     "text": [
      "['Jetta', 'Motor 4.0', 2003, ['Rodas de liga', 'Travas elétricas', 'Piloto automático'], 'Passat', 'Motor Diesel', 1991]\n"
     ]
    }
   ],
   "source": [
    "carro3 = carro1 + carro2\n",
    "\n",
    "print(carro3)\n",
    "#soma as listas numa só"
   ]
  },
  {
   "cell_type": "code",
   "execution_count": 49,
   "id": "aaab52d1-003a-44f7-80bf-dcde0ccfebfc",
   "metadata": {},
   "outputs": [
    {
     "data": {
      "text/plain": [
       "'Travas elétricas'"
      ]
     },
     "execution_count": 49,
     "metadata": {},
     "output_type": "execute_result"
    }
   ],
   "source": [
    "Acessorios[-2]\n",
    "#pega de baixo p cima"
   ]
  },
  {
   "cell_type": "code",
   "execution_count": 51,
   "id": "d6727905-ce50-4e01-86de-962eab07b207",
   "metadata": {},
   "outputs": [
    {
     "data": {
      "text/plain": [
       "'Travas elétricas'"
      ]
     },
     "execution_count": 51,
     "metadata": {},
     "output_type": "execute_result"
    }
   ],
   "source": [
    "Carros[0][-1][1]\n",
    "#primeiro carro, lista, item da lista"
   ]
  },
  {
   "cell_type": "code",
   "execution_count": 53,
   "id": "3ef600ce-c75e-45f0-b82b-bc1d70f25cc1",
   "metadata": {},
   "outputs": [
    {
     "data": {
      "text/plain": [
       "['Travas elétricas']"
      ]
     },
     "execution_count": 53,
     "metadata": {},
     "output_type": "execute_result"
    }
   ],
   "source": [
    "Acessorios[1:2]\n",
    "#pega o primeiro e exclui o ultimo"
   ]
  },
  {
   "cell_type": "code",
   "execution_count": 58,
   "id": "7089d2f1-e642-4395-af36-15dfcf31b331",
   "metadata": {},
   "outputs": [
    {
     "data": {
      "text/plain": [
       "['Travas elétricas', 'Piloto automático']"
      ]
     },
     "execution_count": 58,
     "metadata": {},
     "output_type": "execute_result"
    }
   ],
   "source": [
    "Acessorios[1:]\n",
    "#todos do segundo pra frente"
   ]
  },
  {
   "cell_type": "code",
   "execution_count": 60,
   "id": "c9e7fb1d-a06e-43db-a227-cd43cda9127b",
   "metadata": {},
   "outputs": [
    {
     "name": "stdout",
     "output_type": "stream",
     "text": [
      "['Piloto automático', 'Rodas de liga', 'Travas elétricas']\n"
     ]
    }
   ],
   "source": [
    "#ordenar lista\n",
    "Acessorios.sort()\n",
    "print(Acessorios)"
   ]
  },
  {
   "cell_type": "code",
   "execution_count": 64,
   "id": "c1e75a3f-ed05-4051-b4e3-ccbc771addce",
   "metadata": {},
   "outputs": [
    {
     "name": "stdout",
     "output_type": "stream",
     "text": [
      "['Piloto automático', 'Rodas de liga', 'Travas elétricas', 'Banana', 'Banana']\n"
     ]
    }
   ],
   "source": [
    "Acessorios.append('Banana')\n",
    "print(Acessorios)"
   ]
  },
  {
   "cell_type": "code",
   "execution_count": 72,
   "id": "e290f261-1d63-4697-a5a3-768248fbc24b",
   "metadata": {},
   "outputs": [
    {
     "data": {
      "text/plain": [
       "'Travas elétricas'"
      ]
     },
     "execution_count": 72,
     "metadata": {},
     "output_type": "execute_result"
    }
   ],
   "source": [
    "Acessorios.pop()\n",
    "#remove elemento do numero do parametro"
   ]
  },
  {
   "cell_type": "code",
   "execution_count": 76,
   "id": "930f5332-80b3-49ee-8178-26eb45cf12ac",
   "metadata": {},
   "outputs": [],
   "source": [
    "Acessorios.append('Banana')\n",
    "\n",
    "Acessorios.append('Ar condicionado')\n"
   ]
  },
  {
   "cell_type": "code",
   "execution_count": 81,
   "id": "6802c2a8-c6b6-4e93-a351-081cafa38109",
   "metadata": {},
   "outputs": [],
   "source": [
    "Acessorios2 = Acessorios.copy()\n",
    "#forma correta de fazer uma copia\n",
    "#ou\n",
    "Acessorios2 = Acessorios[:] #vai receber tudo que Acessorios receber mesmo depois de copiado"
   ]
  },
  {
   "cell_type": "markdown",
   "id": "1631b3ad-4f69-46f4-b121-4dcfe905105e",
   "metadata": {},
   "source": [
    "#### Exercício 1"
   ]
  },
  {
   "cell_type": "code",
   "execution_count": 1,
   "id": "85e254e1-925d-42b0-a210-073b77c07a81",
   "metadata": {},
   "outputs": [
    {
     "data": {
      "text/plain": [
       "['Rodas de liga',\n",
       " 'Travas elétricas',\n",
       " 'Piloto automático',\n",
       " 'Bancos de couro',\n",
       " 'Ar condicionado']"
      ]
     },
     "execution_count": 1,
     "metadata": {},
     "output_type": "execute_result"
    }
   ],
   "source": [
    "Acessorios_ex1 = [\n",
    "    'Rodas de liga',\n",
    "    'Travas elétricas',\n",
    "    'Piloto automático',\n",
    "    'Bancos de couro',\n",
    "    'Ar condicionado'\n",
    "]\n",
    "\n",
    "Acessorios_ex1"
   ]
  },
  {
   "cell_type": "code",
   "execution_count": 3,
   "id": "892b2ecc-8064-4c0d-99eb-754ac97031ae",
   "metadata": {},
   "outputs": [
    {
     "data": {
      "text/plain": [
       "['Airbag',\n",
       " 'Ar condicionado',\n",
       " 'Bancos de couro',\n",
       " 'Piloto automático',\n",
       " 'Rodas de liga',\n",
       " 'Travas elétricas']"
      ]
     },
     "execution_count": 3,
     "metadata": {},
     "output_type": "execute_result"
    }
   ],
   "source": [
    "Acessorios_ex1.append('Airbag')\n",
    "Acessorios_ex1.append('Vidros elétricos')\n",
    "Acessorios_ex1.sort()\n",
    "Acessorios_ex1.pop()\n",
    "\n",
    "Acessorios_ex1"
   ]
  },
  {
   "cell_type": "code",
   "execution_count": 7,
   "id": "eb4d0c16-e1be-446c-9241-996f4a9f2780",
   "metadata": {},
   "outputs": [
    {
     "data": {
      "text/plain": [
       "[0, 1, 4, 9, 16, 0, 1, 8, 27, 64]"
      ]
     },
     "execution_count": 7,
     "metadata": {},
     "output_type": "execute_result"
    }
   ],
   "source": [
    "import numpy as np\n",
    "c = a+b\n",
    "c"
   ]
  },
  {
   "cell_type": "code",
   "execution_count": 9,
   "id": "62c367f8-4d06-4776-8647-7449b2105b7e",
   "metadata": {},
   "outputs": [
    {
     "data": {
      "text/plain": [
       "array([0, 1, 2, 3, 4, 5, 6, 7, 8, 9])"
      ]
     },
     "execution_count": 9,
     "metadata": {},
     "output_type": "execute_result"
    }
   ],
   "source": [
    "np.arange(10)\n"
   ]
  },
  {
   "cell_type": "code",
   "execution_count": null,
   "id": "710f476d-1abc-474f-a6db-10b0dbcc324a",
   "metadata": {},
   "outputs": [],
   "source": []
  }
 ],
 "metadata": {
  "kernelspec": {
   "display_name": "Python 3 (ipykernel)",
   "language": "python",
   "name": "python3"
  },
  "language_info": {
   "codemirror_mode": {
    "name": "ipython",
    "version": 3
   },
   "file_extension": ".py",
   "mimetype": "text/x-python",
   "name": "python",
   "nbconvert_exporter": "python",
   "pygments_lexer": "ipython3",
   "version": "3.12.4"
  }
 },
 "nbformat": 4,
 "nbformat_minor": 5
}
