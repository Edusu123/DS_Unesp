{
 "cells": [
  {
   "cell_type": "markdown",
   "metadata": {},
   "source": [
    "# Atividade Aula 3 - Feature 7"
   ]
  },
  {
   "cell_type": "markdown",
   "metadata": {},
   "source": [
    "### **Proposta:** Mostrar o tempo total de atrasos para a decolagem de vôos no aeroporto JFK, de Nova Iorque."
   ]
  },
  {
   "cell_type": "code",
   "execution_count": null,
   "metadata": {},
   "outputs": [],
   "source": [
    "!pip install pandas\n",
    "\n",
    "import pandas as pd\n",
    "\n",
    "df = pd.read_csv('C:\\\\Users\\\\guino\\\\OneDrive\\\\Documents\\\\Unesp\\\\6th Semestre\\\\DS\\\\datasets\\\\2006-sample.csv')\n",
    "\n",
    "df.head()"
   ]
  },
  {
   "cell_type": "code",
   "execution_count": 2,
   "metadata": {},
   "outputs": [
    {
     "name": "stdout",
     "output_type": "stream",
     "text": [
      "Year\n",
      "Month\n",
      "DayofMonth\n",
      "DayOfWeek\n",
      "DepTime\n",
      "CRSDepTime\n",
      "ArrTime\n",
      "CRSArrTime\n",
      "UniqueCarrier\n",
      "FlightNum\n",
      "TailNum\n",
      "ActualElapsedTime\n",
      "CRSElapsedTime\n",
      "AirTime\n",
      "ArrDelay\n",
      "DepDelay\n",
      "Origin\n",
      "Dest\n",
      "Distance\n",
      "TaxiIn\n",
      "TaxiOut\n",
      "Cancelled\n",
      "CancellationCode\n",
      "Diverted\n",
      "CarrierDelay\n",
      "WeatherDelay\n",
      "NASDelay\n",
      "SecurityDelay\n",
      "LateAircraftDelay\n"
     ]
    }
   ],
   "source": [
    "# Descobrindo quais são as colunas do dataframe\n",
    "colunas = list(df.columns)\n",
    "for coluna in colunas:\n",
    "    print(coluna)"
   ]
  },
  {
   "cell_type": "code",
   "execution_count": 5,
   "metadata": {},
   "outputs": [
    {
     "data": {
      "text/plain": [
       "np.float64(0.0)"
      ]
     },
     "execution_count": 5,
     "metadata": {},
     "output_type": "execute_result"
    }
   ],
   "source": [
    "df7 = df[df['UniqueCarrier'] == 'JFK']['DepDelay'].sum()\n",
    "\n",
    "df7"
   ]
  }
 ],
 "metadata": {
  "kernelspec": {
   "display_name": "Python 3",
   "language": "python",
   "name": "python3"
  },
  "language_info": {
   "codemirror_mode": {
    "name": "ipython",
    "version": 3
   },
   "file_extension": ".py",
   "mimetype": "text/x-python",
   "name": "python",
   "nbconvert_exporter": "python",
   "pygments_lexer": "ipython3",
   "version": "3.12.5"
  }
 },
 "nbformat": 4,
 "nbformat_minor": 2
}
