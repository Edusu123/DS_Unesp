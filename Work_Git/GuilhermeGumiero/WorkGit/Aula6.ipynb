{
 "cells": [
  {
   "cell_type": "markdown",
   "metadata": {},
   "source": [
    "# Atividade Aula6 - Numpy"
   ]
  },
  {
   "cell_type": "markdown",
   "metadata": {},
   "source": [
    "### Criando o dataset fictício"
   ]
  },
  {
   "cell_type": "code",
   "execution_count": null,
   "metadata": {},
   "outputs": [],
   "source": [
    "pip install pandas numpy"
   ]
  },
  {
   "cell_type": "code",
   "execution_count": 27,
   "metadata": {},
   "outputs": [],
   "source": [
    "import numpy as np\n",
    "import pandas as pd\n",
    "\n",
    "# Definindo uma semente para garantir que os dados sejam reprodutíveis\n",
    "np.random.seed(42)\n",
    "\n",
    "# Criando um dataset fictício de 30 linhas (30 funcionários) com as colunas ID, Idade, Salário, Anos de Experiência\n",
    "n = 30\n",
    "ids = np.arange(1, n + 1)  # IDs de 1 a 30\n",
    "idades = np.random.randint(20, 60, size=n)  # Idades entre 20 e 60 anos\n",
    "salarios = np.random.randint(40000, 100000, size=n)  # Salários entre 40.000 e 100.000\n",
    "anos_experiencia = np.random.randint(1, 35, size=n)  # Anos de experiência entre 1 e 35 anos\n",
    "\n",
    "# Combinando os dados em um array\n",
    "dataset = np.column_stack((ids, idades, salarios, anos_experiencia))\n",
    "\n",
    "# Convertendo para DataFrame para visualização\n",
    "df = pd.DataFrame(dataset, columns=['ID', 'Idade', 'Salário', 'Anos de Experiência'])\n",
    "\n",
    "# Exibindo o DataFrame\n",
    "# print(df)"
   ]
  },
  {
   "cell_type": "markdown",
   "metadata": {},
   "source": [
    "### Redimensionar o dataset (por exemplo, transformar 30 linhas em 10 linhas e 12 colunas)"
   ]
  },
  {
   "cell_type": "code",
   "execution_count": null,
   "metadata": {},
   "outputs": [],
   "source": [
    "# Redimensionando o dataset\n",
    "reshaped_dataset = dataset.reshape(10, 12)\n",
    "\n",
    "# Convertendo o Array para DataFrame\n",
    "df_reshaped = pd.DataFrame(reshaped_dataset)\n",
    "\n",
    "# Exibindo o DataFrame redimensionado\n",
    "print(df_reshaped)"
   ]
  },
  {
   "cell_type": "markdown",
   "metadata": {},
   "source": [
    "### Acessar o primeiro elemento (primeira linha) do dataset"
   ]
  },
  {
   "cell_type": "code",
   "execution_count": null,
   "metadata": {},
   "outputs": [],
   "source": [
    "# Acessando a primeira linha do DataFrame\n",
    "primeira_linha = df.iloc[0]\n",
    "\n",
    "print(primeira_linha)"
   ]
  },
  {
   "cell_type": "markdown",
   "metadata": {},
   "source": [
    "### Acessar o salário (terceira coluna) da terceira pessoa"
   ]
  },
  {
   "cell_type": "code",
   "execution_count": null,
   "metadata": {},
   "outputs": [],
   "source": [
    "# Acessando o salário da terceira pessoa\n",
    "salario_terceira_pessoa = df.iloc[2, 2]\n",
    "\n",
    "print(salario_terceira_pessoa)"
   ]
  },
  {
   "cell_type": "markdown",
   "metadata": {},
   "source": [
    "### Selecionar os salários de todos os funcionários"
   ]
  },
  {
   "cell_type": "code",
   "execution_count": null,
   "metadata": {},
   "outputs": [],
   "source": [
    "# Selecionando a coluna de salários\n",
    "salarios = df['Salário']\n",
    "\n",
    "print(salarios)"
   ]
  },
  {
   "cell_type": "markdown",
   "metadata": {},
   "source": [
    "### Concatenar o dataset com um array de bônus (por exemplo, uma nova coluna)"
   ]
  },
  {
   "cell_type": "code",
   "execution_count": null,
   "metadata": {},
   "outputs": [],
   "source": [
    "# Criando um array de bônus\n",
    "bonus = np.random.randint(5000, 20000, size=df.shape[0])\n",
    "\n",
    "# Adicionando a nova coluna ao DataFrame\n",
    "df['Bônus'] = bonus\n",
    "\n",
    "print(df)"
   ]
  },
  {
   "cell_type": "markdown",
   "metadata": {},
   "source": [
    "### Transpor o dataset"
   ]
  },
  {
   "cell_type": "code",
   "execution_count": null,
   "metadata": {},
   "outputs": [],
   "source": [
    "# Transpondo o DataFrame\n",
    "df_transposto = df.T\n",
    "\n",
    "print(df_transposto)"
   ]
  },
  {
   "cell_type": "markdown",
   "metadata": {},
   "source": [
    "### Calcular a soma dos salários"
   ]
  },
  {
   "cell_type": "code",
   "execution_count": null,
   "metadata": {},
   "outputs": [],
   "source": [
    "# Calculando a soma dos salários\n",
    "soma_salarios = df['Salário'].sum()\n",
    "\n",
    "print(soma_salarios)"
   ]
  },
  {
   "cell_type": "markdown",
   "metadata": {},
   "source": [
    "### Calcular a média dos anos de experiência"
   ]
  },
  {
   "cell_type": "code",
   "execution_count": null,
   "metadata": {},
   "outputs": [],
   "source": [
    "# Calculando a média dos anos de experiência\n",
    "media_anos_experiencia = df['Anos de Experiência'].mean()\n",
    "\n",
    "print(media_anos_experiencia)"
   ]
  },
  {
   "cell_type": "markdown",
   "metadata": {},
   "source": [
    "### Calcular o desvio padrão das idades"
   ]
  },
  {
   "cell_type": "code",
   "execution_count": null,
   "metadata": {},
   "outputs": [],
   "source": [
    "# Calculando o desvio padrão das idades\n",
    "desvio_padrao_idades = df['Idade'].std()\n",
    "\n",
    "print(desvio_padrao_idades)"
   ]
  },
  {
   "cell_type": "markdown",
   "metadata": {},
   "source": [
    "### Multiplicar o salário e os anos de experiência de cada funcionário"
   ]
  },
  {
   "cell_type": "code",
   "execution_count": null,
   "metadata": {},
   "outputs": [],
   "source": [
    "# Multiplicando o salário e os anos de experiência\n",
    "df['Salário x Experiência'] = df['Salário'] * df['Anos de Experiência']\n",
    "\n",
    "print(df)"
   ]
  },
  {
   "cell_type": "markdown",
   "metadata": {},
   "source": [
    "### Calcular o produto da matriz transposta do dataset com ela mesma"
   ]
  },
  {
   "cell_type": "code",
   "execution_count": null,
   "metadata": {},
   "outputs": [],
   "source": [
    "# Calculando a matriz transposta\n",
    "df_transposto = df.T\n",
    "\n",
    "# Calculando o produto da matriz transposta com ela mesma\n",
    "produto = df_transposto.dot(df)\n",
    "\n",
    "print(produto)"
   ]
  },
  {
   "cell_type": "markdown",
   "metadata": {},
   "source": [
    "### Filtrar funcionários com salários maiores que 60.000"
   ]
  },
  {
   "cell_type": "code",
   "execution_count": null,
   "metadata": {},
   "outputs": [],
   "source": [
    "# Filtrando funcionários com salários maiores que 60.000\n",
    "funcionarios_filtrados = df[df['Salário'] > 60000]\n",
    "\n",
    "print(funcionarios_filtrados)"
   ]
  },
  {
   "cell_type": "markdown",
   "metadata": {},
   "source": [
    "### Ordenar o dataset pelo salário"
   ]
  },
  {
   "cell_type": "code",
   "execution_count": null,
   "metadata": {},
   "outputs": [],
   "source": [
    "# Ordenando o DataFrame pelo salário\n",
    "df_ordenado = df.sort_values(by='Salário', ascending=False)\n",
    "\n",
    "print(df_ordenado)"
   ]
  },
  {
   "cell_type": "markdown",
   "metadata": {},
   "source": [
    "### Criar uma cópia do dataset"
   ]
  },
  {
   "cell_type": "code",
   "execution_count": null,
   "metadata": {},
   "outputs": [],
   "source": [
    "# Criando uma cópia do DataFrame\n",
    "df_copia = df.copy()\n",
    "\n",
    "print(df_copia)"
   ]
  }
 ],
 "metadata": {
  "kernelspec": {
   "display_name": "Python 3",
   "language": "python",
   "name": "python3"
  },
  "language_info": {
   "codemirror_mode": {
    "name": "ipython",
    "version": 3
   },
   "file_extension": ".py",
   "mimetype": "text/x-python",
   "name": "python",
   "nbconvert_exporter": "python",
   "pygments_lexer": "ipython3",
   "version": "3.12.5"
  }
 },
 "nbformat": 4,
 "nbformat_minor": 2
}
