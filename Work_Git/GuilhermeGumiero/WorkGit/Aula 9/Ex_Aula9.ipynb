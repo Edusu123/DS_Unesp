{
 "cells": [
  {
   "cell_type": "markdown",
   "metadata": {},
   "source": [
    "# Atividade Aula 9"
   ]
  },
  {
   "cell_type": "markdown",
   "metadata": {},
   "source": [
    "### Preparando o ambiente"
   ]
  },
  {
   "cell_type": "code",
   "execution_count": null,
   "metadata": {},
   "outputs": [],
   "source": [
    "!pip install pandas numpy seaborn matplotlib\n",
    "import pandas as pd\n",
    "import numpy as np\n",
    "import seaborn as sns\n",
    "import matplotlib.pyplot as plt\n",
    "\n",
    "df = pd.read_csv(\"C:\\\\Users\\\\guino\\\\OneDrive\\\\Documents\\\\Unesp\\\\datasets\\\\owid-energy-data.csv\")"
   ]
  },
  {
   "cell_type": "markdown",
   "metadata": {},
   "source": [
    "###  Limpando os dados"
   ]
  },
  {
   "cell_type": "code",
   "execution_count": 3,
   "metadata": {},
   "outputs": [],
   "source": [
    "# Substituir NaN por zeros no dataframe\n",
    "df = df.fillna(0)"
   ]
  },
  {
   "cell_type": "markdown",
   "metadata": {},
   "source": [
    "### 1. Identificar os países da América do Sul no dataset\n",
    "* Filtrar pelos países da américa do sul.\n",
    "* Exibir um resumo estatístico do dataframe."
   ]
  },
  {
   "cell_type": "code",
   "execution_count": null,
   "metadata": {},
   "outputs": [],
   "source": [
    "# Descobrindo quais são as colunas do dataframe\n",
    "colunas = list(df.columns)\n",
    "for coluna in colunas:\n",
    "    print(coluna)"
   ]
  },
  {
   "cell_type": "code",
   "execution_count": null,
   "metadata": {},
   "outputs": [],
   "source": [
    "# Filtrando apenas pelos países da américa latina\n",
    "latin_american_countries = [\n",
    "    \"Argentina\", \"Bolivia\", \"Brazil\", \"Chile\", \"Colombia\", \"Costa Rica\",\n",
    "    \"Cuba\", \"Ecuador\", \"El Salvador\", \"Guatemala\", \"Honduras\", \"Mexico\",\n",
    "    \"Nicaragua\", \"Panama\", \"Paraguay\", \"Peru\", \"Dominican Republic\",\n",
    "    \"Uruguay\", \"Venezuela\"\n",
    "]\n",
    "\n",
    "filtered_df = df[df['country'].isin(latin_american_countries)]\n",
    "\n",
    "filtered_df"
   ]
  },
  {
   "cell_type": "code",
   "execution_count": null,
   "metadata": {},
   "outputs": [],
   "source": [
    "# Esse dataframe terá só as colunas desejadas\n",
    "df_novo = filtered_df[\n",
    "    [\n",
    "        'country', 'year', 'fossil_electricity', 'gas_electricity', 'hydro_electricity',\n",
    "        'nuclear_electricity', 'oil_electricity', 'other_renewable_electricity',\n",
    "        'renewables_electricity', 'solar_electricity'\n",
    "    ]\n",
    "]\n",
    "\n",
    "df_novo\n"
   ]
  },
  {
   "cell_type": "code",
   "execution_count": null,
   "metadata": {},
   "outputs": [],
   "source": [
    "# Resumos dos dados do novo dataframe\n",
    "\n",
    "# Lista das colunas que queremos somar o consumo de energia\n",
    "electricity_columns = [\n",
    "    'fossil_electricity', 'gas_electricity', 'hydro_electricity',\n",
    "    'nuclear_electricity', 'oil_electricity', 'other_renewable_electricity',\n",
    "    'renewables_electricity', 'solar_electricity'\n",
    "]\n",
    "\n",
    "# Somar os valores das colunas de eletricidade e agrupar por país\n",
    "df_novo['total_electricity_consumption'] = df_novo[electricity_columns].sum(axis=1)\n",
    "\n",
    "# Calcular o total de energia gasta por país\n",
    "total_consumption_per_country = df_novo.groupby('country')['total_electricity_consumption'].sum().reset_index()\n",
    "\n",
    "# Ordenando o total consumido em ordem decrescente\n",
    "total_consumption_per_country = total_consumption_per_country.sort_values(by='total_electricity_consumption', ascending=False)\n",
    "\n",
    "# Exibir o resultado\n",
    "total_consumption_per_country\n"
   ]
  },
  {
   "cell_type": "markdown",
   "metadata": {},
   "source": [
    "### 2. Análise por Tipo de Energia\n",
    "* Criar um gráfico de linhas mostrando o consumo de energia ao longo dos anos para cada país da América do Sul.\n",
    "* Identificar os países com o maior e menor consumo total de energia ao longo dos anos."
   ]
  },
  {
   "cell_type": "code",
   "execution_count": null,
   "metadata": {},
   "outputs": [],
   "source": [
    "# Plotando o gráfico de linhas\n",
    "\n",
    "# Definir o ano inicial e o ano final\n",
    "ano_inicial = 2000\n",
    "ano_final = 2010\n",
    "\n",
    "# Filtrar o dataframe para o intervalo de anos especificado\n",
    "df_correto = df_novo[(df_novo['year'] >= ano_inicial) & (df_novo['year'] <= ano_final)]\n",
    "\n",
    "# Somar as colunas de eletricidade por ano e por país\n",
    "energy_columns = [\n",
    "    'fossil_electricity', 'gas_electricity', 'hydro_electricity',\n",
    "    'nuclear_electricity', 'oil_electricity', 'other_renewable_electricity',\n",
    "    'renewables_electricity', 'solar_electricity'\n",
    "]\n",
    "\n",
    "# Calcular a soma das colunas de eletricidade\n",
    "energy_by_year_country = df_correto.groupby(['year', 'country'])[energy_columns].sum().sum(axis=1).reset_index(name='Energy Consumption')\n",
    "\n",
    "# Plotar o gráfico com os dados agregados\n",
    "plt.figure(figsize=(12, 6))  # Definir o tamanho do gráfico\n",
    "sns.lineplot(data=energy_by_year_country, x='year', y='Energy Consumption', hue='country', marker='o')\n",
    "plt.title('Consumo Anual de Energia por País')\n",
    "plt.xlabel('Ano')\n",
    "plt.ylabel('Consumo de Energia')\n",
    "plt.legend(title='Países', bbox_to_anchor=(1.05, 1), loc='upper left')  # Posicionar a legenda fora do gráfico\n",
    "plt.grid(True)\n",
    "plt.tight_layout()  # Ajustar layout para evitar sobreposição\n",
    "plt.show()\n"
   ]
  },
  {
   "cell_type": "code",
   "execution_count": null,
   "metadata": {},
   "outputs": [],
   "source": [
    "# Descobrindo país que mais gastou e que menos gastou\n",
    "pais_mais_gasto = total_consumption_per_country.loc[total_consumption_per_country['total_electricity_consumption'].idxmax(), 'country']\n",
    "\n",
    "pais_menos_gasto = total_consumption_per_country.loc[total_consumption_per_country['total_electricity_consumption'].idxmin(), 'country']\n",
    "\n",
    "print(f\"País que mais gastou energia: {pais_mais_gasto}\")\n",
    "print(f\"País que menos gastou energia: {pais_menos_gasto}\")\n"
   ]
  },
  {
   "cell_type": "markdown",
   "metadata": {},
   "source": [
    "### 3. Comparação de Fontes de Energia Renováveis vs. Não Renováveis\n",
    "* Comparar o uso de fontes de energia renováveis (hidrelétrica, solar, eólica) com o uso de fontes não renováveis (fóssil, gás natural) para cada país da América do Sul.\n",
    "* Agrupar os dados por tipo de fonte de energia (renovável vs. não renovável).\n",
    "* Calcular a média e o desvio padrão do consumo de cada tipo de energia por país.\n",
    "* Criar um gráfico de barras que mostre a proporção de uso de energia renovável em comparação com a energia não renovável para cada país da América do Sul."
   ]
  },
  {
   "cell_type": "code",
   "execution_count": null,
   "metadata": {},
   "outputs": [],
   "source": [
    "# Vendo quanto foi gasto de cada fonte de energia (sustentável e não sustentável)\n",
    "\n",
    "# Definir as colunas de energias sustentáveis e não sustentáveis\n",
    "energia_sustentavel = [\n",
    "    'hydro_electricity', 'solar_electricity',\n",
    "    'other_renewable_electricity', 'renewables_electricity'\n",
    "]\n",
    "\n",
    "energia_nao_sustentavel = [\n",
    "    'fossil_electricity', 'gas_electricity', 'oil_electricity',\n",
    "    'nuclear_electricity'\n",
    "]\n",
    "\n",
    "# Calcular o total de energia sustentável e não sustentável\n",
    "total_sustentavel = df_novo[energia_sustentavel].sum().sum()\n",
    "total_nao_sustentavel = df_novo[energia_nao_sustentavel].sum().sum()\n",
    "\n",
    "# Criar uma tabela para exibir os resultados\n",
    "resultado = pd.DataFrame({\n",
    "    'Tipo de Energia': ['Sustentável', 'Não Sustentável'],\n",
    "    'Quantidade Gasta': [total_sustentavel, total_nao_sustentavel]\n",
    "})\n",
    "\n",
    "# Exibir a tabela\n",
    "print(resultado)\n"
   ]
  },
  {
   "cell_type": "code",
   "execution_count": null,
   "metadata": {},
   "outputs": [],
   "source": [
    "# Calculando média anual do uso de cada energia por país (exemplo só com o Brasil)\n",
    "\n",
    "# Filtrar o dataframe para incluir apenas o Brasil e anos a partir de 2000\n",
    "brasil_df = df_novo[(df_novo['country'] == 'Brazil') & (df_novo['year'] >= 2000)]\n",
    "\n",
    "# Calcular a média do uso de energia hidrelétrica a partir de 2000\n",
    "media_hidreletrica = brasil_df['hydro_electricity'].mean()\n",
    "\n",
    "# Exibir o resultado\n",
    "print(f\"Média do uso de energia hidrelétrica no Brasil a partir de 2000: {media_hidreletrica}\")\n",
    "\n"
   ]
  },
  {
   "cell_type": "code",
   "execution_count": null,
   "metadata": {},
   "outputs": [],
   "source": [
    "# Calculando desvio padrão anual do uso de cada energia por país (exemplo só com o Brasil)\n",
    "\n",
    "# Calcular o desvio padrão do uso de energia hidrelétrica a partir de 2000\n",
    "desvio_padrao_hidreletrica = brasil_df['hydro_electricity'].std()\n",
    "\n",
    "# Exibir o resultado\n",
    "print(f\"Desvio padrão do uso de energia hidrelétrica no Brasil a partir de 2000: {desvio_padrao_hidreletrica}\")\n"
   ]
  },
  {
   "cell_type": "code",
   "execution_count": null,
   "metadata": {},
   "outputs": [],
   "source": [
    "import matplotlib.pyplot as plt\n",
    "\n",
    "# Calcular o total anual de energia sustentável e não sustentável\n",
    "brasil_df['Sustentável'] = brasil_df[energia_sustentavel].sum(axis=1)\n",
    "brasil_df['Não Sustentável'] = brasil_df[energia_nao_sustentavel].sum(axis=1)\n",
    "\n",
    "# Agrupar por ano e calcular a soma total para cada tipo de energia\n",
    "uso_anual = brasil_df.groupby('year')[['Sustentável', 'Não Sustentável']].sum().reset_index()\n",
    "\n",
    "# Transformar para o formato adequado para o gráfico\n",
    "uso_anual_melted = uso_anual.melt('year', var_name='Tipo de Energia', value_name='Consumo')\n",
    "\n",
    "# Plotar o gráfico de barras\n",
    "sns.barplot(data=uso_anual_melted, x='year', y='Consumo', hue='Tipo de Energia')\n",
    "\n",
    "# Rotacionar os rótulos do eixo X para evitar sobreposição\n",
    "plt.xticks(rotation=45)\n",
    "\n",
    "# Mostrar o gráfico\n",
    "plt.show()\n"
   ]
  },
  {
   "cell_type": "markdown",
   "metadata": {},
   "source": [
    "### 4. Análise Temporal e Tendências\n",
    "* Analisar o crescimento do consumo de energia e seus tipos no intervalo de 1960 (quando se teve mais dados) até 2020.\n",
    "* "
   ]
  },
  {
   "cell_type": "code",
   "execution_count": 19,
   "metadata": {},
   "outputs": [
    {
     "data": {
      "image/png": "[encoded data removed]",
      "text/plain": [
       "<Figure size 640x480 with 1 Axes>"
      ]
     },
     "metadata": {},
     "output_type": "display_data"
    }
   ],
   "source": [
    "import seaborn as sns\n",
    "import matplotlib.pyplot as plt\n",
    "\n",
    "# Filtrar os dados para incluir apenas os países da América Latina\n",
    "df_latam = df_novo[df_novo['country'].isin(latin_american_countries)]\n",
    "\n",
    "# Filtrar o intervalo de anos entre 1960 e 2020\n",
    "df_latam = df_latam[(df_latam['year'] >= 1960) & (df_latam['year'] <= 2020)]\n",
    "\n",
    "# Calcular o consumo total de energia sustentável e não sustentável por ano\n",
    "df_latam['Sustentável'] = df_latam[energia_sustentavel].sum(axis=1)\n",
    "df_latam['Não Sustentável'] = df_latam[energia_nao_sustentavel].sum(axis=1)\n",
    "\n",
    "# Agrupar por ano e calcular o total anual de energia para cada tipo\n",
    "uso_anual = df_latam.groupby('year')[['Sustentável', 'Não Sustentável']].sum().reset_index()\n",
    "\n",
    "# Converter para o formato longo para facilitar a plotagem com seaborn\n",
    "uso_anual_melted = uso_anual.melt('year', var_name='Tipo de Energia', value_name='Consumo')\n",
    "\n",
    "# Plotar o gráfico de linhas para mostrar a tendência\n",
    "sns.lineplot(data=uso_anual_melted, x='year', y='Consumo', hue='Tipo de Energia', marker='o')\n",
    "plt.title('Tendência do Consumo de Energia na América Latina (1960-2020)')\n",
    "plt.xlabel('Ano')\n",
    "plt.ylabel('Consumo Total de Energia')\n",
    "plt.xticks(rotation=45)\n",
    "plt.legend(title='Tipo de Energia')\n",
    "plt.show()\n"
   ]
  },
  {
   "cell_type": "markdown",
   "metadata": {},
   "source": [
    "### 3. Gráficos e Visualizações\n",
    "* Identificar e visualizar países que possuem valores extremos no consumo de energia (outliers)."
   ]
  },
  {
   "cell_type": "code",
   "execution_count": 21,
   "metadata": {},
   "outputs": [
    {
     "name": "stdout",
     "output_type": "stream",
     "text": [
      "Países com consumo de energia considerado outlier:\n",
      "country\n",
      "Brazil    31615.667\n",
      "Mexico    17075.771\n",
      "Name: Total_Energy, dtype: float64\n"
     ]
    }
   ],
   "source": [
    "# Filtrar e calcular o consumo total de energia para países da América Latina\n",
    "outliers = (\n",
    "    df_novo[df_novo['country'].isin(latin_american_countries)]\n",
    "    .assign(Total_Energy=lambda x: x[energy_columns].sum(axis=1))\n",
    "    .groupby('country')['Total_Energy']\n",
    "    .sum()\n",
    ")\n",
    "\n",
    "# Calcular o IQR e limites para detectar outliers\n",
    "Q1 = outliers.quantile(0.25)\n",
    "Q3 = outliers.quantile(0.75)\n",
    "IQR = Q3 - Q1\n",
    "\n",
    "# Filtrar os outliers\n",
    "outliers = outliers[(outliers < Q1 - 1.5 * IQR) | (outliers > Q3 + 1.5 * IQR)]\n",
    "\n",
    "# Exibir os outliers\n",
    "print(\"Países com consumo de energia considerado outlier:\")\n",
    "print(outliers)\n",
    "\n"
   ]
  },
  {
   "cell_type": "markdown",
   "metadata": {},
   "source": [
    "# Conclusão da análise\n",
    "\n",
    "Ao fim de toda essa análise podemos concluir que na América Latina o consumo de energia é majoritariamente proveniente de fontes sustentáveis. O crescimento do consumo de energia é presente tanto para as sustentáveis quanto para as não sustentáveis, e isso também está ligado ao crescimento das cidades com o passar dos anos. A análise poderia ter sido feita com mais precisão se o dataset contivesse mais informações não nulas, mas isso também se deve ao fato de não terem sido feitas coletas de dados em certos períodos para certos países, ou seja, só podemos ter uma dimensão real do cenário geral em períodos específicos (em que a quantidade e a qualidade dos dados sejam favoráveis)."
   ]
  }
 ],
 "metadata": {
  "kernelspec": {
   "display_name": "Python 3",
   "language": "python",
   "name": "python3"
  },
  "language_info": {
   "codemirror_mode": {
    "name": "ipython",
    "version": 3
   },
   "file_extension": ".py",
   "mimetype": "text/x-python",
   "name": "python",
   "nbconvert_exporter": "python",
   "pygments_lexer": "ipython3",
   "version": "3.12.5"
  }
 },
 "nbformat": 4,
 "nbformat_minor": 2
}
