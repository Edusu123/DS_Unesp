{
 "cells": [
  {
   "cell_type": "markdown",
   "metadata": {},
   "source": [
    "# Atividade Aula 9"
   ]
  },
  {
   "cell_type": "markdown",
   "metadata": {},
   "source": [
    "### Preparando o ambiente"
   ]
  },
  {
   "cell_type": "code",
   "execution_count": null,
   "metadata": {},
   "outputs": [],
   "source": [
    "!pip install pandas numpy seaborn matplotlib\n",
    "import pandas as pd\n",
    "import numpy as np\n",
    "import seaborn as sns\n",
    "import matplotlib.pyplot as plt\n",
    "\n",
    "df = pd.read_csv(\"C:\\\\Users\\\\guino\\\\OneDrive\\\\Documents\\\\Unesp\\\\datasets\\\\owid-energy-data.csv\")"
   ]
  },
  {
   "cell_type": "markdown",
   "metadata": {},
   "source": [
    "###  Limpando os dados"
   ]
  },
  {
   "cell_type": "code",
   "execution_count": 2,
   "metadata": {},
   "outputs": [],
   "source": [
    "# Substituir NaN por zeros no dataframe\n",
    "df = df.fillna(0)"
   ]
  },
  {
   "cell_type": "markdown",
   "metadata": {},
   "source": [
    "### 1. Identificar os países da América do Sul no dataset\n",
    "* Filtrar pelos países da américa do sul.\n",
    "* Exibir um resumo estatístico do dataframe."
   ]
  },
  {
   "cell_type": "code",
   "execution_count": null,
   "metadata": {},
   "outputs": [],
   "source": [
    "# Descobrindo quais são as colunas do dataframe\n",
    "colunas = list(df.columns)\n",
    "for coluna in colunas:\n",
    "    print(coluna)"
   ]
  },
  {
   "cell_type": "code",
   "execution_count": null,
   "metadata": {},
   "outputs": [],
   "source": [
    "# Filtrando apenas pelos países da américa latina\n",
    "latin_american_countries = [\n",
    "    \"Argentina\", \"Bolivia\", \"Brazil\", \"Chile\", \"Colombia\", \"Costa Rica\",\n",
    "    \"Cuba\", \"Ecuador\", \"El Salvador\", \"Guatemala\", \"Honduras\", \"Mexico\",\n",
    "    \"Nicaragua\", \"Panama\", \"Paraguay\", \"Peru\", \"Dominican Republic\",\n",
    "    \"Uruguay\", \"Venezuela\"\n",
    "]\n",
    "\n",
    "filtered_df = df[df['country'].isin(latin_american_countries)]\n",
    "\n",
    "filtered_df"
   ]
  },
  {
   "cell_type": "code",
   "execution_count": null,
   "metadata": {},
   "outputs": [],
   "source": [
    "# Esse dataframe terá só as colunas desejadas\n",
    "df_novo = filtered_df[\n",
    "    [\n",
    "        'country', 'year', 'fossil_electricity', 'gas_electricity', 'hydro_electricity',\n",
    "        'nuclear_electricity', 'oil_electricity', 'other_renewable_electricity',\n",
    "        'renewables_electricity', 'solar_electricity'\n",
    "    ]\n",
    "]\n",
    "\n",
    "df_novo\n"
   ]
  },
  {
   "cell_type": "code",
   "execution_count": null,
   "metadata": {},
   "outputs": [],
   "source": [
    "# Resumos dos dados do novo dataframe\n",
    "\n",
    "# Lista das colunas que queremos somar o consumo de energia\n",
    "electricity_columns = [\n",
    "    'fossil_electricity', 'gas_electricity', 'hydro_electricity',\n",
    "    'nuclear_electricity', 'oil_electricity', 'other_renewable_electricity',\n",
    "    'renewables_electricity', 'solar_electricity'\n",
    "]\n",
    "\n",
    "# Somar os valores das colunas de eletricidade e agrupar por país\n",
    "df_novo['total_electricity_consumption'] = df_novo[electricity_columns].sum(axis=1)\n",
    "\n",
    "# Calcular o total de energia gasta por país\n",
    "total_consumption_per_country = df_novo.groupby('country')['total_electricity_consumption'].sum().reset_index()\n",
    "\n",
    "# Ordenando o total consumido em ordem decrescente\n",
    "total_consumption_per_country = total_consumption_per_country.sort_values(by='total_electricity_consumption', ascending=False)\n",
    "\n",
    "# Exibir o resultado\n",
    "total_consumption_per_country\n"
   ]
  },
  {
   "cell_type": "markdown",
   "metadata": {},
   "source": [
    "### 2. Análise por Tipo de Energia\n",
    "* Criar um gráfico de linhas mostrando o consumo de energia ao longo dos anos para cada país da América do Sul.\n",
    "* Identificar os países com o maior e menor consumo total de energia ao longo dos anos."
   ]
  },
  {
   "cell_type": "code",
   "execution_count": null,
   "metadata": {},
   "outputs": [],
   "source": [
    "# Plotando o gráfico de linhas\n",
    "\n",
    "# Definir o ano inicial e o ano final\n",
    "ano_inicial = 2000\n",
    "ano_final = 2010\n",
    "\n",
    "# Filtrar o dataframe para o intervalo de anos especificado\n",
    "df_correto = df_novo[(df_novo['year'] >= ano_inicial) & (df_novo['year'] <= ano_final)]\n",
    "\n",
    "# Somar as colunas de eletricidade por ano e por país\n",
    "energy_columns = [\n",
    "    'fossil_electricity', 'gas_electricity', 'hydro_electricity',\n",
    "    'nuclear_electricity', 'oil_electricity', 'other_renewable_electricity',\n",
    "    'renewables_electricity', 'solar_electricity'\n",
    "]\n",
    "\n",
    "# Calcular a soma das colunas de eletricidade\n",
    "energy_by_year_country = df_correto.groupby(['year', 'country'])[energy_columns].sum().sum(axis=1).reset_index(name='Energy Consumption')\n",
    "\n",
    "# Plotar o gráfico com os dados agregados\n",
    "plt.figure(figsize=(12, 6))  # Definir o tamanho do gráfico\n",
    "sns.lineplot(data=energy_by_year_country, x='year', y='Energy Consumption', hue='country', marker='o')\n",
    "plt.title('Consumo Anual de Energia por País')\n",
    "plt.xlabel('Ano')\n",
    "plt.ylabel('Consumo de Energia')\n",
    "plt.legend(title='Países', bbox_to_anchor=(1.05, 1), loc='upper left')  # Posicionar a legenda fora do gráfico\n",
    "plt.grid(True)\n",
    "plt.tight_layout()  # Ajustar layout para evitar sobreposição\n",
    "plt.show()\n"
   ]
  },
  {
   "cell_type": "code",
   "execution_count": null,
   "metadata": {},
   "outputs": [],
   "source": [
    "# Descobrindo país que mais gastou e que menos gastou\n",
    "pais_mais_gasto = total_consumption_per_country.loc[total_consumption_per_country['total_electricity_consumption'].idxmax(), 'country']\n",
    "\n",
    "pais_menos_gasto = total_consumption_per_country.loc[total_consumption_per_country['total_electricity_consumption'].idxmin(), 'country']\n",
    "\n",
    "print(f\"País que mais gastou energia: {pais_mais_gasto}\")\n",
    "print(f\"País que menos gastou energia: {pais_menos_gasto}\")\n"
   ]
  },
  {
   "cell_type": "markdown",
   "metadata": {},
   "source": [
    "### 3. Comparação de Fontes de Energia Renováveis vs. Não Renováveis\n",
    "* Comparar o uso de fontes de energia renováveis (hidrelétrica, solar, eólica) com o uso de fontes não renováveis (fóssil, gás natural) para cada país da América do Sul.\n",
    "* Agrupar os dados por tipo de fonte de energia (renovável vs. não renovável).\n",
    "* Calcular a média e o desvio padrão do consumo de cada tipo de energia por país.\n",
    "* Criar um gráfico de barras que mostre a proporção de uso de energia renovável em comparação com a energia não renovável para cada país da América do Sul."
   ]
  },
  {
   "cell_type": "code",
   "execution_count": null,
   "metadata": {},
   "outputs": [],
   "source": [
    "# Vendo quanto foi gasto de cada fonte de energia (sustentável e não sustentável)\n",
    "\n",
    "# Definir as colunas de energias sustentáveis e não sustentáveis\n",
    "energia_sustentavel = [\n",
    "    'hydro_electricity', 'solar_electricity',\n",
    "    'other_renewable_electricity', 'renewables_electricity'\n",
    "]\n",
    "\n",
    "energia_nao_sustentavel = [\n",
    "    'fossil_electricity', 'gas_electricity', 'oil_electricity',\n",
    "    'nuclear_electricity'\n",
    "]\n",
    "\n",
    "# Calcular o total de energia sustentável e não sustentável\n",
    "total_sustentavel = df_novo[energia_sustentavel].sum().sum()\n",
    "total_nao_sustentavel = df_novo[energia_nao_sustentavel].sum().sum()\n",
    "\n",
    "# Criar uma tabela para exibir os resultados\n",
    "resultado = pd.DataFrame({\n",
    "    'Tipo de Energia': ['Sustentável', 'Não Sustentável'],\n",
    "    'Quantidade Gasta': [total_sustentavel, total_nao_sustentavel]\n",
    "})\n",
    "\n",
    "# Exibir a tabela\n",
    "print(resultado)\n"
   ]
  },
  {
   "cell_type": "code",
   "execution_count": 18,
   "metadata": {},
   "outputs": [
    {
     "name": "stdout",
     "output_type": "stream",
     "text": [
      "Média do uso de energia hidrelétrica no Brasil a partir de 2000: 368.0420833333333\n"
     ]
    }
   ],
   "source": [
    "# Calculando média anual do uso de cada energia por país (exemplo só com o Brasil)\n",
    "\n",
    "# Filtrar o dataframe para incluir apenas o Brasil e anos a partir de 2000\n",
    "brasil_df = df_novo[(df_novo['country'] == 'Brazil') & (df_novo['year'] >= 2000)]\n",
    "\n",
    "# Calcular a média do uso de energia hidrelétrica a partir de 2000\n",
    "media_hidreletrica = brasil_df['hydro_electricity'].mean()\n",
    "\n",
    "# Exibir o resultado\n",
    "print(f\"Média do uso de energia hidrelétrica no Brasil a partir de 2000: {media_hidreletrica}\")\n",
    "\n"
   ]
  },
  {
   "cell_type": "code",
   "execution_count": 20,
   "metadata": {},
   "outputs": [
    {
     "name": "stdout",
     "output_type": "stream",
     "text": [
      "Desvio padrão do uso de energia hidrelétrica no Brasil a partir de 2000: 44.89439724694683\n"
     ]
    }
   ],
   "source": [
    "# Calculando desvio padrão anual do uso de cada energia por país (exemplo só com o Brasil)\n",
    "\n",
    "# Calcular o desvio padrão do uso de energia hidrelétrica a partir de 2000\n",
    "desvio_padrao_hidreletrica = brasil_df['hydro_electricity'].std()\n",
    "\n",
    "# Exibir o resultado\n",
    "print(f\"Desvio padrão do uso de energia hidrelétrica no Brasil a partir de 2000: {desvio_padrao_hidreletrica}\")\n"
   ]
  },
  {
   "cell_type": "code",
   "execution_count": 22,
   "metadata": {},
   "outputs": [
    {
     "name": "stderr",
     "output_type": "stream",
     "text": [
      "C:\\Users\\guino\\AppData\\Local\\Temp\\ipykernel_10896\\3313807364.py:4: SettingWithCopyWarning: \n",
      "A value is trying to be set on a copy of a slice from a DataFrame.\n",
      "Try using .loc[row_indexer,col_indexer] = value instead\n",
      "\n",
      "See the caveats in the documentation: https://pandas.pydata.org/pandas-docs/stable/user_guide/indexing.html#returning-a-view-versus-a-copy\n",
      "  brasil_df['Sustentável'] = brasil_df[energia_sustentavel].sum(axis=1)\n",
      "C:\\Users\\guino\\AppData\\Local\\Temp\\ipykernel_10896\\3313807364.py:5: SettingWithCopyWarning: \n",
      "A value is trying to be set on a copy of a slice from a DataFrame.\n",
      "Try using .loc[row_indexer,col_indexer] = value instead\n",
      "\n",
      "See the caveats in the documentation: https://pandas.pydata.org/pandas-docs/stable/user_guide/indexing.html#returning-a-view-versus-a-copy\n",
      "  brasil_df['Não Sustentável'] = brasil_df[energia_nao_sustentavel].sum(axis=1)\n"
     ]
    },
    {
     "data": {
      "text/plain": [
       "<Axes: xlabel='year', ylabel='Consumo'>"
      ]
     },
     "execution_count": 22,
     "metadata": {},
     "output_type": "execute_result"
    },
    {
     "data": {
      "image/png": "[encoded data removed]",
      "text/plain": [
       "<Figure size 640x480 with 1 Axes>"
      ]
     },
     "metadata": {},
     "output_type": "display_data"
    }
   ],
   "source": [
    "# Plotando gráfico de barras\n",
    "\n",
    "# Calcular o total anual de energia sustentável e não sustentável\n",
    "brasil_df['Sustentável'] = brasil_df[energia_sustentavel].sum(axis=1)\n",
    "brasil_df['Não Sustentável'] = brasil_df[energia_nao_sustentavel].sum(axis=1)\n",
    "\n",
    "# Agrupar por ano e calcular a soma total para cada tipo de energia\n",
    "uso_anual = brasil_df.groupby('year')[['Sustentável', 'Não Sustentável']].sum().reset_index()\n",
    "\n",
    "# Plotar o gráfico de barras\n",
    "uso_anual_melted = uso_anual.melt('year', var_name='Tipo de Energia', value_name='Consumo')\n",
    "\n",
    "sns.barplot(data=uso_anual_melted, x='year', y='Consumo', hue='Tipo de Energia')"
   ]
  }
 ],
 "metadata": {
  "kernelspec": {
   "display_name": "Python 3",
   "language": "python",
   "name": "python3"
  },
  "language_info": {
   "codemirror_mode": {
    "name": "ipython",
    "version": 3
   },
   "file_extension": ".py",
   "mimetype": "text/x-python",
   "name": "python",
   "nbconvert_exporter": "python",
   "pygments_lexer": "ipython3",
   "version": "3.12.5"
  }
 },
 "nbformat": 4,
 "nbformat_minor": 2
}
