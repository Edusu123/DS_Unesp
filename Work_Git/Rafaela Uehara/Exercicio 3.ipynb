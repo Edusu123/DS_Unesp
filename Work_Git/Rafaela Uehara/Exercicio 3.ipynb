{
 "cells": [
  {
   "cell_type": "markdown",
   "id": "99014b21-b411-4735-8386-b82914c2e290",
   "metadata": {},
   "source": [
    "Descobrir o vôo com maior atraso na saída (DepDelay) registrado."
   ]
  },
  {
   "cell_type": "code",
   "execution_count": 16,
   "id": "2d2bb626-e1a0-43c0-8f1f-94f32c6d5a5c",
   "metadata": {},
   "outputs": [],
   "source": [
    "#Import da biblioteca Panda\n",
    "import pandas as pd"
   ]
  },
  {
   "cell_type": "code",
   "execution_count": 18,
   "id": "ebc05a64-ec51-4348-8918-b5cf8fa8517b",
   "metadata": {},
   "outputs": [],
   "source": [
    "#Lendo o arquivo 2006-sample.csv e separando as colunas\n",
    "file_path_sample = 'BD2/2006-sample.csv'\n",
    "column_names = ['year', 'month', 'dayofthemonth', 'dayoftheweek', 'deptime','CRSdeptime', 'arrtime', 'CRSarrtime','uniquecarrier','flightnum', 'tailnum','actualelapsedtime','CRSelapsedtime','airtime','arrdelaty','depdelay','origin', 'dest','distance','taxin','taxout','cancelled','cancellationcode','diverted','carrierdelay','weatherdelay','NASdelay','securitydelay','lateaircraftdelay' ] #Definição do nome das colunas\n",
    "df1 = pd.read_csv(file_path_sample, sep=',', names=column_names, low_memory=False) #low memory = false pois deu problema de tipos diferentes em cada coluna e que iria demorar muito pra carregar, porém com isso ainda roda rápido"
   ]
  },
  {
   "cell_type": "code",
   "execution_count": 19,
   "id": "581246bb-0435-40c3-8e74-ad364b24132b",
   "metadata": {},
   "outputs": [],
   "source": [
    "# Converter a coluna 'depdelay' para numérico para evitar erros\n",
    "df1['depdelay'] = pd.to_numeric(df1['depdelay'], errors='coerce')"
   ]
  },
  {
   "cell_type": "code",
   "execution_count": 27,
   "id": "68e81ff8-9e4b-4360-a377-f2275fcc2fa6",
   "metadata": {},
   "outputs": [
    {
     "name": "stdout",
     "output_type": "stream",
     "text": [
      "    flightnum  depdelay\n",
      "434       740     792.0\n"
     ]
    }
   ],
   "source": [
    "max_delay = df1['depdelay'].max() # Encontrar o voo com o maior atraso na saída\n",
    "voo_max_delay = df1[df1['depdelay'] == max_delay] # Filtrar o voo correspondente ao maior atraso na saída\n",
    "print(voo_max_delay[['flightnum', 'depdelay']]) # Exibir o resultado"
   ]
  },
  {
   "cell_type": "code",
   "execution_count": null,
   "id": "4e72f665-5405-4db4-b2e4-7603cf0dd385",
   "metadata": {},
   "outputs": [],
   "source": []
  }
 ],
 "metadata": {
  "kernelspec": {
   "display_name": "Python 3 (ipykernel)",
   "language": "python",
   "name": "python3"
  },
  "language_info": {
   "codemirror_mode": {
    "name": "ipython",
    "version": 3
   },
   "file_extension": ".py",
   "mimetype": "text/x-python",
   "name": "python",
   "nbconvert_exporter": "python",
   "pygments_lexer": "ipython3",
   "version": "3.12.4"
  }
 },
 "nbformat": 4,
 "nbformat_minor": 5
}
