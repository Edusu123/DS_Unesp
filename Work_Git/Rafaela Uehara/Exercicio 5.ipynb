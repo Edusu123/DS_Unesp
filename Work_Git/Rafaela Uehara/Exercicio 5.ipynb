{
 "cells": [
  {
   "cell_type": "markdown",
   "id": "d0cd260b-53c4-43e3-b25b-9e63fed2036a",
   "metadata": {},
   "source": [
    "Contar quantos vôos precisaram ser redirecionados (Diverted)."
   ]
  },
  {
   "cell_type": "code",
   "execution_count": 22,
   "id": "3b941ea2-cc57-4584-907f-827b73aa4b21",
   "metadata": {},
   "outputs": [],
   "source": [
    "#Import da biblioteca Panda\n",
    "import pandas as pd"
   ]
  },
  {
   "cell_type": "code",
   "execution_count": 24,
   "id": "1519a7f4-ce6c-4386-869e-866d6793cbfa",
   "metadata": {},
   "outputs": [],
   "source": [
    "#Lendo o arquivo 2006-sample.csv e separando as colunas\n",
    "file_path_sample = 'BD2/2006-sample.csv'\n",
    "column_names = ['year', 'month', 'dayofthemonth', 'dayoftheweek', 'deptime','CRSdeptime', 'arrtime', 'CRSarrtime','uniquecarrier','flightnum', 'tailnum','actualelapsedtime','CRSelapsedtime','airtime','arrdelaty','depdelay','origin', 'dest','distance','taxin','taxout','cancelled','cancellationcode','diverted','carrierdelay','weatherdelay','NASdelay','securitydelay','lateaircraftdelay' ] #Definição do nome das colunas\n",
    "df1 = pd.read_csv(file_path_sample, sep=',', names=column_names, low_memory=False) #low memory = false pois deu problema de tipos diferentes em cada coluna e que iria demorar muito pra carregar, porém com isso ainda roda rápido"
   ]
  },
  {
   "cell_type": "code",
   "execution_count": 25,
   "id": "03483c5e-07c9-4ed7-b8ef-ed0d883fef1d",
   "metadata": {},
   "outputs": [],
   "source": [
    "df1['diverted'] = pd.to_numeric(df1['diverted'], errors='coerce') #Mudança dos dados para evitar erros"
   ]
  },
  {
   "cell_type": "code",
   "execution_count": 20,
   "id": "9ed0efdb-7c22-4699-b36c-8cf1096a94e2",
   "metadata": {},
   "outputs": [
    {
     "name": "stdout",
     "output_type": "stream",
     "text": [
      "133\n"
     ]
    }
   ],
   "source": [
    "voo_desviados= df1[df1['diverted'] == 1].shape[0]# Contar quantos voos foram redirecionados\n",
    "print(voo_desviados) #Exibir a resposta"
   ]
  }
 ],
 "metadata": {
  "kernelspec": {
   "display_name": "Python 3 (ipykernel)",
   "language": "python",
   "name": "python3"
  },
  "language_info": {
   "codemirror_mode": {
    "name": "ipython",
    "version": 3
   },
   "file_extension": ".py",
   "mimetype": "text/x-python",
   "name": "python",
   "nbconvert_exporter": "python",
   "pygments_lexer": "ipython3",
   "version": "3.12.4"
  }
 },
 "nbformat": 4,
 "nbformat_minor": 5
}
