{
 "cells": [
  {
   "cell_type": "markdown",
   "id": "c8521e8f-7905-48ad-98da-7bd53108ae7b",
   "metadata": {},
   "source": [
    "Mostrar o tempo total de atrasos para a decolagem de vôos no aeroporto `JFK`, de Nova Iorque."
   ]
  },
  {
   "cell_type": "code",
   "execution_count": 1,
   "id": "9b3c3896-ea15-41cd-b10e-8e4f3b817cfc",
   "metadata": {},
   "outputs": [],
   "source": [
    "#Import da biblioteca Panda\n",
    "import pandas as pd"
   ]
  },
  {
   "cell_type": "code",
   "execution_count": 2,
   "id": "9f534638-5941-4dd6-9383-1efd31cbf885",
   "metadata": {},
   "outputs": [],
   "source": [
    "#Lendo o arquivo 2006-sample.csv e separando as colunas\n",
    "file_path_sample = 'BD2/2006-sample.csv'\n",
    "column_names = ['year', 'month', 'dayofthemonth', 'dayoftheweek', 'deptime','CRSdeptime', 'arrtime', 'CRSarrtime','uniquecarrier','flightnum', 'tailnum','actualelapsedtime','CRSelapsedtime','airtime','arrdelay','depdelay','origin', 'dest','distance','taxin','taxout','cancelled','cancellationcode','diverted','carrierdelay','weatherdelay','NASdelay','securitydelay','lateaircraftdelay' ] #Definição do nome das colunas\n",
    "df1 = pd.read_csv(file_path_sample, sep=',', names=column_names, low_memory=False) #low memory = false pois deu problema de tipos diferentes em cada coluna e que iria demorar muito pra carregar, porém com isso ainda roda rápido"
   ]
  },
  {
   "cell_type": "code",
   "execution_count": 14,
   "id": "2ad685d9-5651-44c1-90af-d5184663f9ad",
   "metadata": {},
   "outputs": [
    {
     "name": "stdout",
     "output_type": "stream",
     "text": [
      "16065.0\n"
     ]
    }
   ],
   "source": [
    "jfk_voo = df1[df1['origin'] == 'JFK'].copy()# Filtrar voos que partiram do aeroporto JFK (código 'JFK')\n",
    "jfk_voo.loc[:, 'depdelay'] = pd.to_numeric(jfk_voo['depdelay'], errors='coerce')# Converter a coluna para evitar erros\n",
    "jfk_voo_filtrado = jfk_voo[(jfk_voo['depdelay'].notna()) & (jfk_flights['depdelay'] >= 0)]# Remover linhas com dados faltando (NaN) e valores negativos na coluna 'depdelay'\n",
    "total_atraso = jfk_voo_filtrado['depdelay'].sum()# Calcular o tempo total de atraso para a decolagem\n",
    "print(total_atraso) #Exibir resultado"
   ]
  },
  {
   "cell_type": "code",
   "execution_count": null,
   "id": "48e68691-0ab3-491a-966a-c222168b8288",
   "metadata": {},
   "outputs": [],
   "source": []
  }
 ],
 "metadata": {
  "kernelspec": {
   "display_name": "Python 3 (ipykernel)",
   "language": "python",
   "name": "python3"
  },
  "language_info": {
   "codemirror_mode": {
    "name": "ipython",
    "version": 3
   },
   "file_extension": ".py",
   "mimetype": "text/x-python",
   "name": "python",
   "nbconvert_exporter": "python",
   "pygments_lexer": "ipython3",
   "version": "3.12.4"
  }
 },
 "nbformat": 4,
 "nbformat_minor": 5
}
