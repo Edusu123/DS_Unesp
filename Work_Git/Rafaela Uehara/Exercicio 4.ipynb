{
 "cells": [
  {
   "cell_type": "markdown",
   "id": "d9db4fe2-e90f-460a-ba71-d1a8e5e1c133",
   "metadata": {},
   "source": [
    "Descobrir o vôo mais longo."
   ]
  },
  {
   "cell_type": "code",
   "execution_count": 2,
   "id": "d896437f-182b-495b-bcad-d6e34ffd89ca",
   "metadata": {},
   "outputs": [],
   "source": [
    "#Import da biblioteca Panda\n",
    "import pandas as pd"
   ]
  },
  {
   "cell_type": "code",
   "execution_count": 4,
   "id": "ea433b51-90fb-428a-bb78-8cb10b73fed6",
   "metadata": {},
   "outputs": [],
   "source": [
    "#Lendo o arquivo 2006-sample.csv e separando as colunas\n",
    "file_path_sample = 'BD2/2006-sample.csv'\n",
    "column_names = ['year', 'month', 'dayofthemonth', 'dayoftheweek', 'deptime','CRSdeptime', 'arrtime', 'CRSarrtime','uniquecarrier','flightnum', 'tailnum','actualelapsedtime','CRSelapsedtime','airtime','arrdelaty','depdelay','origin', 'dest','distance','taxin','taxout','cancelled','cancellationcode','diverted','carrierdelay','weatherdelay','NASdelay','securitydelay','lateaircraftdelay' ] #Definição do nome das colunas\n",
    "df1 = pd.read_csv(file_path_sample, sep=',', names=column_names, low_memory=False) #low memory = false pois deu problema de tipos diferentes em cada coluna e que iria demorar muito pra carregar, porém com isso ainda roda rápido"
   ]
  },
  {
   "cell_type": "code",
   "execution_count": 8,
   "id": "6e5de747-8122-42e8-9a5d-d54f845c8bcc",
   "metadata": {},
   "outputs": [],
   "source": [
    "df1['distance'] = pd.to_numeric(df1['distance'], errors='coerce') # Converter a coluna 'distance' para numérico para evitar erros"
   ]
  },
  {
   "cell_type": "code",
   "execution_count": 12,
   "id": "b9fcf6f9-d5ca-48d0-8fe6-c0c461735acd",
   "metadata": {},
   "outputs": [
    {
     "name": "stdout",
     "output_type": "stream",
     "text": [
      "      flightnum  distance\n",
      "7130        317    4502.0\n",
      "8718       1282    4502.0\n",
      "17236      1282    4502.0\n",
      "51742       855    4502.0\n"
     ]
    }
   ],
   "source": [
    "max_dist = df1['distance'].max()# Encontrar o voo com a maior distância\n",
    "voo_max_dist = df1[df1['distance'] == max_dist]# Filtrar o voo correspondente à maior distância\n",
    "print(voo_max_dist[['flightnum', 'distance']])# Exibir o resultado"
   ]
  },
  {
   "cell_type": "markdown",
   "id": "9240a554-6370-41e8-aacb-70c6b6ad219d",
   "metadata": {},
   "source": [
    "Há 4 voos com a mesma distância, por isso aparecem 4 resultados."
   ]
  },
  {
   "cell_type": "code",
   "execution_count": null,
   "id": "ec4ca23b-0cb0-4228-b4c6-7eae298e896e",
   "metadata": {},
   "outputs": [],
   "source": []
  }
 ],
 "metadata": {
  "kernelspec": {
   "display_name": "Python 3 (ipykernel)",
   "language": "python",
   "name": "python3"
  },
  "language_info": {
   "codemirror_mode": {
    "name": "ipython",
    "version": 3
   },
   "file_extension": ".py",
   "mimetype": "text/x-python",
   "name": "python",
   "nbconvert_exporter": "python",
   "pygments_lexer": "ipython3",
   "version": "3.12.4"
  }
 },
 "nbformat": 4,
 "nbformat_minor": 5
}
