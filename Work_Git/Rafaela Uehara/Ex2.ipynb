{
 "cells": [
  {
   "cell_type": "markdown",
   "id": "d12aa7cc-dff9-49d4-8359-de91db7188db",
   "metadata": {},
   "source": [
    "Descobrir o vôo com maior atraso na chegada (ArrDelay) registrado."
   ]
  },
  {
   "cell_type": "code",
   "execution_count": 2,
   "id": "5204bd3e-78a9-48af-a609-1f8512df91a0",
   "metadata": {},
   "outputs": [],
   "source": [
    "#Import da biblioteca Panda\n",
    "import pandas as pd"
   ]
  },
  {
   "cell_type": "code",
   "execution_count": 14,
   "id": "577756b5-8376-474a-8397-22561b4e788a",
   "metadata": {},
   "outputs": [],
   "source": [
    "#Lendo o arquivo 2006-sample.csv e separando as colunas\n",
    "file_path_sample = 'BD2/2006-sample.csv'\n",
    "column_names = ['year', 'month', 'dayofthemonth', 'dayoftheweek', 'deptime','CRSdeptime', 'arrtime', 'CRSarrtime','uniquecarrier','flightnum', 'tailnum','actualelapsedtime','CRSelapsedtime','airtime','arrdelaty','depdelay','origin', 'dest','distance','taxin','taxout','cancelled','cancellationcode','diverted','carrierdelay','weatherdelay','NASdelay','securitydelay','lateaircraftdelay' ] #Definição do nome das colunas\n",
    "df1 = pd.read_csv(file_path_sample, sep=',', names=column_names, low_memory=False) #low memory = false pois deu problema de tipos diferentes em cada coluna e que iria demorar muito pra carregar, porém com isso ainda roda rápido"
   ]
  },
  {
   "cell_type": "code",
   "execution_count": 15,
   "id": "b7bd6b0b-b346-414a-880b-5cdd3c58258f",
   "metadata": {},
   "outputs": [],
   "source": [
    "# Converter a coluna 'arrdelaty' para numérico para evitar erros\n",
    "df1['arrdelaty'] = pd.to_numeric(df1['arrdelaty'], errors='coerce')"
   ]
  },
  {
   "cell_type": "code",
   "execution_count": 24,
   "id": "eafd422f-af66-4b46-9de4-872551003cae",
   "metadata": {},
   "outputs": [
    {
     "name": "stdout",
     "output_type": "stream",
     "text": [
      "    flightnum  arrdelaty\n",
      "434       740      822.0\n"
     ]
    }
   ],
   "source": [
    "max_atraso = df1['arrdelaty'].max()# Encontrar o voo com o maior atraso na chegada\n",
    "voo_max_atraso = df1[df1['arrdelaty'] == max_atraso]# Filtrar o voo correspondente ao maior atraso\n",
    "print(voo_max_atraso[['flightnum', 'arrdelaty']]) # Exibir o resultado"
   ]
  },
  {
   "cell_type": "code",
   "execution_count": null,
   "id": "ca71071c-a19e-4031-ba32-33680d7170d6",
   "metadata": {},
   "outputs": [],
   "source": []
  }
 ],
 "metadata": {
  "kernelspec": {
   "display_name": "Python 3 (ipykernel)",
   "language": "python",
   "name": "python3"
  },
  "language_info": {
   "codemirror_mode": {
    "name": "ipython",
    "version": 3
   },
   "file_extension": ".py",
   "mimetype": "text/x-python",
   "name": "python",
   "nbconvert_exporter": "python",
   "pygments_lexer": "ipython3",
   "version": "3.12.4"
  }
 },
 "nbformat": 4,
 "nbformat_minor": 5
}
