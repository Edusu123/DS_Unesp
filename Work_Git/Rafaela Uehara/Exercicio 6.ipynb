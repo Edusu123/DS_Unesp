{
 "cells": [
  {
   "cell_type": "markdown",
   "id": "0c51d9ba-59f3-43b5-b805-867491743bf7",
   "metadata": {},
   "source": [
    "Utilizando a dica [nessa resposta](https://stackoverflow.com/a/3096575), calcular o tempo de atraso total para a companhia `Delta Air Lines`. Não esquecer de filtrar linhas com dados faltando e também com valores negativos (casos em que os vôos são adiantados) "
   ]
  },
  {
   "cell_type": "markdown",
   "id": "9fd79b0a-f34b-440a-9959-b54691118598",
   "metadata": {},
   "source": [
    "Não entendi como usar a dica..."
   ]
  },
  {
   "cell_type": "code",
   "execution_count": 48,
   "id": "e5912ee4-bd78-4b9f-8065-93b1435cbc1b",
   "metadata": {},
   "outputs": [],
   "source": [
    "#Import da biblioteca Panda\n",
    "import pandas as pd"
   ]
  },
  {
   "cell_type": "code",
   "execution_count": 50,
   "id": "907bf29e-aeb7-40f4-9af0-5c8a3778602b",
   "metadata": {},
   "outputs": [],
   "source": [
    "#Lendo o arquivo 2006-sample.csv e separando as colunas\n",
    "file_path_sample = 'BD2/2006-sample.csv'\n",
    "column_names = ['year', 'month', 'dayofthemonth', 'dayoftheweek', 'deptime','CRSdeptime', 'arrtime', 'CRSarrtime','uniquecarrier','flightnum', 'tailnum','actualelapsedtime','CRSelapsedtime','airtime','arrdelay','depdelay','origin', 'dest','distance','taxin','taxout','cancelled','cancellationcode','diverted','carrierdelay','weatherdelay','NASdelay','securitydelay','lateaircraftdelay' ] #Definição do nome das colunas\n",
    "df1 = pd.read_csv(file_path_sample, sep=',', names=column_names, low_memory=False) #low memory = false pois deu problema de tipos diferentes em cada coluna e que iria demorar muito pra carregar, porém com isso ainda roda rápido"
   ]
  },
  {
   "cell_type": "code",
   "execution_count": 51,
   "id": "5e5cc585-3451-432c-a6e2-415d5a07d6e4",
   "metadata": {},
   "outputs": [],
   "source": [
    "df1['arrdelay'] = pd.to_numeric(df1['arrdelay'], errors='coerce') #Correção no formato do dado pra evitar erros"
   ]
  },
  {
   "cell_type": "code",
   "execution_count": 54,
   "id": "cfb840c7-40e5-4c8f-8711-4661edf38ae5",
   "metadata": {},
   "outputs": [
    {
     "name": "stdout",
     "output_type": "stream",
     "text": [
      "63427.0\n"
     ]
    }
   ],
   "source": [
    "delta_voo = df1[df1['uniquecarrier'] == 'DL']# Filtrar apenas as linhas da Delta Air Lines (código 'DL')\n",
    "delta_voo_filtrado = delta_voo[(delta_voo['arrdelay'].notna()) & (delta_voo['arrdelay'] >= 0)]# Remover linhas com dados faltando (NaN) e valores negativos na coluna 'arrdelaty'\n",
    "delay_total = delta_voo_filtrado['arrdelay'].sum()# Calcular o tempo de atraso total\n",
    "print(delay_total) #Exibir resposta"
   ]
  }
 ],
 "metadata": {
  "kernelspec": {
   "display_name": "Python 3 (ipykernel)",
   "language": "python",
   "name": "python3"
  },
  "language_info": {
   "codemirror_mode": {
    "name": "ipython",
    "version": 3
   },
   "file_extension": ".py",
   "mimetype": "text/x-python",
   "name": "python",
   "nbconvert_exporter": "python",
   "pygments_lexer": "ipython3",
   "version": "3.12.4"
  }
 },
 "nbformat": 4,
 "nbformat_minor": 5
}
