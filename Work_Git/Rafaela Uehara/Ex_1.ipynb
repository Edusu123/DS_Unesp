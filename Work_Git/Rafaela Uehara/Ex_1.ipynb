{
 "cells": [
  {
   "cell_type": "markdown",
   "id": "1b806b8f-c093-4cc4-9bf7-1bdf0eab0975",
   "metadata": {},
   "source": [
    "Descobrir a quantiade de atrasos de uma dada companhia passada como parâmetro e.ova Iorque."
   ]
  },
  {
   "cell_type": "code",
   "execution_count": 31,
   "id": "1abe2e70-92b3-412a-8a9d-28401b787163",
   "metadata": {},
   "outputs": [],
   "source": [
    "#Import da biblioteca Panda\n",
    "import pandas as pd"
   ]
  },
  {
   "cell_type": "code",
   "execution_count": 33,
   "id": "0bca69e0-7b22-4e42-8704-1bf9be6ab8e3",
   "metadata": {},
   "outputs": [],
   "source": [
    "#Lendo o arquivo 2006-sample.csv e separando as colunas\n",
    "file_path_sample = 'BD2/2006-sample.csv'\n",
    "column_names = ['year', 'month', 'dayofthemonth', 'dayoftheweek', 'deptime','CRSdeptime', 'arrtime', 'CRSarrtime','uniquecarrier','flightnum', 'tailnum','actualelapsedtime','CRSelapsedtime','airtime','arrdelaty','depdelay','origin', 'dest','distance','taxin','taxout','cancelled','cancellationcode','diverted','carrierdelay','weatherdelay','NASdelay','securitydelay','lateaircraftdelay' ] #Definição do nome das colunas\n",
    "df1 = pd.read_csv(file_path_sample, sep=',', names=column_names, low_memory=False) #low memory = false pois deu problema de tipos diferentes em cada coluna e que iria demorar muito pra carregar, porém com isso ainda roda rápido"
   ]
  },
  {
   "cell_type": "code",
   "execution_count": 34,
   "id": "71cb8170-f065-4e98-8a5b-de9c2bdc590e",
   "metadata": {},
   "outputs": [],
   "source": [
    "#Tratamento dos dados que não foram tratados antes\n",
    "df1['depdelay'] = pd.to_numeric(df1['depdelay'], errors='coerce') #Transformando a variável depdelay em numerico\n",
    "df1['arrdelaty'] = pd.to_numeric(df1['arrdelaty'], errors='coerce') #Transformando a variável arrdelay em numerico"
   ]
  },
  {
   "cell_type": "code",
   "execution_count": 37,
   "id": "cb581c2e-9eb1-423a-8f9e-9fd07d78075a",
   "metadata": {},
   "outputs": [],
   "source": [
    "#Declaração da função\n",
    "def contar_atrasos(companhia_aerea): #Passagem da companhia aérea por parâmetro\n",
    "    df_companhia = df1[df1['uniquecarrier'] == companhia_aerea] # Filtrar dados pela companhia aérea passada por parâmetro\n",
    "    atrasos = df_companhia[(df_companhia['depdelay'] > 0) | (df_companhia['arrdelaty'] > 0)] # Contar atrasos onde o valor da coluna 'depdelay' ou 'arrdelaty' seja maior que 0, ou seja, o atraso ocorreu\n",
    "    return len(atrasos) # Retornar a quantidade de atrasos armazenada na variavel 'atrasos'"
   ]
  },
  {
   "cell_type": "code",
   "execution_count": 41,
   "id": "e9f9d23b-fad4-4865-8c77-21117f71e118",
   "metadata": {},
   "outputs": [
    {
     "name": "stdout",
     "output_type": "stream",
     "text": [
      "5721\n"
     ]
    }
   ],
   "source": [
    "# Teste da função\n",
    "companhia = 'WN'  # Exemplo de companhia aérea\n",
    "quantidade_atrasos = contar_atrasos(companhia) # variável quantidade de atrasos rodando a função pelo parametro\n",
    "print(quantidade_atrasos) #print da resposta"
   ]
  },
  {
   "cell_type": "code",
   "execution_count": null,
   "id": "6cc7f016-7b80-4980-ae8a-2327adf7156c",
   "metadata": {},
   "outputs": [],
   "source": []
  }
 ],
 "metadata": {
  "kernelspec": {
   "display_name": "Python 3 (ipykernel)",
   "language": "python",
   "name": "python3"
  },
  "language_info": {
   "codemirror_mode": {
    "name": "ipython",
    "version": 3
   },
   "file_extension": ".py",
   "mimetype": "text/x-python",
   "name": "python",
   "nbconvert_exporter": "python",
   "pygments_lexer": "ipython3",
   "version": "3.12.4"
  }
 },
 "nbformat": 4,
 "nbformat_minor": 5
}
