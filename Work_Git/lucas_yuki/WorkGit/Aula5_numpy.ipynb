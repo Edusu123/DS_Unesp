{
 "cells": [
  {
   "cell_type": "markdown",
   "metadata": {},
   "source": [
    "# Exercícios NUMPY - Aula 5"
   ]
  },
  {
   "cell_type": "code",
   "execution_count": 6,
   "metadata": {},
   "outputs": [],
   "source": [
    "import numpy as np\n",
    "import pandas as pd\n",
    "\n",
    "# Definindo uma semente para garantir que os dados sejam reprodutíveis\n",
    "np.random.seed(42)\n",
    "\n",
    "# Criando um dataset fictício de 30 linhas (30 funcionários) com as colunas ID, Idade, Salário, Anos de Experiência\n",
    "n = 30\n",
    "ids = np.arange(1, n + 1)  # IDs de 1 a 30\n",
    "idades = np.random.randint(20, 60, size=n)  # Idades entre 20 e 60 anos\n",
    "salarios = np.random.randint(40000, 100000, size=n)  # Salários entre 40.000 e 100.000\n",
    "anos_experiencia = np.random.randint(1, 35, size=n)  # Anos de experiência entre 1 e 35 anos\n",
    "\n",
    "# Combinando os dados em um array\n",
    "dataset = np.column_stack((ids, idades, salarios, anos_experiencia))\n",
    "\n",
    "# Convertendo para DataFrame para visualização\n",
    "df = pd.DataFrame(dataset, columns=['ID', 'Idade', 'Salário', 'Anos de Experiência'])\n",
    "\n",
    "# Exibindo o DataFrame\n",
    "# print(df)"
   ]
  },
  {
   "cell_type": "markdown",
   "metadata": {},
   "source": [
    "### 1. Redimensionar o dataset (transformar 30 linhas em 10 linhas e 12 colunas)"
   ]
  },
  {
   "cell_type": "code",
   "execution_count": 7,
   "metadata": {},
   "outputs": [
    {
     "name": "stdout",
     "output_type": "stream",
     "text": [
      "Dataset redimensionado (10x12):\n",
      "[[    1    58 40189     7     2    48 59118     8     3    34 75773    14]\n",
      " [    4    27 93810    17     5    40 41899     4     6    58 96886     2]\n",
      " [    7    38 41267     6     8    42 71551     4     9    30 90680    29]\n",
      " [   10    30 51394    18    11    43 43556    26    12    55 43890    34]\n",
      " [   13    59 81606    10    14    43 70740    14    15    22 54502    31]\n",
      " [   16    41 61777    15    17    21 50627     8    18    43 48792    14]\n",
      " [   19    49 83323    23    20    57 83021    21    21    21 48433    16]\n",
      " [   22    40 83001    18    23    52 51016    24    24    31 63897    26]\n",
      " [   25    41 42612    25    26    44 96193    29    27    46 98707    15]\n",
      " [   28    47 95387     1    29    35 94638    25    30    34 63483     7]]\n"
     ]
    }
   ],
   "source": [
    "dataset_redimensionado = dataset.reshape(10, 12)\n",
    "print(\"Dataset redimensionado (10x12):\")\n",
    "print(dataset_redimensionado)"
   ]
  },
  {
   "cell_type": "markdown",
   "metadata": {},
   "source": [
    "### 2. Acessar o primeiro elemento (primeira linha) do dataset"
   ]
  },
  {
   "cell_type": "code",
   "execution_count": 8,
   "metadata": {},
   "outputs": [
    {
     "name": "stdout",
     "output_type": "stream",
     "text": [
      "Primeira linha do dataset:\n",
      "[    1    58 40189     7]\n"
     ]
    }
   ],
   "source": [
    "primeira_linha = dataset[0]\n",
    "print(\"Primeira linha do dataset:\")\n",
    "print(primeira_linha)"
   ]
  },
  {
   "cell_type": "markdown",
   "metadata": {},
   "source": [
    "### 3. Acessar o salário (terceira coluna) da terceira pessoa"
   ]
  },
  {
   "cell_type": "code",
   "execution_count": 9,
   "metadata": {},
   "outputs": [
    {
     "name": "stdout",
     "output_type": "stream",
     "text": [
      "Salário da terceira pessoa: 75773\n"
     ]
    }
   ],
   "source": [
    "salario_terceira_pessoa = dataset[2, 2]\n",
    "print(f\"Salário da terceira pessoa: {salario_terceira_pessoa}\")"
   ]
  },
  {
   "cell_type": "markdown",
   "metadata": {},
   "source": [
    "### 4. Selecionar os salários de todos os funcionários"
   ]
  },
  {
   "cell_type": "code",
   "execution_count": 10,
   "metadata": {},
   "outputs": [
    {
     "name": "stdout",
     "output_type": "stream",
     "text": [
      "Salários de todos os funcionários:\n",
      "[40189 59118 75773 93810 41899 96886 41267 71551 90680 51394 43556 43890\n",
      " 81606 70740 54502 61777 50627 48792 83323 83021 48433 83001 51016 63897\n",
      " 42612 96193 98707 95387 94638 63483]\n"
     ]
    }
   ],
   "source": [
    "todos_salarios = dataset[:, 2]\n",
    "print(\"Salários de todos os funcionários:\")\n",
    "print(todos_salarios)"
   ]
  },
  {
   "cell_type": "markdown",
   "metadata": {},
   "source": [
    "### 5. Concatenar o dataset com um array de bônus (nova coluna)"
   ]
  },
  {
   "cell_type": "code",
   "execution_count": 11,
   "metadata": {},
   "outputs": [
    {
     "name": "stdout",
     "output_type": "stream",
     "text": [
      "Dataset com coluna de bônus:\n",
      "[[    1    58 40189     7  7568]\n",
      " [    2    48 59118     8 10463]\n",
      " [    3    34 75773    14  7027]\n",
      " [    4    27 93810    17  7695]\n",
      " [    5    40 41899     4 14687]\n",
      " [    6    58 96886     2 10258]\n",
      " [    7    38 41267     6 10618]\n",
      " [    8    42 71551     4 11736]\n",
      " [    9    30 90680    29  5391]\n",
      " [   10    30 51394    18 10892]\n",
      " [   11    43 43556    26  8561]\n",
      " [   12    55 43890    34 11184]\n",
      " [   13    59 81606    10  8099]\n",
      " [   14    43 70740    14 11278]\n",
      " [   15    22 54502    31 13392]\n",
      " [   16    41 61777    15  8104]\n",
      " [   17    21 50627     8 12215]\n",
      " [   18    43 48792    14  7454]\n",
      " [   19    49 83323    23 13996]\n",
      " [   20    57 83021    21  7731]\n",
      " [   21    21 48433    16 13154]\n",
      " [   22    40 83001    18 14762]\n",
      " [   23    52 51016    24 10056]\n",
      " [   24    31 63897    26 13110]\n",
      " [   25    41 42612    25  8840]\n",
      " [   26    44 96193    29  6028]\n",
      " [   27    46 98707    15 12385]\n",
      " [   28    47 95387     1  5502]\n",
      " [   29    35 94638    25 11910]\n",
      " [   30    34 63483     7 14062]]\n"
     ]
    }
   ],
   "source": [
    "bonus = np.random.randint(5000, 15000, size=n).reshape(n, 1)\n",
    "dataset_com_bonus = np.hstack((dataset, bonus))\n",
    "print(\"Dataset com coluna de bônus:\")\n",
    "print(dataset_com_bonus)"
   ]
  },
  {
   "cell_type": "markdown",
   "metadata": {},
   "source": [
    "### 6. Transpor o dataset"
   ]
  },
  {
   "cell_type": "code",
   "execution_count": 12,
   "metadata": {},
   "outputs": [
    {
     "name": "stdout",
     "output_type": "stream",
     "text": [
      "Dataset transposto:\n",
      "[[    1     2     3     4     5     6     7     8     9    10    11    12\n",
      "     13    14    15    16    17    18    19    20    21    22    23    24\n",
      "     25    26    27    28    29    30]\n",
      " [   58    48    34    27    40    58    38    42    30    30    43    55\n",
      "     59    43    22    41    21    43    49    57    21    40    52    31\n",
      "     41    44    46    47    35    34]\n",
      " [40189 59118 75773 93810 41899 96886 41267 71551 90680 51394 43556 43890\n",
      "  81606 70740 54502 61777 50627 48792 83323 83021 48433 83001 51016 63897\n",
      "  42612 96193 98707 95387 94638 63483]\n",
      " [    7     8    14    17     4     2     6     4    29    18    26    34\n",
      "     10    14    31    15     8    14    23    21    16    18    24    26\n",
      "     25    29    15     1    25     7]]\n"
     ]
    }
   ],
   "source": [
    "dataset_transposto = dataset.T\n",
    "print(\"Dataset transposto:\")\n",
    "print(dataset_transposto)"
   ]
  },
  {
   "cell_type": "markdown",
   "metadata": {},
   "source": [
    "### 7. Calcular a soma dos salários"
   ]
  },
  {
   "cell_type": "code",
   "execution_count": 13,
   "metadata": {},
   "outputs": [
    {
     "name": "stdout",
     "output_type": "stream",
     "text": [
      "Soma dos salários: 2021768\n"
     ]
    }
   ],
   "source": [
    "soma_salarios = np.sum(dataset[:, 2])\n",
    "print(f\"Soma dos salários: {soma_salarios}\")"
   ]
  },
  {
   "cell_type": "markdown",
   "metadata": {},
   "source": [
    "### 8. Calcular a média dos anos de experiência"
   ]
  },
  {
   "cell_type": "code",
   "execution_count": 14,
   "metadata": {},
   "outputs": [
    {
     "name": "stdout",
     "output_type": "stream",
     "text": [
      "Média dos anos de experiência: 16.366666666666667\n"
     ]
    }
   ],
   "source": [
    "media_experiencia = np.mean(dataset[:, 3])\n",
    "print(f\"Média dos anos de experiência: {media_experiencia}\")"
   ]
  },
  {
   "cell_type": "markdown",
   "metadata": {},
   "source": [
    "### 9. Calcular o desvio padrão das idades"
   ]
  },
  {
   "cell_type": "code",
   "execution_count": 15,
   "metadata": {},
   "outputs": [
    {
     "name": "stdout",
     "output_type": "stream",
     "text": [
      "Desvio padrão das idades: 10.824303929378349\n"
     ]
    }
   ],
   "source": [
    "desvio_padrao_idades = np.std(dataset[:, 1])\n",
    "print(f\"Desvio padrão das idades: {desvio_padrao_idades}\")"
   ]
  },
  {
   "cell_type": "markdown",
   "metadata": {},
   "source": [
    "### 10. Multiplicar o salário e os anos de experiência de cada funcionário"
   ]
  },
  {
   "cell_type": "code",
   "execution_count": 16,
   "metadata": {},
   "outputs": [
    {
     "name": "stdout",
     "output_type": "stream",
     "text": [
      "Produto do salário e anos de experiência de cada funcionário:\n",
      "[ 281323  472944 1060822 1594770  167596  193772  247602  286204 2629720\n",
      "  925092 1132456 1492260  816060  990360 1689562  926655  405016  683088\n",
      " 1916429 1743441  774928 1494018 1224384 1661322 1065300 2789597 1480605\n",
      "   95387 2365950  444381]\n"
     ]
    }
   ],
   "source": [
    "salario_experiencia = dataset[:, 2] * dataset[:, 3]\n",
    "print(\"Produto do salário e anos de experiência de cada funcionário:\")\n",
    "print(salario_experiencia)"
   ]
  },
  {
   "cell_type": "markdown",
   "metadata": {},
   "source": [
    "### 11. Calcular o produto da matriz transposta do dataset com ela mesma"
   ]
  },
  {
   "cell_type": "code",
   "execution_count": 17,
   "metadata": {},
   "outputs": [
    {
     "name": "stdout",
     "output_type": "stream",
     "text": [
      "Produto da matriz transposta com ela mesma:\n",
      "[[        9455        18797     32689846         8305]\n",
      " [       18797        53863     83705033        19639]\n",
      " [    32689846     83705033 148351518064     33051044]\n",
      " [        8305        19639     33051044        10577]]\n"
     ]
    }
   ],
   "source": [
    "produto_matriz = np.dot(dataset.T, dataset)\n",
    "print(\"Produto da matriz transposta com ela mesma:\")\n",
    "print(produto_matriz)"
   ]
  },
  {
   "cell_type": "markdown",
   "metadata": {},
   "source": [
    "### 12. Filtrar funcionários com salários maiores que 60.000"
   ]
  },
  {
   "cell_type": "code",
   "execution_count": 18,
   "metadata": {},
   "outputs": [
    {
     "name": "stdout",
     "output_type": "stream",
     "text": [
      "Funcionários com salários acima de 60.000:\n",
      "[[    3    34 75773    14]\n",
      " [    4    27 93810    17]\n",
      " [    6    58 96886     2]\n",
      " [    8    42 71551     4]\n",
      " [    9    30 90680    29]\n",
      " [   13    59 81606    10]\n",
      " [   14    43 70740    14]\n",
      " [   16    41 61777    15]\n",
      " [   19    49 83323    23]\n",
      " [   20    57 83021    21]\n",
      " [   22    40 83001    18]\n",
      " [   24    31 63897    26]\n",
      " [   26    44 96193    29]\n",
      " [   27    46 98707    15]\n",
      " [   28    47 95387     1]\n",
      " [   29    35 94638    25]\n",
      " [   30    34 63483     7]]\n"
     ]
    }
   ],
   "source": [
    "salarios_acima_60k = dataset[dataset[:, 2] > 60000]\n",
    "print(\"Funcionários com salários acima de 60.000:\")\n",
    "print(salarios_acima_60k)"
   ]
  },
  {
   "cell_type": "markdown",
   "metadata": {},
   "source": [
    "### 13. Ordenar o dataset pelo salário"
   ]
  },
  {
   "cell_type": "code",
   "execution_count": 19,
   "metadata": {},
   "outputs": [
    {
     "name": "stdout",
     "output_type": "stream",
     "text": [
      "Dataset ordenado pelo salário:\n",
      "[[    1    58 40189     7]\n",
      " [    7    38 41267     6]\n",
      " [    5    40 41899     4]\n",
      " [   25    41 42612    25]\n",
      " [   11    43 43556    26]\n",
      " [   12    55 43890    34]\n",
      " [   21    21 48433    16]\n",
      " [   18    43 48792    14]\n",
      " [   17    21 50627     8]\n",
      " [   23    52 51016    24]\n",
      " [   10    30 51394    18]\n",
      " [   15    22 54502    31]\n",
      " [    2    48 59118     8]\n",
      " [   16    41 61777    15]\n",
      " [   30    34 63483     7]\n",
      " [   24    31 63897    26]\n",
      " [   14    43 70740    14]\n",
      " [    8    42 71551     4]\n",
      " [    3    34 75773    14]\n",
      " [   13    59 81606    10]\n",
      " [   22    40 83001    18]\n",
      " [   20    57 83021    21]\n",
      " [   19    49 83323    23]\n",
      " [    9    30 90680    29]\n",
      " [    4    27 93810    17]\n",
      " [   29    35 94638    25]\n",
      " [   28    47 95387     1]\n",
      " [   26    44 96193    29]\n",
      " [    6    58 96886     2]\n",
      " [   27    46 98707    15]]\n"
     ]
    }
   ],
   "source": [
    "dataset_ordenado = dataset[dataset[:, 2].argsort()]\n",
    "print(\"Dataset ordenado pelo salário:\")\n",
    "print(dataset_ordenado)"
   ]
  },
  {
   "cell_type": "markdown",
   "metadata": {},
   "source": [
    "### 14. Criar uma cópia do dataset"
   ]
  },
  {
   "cell_type": "code",
   "execution_count": 20,
   "metadata": {},
   "outputs": [
    {
     "name": "stdout",
     "output_type": "stream",
     "text": [
      "Cópia do dataset:\n",
      "[[    1    58 40189     7]\n",
      " [    2    48 59118     8]\n",
      " [    3    34 75773    14]\n",
      " [    4    27 93810    17]\n",
      " [    5    40 41899     4]\n",
      " [    6    58 96886     2]\n",
      " [    7    38 41267     6]\n",
      " [    8    42 71551     4]\n",
      " [    9    30 90680    29]\n",
      " [   10    30 51394    18]\n",
      " [   11    43 43556    26]\n",
      " [   12    55 43890    34]\n",
      " [   13    59 81606    10]\n",
      " [   14    43 70740    14]\n",
      " [   15    22 54502    31]\n",
      " [   16    41 61777    15]\n",
      " [   17    21 50627     8]\n",
      " [   18    43 48792    14]\n",
      " [   19    49 83323    23]\n",
      " [   20    57 83021    21]\n",
      " [   21    21 48433    16]\n",
      " [   22    40 83001    18]\n",
      " [   23    52 51016    24]\n",
      " [   24    31 63897    26]\n",
      " [   25    41 42612    25]\n",
      " [   26    44 96193    29]\n",
      " [   27    46 98707    15]\n",
      " [   28    47 95387     1]\n",
      " [   29    35 94638    25]\n",
      " [   30    34 63483     7]]\n"
     ]
    }
   ],
   "source": [
    "dataset_copia = dataset.copy()\n",
    "print(\"Cópia do dataset:\")\n",
    "print(dataset_copia)"
   ]
  }
 ],
 "metadata": {
  "kernelspec": {
   "display_name": "Python 3",
   "language": "python",
   "name": "python3"
  },
  "language_info": {
   "codemirror_mode": {
    "name": "ipython",
    "version": 3
   },
   "file_extension": ".py",
   "mimetype": "text/x-python",
   "name": "python",
   "nbconvert_exporter": "python",
   "pygments_lexer": "ipython3",
   "version": "3.12.4"
  }
 },
 "nbformat": 4,
 "nbformat_minor": 2
}
