{
 "cells": [
  {
   "cell_type": "markdown",
   "metadata": {},
   "source": [
    "### Imports"
   ]
  },
  {
   "cell_type": "code",
   "execution_count": 21,
   "metadata": {},
   "outputs": [],
   "source": [
    "import os\n",
    "import numpy as np\n",
    "import pandas as pd\n",
    "from scipy.stats import ttest_1samp\n",
    "import matplotlib.pyplot as plt\n",
    "import seaborn as sns"
   ]
  },
  {
   "cell_type": "markdown",
   "metadata": {},
   "source": [
    "### Caminho atual e leitura do arquivo"
   ]
  },
  {
   "cell_type": "code",
   "execution_count": 22,
   "metadata": {},
   "outputs": [],
   "source": [
    "path = os.getcwd()\n",
    "data = pd.read_csv(os.path.join(path, 'c:\\\\Users\\\\Yuki\\\\Desktop\\\\github\\\\DS_Unesp\\\\Datasets\\\\lanchonete.csv'))"
   ]
  },
  {
   "cell_type": "markdown",
   "metadata": {},
   "source": [
    "### Extração da coluna de minutos e definição da média"
   ]
  },
  {
   "cell_type": "code",
   "execution_count": 23,
   "metadata": {},
   "outputs": [],
   "source": [
    "tempo_entrega = data['Minutos']\n",
    "media_hypotese = 30"
   ]
  },
  {
   "cell_type": "markdown",
   "metadata": {},
   "source": [
    "### Teste t de uma amostra"
   ]
  },
  {
   "cell_type": "code",
   "execution_count": 24,
   "metadata": {},
   "outputs": [],
   "source": [
    "estatistica_t, valor_p = ttest_1samp(tempo_entrega, media_hypotese)"
   ]
  },
  {
   "cell_type": "markdown",
   "metadata": {},
   "source": [
    "### Resultados do teste"
   ]
  },
  {
   "cell_type": "code",
   "execution_count": 25,
   "metadata": {},
   "outputs": [
    {
     "name": "stdout",
     "output_type": "stream",
     "text": [
      "Estatística t: 3.21\n",
      "p-valor: 0.0032\n"
     ]
    }
   ],
   "source": [
    "print(f\"Estatística t: {estatistica_t:.2f}\")\n",
    "print(f\"p-valor: {valor_p:.4f}\")"
   ]
  },
  {
   "cell_type": "markdown",
   "metadata": {},
   "source": [
    "### Nível de significância"
   ]
  },
  {
   "cell_type": "code",
   "execution_count": 26,
   "metadata": {},
   "outputs": [
    {
     "name": "stdout",
     "output_type": "stream",
     "text": [
      "Hipótese nula rejeitada: a média dos minutos de entrega é significativamente diferente de 30.\n"
     ]
    }
   ],
   "source": [
    "significancia = 0.05\n",
    "\n",
    "if valor_p < significancia:\n",
    "    print(\"Hipótese nula rejeitada: a média dos minutos de entrega é significativamente diferente de 30.\")\n",
    "else:\n",
    "    print(\"Falha em rejeitar a hipótese nula: a média dos minutos de entrega não é significativamente diferente de 30.\")"
   ]
  }
 ],
 "metadata": {
  "kernelspec": {
   "display_name": "Python 3",
   "language": "python",
   "name": "python3"
  },
  "language_info": {
   "codemirror_mode": {
    "name": "ipython",
    "version": 3
   },
   "file_extension": ".py",
   "mimetype": "text/x-python",
   "name": "python",
   "nbconvert_exporter": "python",
   "pygments_lexer": "ipython3",
   "version": "3.12.4"
  }
 },
 "nbformat": 4,
 "nbformat_minor": 2
}
