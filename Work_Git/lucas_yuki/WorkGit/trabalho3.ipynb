{
 "cells": [
  {
   "cell_type": "code",
   "execution_count": 29,
   "metadata": {},
   "outputs": [],
   "source": [
    "import pandas as pd\n",
    "import random\n",
    "import numpy as np\n",
    "from faker import Faker"
   ]
  },
  {
   "cell_type": "code",
   "execution_count": 30,
   "metadata": {},
   "outputs": [],
   "source": [
    "# Inicializar o Faker\n",
    "fake = Faker()"
   ]
  },
  {
   "cell_type": "code",
   "execution_count": 31,
   "metadata": {},
   "outputs": [],
   "source": [
    "# Função para gerar dados\n",
    "def gerar_dados(n):\n",
    "    produtos = ['Laptop', 'Smartphone', 'Tablet', 'Monitor', 'Teclado', 'Mouse', 'Impressora', 'Câmera', 'Fone de Ouvido', 'Smartwatch']\n",
    "    categorias = ['Eletrônicos', 'Acessórios', 'Periféricos']\n",
    "    localidades = ['São Paulo', 'Rio de Janeiro', 'Curitiba', 'Belo Horizonte', 'Porto Alegre']\n",
    "\n",
    "    data = []\n",
    "    \n",
    "    for _ in range(n):\n",
    "        ID_Produto = random.randint(1000, 9999)\n",
    "        Nome_Produto = random.choice(produtos)\n",
    "        Categoria = random.choice(categorias)\n",
    "        Preço = round(random.uniform(50, 5000), 2)\n",
    "        Quantidade_Vendida = random.randint(1, 50)\n",
    "        ID_Loja = random.randint(1, 50)\n",
    "        Localidade_Loja = random.choice(localidades)\n",
    "        Data_Venda = fake.date_between(start_date='-2y', end_date='today')\n",
    "\n",
    "        data.append([ID_Produto, Nome_Produto, Categoria, Preço, Quantidade_Vendida, ID_Loja, Localidade_Loja, Data_Venda])\n",
    "    \n",
    "    df = pd.DataFrame(data, columns=['ID_Produto', 'Nome_Produto', 'Categoria', 'Preço', 'Quantidade_Vendida', 'ID_Loja', 'Localidade_Loja', 'Data_Venda'])\n",
    "    return df"
   ]
  },
  {
   "cell_type": "code",
   "execution_count": 32,
   "metadata": {},
   "outputs": [],
   "source": [
    "# Gerar 250 registros\n",
    "df = gerar_dados(250)\n",
    "\n",
    "# Salvar em um arquivo CSV\n",
    "df.to_csv('dados_vendas.csv', index=False)"
   ]
  },
  {
   "cell_type": "code",
   "execution_count": 33,
   "metadata": {},
   "outputs": [
    {
     "data": {
      "text/html": [
       "<div>\n",
       "<style scoped>\n",
       "    .dataframe tbody tr th:only-of-type {\n",
       "        vertical-align: middle;\n",
       "    }\n",
       "\n",
       "    .dataframe tbody tr th {\n",
       "        vertical-align: top;\n",
       "    }\n",
       "\n",
       "    .dataframe thead th {\n",
       "        text-align: right;\n",
       "    }\n",
       "</style>\n",
       "<table border=\"1\" class=\"dataframe\">\n",
       "  <thead>\n",
       "    <tr style=\"text-align: right;\">\n",
       "      <th></th>\n",
       "      <th>ID_Produto</th>\n",
       "      <th>Nome_Produto</th>\n",
       "      <th>Categoria</th>\n",
       "      <th>Preço</th>\n",
       "      <th>Quantidade_Vendida</th>\n",
       "      <th>ID_Loja</th>\n",
       "      <th>Localidade_Loja</th>\n",
       "      <th>Data_Venda</th>\n",
       "    </tr>\n",
       "  </thead>\n",
       "  <tbody>\n",
       "    <tr>\n",
       "      <th>0</th>\n",
       "      <td>8976</td>\n",
       "      <td>Teclado</td>\n",
       "      <td>Periféricos</td>\n",
       "      <td>182.39</td>\n",
       "      <td>9</td>\n",
       "      <td>12</td>\n",
       "      <td>Belo Horizonte</td>\n",
       "      <td>2023-06-26</td>\n",
       "    </tr>\n",
       "    <tr>\n",
       "      <th>1</th>\n",
       "      <td>4626</td>\n",
       "      <td>Smartphone</td>\n",
       "      <td>Eletrônicos</td>\n",
       "      <td>4654.80</td>\n",
       "      <td>2</td>\n",
       "      <td>42</td>\n",
       "      <td>Rio de Janeiro</td>\n",
       "      <td>2023-11-17</td>\n",
       "    </tr>\n",
       "    <tr>\n",
       "      <th>2</th>\n",
       "      <td>9023</td>\n",
       "      <td>Smartphone</td>\n",
       "      <td>Periféricos</td>\n",
       "      <td>1706.24</td>\n",
       "      <td>22</td>\n",
       "      <td>49</td>\n",
       "      <td>Curitiba</td>\n",
       "      <td>2023-02-06</td>\n",
       "    </tr>\n",
       "    <tr>\n",
       "      <th>3</th>\n",
       "      <td>2526</td>\n",
       "      <td>Tablet</td>\n",
       "      <td>Periféricos</td>\n",
       "      <td>723.53</td>\n",
       "      <td>42</td>\n",
       "      <td>49</td>\n",
       "      <td>São Paulo</td>\n",
       "      <td>2022-12-14</td>\n",
       "    </tr>\n",
       "    <tr>\n",
       "      <th>4</th>\n",
       "      <td>2837</td>\n",
       "      <td>Smartwatch</td>\n",
       "      <td>Periféricos</td>\n",
       "      <td>537.35</td>\n",
       "      <td>30</td>\n",
       "      <td>26</td>\n",
       "      <td>Belo Horizonte</td>\n",
       "      <td>2022-11-11</td>\n",
       "    </tr>\n",
       "  </tbody>\n",
       "</table>\n",
       "</div>"
      ],
      "text/plain": [
       "   ID_Produto Nome_Produto    Categoria    Preço  Quantidade_Vendida  ID_Loja  \\\n",
       "0        8976      Teclado  Periféricos   182.39                   9       12   \n",
       "1        4626   Smartphone  Eletrônicos  4654.80                   2       42   \n",
       "2        9023   Smartphone  Periféricos  1706.24                  22       49   \n",
       "3        2526       Tablet  Periféricos   723.53                  42       49   \n",
       "4        2837   Smartwatch  Periféricos   537.35                  30       26   \n",
       "\n",
       "  Localidade_Loja  Data_Venda  \n",
       "0  Belo Horizonte  2023-06-26  \n",
       "1  Rio de Janeiro  2023-11-17  \n",
       "2        Curitiba  2023-02-06  \n",
       "3       São Paulo  2022-12-14  \n",
       "4  Belo Horizonte  2022-11-11  "
      ]
     },
     "execution_count": 33,
     "metadata": {},
     "output_type": "execute_result"
    }
   ],
   "source": [
    "# Exibir os primeiros registros\n",
    "df.head()"
   ]
  },
  {
   "cell_type": "code",
   "execution_count": 34,
   "metadata": {},
   "outputs": [],
   "source": [
    "df = pd.read_csv('dados_vendas.csv')"
   ]
  },
  {
   "cell_type": "code",
   "execution_count": 35,
   "metadata": {},
   "outputs": [
    {
     "data": {
      "text/plain": [
       "Nome_Produto\n",
       "Câmera             603\n",
       "Fone de Ouvido     706\n",
       "Impressora         593\n",
       "Laptop             640\n",
       "Monitor            724\n",
       "Mouse              365\n",
       "Smartphone        1207\n",
       "Smartwatch         580\n",
       "Tablet             793\n",
       "Teclado            510\n",
       "Name: Quantidade_Vendida, dtype: int64"
      ]
     },
     "execution_count": 35,
     "metadata": {},
     "output_type": "execute_result"
    }
   ],
   "source": [
    "total_vendas_produto = df.groupby('Nome_Produto')['Quantidade_Vendida'].sum()\n",
    "total_vendas_produto"
   ]
  },
  {
   "cell_type": "code",
   "execution_count": 43,
   "metadata": {},
   "outputs": [
    {
     "name": "stdout",
     "output_type": "stream",
     "text": [
      "A loja com mais vendas é a de ID = 27\n"
     ]
    }
   ],
   "source": [
    "vendas_loja = df.groupby('ID_Loja')['Quantidade_Vendida'].sum().idxmax()\n",
    "print(f'A loja com mais vendas é a de ID = {vendas_loja}')"
   ]
  },
  {
   "cell_type": "code",
   "execution_count": 41,
   "metadata": {},
   "outputs": [
    {
     "name": "stdout",
     "output_type": "stream",
     "text": [
      "A categoria com mais vendas é Periféricos\n"
     ]
    }
   ],
   "source": [
    "total_vendas_categoria = df.groupby('Categoria')['Quantidade_Vendida'].sum().idxmax()\n",
    "print(f'A categoria com mais vendas é {total_vendas_categoria}')"
   ]
  },
  {
   "cell_type": "code",
   "execution_count": 44,
   "metadata": {},
   "outputs": [],
   "source": [
    "df['Data_Venda'] = pd.to_datetime(df['Data_Venda'])"
   ]
  },
  {
   "cell_type": "code",
   "execution_count": 48,
   "metadata": {},
   "outputs": [],
   "source": [
    "df['Mes_Ano'] = df['Data_Venda'].dt.to_period('M')"
   ]
  },
  {
   "cell_type": "code",
   "execution_count": 49,
   "metadata": {},
   "outputs": [
    {
     "name": "stdout",
     "output_type": "stream",
     "text": [
      "O ano-mes com mais vendas foi 2022-11\n"
     ]
    }
   ],
   "source": [
    "mes_mais_vendas = df.groupby('Mes_Ano')['Quantidade_Vendida'].sum().idxmax()\n",
    "print(f'O ano-mes com mais vendas foi {mes_mais_vendas}')"
   ]
  },
  {
   "cell_type": "code",
   "execution_count": 50,
   "metadata": {},
   "outputs": [],
   "source": [
    "df['Valor_Venda'] = df['Quantidade_Vendida'] *  df['Preço']"
   ]
  },
  {
   "cell_type": "code",
   "execution_count": 55,
   "metadata": {},
   "outputs": [
    {
     "name": "stdout",
     "output_type": "stream",
     "text": [
      "O mês com mais renda foi 2023-10\n"
     ]
    }
   ],
   "source": [
    "mes_mais_receita = df.groupby('Mes_Ano')['Valor_Venda'].sum().idxmax()\n",
    "print(f'O mês com mais renda foi {mes_mais_receita}')"
   ]
  },
  {
   "cell_type": "code",
   "execution_count": null,
   "metadata": {},
   "outputs": [],
   "source": []
  }
 ],
 "metadata": {
  "kernelspec": {
   "display_name": "venv",
   "language": "python",
   "name": "python3"
  },
  "language_info": {
   "codemirror_mode": {
    "name": "ipython",
    "version": 3
   },
   "file_extension": ".py",
   "mimetype": "text/x-python",
   "name": "python",
   "nbconvert_exporter": "python",
   "pygments_lexer": "ipython3",
   "version": "3.12.2"
  }
 },
 "nbformat": 4,
 "nbformat_minor": 2
}
