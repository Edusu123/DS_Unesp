{
 "cells": [
  {
   "cell_type": "markdown",
   "metadata": {},
   "source": [
    "### Imports"
   ]
  },
  {
   "cell_type": "code",
   "execution_count": 1,
   "metadata": {},
   "outputs": [],
   "source": [
    "import pandas as pd\n",
    "import random\n",
    "import numpy as np\n",
    "from faker import Faker"
   ]
  },
  {
   "cell_type": "markdown",
   "metadata": {},
   "source": [
    "### Inicializar o Faker"
   ]
  },
  {
   "cell_type": "code",
   "execution_count": 2,
   "metadata": {},
   "outputs": [],
   "source": [
    "fake = Faker()"
   ]
  },
  {
   "cell_type": "markdown",
   "metadata": {},
   "source": [
    "### Função para gerar dados"
   ]
  },
  {
   "cell_type": "code",
   "execution_count": 3,
   "metadata": {},
   "outputs": [],
   "source": [
    "def gerar_dados(n):\n",
    "    produtos = ['Laptop', 'Smartphone', 'Tablet', 'Monitor', 'Teclado', 'Mouse', 'Impressora', 'Câmera', 'Fone de Ouvido', 'Smartwatch']\n",
    "    categorias = ['Eletrônicos', 'Acessórios', 'Periféricos']\n",
    "    localidades = ['São Paulo', 'Rio de Janeiro', 'Curitiba', 'Belo Horizonte', 'Porto Alegre']\n",
    "\n",
    "    data = []\n",
    "    \n",
    "    for _ in range(n):\n",
    "        ID_Produto = random.randint(1000, 9999)\n",
    "        Nome_Produto = random.choice(produtos)\n",
    "        Categoria = random.choice(categorias)\n",
    "        Preço = round(random.uniform(50, 5000), 2)\n",
    "        Quantidade_Vendida = random.randint(1, 50)\n",
    "        ID_Loja = random.randint(1, 50)\n",
    "        Localidade_Loja = random.choice(localidades)\n",
    "        Data_Venda = fake.date_between(start_date='-2y', end_date='today')\n",
    "\n",
    "        data.append([ID_Produto, Nome_Produto, Categoria, Preço, Quantidade_Vendida, ID_Loja, Localidade_Loja, Data_Venda])\n",
    "    \n",
    "    df = pd.DataFrame(data, columns=['ID_Produto', 'Nome_Produto', 'Categoria', 'Preço', 'Quantidade_Vendida', 'ID_Loja', 'Localidade_Loja', 'Data_Venda'])\n",
    "    return df"
   ]
  },
  {
   "cell_type": "code",
   "execution_count": 4,
   "metadata": {},
   "outputs": [],
   "source": [
    "# Gerar 250 registros\n",
    "df = gerar_dados(250)\n",
    "\n",
    "# Salvar em CSV\n",
    "df.to_csv('dados_vendas.csv', index=False)"
   ]
  },
  {
   "cell_type": "code",
   "execution_count": 5,
   "metadata": {},
   "outputs": [
    {
     "data": {
      "text/html": [
       "<div>\n",
       "<style scoped>\n",
       "    .dataframe tbody tr th:only-of-type {\n",
       "        vertical-align: middle;\n",
       "    }\n",
       "\n",
       "    .dataframe tbody tr th {\n",
       "        vertical-align: top;\n",
       "    }\n",
       "\n",
       "    .dataframe thead th {\n",
       "        text-align: right;\n",
       "    }\n",
       "</style>\n",
       "<table border=\"1\" class=\"dataframe\">\n",
       "  <thead>\n",
       "    <tr style=\"text-align: right;\">\n",
       "      <th></th>\n",
       "      <th>ID_Produto</th>\n",
       "      <th>Nome_Produto</th>\n",
       "      <th>Categoria</th>\n",
       "      <th>Preço</th>\n",
       "      <th>Quantidade_Vendida</th>\n",
       "      <th>ID_Loja</th>\n",
       "      <th>Localidade_Loja</th>\n",
       "      <th>Data_Venda</th>\n",
       "    </tr>\n",
       "  </thead>\n",
       "  <tbody>\n",
       "    <tr>\n",
       "      <th>0</th>\n",
       "      <td>9308</td>\n",
       "      <td>Mouse</td>\n",
       "      <td>Eletrônicos</td>\n",
       "      <td>4552.07</td>\n",
       "      <td>35</td>\n",
       "      <td>5</td>\n",
       "      <td>São Paulo</td>\n",
       "      <td>2023-09-29</td>\n",
       "    </tr>\n",
       "    <tr>\n",
       "      <th>1</th>\n",
       "      <td>9489</td>\n",
       "      <td>Smartphone</td>\n",
       "      <td>Eletrônicos</td>\n",
       "      <td>127.63</td>\n",
       "      <td>30</td>\n",
       "      <td>22</td>\n",
       "      <td>Belo Horizonte</td>\n",
       "      <td>2024-02-03</td>\n",
       "    </tr>\n",
       "    <tr>\n",
       "      <th>2</th>\n",
       "      <td>8261</td>\n",
       "      <td>Smartwatch</td>\n",
       "      <td>Eletrônicos</td>\n",
       "      <td>939.35</td>\n",
       "      <td>45</td>\n",
       "      <td>5</td>\n",
       "      <td>Curitiba</td>\n",
       "      <td>2024-04-19</td>\n",
       "    </tr>\n",
       "    <tr>\n",
       "      <th>3</th>\n",
       "      <td>3815</td>\n",
       "      <td>Câmera</td>\n",
       "      <td>Periféricos</td>\n",
       "      <td>1696.92</td>\n",
       "      <td>25</td>\n",
       "      <td>18</td>\n",
       "      <td>Rio de Janeiro</td>\n",
       "      <td>2024-07-30</td>\n",
       "    </tr>\n",
       "    <tr>\n",
       "      <th>4</th>\n",
       "      <td>1114</td>\n",
       "      <td>Laptop</td>\n",
       "      <td>Acessórios</td>\n",
       "      <td>4942.55</td>\n",
       "      <td>8</td>\n",
       "      <td>9</td>\n",
       "      <td>Porto Alegre</td>\n",
       "      <td>2024-01-16</td>\n",
       "    </tr>\n",
       "  </tbody>\n",
       "</table>\n",
       "</div>"
      ],
      "text/plain": [
       "   ID_Produto Nome_Produto    Categoria    Preço  Quantidade_Vendida  ID_Loja  \\\n",
       "0        9308        Mouse  Eletrônicos  4552.07                  35        5   \n",
       "1        9489   Smartphone  Eletrônicos   127.63                  30       22   \n",
       "2        8261   Smartwatch  Eletrônicos   939.35                  45        5   \n",
       "3        3815       Câmera  Periféricos  1696.92                  25       18   \n",
       "4        1114       Laptop   Acessórios  4942.55                   8        9   \n",
       "\n",
       "  Localidade_Loja  Data_Venda  \n",
       "0       São Paulo  2023-09-29  \n",
       "1  Belo Horizonte  2024-02-03  \n",
       "2        Curitiba  2024-04-19  \n",
       "3  Rio de Janeiro  2024-07-30  \n",
       "4    Porto Alegre  2024-01-16  "
      ]
     },
     "execution_count": 5,
     "metadata": {},
     "output_type": "execute_result"
    }
   ],
   "source": [
    "# Exibir os primeiros registros\n",
    "df.head(5)"
   ]
  },
  {
   "cell_type": "markdown",
   "metadata": {},
   "source": [
    "### Começar um Data Frame com as informações geradas"
   ]
  },
  {
   "cell_type": "code",
   "execution_count": 6,
   "metadata": {},
   "outputs": [],
   "source": [
    "df = pd.read_csv('dados_vendas.csv')"
   ]
  },
  {
   "cell_type": "markdown",
   "metadata": {},
   "source": [
    "# 1 - Produto mais vendido"
   ]
  },
  {
   "cell_type": "code",
   "execution_count": 19,
   "metadata": {},
   "outputs": [
    {
     "name": "stdout",
     "output_type": "stream",
     "text": [
      "Nome_Produto\n",
      "Câmera            459\n",
      "Fone de Ouvido    758\n",
      "Impressora        707\n",
      "Laptop            575\n",
      "Monitor           532\n",
      "Mouse             543\n",
      "Smartphone        919\n",
      "Smartwatch        788\n",
      "Tablet            750\n",
      "Teclado           421\n",
      "Name: Quantidade_Vendida, dtype: int64\n",
      "O Smartphone teve 919 unidades vendidas\n"
     ]
    }
   ],
   "source": [
    "total_vendas_produto = df.groupby('Nome_Produto')['Quantidade_Vendida'].sum()\n",
    "print(total_vendas_produto)\n",
    "\n",
    "produto_mais_vendido = total_vendas_produto.idxmax()\n",
    "print(f'O {produto_mais_vendido} teve {total_vendas_produto[\"Smartphone\"]} unidades vendidas')"
   ]
  },
  {
   "cell_type": "code",
   "execution_count": 8,
   "metadata": {},
   "outputs": [
    {
     "name": "stdout",
     "output_type": "stream",
     "text": [
      "A loja com mais vendas é a de ID = 41\n"
     ]
    }
   ],
   "source": [
    "vendas_loja = df.groupby('ID_Loja')['Quantidade_Vendida'].sum().idxmax()\n",
    "print(f'A loja com mais vendas é a de ID = {vendas_loja}')"
   ]
  },
  {
   "cell_type": "code",
   "execution_count": 9,
   "metadata": {},
   "outputs": [
    {
     "name": "stdout",
     "output_type": "stream",
     "text": [
      "A categoria com mais vendas é Eletrônicos\n"
     ]
    }
   ],
   "source": [
    "total_vendas_categoria = df.groupby('Categoria')['Quantidade_Vendida'].sum().idxmax()\n",
    "print(f'A categoria com mais vendas é {total_vendas_categoria}')"
   ]
  },
  {
   "cell_type": "code",
   "execution_count": 10,
   "metadata": {},
   "outputs": [],
   "source": [
    "df['Data_Venda'] = pd.to_datetime(df['Data_Venda'])"
   ]
  },
  {
   "cell_type": "code",
   "execution_count": 11,
   "metadata": {},
   "outputs": [],
   "source": [
    "df['Mes_Ano'] = df['Data_Venda'].dt.to_period('M')"
   ]
  },
  {
   "cell_type": "code",
   "execution_count": 12,
   "metadata": {},
   "outputs": [
    {
     "name": "stdout",
     "output_type": "stream",
     "text": [
      "O ano-mes com mais vendas foi 2024-07\n"
     ]
    }
   ],
   "source": [
    "mes_mais_vendas = df.groupby('Mes_Ano')['Quantidade_Vendida'].sum().idxmax()\n",
    "print(f'O ano-mes com mais vendas foi {mes_mais_vendas}')"
   ]
  },
  {
   "cell_type": "code",
   "execution_count": 13,
   "metadata": {},
   "outputs": [],
   "source": [
    "df['Valor_Venda'] = df['Quantidade_Vendida'] *  df['Preço']"
   ]
  },
  {
   "cell_type": "code",
   "execution_count": 14,
   "metadata": {},
   "outputs": [
    {
     "name": "stdout",
     "output_type": "stream",
     "text": [
      "O mês com mais renda foi 2023-01\n"
     ]
    }
   ],
   "source": [
    "mes_mais_receita = df.groupby('Mes_Ano')['Valor_Venda'].sum().idxmax()\n",
    "print(f'O mês com mais renda foi {mes_mais_receita}')"
   ]
  }
 ],
 "metadata": {
  "kernelspec": {
   "display_name": "venv",
   "language": "python",
   "name": "python3"
  },
  "language_info": {
   "codemirror_mode": {
    "name": "ipython",
    "version": 3
   },
   "file_extension": ".py",
   "mimetype": "text/x-python",
   "name": "python",
   "nbconvert_exporter": "python",
   "pygments_lexer": "ipython3",
   "version": "3.12.2"
  }
 },
 "nbformat": 4,
 "nbformat_minor": 2
}
