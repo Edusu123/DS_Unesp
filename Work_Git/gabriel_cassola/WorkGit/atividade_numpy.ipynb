{
 "cells": [
  {
   "cell_type": "markdown",
   "metadata": {},
   "source": [
    "# Atividade Numpy"
   ]
  },
  {
   "cell_type": "markdown",
   "metadata": {},
   "source": [
    "## Exercícios\n",
    "\n",
    "Vamos criar um dataset para aplicarmos alguns comandos do python e numpy.\n"
   ]
  },
  {
   "cell_type": "code",
   "execution_count": 45,
   "metadata": {},
   "outputs": [
    {
     "name": "stdout",
     "output_type": "stream",
     "text": [
      "    ID  Idade  Salário  Anos de Experiência\n",
      "0    1     58    40189                    7\n",
      "1    2     48    59118                    8\n",
      "2    3     34    75773                   14\n",
      "3    4     27    93810                   17\n",
      "4    5     40    41899                    4\n",
      "5    6     58    96886                    2\n",
      "6    7     38    41267                    6\n",
      "7    8     42    71551                    4\n",
      "8    9     30    90680                   29\n",
      "9   10     30    51394                   18\n",
      "10  11     43    43556                   26\n",
      "11  12     55    43890                   34\n",
      "12  13     59    81606                   10\n",
      "13  14     43    70740                   14\n",
      "14  15     22    54502                   31\n",
      "15  16     41    61777                   15\n",
      "16  17     21    50627                    8\n",
      "17  18     43    48792                   14\n",
      "18  19     49    83323                   23\n",
      "19  20     57    83021                   21\n",
      "20  21     21    48433                   16\n",
      "21  22     40    83001                   18\n",
      "22  23     52    51016                   24\n",
      "23  24     31    63897                   26\n",
      "24  25     41    42612                   25\n",
      "25  26     44    96193                   29\n",
      "26  27     46    98707                   15\n",
      "27  28     47    95387                    1\n",
      "28  29     35    94638                   25\n",
      "29  30     34    63483                    7\n"
     ]
    }
   ],
   "source": [
    "import numpy as np\n",
    "import pandas as pd\n",
    "\n",
    "# Definindo uma semente para garantir que os dados sejam reprodutíveis\n",
    "np.random.seed(42)\n",
    "\n",
    "# Criando um dataset fictício de 30 linhas (30 funcionários) com as colunas ID, Idade, Salário, Anos de Experiência\n",
    "n = 30\n",
    "ids = np.arange(1, n + 1)  # IDs de 1 a 30\n",
    "idades = np.random.randint(20, 60, size=n)  # Idades entre 20 e 60 anos\n",
    "salarios = np.random.randint(40000, 100000, size=n)  # Salários entre 40.000 e 100.000\n",
    "anos_experiencia = np.random.randint(1, 35, size=n)  # Anos de experiência entre 1 e 35 anos\n",
    "\n",
    "# Combinando os dados em um array\n",
    "dataset = np.column_stack((ids, idades, salarios, anos_experiencia))\n",
    "\n",
    "# Convertendo para DataFrame para visualização\n",
    "df = pd.DataFrame(dataset, columns=['ID', 'Idade', 'Salário', 'Anos de Experiência'])\n",
    "\n",
    "# Exibindo o DataFrame\n",
    "print(df)"
   ]
  },
  {
   "cell_type": "markdown",
   "metadata": {},
   "source": [
    " - Redimensionar o dataset (por exemplo, transformar 30 linhas em 10 linhas e 12 colunas)"
   ]
  },
  {
   "cell_type": "code",
   "execution_count": 46,
   "metadata": {},
   "outputs": [
    {
     "name": "stdout",
     "output_type": "stream",
     "text": [
      "[[    1    58 40189     7     2    48 59118     8     3    34 75773    14]\n",
      " [    4    27 93810    17     5    40 41899     4     6    58 96886     2]\n",
      " [    7    38 41267     6     8    42 71551     4     9    30 90680    29]\n",
      " [   10    30 51394    18    11    43 43556    26    12    55 43890    34]\n",
      " [   13    59 81606    10    14    43 70740    14    15    22 54502    31]\n",
      " [   16    41 61777    15    17    21 50627     8    18    43 48792    14]\n",
      " [   19    49 83323    23    20    57 83021    21    21    21 48433    16]\n",
      " [   22    40 83001    18    23    52 51016    24    24    31 63897    26]\n",
      " [   25    41 42612    25    26    44 96193    29    27    46 98707    15]\n",
      " [   28    47 95387     1    29    35 94638    25    30    34 63483     7]]\n"
     ]
    }
   ],
   "source": [
    "reshape = dataset.reshape(10, 12)\n",
    "print(reshape)"
   ]
  },
  {
   "cell_type": "markdown",
   "metadata": {},
   "source": [
    " - Acessar o primeiro elemento (primeira linha) do dataset\n"
   ]
  },
  {
   "cell_type": "code",
   "execution_count": 47,
   "metadata": {},
   "outputs": [
    {
     "name": "stdout",
     "output_type": "stream",
     "text": [
      "[    1    58 40189     7]\n"
     ]
    }
   ],
   "source": [
    "first_line = dataset[0,:]\n",
    "print(first_line)"
   ]
  },
  {
   "cell_type": "markdown",
   "metadata": {},
   "source": [
    " - Acessar o salário (terceira coluna) da terceira pessoa\n"
   ]
  },
  {
   "cell_type": "code",
   "execution_count": 48,
   "metadata": {},
   "outputs": [
    {
     "name": "stdout",
     "output_type": "stream",
     "text": [
      "75773\n"
     ]
    }
   ],
   "source": [
    "third_person_salary = dataset[2,2]\n",
    "print(third_person_salary)"
   ]
  },
  {
   "cell_type": "markdown",
   "metadata": {},
   "source": [
    " - Selecionar os salários de todos os funcionários\n"
   ]
  },
  {
   "cell_type": "code",
   "execution_count": 49,
   "metadata": {},
   "outputs": [
    {
     "name": "stdout",
     "output_type": "stream",
     "text": [
      "[40189 59118 75773 93810 41899 96886 41267 71551 90680 51394 43556 43890\n",
      " 81606 70740 54502 61777 50627 48792 83323 83021 48433 83001 51016 63897\n",
      " 42612 96193 98707 95387 94638 63483]\n"
     ]
    }
   ],
   "source": [
    "salaries = dataset[:,2]\n",
    "print(salaries)"
   ]
  },
  {
   "cell_type": "markdown",
   "metadata": {},
   "source": [
    " - Concatenar o dataset com um array de bônus (por exemplo, uma nova coluna)\n"
   ]
  },
  {
   "cell_type": "code",
   "execution_count": 50,
   "metadata": {},
   "outputs": [
    {
     "name": "stdout",
     "output_type": "stream",
     "text": [
      "[[    1    58 40189     7   102]\n",
      " [    2    48 59118     8   435]\n",
      " [    3    34 75773    14   860]\n",
      " [    4    27 93810    17   270]\n",
      " [    5    40 41899     4   106]\n",
      " [    6    58 96886     2    71]\n",
      " [    7    38 41267     6   700]\n",
      " [    8    42 71551     4    20]\n",
      " [    9    30 90680    29   614]\n",
      " [   10    30 51394    18   121]\n",
      " [   11    43 43556    26   466]\n",
      " [   12    55 43890    34   214]\n",
      " [   13    59 81606    10   330]\n",
      " [   14    43 70740    14   458]\n",
      " [   15    22 54502    31    87]\n",
      " [   16    41 61777    15   372]\n",
      " [   17    21 50627     8    99]\n",
      " [   18    43 48792    14   871]\n",
      " [   19    49 83323    23   663]\n",
      " [   20    57 83021    21   130]\n",
      " [   21    21 48433    16   661]\n",
      " [   22    40 83001    18   308]\n",
      " [   23    52 51016    24   769]\n",
      " [   24    31 63897    26   343]\n",
      " [   25    41 42612    25   491]\n",
      " [   26    44 96193    29   413]\n",
      " [   27    46 98707    15   805]\n",
      " [   28    47 95387     1   385]\n",
      " [   29    35 94638    25   191]\n",
      " [   30    34 63483     7   955]]\n"
     ]
    }
   ],
   "source": [
    "np.random.seed(42)\n",
    "n = 30\n",
    "bonus = np.random.randint(0, 1000, size=n)\n",
    "bonus_dataset = np.column_stack((dataset, bonus))\n",
    "print(bonus_dataset)"
   ]
  },
  {
   "cell_type": "markdown",
   "metadata": {},
   "source": [
    " - Transpor o dataset\n"
   ]
  },
  {
   "cell_type": "code",
   "execution_count": 51,
   "metadata": {},
   "outputs": [
    {
     "name": "stdout",
     "output_type": "stream",
     "text": [
      "[[    1     2     3     4     5     6     7     8     9    10    11    12\n",
      "     13    14    15    16    17    18    19    20    21    22    23    24\n",
      "     25    26    27    28    29    30]\n",
      " [   58    48    34    27    40    58    38    42    30    30    43    55\n",
      "     59    43    22    41    21    43    49    57    21    40    52    31\n",
      "     41    44    46    47    35    34]\n",
      " [40189 59118 75773 93810 41899 96886 41267 71551 90680 51394 43556 43890\n",
      "  81606 70740 54502 61777 50627 48792 83323 83021 48433 83001 51016 63897\n",
      "  42612 96193 98707 95387 94638 63483]\n",
      " [    7     8    14    17     4     2     6     4    29    18    26    34\n",
      "     10    14    31    15     8    14    23    21    16    18    24    26\n",
      "     25    29    15     1    25     7]]\n"
     ]
    }
   ],
   "source": [
    "transposed = dataset.T\n",
    "print(transposed)"
   ]
  },
  {
   "cell_type": "markdown",
   "metadata": {},
   "source": [
    " - Calcular a soma dos salários\n"
   ]
  },
  {
   "cell_type": "code",
   "execution_count": 52,
   "metadata": {},
   "outputs": [
    {
     "name": "stdout",
     "output_type": "stream",
     "text": [
      "2021768\n"
     ]
    }
   ],
   "source": [
    "salaries_sum = dataset[:,2].sum()\n",
    "print(salaries_sum)"
   ]
  },
  {
   "cell_type": "markdown",
   "metadata": {},
   "source": [
    " - Calcular a média dos anos de experiência\n"
   ]
  },
  {
   "cell_type": "code",
   "execution_count": 53,
   "metadata": {},
   "outputs": [
    {
     "name": "stdout",
     "output_type": "stream",
     "text": [
      "16.366666666666667\n"
     ]
    }
   ],
   "source": [
    "experience_mean = dataset[:,3].mean()\n",
    "print(experience_mean)"
   ]
  },
  {
   "cell_type": "markdown",
   "metadata": {},
   "source": [
    " - Calcular o desvio padrão das idades\n"
   ]
  },
  {
   "cell_type": "code",
   "execution_count": 54,
   "metadata": {},
   "outputs": [
    {
     "name": "stdout",
     "output_type": "stream",
     "text": [
      "10.824303929378349\n"
     ]
    }
   ],
   "source": [
    "age_std = dataset[:,1].std()\n",
    "print(age_std)"
   ]
  },
  {
   "cell_type": "markdown",
   "metadata": {},
   "source": [
    " - Multiplicar o salário e os anos de experiência de cada funcionário\n"
   ]
  },
  {
   "cell_type": "code",
   "execution_count": 55,
   "metadata": {},
   "outputs": [
    {
     "name": "stdout",
     "output_type": "stream",
     "text": [
      "[ 281323  472944 1060822 1594770  167596  193772  247602  286204 2629720\n",
      "  925092 1132456 1492260  816060  990360 1689562  926655  405016  683088\n",
      " 1916429 1743441  774928 1494018 1224384 1661322 1065300 2789597 1480605\n",
      "   95387 2365950  444381]\n"
     ]
    }
   ],
   "source": [
    "product = dataset[:,2] * dataset[:,3]\n",
    "print(product)"
   ]
  },
  {
   "cell_type": "markdown",
   "metadata": {},
   "source": [
    " - Calcular o produto da matriz transposta do dataset com ela mesma\n"
   ]
  },
  {
   "cell_type": "code",
   "execution_count": 56,
   "metadata": {},
   "outputs": [
    {
     "name": "stdout",
     "output_type": "stream",
     "text": [
      "[[         1          4          9         16         25         36\n",
      "          49         64         81        100        121        144\n",
      "         169        196        225        256        289        324\n",
      "         361        400        441        484        529        576\n",
      "         625        676        729        784        841        900]\n",
      " [      3364       2304       1156        729       1600       3364\n",
      "        1444       1764        900        900       1849       3025\n",
      "        3481       1849        484       1681        441       1849\n",
      "        2401       3249        441       1600       2704        961\n",
      "        1681       1936       2116       2209       1225       1156]\n",
      " [1615155721 3494937924 5741547529 8800316100 1755526201 9386896996\n",
      "  1702965289 5119545601 8222862400 2641343236 1897125136 1926332100\n",
      "  6659539236 5004147600 2970468004 3816397729 2563093129 2380659264\n",
      "  6942722329 6892486441 2345755489 6889166001 2602632256 4082826609\n",
      "  1815782544 9253093249 9743071849 9098679769 8956351044 4030091289]\n",
      " [        49         64        196        289         16          4\n",
      "          36         16        841        324        676       1156\n",
      "         100        196        961        225         64        196\n",
      "         529        441        256        324        576        676\n",
      "         625        841        225          1        625         49]]\n"
     ]
    }
   ],
   "source": [
    "transposed = dataset.T\n",
    "transposed_product = transposed * transposed\n",
    "print(transposed_product)"
   ]
  },
  {
   "cell_type": "markdown",
   "metadata": {},
   "source": [
    " - Filtrar funcionários com salários maiores que 60.000\n"
   ]
  },
  {
   "cell_type": "code",
   "execution_count": 57,
   "metadata": {},
   "outputs": [
    {
     "name": "stdout",
     "output_type": "stream",
     "text": [
      "[[    3    34 75773    14]\n",
      " [    4    27 93810    17]\n",
      " [    6    58 96886     2]\n",
      " [    8    42 71551     4]\n",
      " [    9    30 90680    29]\n",
      " [   13    59 81606    10]\n",
      " [   14    43 70740    14]\n",
      " [   16    41 61777    15]\n",
      " [   19    49 83323    23]\n",
      " [   20    57 83021    21]\n",
      " [   22    40 83001    18]\n",
      " [   24    31 63897    26]\n",
      " [   26    44 96193    29]\n",
      " [   27    46 98707    15]\n",
      " [   28    47 95387     1]\n",
      " [   29    35 94638    25]\n",
      " [   30    34 63483     7]]\n"
     ]
    }
   ],
   "source": [
    "indices = np.where(dataset[:, 2] > 60000)\n",
    "salaries_over_60000 = dataset[indices]\n",
    "print(salaries_over_60000)"
   ]
  },
  {
   "cell_type": "markdown",
   "metadata": {},
   "source": [
    " - Ordenar o dataset pelo salário\n"
   ]
  },
  {
   "cell_type": "code",
   "execution_count": 58,
   "metadata": {},
   "outputs": [
    {
     "name": "stdout",
     "output_type": "stream",
     "text": [
      "[[    1    58 40189     7]\n",
      " [    7    38 41267     6]\n",
      " [    5    40 41899     4]\n",
      " [   25    41 42612    25]\n",
      " [   11    43 43556    26]\n",
      " [   12    55 43890    34]\n",
      " [   21    21 48433    16]\n",
      " [   18    43 48792    14]\n",
      " [   17    21 50627     8]\n",
      " [   23    52 51016    24]\n",
      " [   10    30 51394    18]\n",
      " [   15    22 54502    31]\n",
      " [    2    48 59118     8]\n",
      " [   16    41 61777    15]\n",
      " [   30    34 63483     7]\n",
      " [   24    31 63897    26]\n",
      " [   14    43 70740    14]\n",
      " [    8    42 71551     4]\n",
      " [    3    34 75773    14]\n",
      " [   13    59 81606    10]\n",
      " [   22    40 83001    18]\n",
      " [   20    57 83021    21]\n",
      " [   19    49 83323    23]\n",
      " [    9    30 90680    29]\n",
      " [    4    27 93810    17]\n",
      " [   29    35 94638    25]\n",
      " [   28    47 95387     1]\n",
      " [   26    44 96193    29]\n",
      " [    6    58 96886     2]\n",
      " [   27    46 98707    15]]\n"
     ]
    }
   ],
   "source": [
    "sorted_indices = np.argsort(dataset[:, 2])\n",
    "sorted_dataset = dataset[sorted_indices]\n",
    "print(sorted_dataset)"
   ]
  },
  {
   "cell_type": "markdown",
   "metadata": {},
   "source": [
    " - Criar uma cópia do dataset"
   ]
  },
  {
   "cell_type": "code",
   "execution_count": 59,
   "metadata": {},
   "outputs": [
    {
     "name": "stdout",
     "output_type": "stream",
     "text": [
      "[[    1    58 40189     7]\n",
      " [    2    48 59118     8]\n",
      " [    3    34 75773    14]\n",
      " [    4    27 93810    17]\n",
      " [    5    40 41899     4]\n",
      " [    6    58 96886     2]\n",
      " [    7    38 41267     6]\n",
      " [    8    42 71551     4]\n",
      " [    9    30 90680    29]\n",
      " [   10    30 51394    18]\n",
      " [   11    43 43556    26]\n",
      " [   12    55 43890    34]\n",
      " [   13    59 81606    10]\n",
      " [   14    43 70740    14]\n",
      " [   15    22 54502    31]\n",
      " [   16    41 61777    15]\n",
      " [   17    21 50627     8]\n",
      " [   18    43 48792    14]\n",
      " [   19    49 83323    23]\n",
      " [   20    57 83021    21]\n",
      " [   21    21 48433    16]\n",
      " [   22    40 83001    18]\n",
      " [   23    52 51016    24]\n",
      " [   24    31 63897    26]\n",
      " [   25    41 42612    25]\n",
      " [   26    44 96193    29]\n",
      " [   27    46 98707    15]\n",
      " [   28    47 95387     1]\n",
      " [   29    35 94638    25]\n",
      " [   30    34 63483     7]]\n"
     ]
    }
   ],
   "source": [
    "dataset_copy = dataset.copy()\n",
    "print(dataset_copy)"
   ]
  }
 ],
 "metadata": {
  "kernelspec": {
   "display_name": "Python 3",
   "language": "python",
   "name": "python3"
  },
  "language_info": {
   "codemirror_mode": {
    "name": "ipython",
    "version": 3
   },
   "file_extension": ".py",
   "mimetype": "text/x-python",
   "name": "python",
   "nbconvert_exporter": "python",
   "pygments_lexer": "ipython3",
   "version": "3.12.2"
  }
 },
 "nbformat": 4,
 "nbformat_minor": 2
}
