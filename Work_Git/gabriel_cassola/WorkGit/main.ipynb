{
 "cells": [
  {
   "cell_type": "markdown",
   "metadata": {},
   "source": [
    "# Análise do dataset Data Expo 2009: Airline on time data.\n",
    "![Aeroporto](https://aeromagazine.uol.com.br/media/_versions/cidadedomexico-divulgacao_widelg.jpg)\n"
   ]
  },
  {
   "cell_type": "markdown",
   "metadata": {},
   "source": [
    "### Importando biblioteca e lendo o dataset"
   ]
  },
  {
   "cell_type": "code",
   "execution_count": null,
   "metadata": {},
   "outputs": [],
   "source": [
    "import pandas as pd"
   ]
  },
  {
   "cell_type": "code",
   "execution_count": null,
   "metadata": {},
   "outputs": [],
   "source": [
    "df = pd.read_csv('../../../Datasets/2006-sample.csv')"
   ]
  },
  {
   "cell_type": "markdown",
   "metadata": {},
   "source": [
    "## 1) Descobrir a quantiade de atrasos de uma dada companhia passada como parâmetro."
   ]
  },
  {
   "cell_type": "code",
   "execution_count": null,
   "metadata": {},
   "outputs": [],
   "source": [
    "def count_delays(df, airline_code):\n",
    "    df_airline = df[df['UniqueCarrier'] == airline_code]\n",
    "    delay_count = df_airline[(df_airline['DepDelay'] > 0) | (df_airline['ArrDelay'] > 0)].shape[0]\n",
    "    return delay_count\n",
    "\n",
    "airline_code = input()\n",
    "delays = count_delays(df, airline_code)\n",
    "print(f\"Quantidade de atrasos para a companhia aérea {airline_code}: {delays}\")"
   ]
  },
  {
   "cell_type": "markdown",
   "metadata": {},
   "source": [
    "## 2) Descobrir o vôo com maior atraso na chegada (ArrDelay) registrado."
   ]
  },
  {
   "cell_type": "code",
   "execution_count": null,
   "metadata": {},
   "outputs": [],
   "source": [
    "index_max_arrdelay = df['ArrDelay'].idxmax()\n",
    "df_arrdelay = df.loc[index_max_arrdelay]\n",
    "date =  df_arrdelay['DayofMonth'].astype(str) + '/' + df_arrdelay['Month'].astype(str) + '/' + df_arrdelay['Year'].astype(str)\n",
    "print(f'Voo número {df_arrdelay['FlightNum']}, com código da cauda do avião {df_arrdelay['TailNum']}')\n",
    "print(f'Saindo de {df_arrdelay['Origin']} para {df_arrdelay['Dest']} no dia {date}')\n",
    "print(f'Atraso na chegada de {df_arrdelay['ArrDelay']} min, causado por:')\n",
    "for column, value in df_arrdelay.iloc[24:].items():\n",
    "    if value > 0:\n",
    "        print(f'{column} de {value} min')"
   ]
  },
  {
   "cell_type": "markdown",
   "metadata": {},
   "source": [
    "## 3) Descobrir o vôo com maior atraso na saída (DepDelay) registrado."
   ]
  },
  {
   "cell_type": "code",
   "execution_count": null,
   "metadata": {},
   "outputs": [],
   "source": [
    "index_max_depdelay = df['DepDelay'].idxmax()\n",
    "df_depdelay = df.loc[index_max_depdelay]\n",
    "date =  df_arrdelay['DayofMonth'].astype(str) + '/' + df_arrdelay['Month'].astype(str) + '/' + df_arrdelay['Year'].astype(str)\n",
    "print(f'Voo número {df_arrdelay['FlightNum']}, com código da cauda do avião {df_arrdelay['TailNum']}')\n",
    "print(f'Saindo de {df_arrdelay['Origin']} para {df_arrdelay['Dest']} no dia {date}')\n",
    "print(f'Atraso na saida de {df_arrdelay['DepDelay']} min')"
   ]
  },
  {
   "cell_type": "markdown",
   "metadata": {},
   "source": [
    "## 4) Descobrir o vôo mais longo."
   ]
  },
  {
   "cell_type": "code",
   "execution_count": null,
   "metadata": {},
   "outputs": [],
   "source": [
    "index_longest = df['AirTime'].idxmax()\n",
    "df_longest = df.loc[index_longest]\n",
    "date =  df_longest['DayofMonth'].astype(str) + '/' + df_longest['Month'].astype(str) + '/' + df_longest['Year'].astype(str)\n",
    "print(f'Voo número {df_longest['FlightNum']}, com código da cauda do avião {df_longest['TailNum']}')\n",
    "print(f'Saindo de {df_longest['Origin']} para {df_longest['Dest']} no dia {date}')\n",
    "print(f'Tempo de voo de {df_longest['AirTime']} min')"
   ]
  },
  {
   "cell_type": "markdown",
   "metadata": {},
   "source": [
    "## 5) Contar quantos vôos precisaram ser redirecionados"
   ]
  },
  {
   "cell_type": "code",
   "execution_count": null,
   "metadata": {},
   "outputs": [],
   "source": [
    "diverted_count = df['Diverted'].sum()\n",
    "print(f'Quantidade de voos que preicsaram ser redirecionados: {diverted_count}')"
   ]
  }
 ],
 "metadata": {
  "kernelspec": {
   "display_name": "Python 3",
   "language": "python",
   "name": "python3"
  },
  "language_info": {
   "name": "python",
   "version": "3.12.3"
  }
 },
 "nbformat": 4,
 "nbformat_minor": 2
}
