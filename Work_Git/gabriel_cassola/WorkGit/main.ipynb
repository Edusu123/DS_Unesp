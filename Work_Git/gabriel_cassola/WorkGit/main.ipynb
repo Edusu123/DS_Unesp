{
 "cells": [
  {
   "cell_type": "markdown",
   "metadata": {},
   "source": [
    "# Análise do dataset Data Expo 2009: Airline on time data.\n",
    "![Aeroporto](https://aeromagazine.uol.com.br/media/_versions/cidadedomexico-divulgacao_widelg.jpg)\n"
   ]
  },
  {
   "cell_type": "markdown",
   "metadata": {},
   "source": [
    "### Importando biblioteca e lendo o dataset"
   ]
  },
  {
   "cell_type": "code",
   "execution_count": null,
   "metadata": {},
   "outputs": [],
   "source": [
    "import pandas as pd"
   ]
  },
  {
   "cell_type": "code",
   "execution_count": null,
   "metadata": {},
   "outputs": [],
   "source": [
    "df = pd.read_csv('../../../Datasets/2006-sample.csv')"
   ]
  },
  {
   "cell_type": "markdown",
   "metadata": {},
   "source": [
    "## 1) Descobrir a quantiade de atrasos de uma dada companhia passada como parâmetro."
   ]
  },
  {
   "cell_type": "code",
   "execution_count": null,
   "metadata": {},
   "outputs": [],
   "source": [
    "def count_delays(df, airline_code):\n",
    "    df_airline = df[df['UniqueCarrier'] == airline_code]\n",
    "    delay_count = df_airline[(df_airline['DepDelay'] > 0) | (df_airline['ArrDelay'] > 0)].shape[0]\n",
    "    return delay_count\n",
    "\n",
    "airline_code = input()\n",
    "delays = count_delays(df, airline_code)\n",
    "print(f\"Quantidade de atrasos para a companhia aérea {airline_code}: {delays}\")"
   ]
  }
 ],
 "metadata": {
  "language_info": {
   "name": "python"
  }
 },
 "nbformat": 4,
 "nbformat_minor": 2
}
