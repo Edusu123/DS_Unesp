{
 "cells": [
  {
   "cell_type": "markdown",
   "metadata": {},
   "source": [
    "# Análise de condições climáticas em voos\n",
    "![Avião durante tempestade](https://aeroin.net/wp-content/uploads/2020/07/Tempestade-Raio-20072301-1024x679.jpg)\n"
   ]
  },
  {
   "cell_type": "markdown",
   "metadata": {},
   "source": [
    "### Importando bibliotecas"
   ]
  },
  {
   "cell_type": "code",
   "execution_count": 222,
   "metadata": {},
   "outputs": [],
   "source": [
    "import pandas as pd\n",
    "import numpy as np\n",
    "import matplotlib as plt\n",
    "from datetime import datetime, timedelta\n",
    "import random"
   ]
  },
  {
   "cell_type": "markdown",
   "metadata": {},
   "source": [
    "### Gerando dataset de clima"
   ]
  },
  {
   "cell_type": "code",
   "execution_count": 223,
   "metadata": {},
   "outputs": [
    {
     "data": {
      "text/html": [
       "<div>\n",
       "<style scoped>\n",
       "    .dataframe tbody tr th:only-of-type {\n",
       "        vertical-align: middle;\n",
       "    }\n",
       "\n",
       "    .dataframe tbody tr th {\n",
       "        vertical-align: top;\n",
       "    }\n",
       "\n",
       "    .dataframe thead th {\n",
       "        text-align: right;\n",
       "    }\n",
       "</style>\n",
       "<table border=\"1\" class=\"dataframe\">\n",
       "  <thead>\n",
       "    <tr style=\"text-align: right;\">\n",
       "      <th></th>\n",
       "      <th>Date</th>\n",
       "      <th>Tempestade</th>\n",
       "      <th>Visibilidade</th>\n",
       "      <th>Vento</th>\n",
       "    </tr>\n",
       "  </thead>\n",
       "  <tbody>\n",
       "    <tr>\n",
       "      <th>0</th>\n",
       "      <td>2006-01-01</td>\n",
       "      <td>0</td>\n",
       "      <td>2.414531</td>\n",
       "      <td>68.087416</td>\n",
       "    </tr>\n",
       "    <tr>\n",
       "      <th>1</th>\n",
       "      <td>2006-01-02</td>\n",
       "      <td>1</td>\n",
       "      <td>4.603092</td>\n",
       "      <td>25.966946</td>\n",
       "    </tr>\n",
       "    <tr>\n",
       "      <th>2</th>\n",
       "      <td>2006-01-03</td>\n",
       "      <td>1</td>\n",
       "      <td>1.166116</td>\n",
       "      <td>115.268901</td>\n",
       "    </tr>\n",
       "    <tr>\n",
       "      <th>3</th>\n",
       "      <td>2006-01-04</td>\n",
       "      <td>0</td>\n",
       "      <td>7.521685</td>\n",
       "      <td>37.646306</td>\n",
       "    </tr>\n",
       "    <tr>\n",
       "      <th>4</th>\n",
       "      <td>2006-01-05</td>\n",
       "      <td>1</td>\n",
       "      <td>8.701634</td>\n",
       "      <td>21.957825</td>\n",
       "    </tr>\n",
       "  </tbody>\n",
       "</table>\n",
       "</div>"
      ],
      "text/plain": [
       "        Date  Tempestade  Visibilidade       Vento\n",
       "0 2006-01-01           0      2.414531   68.087416\n",
       "1 2006-01-02           1      4.603092   25.966946\n",
       "2 2006-01-03           1      1.166116  115.268901\n",
       "3 2006-01-04           0      7.521685   37.646306\n",
       "4 2006-01-05           1      8.701634   21.957825"
      ]
     },
     "execution_count": 223,
     "metadata": {},
     "output_type": "execute_result"
    }
   ],
   "source": [
    "date_range = pd.date_range(start=datetime(2006, 1, 1), end=datetime(2006, 12, 31), freq='D')\n",
    "\n",
    "# Simulando dados meteorológicos\n",
    "weather_data = {\n",
    "    \"Date\": date_range,\n",
    "    \"Tempestade\": [random.choice([0, 1]) for _ in range(len(date_range))],\n",
    "    \"Visibilidade\": [random.uniform(0.5, 10.0) for _ in range(len(date_range))],\n",
    "    \"Vento\": [random.uniform(20, 120) for _ in range(len(date_range))]\n",
    "}\n",
    "\n",
    "# Criando o DataFrame\n",
    "weather_df = pd.DataFrame(weather_data)\n",
    "\n",
    "# Salvando o DataFrame simulado para uso posterior\n",
    "weather_df.to_csv('dados_meteorologicos_2006.csv', index=False)\n",
    "\n",
    "# Visualizar as primeiras linhas do DataFrame meteorológico\n",
    "weather_df.head()\n",
    "\n"
   ]
  },
  {
   "cell_type": "markdown",
   "metadata": {},
   "source": [
    "### Juntando os datasets"
   ]
  },
  {
   "cell_type": "code",
   "execution_count": 224,
   "metadata": {},
   "outputs": [],
   "source": [
    "df = pd.read_csv('../../../Datasets/2006-sample.csv')\n",
    "df_weather = pd.read_csv('dados_meteorologicos_2006.csv')\n",
    "df['Date'] =  df['Year'].astype(str) + '-' + df['Month'].astype(str) + '-' + df['DayofMonth'].astype(str)\n",
    "df['Date'] = pd.to_datetime(df['Date'])\n",
    "df_full = pd.merge(df,weather_df, on=['Date', 'Date'])"
   ]
  },
  {
   "cell_type": "markdown",
   "metadata": {},
   "source": [
    "## Análise da sazonalidade"
   ]
  },
  {
   "cell_type": "markdown",
   "metadata": {},
   "source": [
    "### Análise sobre tempestades"
   ]
  },
  {
   "cell_type": "code",
   "execution_count": 225,
   "metadata": {},
   "outputs": [
    {
     "name": "stdout",
     "output_type": "stream",
     "text": [
      "Quantidade de dias em que houve tempestade por mês\n",
      "Mês 1: 5 tempestades\n",
      "Mês 2: 4 tempestades\n",
      "Mês 3: 2 tempestades\n",
      "Mês 4: 3 tempestades\n",
      "Mês 5: 1 tempestades\n",
      "Mês 6: 1 tempestades\n",
      "Mês 7: 4 tempestades\n",
      "Mês 8: 2 tempestades\n",
      "Mês 10: 2 tempestades\n",
      "Mês 11: 3 tempestades\n",
      "Mês 12: 4 tempestades\n",
      "Com o mês 1 sendo o mês com mais tempestades, tendo ao total 5\n"
     ]
    }
   ],
   "source": [
    "df_storm = df_full[df_full['Tempestade']==1]\n",
    "df_storm = df_storm.drop_duplicates(subset='DayofMonth')\n",
    "storm_by_month = df_storm.groupby('Month').size()\n",
    "print('Quantidade de dias em que houve tempestade por mês')\n",
    "for month, number in storm_by_month.items():\n",
    "    print(f'Mês {month}: {number} tempestades')\n",
    "print(f'Com o mês {storm_by_month.idxmax()} sendo o mês com mais tempestades, tendo ao total {storm_by_month.max()}')"
   ]
  },
  {
   "cell_type": "markdown",
   "metadata": {},
   "source": [
    "### Análise sobre ventos fortes"
   ]
  },
  {
   "cell_type": "code",
   "execution_count": 226,
   "metadata": {},
   "outputs": [
    {
     "name": "stdout",
     "output_type": "stream",
     "text": [
      "Quantidade de ventanias fortes por mês\n",
      "Mês 1: 4 ventanias\n",
      "Mês 2: 2 ventanias\n",
      "Mês 3: 4 ventanias\n",
      "Mês 4: 3 ventanias\n",
      "Mês 5: 1 ventanias\n",
      "Mês 6: 1 ventanias\n",
      "Mês 7: 4 ventanias\n",
      "Mês 8: 4 ventanias\n",
      "Mês 9: 2 ventanias\n",
      "Mês 10: 1 ventanias\n",
      "Mês 11: 1 ventanias\n",
      "Mês 12: 4 ventanias\n",
      "Com o mês 1 sendo o mês com mais ventanias, tendo ao total 4\n"
     ]
    }
   ],
   "source": [
    "df_windstorm = df_full[df_full['Vento']>89]\n",
    "df_windstorm = df_windstorm.drop_duplicates(subset='DayofMonth')\n",
    "windstorm_by_month = df_windstorm.groupby('Month').size()\n",
    "print('Quantidade de ventanias fortes por mês')\n",
    "for month, number in windstorm_by_month.items():\n",
    "    print(f'Mês {month}: {number} ventanias')\n",
    "print(f'Com o mês {windstorm_by_month.idxmax()} sendo o mês com mais ventanias, tendo ao total {windstorm_by_month.max()}')"
   ]
  },
  {
   "cell_type": "markdown",
   "metadata": {},
   "source": [
    "### Análise sobre baixa visibilidade"
   ]
  },
  {
   "cell_type": "code",
   "execution_count": 227,
   "metadata": {},
   "outputs": [
    {
     "name": "stdout",
     "output_type": "stream",
     "text": [
      "Quantidade de dias com baixa visilibdade por mês\n",
      "Mês 1: 3 ventanias\n",
      "Mês 2: 2 ventanias\n",
      "Mês 3: 3 ventanias\n",
      "Mês 4: 4 ventanias\n",
      "Mês 5: 1 ventanias\n",
      "Mês 6: 1 ventanias\n",
      "Mês 7: 1 ventanias\n",
      "Mês 8: 5 ventanias\n",
      "Mês 9: 4 ventanias\n",
      "Mês 10: 4 ventanias\n",
      "Mês 11: 1 ventanias\n",
      "Mês 12: 2 ventanias\n",
      "Com o mês 8 sendo o mês com mais ventanias, tendo ao total 5\n"
     ]
    }
   ],
   "source": [
    "df_visibility = df_full[df_full['Visibilidade']<5]\n",
    "df_visibility = df_visibility.drop_duplicates(subset='DayofMonth')\n",
    "visibility_by_month = df_visibility.groupby('Month').size()\n",
    "print('Quantidade de dias com baixa visilibdade por mês')\n",
    "for month, number in visibility_by_month.items():\n",
    "    print(f'Mês {month}: {number} ventanias')\n",
    "print(f'Com o mês {visibility_by_month.idxmax()} sendo o mês com mais ventanias, tendo ao total {visibility_by_month.max()}')"
   ]
  },
  {
   "cell_type": "markdown",
   "metadata": {},
   "source": [
    "## Impacto das condições climáticas:"
   ]
  },
  {
   "cell_type": "markdown",
   "metadata": {},
   "source": [
    "### Tempestade influencia atraso?"
   ]
  },
  {
   "cell_type": "code",
   "execution_count": 228,
   "metadata": {},
   "outputs": [
    {
     "name": "stdout",
     "output_type": "stream",
     "text": [
      "Quando ocorre uma tempestade 17364 voos são atrasados de um total de 38650, representando 44.93%\n",
      "Com uma média de 30.69 minutos de atraso\n"
     ]
    }
   ],
   "source": [
    "df_storm = df_full[df_full['Tempestade']==1]\n",
    "delay_count = df_storm[df_storm['ArrDelay']>0].shape[0]\n",
    "print(f\"Quando ocorre uma tempestade {delay_count} voos são atrasados de um total de {len(df_storm['Tempestade'])}, representando {delay_count*100/len(df_storm['Tempestade']):.2f}%\")\n",
    "delay_mean = df_full[(df_full['Tempestade']==1) & (df_full['ArrDelay']>0)]\n",
    "print(f\"Com uma média de {delay_mean['ArrDelay'].mean():.2f} minutos de atraso\")"
   ]
  },
  {
   "cell_type": "markdown",
   "metadata": {},
   "source": [
    "### Ventos acima de 89 km/h influenciam o atraso?"
   ]
  },
  {
   "cell_type": "code",
   "execution_count": 229,
   "metadata": {},
   "outputs": [
    {
     "name": "stdout",
     "output_type": "stream",
     "text": [
      "Quando ocorrem ventos acima de 89 km/h 9321 voos são atrasados de um total de 20746, representando 44.93%\n",
      "Com uma média de 30.39 minutos de atraso\n"
     ]
    }
   ],
   "source": [
    "df_windstorm = df_full[df_full['Vento']>89]\n",
    "delay_count = df_windstorm[df_windstorm['ArrDelay']>0].shape[0]\n",
    "print(f\"Quando ocorrem ventos acima de 89 km/h {delay_count} voos são atrasados de um total de {len(df_windstorm['Vento'])}, representando {delay_count*100/len(df_windstorm['Vento']):.2f}%\")\n",
    "delay_mean = df_full[(df_full['Vento']>0) & (df_full['ArrDelay']>0)]\n",
    "print(f\"Com uma média de {delay_mean['ArrDelay'].mean():.2f} minutos de atraso\")"
   ]
  },
  {
   "cell_type": "markdown",
   "metadata": {},
   "source": [
    "### Baixa visibilidade influencia o atraso?"
   ]
  },
  {
   "cell_type": "code",
   "execution_count": 230,
   "metadata": {},
   "outputs": [
    {
     "name": "stdout",
     "output_type": "stream",
     "text": [
      "Quando há baixa visibilidade 15121 voos são atrasados de um total de 33251, representando 45.48%\n",
      "Com uma média de 30.77 minutos de atraso\n"
     ]
    }
   ],
   "source": [
    "df_visibility = df_full[df_full['Visibilidade']<5]\n",
    "delay_count = df_visibility[df_visibility['ArrDelay']>0].shape[0]\n",
    "print(f\"Quando há baixa visibilidade {delay_count} voos são atrasados de um total de {len(df_visibility['Visibilidade'])}, representando {delay_count*100/len(df_visibility['Visibilidade']):.2f}%\")\n",
    "delay_mean = df_full[(df_full['Visibilidade']<5) & (df_full['ArrDelay']>0)]\n",
    "print(f\"Com uma média de {delay_mean['ArrDelay'].mean():.2f} minutos de atraso\")"
   ]
  },
  {
   "cell_type": "markdown",
   "metadata": {},
   "source": [
    "## Análise da eficência operacional"
   ]
  },
  {
   "cell_type": "markdown",
   "metadata": {},
   "source": [
    "### Eficiência quando há tempestades"
   ]
  },
  {
   "cell_type": "code",
   "execution_count": 231,
   "metadata": {},
   "outputs": [
    {
     "name": "stdout",
     "output_type": "stream",
     "text": [
      "Mesmo quando ocorre uma tempestade 20597 voos nâo são atrasados de um total de 38650, representando 53.29%\n"
     ]
    }
   ],
   "source": [
    "df_storm = df_full[df_full['Tempestade']==1]\n",
    "delay_count = df_storm[df_storm['ArrDelay']<=0].shape[0]\n",
    "print(f\"Mesmo quando ocorre uma tempestade {delay_count} voos nâo são atrasados de um total de {len(df_storm['Tempestade'])}, representando {delay_count*100/len(df_storm['Tempestade']):.2f}%\")"
   ]
  },
  {
   "cell_type": "markdown",
   "metadata": {},
   "source": [
    "### Eficiência quando há ventania"
   ]
  },
  {
   "cell_type": "code",
   "execution_count": 232,
   "metadata": {},
   "outputs": [
    {
     "name": "stdout",
     "output_type": "stream",
     "text": [
      "Mesmo quando ocorrem ventos acima de 89 km/h 11051 voos não são atrasados de um total de 20746, representando 53.27%\n"
     ]
    }
   ],
   "source": [
    "df_windstorm = df_full[df_full['Vento']>89]\n",
    "delay_count = df_windstorm[df_windstorm['ArrDelay']<=0].shape[0]\n",
    "print(f\"Mesmo quando ocorrem ventos acima de 89 km/h {delay_count} voos não são atrasados de um total de {len(df_windstorm['Vento'])}, representando {delay_count*100/len(df_windstorm['Vento']):.2f}%\")"
   ]
  },
  {
   "cell_type": "markdown",
   "metadata": {},
   "source": [
    "### Eficiência quando há baixa visibilidade"
   ]
  },
  {
   "cell_type": "code",
   "execution_count": 233,
   "metadata": {},
   "outputs": [
    {
     "name": "stdout",
     "output_type": "stream",
     "text": [
      "Mesmo quando há baixa visibilidade 17486 voos não são atrasados de um total de 33251, representando 52.59%\n"
     ]
    }
   ],
   "source": [
    "df_visibility = df_full[df_full['Visibilidade']<5]\n",
    "delay_count = df_visibility[df_visibility['ArrDelay']<=0].shape[0]\n",
    "print(f\"Mesmo quando há baixa visibilidade {delay_count} voos não são atrasados de um total de {len(df_visibility['Visibilidade'])}, representando {delay_count*100/len(df_visibility['Visibilidade']):.2f}%\")"
   ]
  }
 ],
 "metadata": {
  "kernelspec": {
   "display_name": "Python 3",
   "language": "python",
   "name": "python3"
  },
  "language_info": {
   "codemirror_mode": {
    "name": "ipython",
    "version": 3
   },
   "file_extension": ".py",
   "mimetype": "text/x-python",
   "name": "python",
   "nbconvert_exporter": "python",
   "pygments_lexer": "ipython3",
   "version": "3.12.2"
  }
 },
 "nbformat": 4,
 "nbformat_minor": 2
}
