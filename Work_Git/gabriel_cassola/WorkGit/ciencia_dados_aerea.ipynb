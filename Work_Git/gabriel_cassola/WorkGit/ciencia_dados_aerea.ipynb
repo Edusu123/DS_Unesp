{
 "cells": [
  {
   "cell_type": "markdown",
   "metadata": {},
   "source": [
    "# Análise do dataset Data Expo 2009: Airline on time data.\n",
    "![Aeroporto](https://aeromagazine.uol.com.br/media/_versions/cidadedomexico-divulgacao_widelg.jpg)\n"
   ]
  },
  {
   "cell_type": "markdown",
   "metadata": {},
   "source": [
    "### Importando biblioteca e lendo o dataset"
   ]
  },
  {
   "cell_type": "code",
   "execution_count": 2,
   "metadata": {},
   "outputs": [],
   "source": [
    "import pandas as pd"
   ]
  },
  {
   "cell_type": "code",
   "execution_count": 3,
   "metadata": {},
   "outputs": [],
   "source": [
    "df = pd.read_csv('../../../Datasets/2006-sample.csv')"
   ]
  },
  {
   "cell_type": "markdown",
   "metadata": {},
   "source": [
    "## 1) Descobrir a quantiade de atrasos de uma dada companhia passada como parâmetro."
   ]
  },
  {
   "cell_type": "code",
   "execution_count": 4,
   "metadata": {},
   "outputs": [
    {
     "name": "stdout",
     "output_type": "stream",
     "text": [
      "Quantidade de atrasos para a companhia aérea DL: 2721\n"
     ]
    }
   ],
   "source": [
    "def count_delays(df, airline_code):\n",
    "    df_airline = df[df['UniqueCarrier'] == airline_code]\n",
    "    delay_count = df_airline[(df_airline['DepDelay'] > 0) | (df_airline['ArrDelay'] > 0)].shape[0]\n",
    "    return delay_count\n",
    "\n",
    "airline_code = input()\n",
    "delays = count_delays(df, airline_code)\n",
    "print(f\"Quantidade de atrasos para a companhia aérea {airline_code}: {delays}\")"
   ]
  },
  {
   "cell_type": "markdown",
   "metadata": {},
   "source": [
    "## 2) Descobrir o vôo com maior atraso na chegada (ArrDelay) registrado."
   ]
  },
  {
   "cell_type": "code",
   "execution_count": null,
   "metadata": {},
   "outputs": [
    {
     "name": "stdout",
     "output_type": "stream",
     "text": [
      "Voo número 740, com código da cauda do avião N570JB\n",
      "Saindo de PSE para JFK no dia 12/2/2006\n",
      "Atraso na chegada de 822.0 min, causado por:\n",
      "WeatherDelay de 792 min\n",
      "NASDelay de 30 min\n"
     ]
    }
   ],
   "source": [
    "index_max_arrdelay = df['ArrDelay'].idxmax()\n",
    "df_arrdelay = df.loc[index_max_arrdelay]\n",
    "date =  df_arrdelay['DayofMonth'].astype(str) + '/' + df_arrdelay['Month'].astype(str) + '/' + df_arrdelay['Year'].astype(str)\n",
    "print(f'Voo número {df_arrdelay['FlightNum']}, com código da cauda do avião {df_arrdelay['TailNum']}')\n",
    "print(f'Saindo de {df_arrdelay['Origin']} para {df_arrdelay['Dest']} no dia {date}')\n",
    "print(f'Atraso na chegada de {df_arrdelay['ArrDelay']} min, causado por:')\n",
    "for column, value in df_arrdelay.iloc[24:].items():\n",
    "    if value > 0:\n",
    "        print(f'{column} de {value} min')"
   ]
  },
  {
   "cell_type": "markdown",
   "metadata": {},
   "source": [
    "## 3) Descobrir o vôo com maior atraso na saída (DepDelay) registrado."
   ]
  },
  {
   "cell_type": "code",
   "execution_count": 10,
   "metadata": {},
   "outputs": [
    {
     "name": "stdout",
     "output_type": "stream",
     "text": [
      "Voo número 740, com código da cauda do avião N570JB\n",
      "Saindo de PSE para JFK no dia 12/2/2006\n",
      "Atraso na saida de 792.0 min\n"
     ]
    }
   ],
   "source": [
    "index_max_depdelay = df['DepDelay'].idxmax()\n",
    "df_depdelay = df.loc[index_max_depdelay]\n",
    "date =  df_depdelay['DayofMonth'].astype(str) + '/' + df_depdelay['Month'].astype(str) + '/' + df_depdelay['Year'].astype(str)\n",
    "print(f'Voo número {df_depdelay['FlightNum']}, com código da cauda do avião {df_depdelay['TailNum']}')\n",
    "print(f'Saindo de {df_depdelay['Origin']} para {df_depdelay['Dest']} no dia {date}')\n",
    "print(f'Atraso na saida de {df_depdelay['DepDelay']} min')"
   ]
  },
  {
   "cell_type": "markdown",
   "metadata": {},
   "source": [
    "## 4) Descobrir o vôo mais longo."
   ]
  },
  {
   "cell_type": "code",
   "execution_count": 6,
   "metadata": {},
   "outputs": [
    {
     "name": "stdout",
     "output_type": "stream",
     "text": [
      "Voo número 116, com código da cauda do avião N537JB\n",
      "Saindo de FLL para JFK no dia 1/6/2006\n",
      "Tempo de voo de 1584.0 min\n"
     ]
    }
   ],
   "source": [
    "index_longest = df['AirTime'].idxmax()\n",
    "df_longest = df.loc[index_longest]\n",
    "date =  df_longest['DayofMonth'].astype(str) + '/' + df_longest['Month'].astype(str) + '/' + df_longest['Year'].astype(str)\n",
    "print(f'Voo número {df_longest['FlightNum']}, com código da cauda do avião {df_longest['TailNum']}')\n",
    "print(f'Saindo de {df_longest['Origin']} para {df_longest['Dest']} no dia {date}')\n",
    "print(f'Tempo de voo de {df_longest['AirTime']} min')"
   ]
  },
  {
   "cell_type": "markdown",
   "metadata": {},
   "source": [
    "## 5) Contar quantos vôos precisaram ser redirecionados"
   ]
  },
  {
   "cell_type": "code",
   "execution_count": null,
   "metadata": {},
   "outputs": [
    {
     "name": "stdout",
     "output_type": "stream",
     "text": [
      "Quantidade de voos que preicsaram ser redirecionados: 133\n"
     ]
    }
   ],
   "source": [
    "diverted_count = df['Diverted'].sum()\n",
    "print(f'Quantidade de voos que preicsaram ser redirecionados: {diverted_count}')"
   ]
  },
  {
   "cell_type": "markdown",
   "metadata": {},
   "source": [
    "## 6) Calcular o tempo de atraso total para a companhia Delta Air Lines."
   ]
  },
  {
   "cell_type": "code",
   "execution_count": 5,
   "metadata": {},
   "outputs": [
    {
     "name": "stdout",
     "output_type": "stream",
     "text": [
      "Tempo total de atraso da Delta Air Lines: 1845.23 horas\n"
     ]
    }
   ],
   "source": [
    "df_airline = df[df['UniqueCarrier'] == 'DL']\n",
    "delay_count = df_airline[(df_airline['DepDelay'] > 0) | (df_airline['ArrDelay'] > 0)]\n",
    "total_delay = delay_count['DepDelay'].sum() + delay_count['ArrDelay'].sum()\n",
    "hours = float(total_delay) / 60.0\n",
    "print(f\"Tempo total de atraso da Delta Air Lines: {hours:.2f} horas\")"
   ]
  },
  {
   "cell_type": "markdown",
   "metadata": {},
   "source": [
    "## 7) Mostrar o tempo total de atrasos para a decolagem de vôos no aeroporto JFK, de Nova Iorque."
   ]
  },
  {
   "cell_type": "code",
   "execution_count": null,
   "metadata": {},
   "outputs": [
    {
     "name": "stdout",
     "output_type": "stream",
     "text": [
      "Tempo total de atraso para a decolagem no aeroporto JFK: 267.75 horas\n"
     ]
    }
   ],
   "source": [
    "df_airline = df[df['Origin'] == 'JFK']\n",
    "delay_count = df_airline[(df_airline['DepDelay'] > 0)]\n",
    "total_delay = delay_count['DepDelay'].sum()\n",
    "hours = float(total_delay) / 60.0\n",
    "print(f\"Tempo total de atraso para a decolagem no aeroporto JFK: {hours} horas\")"
   ]
  }
 ],
 "metadata": {
  "kernelspec": {
   "display_name": "Python 3",
   "language": "python",
   "name": "python3"
  },
  "language_info": {
   "codemirror_mode": {
    "name": "ipython",
    "version": 3
   },
   "file_extension": ".py",
   "mimetype": "text/x-python",
   "name": "python",
   "nbconvert_exporter": "python",
   "pygments_lexer": "ipython3",
   "version": "3.12.2"
  }
 },
 "nbformat": 4,
 "nbformat_minor": 2
}
