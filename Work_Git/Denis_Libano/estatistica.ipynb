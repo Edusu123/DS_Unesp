{
 "cells": [
  {
   "cell_type": "markdown",
   "id": "0c463e3c-8232-4faf-82b0-5f4368e907f7",
   "metadata": {},
   "source": [
    "# Análise estátistica uso da energia solar e a carvão."
   ]
  },
  {
   "cell_type": "code",
   "execution_count": 1,
   "id": "86ee1977-65cd-46fe-a396-240cdbda0533",
   "metadata": {
    "scrolled": true
   },
   "outputs": [],
   "source": [
    "import pandas as pd\n",
    "import matplotlib.pyplot as plt\n",
    "import seaborn as sns\n",
    "import numpy as np\n",
    "import ipywidgets as widgets\n",
    "from ipywidgets import interactive\n",
    "\n",
    "df = pd.read_csv('WorldEnergyConsumption.csv')\n",
    "\n",
    "Latina = ['Brazil','Bolivia','Argentina','Chile','Peru','Ecuador','Guyana','Paraguay','Suriname','Uruguay','Venezuela','Colombia']\n",
    "\n",
    "#Latina = df[(df[\"country\"] == Latina)]\n",
    "\n",
    "latina = df[(df[\"country\"] == 'Brazil') | (df[\"country\"] == 'Bolivia') | \n",
    "            (df[\"country\"] == 'Argentina') | (df[\"country\"] == 'Chile') | \n",
    "            (df[\"country\"] == 'Ecuador') | (df[\"country\"] == 'Peru') | \n",
    "            (df[\"country\"] == 'Guyana') | (df[\"country\"] == 'Paraguay') | \n",
    "            (df[\"country\"] == 'Uruguay') | (df[\"country\"] == 'Suriname') | \n",
    "            (df[\"country\"] == 'Venezuela') | (df[\"country\"] == 'Colombia')]"
   ]
  },
  {
   "cell_type": "markdown",
   "id": "d8bd7437-46f4-4cc9-81ff-723fb0d74341",
   "metadata": {},
   "source": [
    "## Dados dos últimos 5 anos do Brasil em relação a energia solar."
   ]
  },
  {
   "cell_type": "code",
   "execution_count": 2,
   "id": "79456b99-0b20-4bbf-818e-839170fef8eb",
   "metadata": {},
   "outputs": [
    {
     "data": {
      "text/html": [
       "<div>\n",
       "<style scoped>\n",
       "    .dataframe tbody tr th:only-of-type {\n",
       "        vertical-align: middle;\n",
       "    }\n",
       "\n",
       "    .dataframe tbody tr th {\n",
       "        vertical-align: top;\n",
       "    }\n",
       "\n",
       "    .dataframe thead th {\n",
       "        text-align: right;\n",
       "    }\n",
       "</style>\n",
       "<table border=\"1\" class=\"dataframe\">\n",
       "  <thead>\n",
       "    <tr style=\"text-align: right;\">\n",
       "      <th></th>\n",
       "      <th>country</th>\n",
       "      <th>year</th>\n",
       "      <th>solar_cons_change_pct</th>\n",
       "      <th>solar_cons_change_twh</th>\n",
       "      <th>solar_consumption</th>\n",
       "      <th>solar_elec_per_capita</th>\n",
       "      <th>solar_electricity</th>\n",
       "      <th>solar_energy_per_capita</th>\n",
       "      <th>solar_share_elec</th>\n",
       "      <th>solar_share_energy</th>\n",
       "    </tr>\n",
       "  </thead>\n",
       "  <tbody>\n",
       "    <tr>\n",
       "      <th>2971</th>\n",
       "      <td>Brazil</td>\n",
       "      <td>2018</td>\n",
       "      <td>316.131</td>\n",
       "      <td>6.944</td>\n",
       "      <td>9.158</td>\n",
       "      <td>16.368</td>\n",
       "      <td>3.44</td>\n",
       "      <td>43.575</td>\n",
       "      <td>0.579</td>\n",
       "      <td>0.263</td>\n",
       "    </tr>\n",
       "    <tr>\n",
       "      <th>2972</th>\n",
       "      <td>Brazil</td>\n",
       "      <td>2019</td>\n",
       "      <td>92.249</td>\n",
       "      <td>8.383</td>\n",
       "      <td>17.541</td>\n",
       "      <td>31.117</td>\n",
       "      <td>6.59</td>\n",
       "      <td>82.827</td>\n",
       "      <td>1.065</td>\n",
       "      <td>0.497</td>\n",
       "    </tr>\n",
       "    <tr>\n",
       "      <th>2973</th>\n",
       "      <td>Brazil</td>\n",
       "      <td>2020</td>\n",
       "      <td>61.518</td>\n",
       "      <td>10.687</td>\n",
       "      <td>28.228</td>\n",
       "      <td>49.907</td>\n",
       "      <td>10.64</td>\n",
       "      <td>132.405</td>\n",
       "      <td>1.732</td>\n",
       "      <td>0.832</td>\n",
       "    </tr>\n",
       "    <tr>\n",
       "      <th>2974</th>\n",
       "      <td>Brazil</td>\n",
       "      <td>2021</td>\n",
       "      <td>55.859</td>\n",
       "      <td>15.607</td>\n",
       "      <td>43.835</td>\n",
       "      <td>78.152</td>\n",
       "      <td>16.75</td>\n",
       "      <td>204.526</td>\n",
       "      <td>2.528</td>\n",
       "      <td>1.228</td>\n",
       "    </tr>\n",
       "    <tr>\n",
       "      <th>2975</th>\n",
       "      <td>Brazil</td>\n",
       "      <td>2022</td>\n",
       "      <td>79.835</td>\n",
       "      <td>34.708</td>\n",
       "      <td>78.544</td>\n",
       "      <td>122.983</td>\n",
       "      <td>26.48</td>\n",
       "      <td>364.788</td>\n",
       "      <td>3.889</td>\n",
       "      <td>2.109</td>\n",
       "    </tr>\n",
       "  </tbody>\n",
       "</table>\n",
       "</div>"
      ],
      "text/plain": [
       "     country  year  solar_cons_change_pct  solar_cons_change_twh  \\\n",
       "2971  Brazil  2018                316.131                  6.944   \n",
       "2972  Brazil  2019                 92.249                  8.383   \n",
       "2973  Brazil  2020                 61.518                 10.687   \n",
       "2974  Brazil  2021                 55.859                 15.607   \n",
       "2975  Brazil  2022                 79.835                 34.708   \n",
       "\n",
       "      solar_consumption  solar_elec_per_capita  solar_electricity  \\\n",
       "2971              9.158                 16.368               3.44   \n",
       "2972             17.541                 31.117               6.59   \n",
       "2973             28.228                 49.907              10.64   \n",
       "2974             43.835                 78.152              16.75   \n",
       "2975             78.544                122.983              26.48   \n",
       "\n",
       "      solar_energy_per_capita  solar_share_elec  solar_share_energy  \n",
       "2971                   43.575             0.579               0.263  \n",
       "2972                   82.827             1.065               0.497  \n",
       "2973                  132.405             1.732               0.832  \n",
       "2974                  204.526             2.528               1.228  \n",
       "2975                  364.788             3.889               2.109  "
      ]
     },
     "execution_count": 2,
     "metadata": {},
     "output_type": "execute_result"
    }
   ],
   "source": [
    "brasil=df.loc[df['country'] == 'Brazil']\n",
    "filtro = [col for col in df if col.startswith('solar')]\n",
    "filtro.insert(0,'year')\n",
    "filtro.insert(0,'country')\n",
    "\n",
    "brasil[filtro].tail()"
   ]
  },
  {
   "cell_type": "markdown",
   "id": "499d28f2-0c96-4699-8bea-ea77953e5138",
   "metadata": {},
   "source": [
    "## Gráfico do uso da energia solar dos países da américa latina."
   ]
  },
  {
   "cell_type": "code",
   "execution_count": 3,
   "id": "02731062-7559-48e3-91e0-345adc22ea9a",
   "metadata": {},
   "outputs": [
    {
     "data": {
      "application/vnd.jupyter.widget-view+json": {
       "model_id": "4415e500158243f988773a795e4c34dc",
       "version_major": 2,
       "version_minor": 0
      },
      "text/plain": [
       "interactive(children=(Dropdown(description='País:', options=('Argentina', 'Brazil', 'Chile', 'Colombia', 'Ecua…"
      ]
     },
     "metadata": {},
     "output_type": "display_data"
    }
   ],
   "source": [
    "df = latina[filtro].fillna(0)\n",
    "\n",
    "#df = df[(df == 0).astype(int).sum(axis=1) < 5]\n",
    "df = df.loc[(df['solar_consumption'] > 0)]\n",
    "\n",
    "def grafico_consumo_pais(string):\n",
    "    pais=df.loc[df['country'] == string]\n",
    "    consumo_energia = pais.groupby('year')['solar_consumption'].sum().reset_index()\n",
    "    consumo_energia = consumo_energia.sort_values('year')\n",
    "    plt.figure(figsize=(10,6))\n",
    "    plt.plot(consumo_energia['year'], consumo_energia['solar_consumption'], marker='o', linestyle='-', color='blue')\n",
    "    plt.title('Consumo de energia solar do país '+string)\n",
    "    plt.xlabel('Ano')\n",
    "    plt.ylabel('Consumo de energia')\n",
    "    plt.grid(True)\n",
    "    \n",
    "lista=df['country'].unique()\n",
    "\n",
    "drop1=widgets.Dropdown(options=lista, value='Argentina', description='País:', disabled=False)\n",
    "def update_dropdown(pais):\n",
    "    grafico_consumo_pais(pais)\n",
    "\n",
    "w = interactive(update_dropdown, pais=drop1) \n",
    "display(w)\n",
    "\n",
    "\n",
    "\n"
   ]
  },
  {
   "cell_type": "markdown",
   "id": "f62cab6f-7b99-4ed3-8f6f-b33aeb0f68eb",
   "metadata": {},
   "source": [
    "## Países com o maior e menor consumo de energia solar."
   ]
  },
  {
   "cell_type": "code",
   "execution_count": 4,
   "id": "708eb3ca-848c-480b-b1a2-fd9866a303ba",
   "metadata": {},
   "outputs": [
    {
     "name": "stdout",
     "output_type": "stream",
     "text": [
      "O país com o maior consumo de energia até hoje é o Brazil com 179.968 u.m. de consumo.\n",
      "O país com o menor consumo de energia até hoje é o Venezuela com 0.107 u.m. de consumo.\n"
     ]
    }
   ],
   "source": [
    "pais_max = df.groupby('country')['solar_consumption'].sum().idxmax()\n",
    "consumo_max = df.groupby('country')['solar_consumption'].sum().max()\n",
    "\n",
    "pais_min = df.groupby('country')['solar_consumption'].sum().idxmin()\n",
    "consumo_min = df.groupby('country')['solar_consumption'].sum().min()\n",
    "print(f\"O país com o maior consumo de energia até hoje é o {pais_max} com {consumo_max} u.m. de consumo.\")\n",
    "print(f\"O país com o menor consumo de energia até hoje é o {pais_min} com {consumo_min} u.m. de consumo.\")"
   ]
  },
  {
   "cell_type": "markdown",
   "id": "f129b969-9678-486c-8d70-0b5088cd1679",
   "metadata": {},
   "source": [
    "## Gráfico comparando o uso da energia solar e a carvão com o passar dos anos."
   ]
  },
  {
   "cell_type": "code",
   "execution_count": 11,
   "id": "49c36125-62ed-4d67-8201-c2676be18291",
   "metadata": {},
   "outputs": [
    {
     "data": {
      "application/vnd.jupyter.widget-view+json": {
       "model_id": "13a2dd46f8564efd8fa6a39d93a96f5f",
       "version_major": 2,
       "version_minor": 0
      },
      "text/plain": [
       "interactive(children=(Dropdown(description='País:', options=('Argentina', 'Brazil', 'Chile', 'Colombia', 'Ecua…"
      ]
     },
     "metadata": {},
     "output_type": "display_data"
    }
   ],
   "source": [
    "filtro_solar = [col for col in latina if col.startswith('solar')]\n",
    "filtro_solar.insert(0,'year')\n",
    "filtro_solar.insert(0,'country')\n",
    "df_solar = latina[filtro_solar]\n",
    "df_solar = df_solar.loc[(df_solar['solar_consumption'] > 0)]\n",
    "\n",
    "filtro_coal = [col for col in latina if col.startswith('coal')]\n",
    "filtro_coal.insert(0,'year')\n",
    "filtro_coal.insert(0,'country')\n",
    "\n",
    "df_coal = latina[filtro_coal]\n",
    "df_coal = df_coal.loc[(df_coal['coal_consumption'] > 0)]\n",
    "\n",
    "def grafico_compara(string):\n",
    "    pais_solar=df_solar.loc[df_solar['country'] == string]\n",
    "    consumo_energia_solar = pais_solar.groupby('year')['solar_consumption'].sum().reset_index()\n",
    "    consumo_energia_solar = consumo_energia_solar.sort_values('year')\n",
    "    \n",
    "    pais_coal=df_coal.loc[df_coal['country'] == string]\n",
    "    consumo_energia_coal = pais_coal.groupby('year')['coal_consumption'].sum().reset_index()\n",
    "    consumo_energia_coal = consumo_energia_coal.sort_values('year')\n",
    "    \n",
    "    \n",
    "    plt.figure(figsize=(15,6))\n",
    "    plt.plot(consumo_energia_solar['year'], consumo_energia_solar['solar_consumption'], marker='o', linestyle='-', color='blue',label='Energia solar')\n",
    "    plt.plot(consumo_energia_coal['year'], consumo_energia_coal['coal_consumption'], marker='o', linestyle='-', color='red',label='Energia a carvão')\n",
    "    \n",
    "    plt.title('Consumo de energia do país '+string)\n",
    "    plt.xlabel('Ano')\n",
    "    plt.ylabel('Consumo de energia')\n",
    "    plt.legend()\n",
    "    \n",
    "    plt.grid(True)\n",
    "    plt.show()\n",
    "\n",
    "lista=df_coal['country'].unique()\n",
    "\n",
    "drop1=widgets.Dropdown(options=lista, value='Argentina', description='País:', disabled=False)\n",
    "def update_dropdown(pais):\n",
    "    grafico_compara(pais)\n",
    "\n",
    "w = interactive(update_dropdown, pais=drop1) \n",
    "display(w)"
   ]
  },
  {
   "cell_type": "markdown",
   "id": "ab2ef89e-d9b5-4ac3-903c-c68045d5c37e",
   "metadata": {},
   "source": [
    "## Média do consumo de energia solar e a carvão dos países da américa latina."
   ]
  },
  {
   "cell_type": "code",
   "execution_count": 6,
   "id": "194aa325-eff1-483b-bcdb-8a876f03e2f6",
   "metadata": {},
   "outputs": [
    {
     "name": "stdout",
     "output_type": "stream",
     "text": [
      "Média de consumo de energia de cada país\n"
     ]
    },
    {
     "data": {
      "text/html": [
       "<div>\n",
       "<style scoped>\n",
       "    .dataframe tbody tr th:only-of-type {\n",
       "        vertical-align: middle;\n",
       "    }\n",
       "\n",
       "    .dataframe tbody tr th {\n",
       "        vertical-align: top;\n",
       "    }\n",
       "\n",
       "    .dataframe thead th {\n",
       "        text-align: right;\n",
       "    }\n",
       "</style>\n",
       "<table border=\"1\" class=\"dataframe\">\n",
       "  <thead>\n",
       "    <tr style=\"text-align: right;\">\n",
       "      <th></th>\n",
       "      <th>country</th>\n",
       "      <th>coal_consumption</th>\n",
       "      <th>solar_consumption</th>\n",
       "    </tr>\n",
       "  </thead>\n",
       "  <tbody>\n",
       "    <tr>\n",
       "      <th>0</th>\n",
       "      <td>Argentina</td>\n",
       "      <td>10.777448</td>\n",
       "      <td>1.631667</td>\n",
       "    </tr>\n",
       "    <tr>\n",
       "      <th>1</th>\n",
       "      <td>Brazil</td>\n",
       "      <td>116.003966</td>\n",
       "      <td>16.360727</td>\n",
       "    </tr>\n",
       "    <tr>\n",
       "      <th>2</th>\n",
       "      <td>Chile</td>\n",
       "      <td>35.549810</td>\n",
       "      <td>12.553545</td>\n",
       "    </tr>\n",
       "    <tr>\n",
       "      <th>3</th>\n",
       "      <td>Colombia</td>\n",
       "      <td>35.397448</td>\n",
       "      <td>0.262083</td>\n",
       "    </tr>\n",
       "    <tr>\n",
       "      <th>4</th>\n",
       "      <td>Ecuador</td>\n",
       "      <td>0.136909</td>\n",
       "      <td>0.077545</td>\n",
       "    </tr>\n",
       "    <tr>\n",
       "      <th>5</th>\n",
       "      <td>Peru</td>\n",
       "      <td>4.923328</td>\n",
       "      <td>1.326909</td>\n",
       "    </tr>\n",
       "    <tr>\n",
       "      <th>6</th>\n",
       "      <td>Venezuela</td>\n",
       "      <td>1.485804</td>\n",
       "      <td>0.008231</td>\n",
       "    </tr>\n",
       "  </tbody>\n",
       "</table>\n",
       "</div>"
      ],
      "text/plain": [
       "     country  coal_consumption  solar_consumption\n",
       "0  Argentina         10.777448           1.631667\n",
       "1     Brazil        116.003966          16.360727\n",
       "2      Chile         35.549810          12.553545\n",
       "3   Colombia         35.397448           0.262083\n",
       "4    Ecuador          0.136909           0.077545\n",
       "5       Peru          4.923328           1.326909\n",
       "6  Venezuela          1.485804           0.008231"
      ]
     },
     "execution_count": 6,
     "metadata": {},
     "output_type": "execute_result"
    }
   ],
   "source": [
    "print('Média de consumo de energia de cada país')\n",
    "media_coal=df_coal.groupby('country')['coal_consumption'].mean()\n",
    "media_solar=df_solar.groupby('country')['solar_consumption'].mean()\n",
    "\n",
    "pd.concat([media_coal, media_solar], axis=1).reset_index()\n"
   ]
  },
  {
   "cell_type": "markdown",
   "id": "fa3e9066-3883-4d71-94af-fe0fe6a89c53",
   "metadata": {},
   "source": [
    "## Desvio padrão no consumo de energia de cada país."
   ]
  },
  {
   "cell_type": "code",
   "execution_count": 7,
   "id": "8100657a-ad41-46ea-852e-c0242bcfb7fb",
   "metadata": {},
   "outputs": [
    {
     "name": "stdout",
     "output_type": "stream",
     "text": [
      "Desvio padrão no consumo de energia de cada país\n"
     ]
    },
    {
     "data": {
      "text/html": [
       "<div>\n",
       "<style scoped>\n",
       "    .dataframe tbody tr th:only-of-type {\n",
       "        vertical-align: middle;\n",
       "    }\n",
       "\n",
       "    .dataframe tbody tr th {\n",
       "        vertical-align: top;\n",
       "    }\n",
       "\n",
       "    .dataframe thead th {\n",
       "        text-align: right;\n",
       "    }\n",
       "</style>\n",
       "<table border=\"1\" class=\"dataframe\">\n",
       "  <thead>\n",
       "    <tr style=\"text-align: right;\">\n",
       "      <th></th>\n",
       "      <th>country</th>\n",
       "      <th>coal_consumption</th>\n",
       "      <th>solar_consumption</th>\n",
       "    </tr>\n",
       "  </thead>\n",
       "  <tbody>\n",
       "    <tr>\n",
       "      <th>0</th>\n",
       "      <td>Argentina</td>\n",
       "      <td>2.926179</td>\n",
       "      <td>2.644692</td>\n",
       "    </tr>\n",
       "    <tr>\n",
       "      <th>1</th>\n",
       "      <td>Brazil</td>\n",
       "      <td>58.014948</td>\n",
       "      <td>25.178595</td>\n",
       "    </tr>\n",
       "    <tr>\n",
       "      <th>2</th>\n",
       "      <td>Chile</td>\n",
       "      <td>26.692971</td>\n",
       "      <td>12.274193</td>\n",
       "    </tr>\n",
       "    <tr>\n",
       "      <th>3</th>\n",
       "      <td>Colombia</td>\n",
       "      <td>12.010107</td>\n",
       "      <td>0.424379</td>\n",
       "    </tr>\n",
       "    <tr>\n",
       "      <th>4</th>\n",
       "      <td>Ecuador</td>\n",
       "      <td>0.217536</td>\n",
       "      <td>0.039272</td>\n",
       "    </tr>\n",
       "    <tr>\n",
       "      <th>5</th>\n",
       "      <td>Peru</td>\n",
       "      <td>3.697886</td>\n",
       "      <td>0.893992</td>\n",
       "    </tr>\n",
       "    <tr>\n",
       "      <th>6</th>\n",
       "      <td>Venezuela</td>\n",
       "      <td>1.257732</td>\n",
       "      <td>0.006470</td>\n",
       "    </tr>\n",
       "  </tbody>\n",
       "</table>\n",
       "</div>"
      ],
      "text/plain": [
       "     country  coal_consumption  solar_consumption\n",
       "0  Argentina          2.926179           2.644692\n",
       "1     Brazil         58.014948          25.178595\n",
       "2      Chile         26.692971          12.274193\n",
       "3   Colombia         12.010107           0.424379\n",
       "4    Ecuador          0.217536           0.039272\n",
       "5       Peru          3.697886           0.893992\n",
       "6  Venezuela          1.257732           0.006470"
      ]
     },
     "execution_count": 7,
     "metadata": {},
     "output_type": "execute_result"
    }
   ],
   "source": [
    "print('Desvio padrão no consumo de energia de cada país')\n",
    "desvio_coal=df_coal.groupby('country')['coal_consumption'].std()\n",
    "desvio_solar=df_solar.groupby('country')['solar_consumption'].std()\n",
    "\n",
    "pd.concat([desvio_coal, desvio_solar], axis=1).reset_index()"
   ]
  },
  {
   "cell_type": "markdown",
   "id": "44e3ba1b-4ffb-4c7c-8c9d-8290ccb0792c",
   "metadata": {},
   "source": [
    "## Gráfico comparando o uso total de cada tipo de energia de cada país."
   ]
  },
  {
   "cell_type": "code",
   "execution_count": 15,
   "id": "8e90666d-232a-43fe-9e4b-6d53ec026726",
   "metadata": {},
   "outputs": [
    {
     "data": {
      "text/plain": [
       "Text(0, 0.5, 'País')"
      ]
     },
     "execution_count": 15,
     "metadata": {},
     "output_type": "execute_result"
    },
    {
     "data": {
      "image/png": "[encoded data removed]",
      "text/plain": [
       "<Figure size 1500x600 with 1 Axes>"
      ]
     },
     "metadata": {},
     "output_type": "display_data"
    }
   ],
   "source": [
    "con_tot_coal=df_coal.groupby('country')['coal_consumption'].sum().reset_index()\n",
    "con_tot_solar=df_solar.groupby('country')['solar_consumption'].sum().reset_index()\n",
    "\n",
    "plt.figure(figsize=(15,6))\n",
    "sns.barplot(x='coal_consumption', y='country', data=con_tot_coal, color='red',label='Consumo de carvão')\n",
    "sns.barplot(x='solar_consumption', y='country', data=con_tot_solar, color='blue',label='Consumo energia solar')\n",
    "plt.title('Comparativo uso de energia')\n",
    "plt.xlabel('Consumo')\n",
    "plt.ylabel('País')"
   ]
  },
  {
   "cell_type": "markdown",
   "id": "cd205051-d1b3-454e-a602-cfaa47bd2a75",
   "metadata": {},
   "source": [
    "## Aumento percentual total do uso de cada energia nos países."
   ]
  },
  {
   "cell_type": "code",
   "execution_count": 9,
   "id": "18252802-8301-4d07-a9e7-d1244fa37666",
   "metadata": {},
   "outputs": [
    {
     "data": {
      "text/html": [
       "<div>\n",
       "<style scoped>\n",
       "    .dataframe tbody tr th:only-of-type {\n",
       "        vertical-align: middle;\n",
       "    }\n",
       "\n",
       "    .dataframe tbody tr th {\n",
       "        vertical-align: top;\n",
       "    }\n",
       "\n",
       "    .dataframe thead th {\n",
       "        text-align: right;\n",
       "    }\n",
       "</style>\n",
       "<table border=\"1\" class=\"dataframe\">\n",
       "  <thead>\n",
       "    <tr style=\"text-align: right;\">\n",
       "      <th></th>\n",
       "      <th>country</th>\n",
       "      <th>coal_cons_change_pct</th>\n",
       "      <th>solar_cons_change_pct</th>\n",
       "    </tr>\n",
       "  </thead>\n",
       "  <tbody>\n",
       "    <tr>\n",
       "      <th>0</th>\n",
       "      <td>Argentina</td>\n",
       "      <td>191.532</td>\n",
       "      <td>3643.597</td>\n",
       "    </tr>\n",
       "    <tr>\n",
       "      <th>1</th>\n",
       "      <td>Brazil</td>\n",
       "      <td>236.937</td>\n",
       "      <td>2224.559</td>\n",
       "    </tr>\n",
       "    <tr>\n",
       "      <th>2</th>\n",
       "      <td>Chile</td>\n",
       "      <td>222.403</td>\n",
       "      <td>9061.860</td>\n",
       "    </tr>\n",
       "    <tr>\n",
       "      <th>3</th>\n",
       "      <td>Colombia</td>\n",
       "      <td>202.804</td>\n",
       "      <td>1511.307</td>\n",
       "    </tr>\n",
       "    <tr>\n",
       "      <th>4</th>\n",
       "      <td>Ecuador</td>\n",
       "      <td>5947.751</td>\n",
       "      <td>1960.981</td>\n",
       "    </tr>\n",
       "    <tr>\n",
       "      <th>5</th>\n",
       "      <td>Peru</td>\n",
       "      <td>414.216</td>\n",
       "      <td>442.464</td>\n",
       "    </tr>\n",
       "    <tr>\n",
       "      <th>6</th>\n",
       "      <td>Venezuela</td>\n",
       "      <td>2653.247</td>\n",
       "      <td>2.419</td>\n",
       "    </tr>\n",
       "  </tbody>\n",
       "</table>\n",
       "</div>"
      ],
      "text/plain": [
       "     country  coal_cons_change_pct  solar_cons_change_pct\n",
       "0  Argentina               191.532               3643.597\n",
       "1     Brazil               236.937               2224.559\n",
       "2      Chile               222.403               9061.860\n",
       "3   Colombia               202.804               1511.307\n",
       "4    Ecuador              5947.751               1960.981\n",
       "5       Peru               414.216                442.464\n",
       "6  Venezuela              2653.247                  2.419"
      ]
     },
     "execution_count": 9,
     "metadata": {},
     "output_type": "execute_result"
    }
   ],
   "source": [
    "\n",
    "\n",
    "pct_coal=df_coal.groupby('country')['coal_cons_change_pct'].sum()\n",
    "pct_solar=df_solar.groupby('country')['solar_cons_change_pct'].sum()\n",
    "\n",
    "pd.concat([pct_coal, pct_solar], axis=1).reset_index()\n",
    "\n"
   ]
  },
  {
   "cell_type": "markdown",
   "id": "38c31309-c343-447f-8e81-7326e34bbbd9",
   "metadata": {},
   "source": [
    "Com base no dados observados, o uso da energia baseado a carvão é extremamente dominante em todos os países da américa latina analizados. E mesmo que o uso da energia solar tenha crescido em alguns países o uso do carvão ainda é extremamente superior."
   ]
  }
 ],
 "metadata": {
  "kernelspec": {
   "display_name": "Python 3 (ipykernel)",
   "language": "python",
   "name": "python3"
  },
  "language_info": {
   "codemirror_mode": {
    "name": "ipython",
    "version": 3
   },
   "file_extension": ".py",
   "mimetype": "text/x-python",
   "name": "python",
   "nbconvert_exporter": "python",
   "pygments_lexer": "ipython3",
   "version": "3.12.4"
  }
 },
 "nbformat": 4,
 "nbformat_minor": 5
}
