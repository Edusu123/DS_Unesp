{
 "cells": [
  {
   "cell_type": "markdown",
   "id": "7d2ae0e7-5518-4af8-8ae4-8ebe26d4fe7e",
   "metadata": {},
   "source": [
    "# Bem vindo a nossa primeira avaliação!!\n",
    "\n",
    "## Informações sobre o Dataset\n",
    "\n",
    "   Input variables (based on physicochemical tests):\\\n",
    "   1 - fixed acidity\\\n",
    "   2 - volatile acidity\\\n",
    "   3 - citric acid\\\n",
    "   4 - residual sugar\\\n",
    "   5 - chlorides\\\n",
    "   6 - free sulfur dioxide\\\n",
    "   7 - total sulfur dioxide\\\n",
    "   8 - density\\\n",
    "   9 - pH\\\n",
    "   10 - sulphates\\\n",
    "   11 - alcohol\n",
    "   \n",
    "   Output variable (based on sensory data): \n",
    "   12 - quality (score between 0 and 10)"
   ]
  }
 ],
 "metadata": {
  "kernelspec": {
   "display_name": "Python 3 (ipykernel)",
   "language": "python",
   "name": "python3"
  },
  "language_info": {
   "codemirror_mode": {
    "name": "ipython",
    "version": 3
   },
   "file_extension": ".py",
   "mimetype": "text/x-python",
   "name": "python",
   "nbconvert_exporter": "python",
   "pygments_lexer": "ipython3",
   "version": "3.12.4"
  }
 },
 "nbformat": 4,
 "nbformat_minor": 5
}
