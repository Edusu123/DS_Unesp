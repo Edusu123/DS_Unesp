{
 "cells": [
  {
   "cell_type": "markdown",
   "id": "7d2ae0e7-5518-4af8-8ae4-8ebe26d4fe7e",
   "metadata": {},
   "source": [
    "# Bem vindo a nossa primeira avaliação!!\n",
    "\n",
    "## Informações sobre o Dataset\n",
    "\n",
    "   Input variables (based on physicochemical tests):\\\n",
    "   1 - fixed acidity\\\n",
    "   2 - volatile acidity\\\n",
    "   3 - citric acid\\\n",
    "   4 - residual sugar\\\n",
    "   5 - chlorides\\\n",
    "   6 - free sulfur dioxide\\\n",
    "   7 - total sulfur dioxide\\\n",
    "   8 - density\\\n",
    "   9 - pH\\\n",
    "   10 - sulphates\\\n",
    "   11 - alcohol\n",
    "   \n",
    "   Output variable (based on sensory data): \n",
    "   12 - quality (score between 0 and 10)"
   ]
  },
  {
   "cell_type": "markdown",
   "id": "4107f9d5",
   "metadata": {},
   "source": [
    "# Imports"
   ]
  },
  {
   "cell_type": "code",
   "execution_count": 168,
   "id": "f795883a-3c4e-4789-8b04-aca63a5db52a",
   "metadata": {},
   "outputs": [],
   "source": [
    "import pandas as pd\n",
    "import matplotlib.pyplot as plt\n",
    "import seaborn as sns"
   ]
  },
  {
   "cell_type": "markdown",
   "id": "091e1a5c",
   "metadata": {},
   "source": [
    "## Criação dos DFs a partir das planilhas CSV"
   ]
  },
  {
   "cell_type": "code",
   "execution_count": 169,
   "id": "83213154",
   "metadata": {},
   "outputs": [],
   "source": [
    "df_red = pd.read_csv('C:/GitHub_python/DS_Unesp/P1/dataset/winequality-red.csv', sep=';')\n",
    "df_white = pd.read_csv('C:/GitHub_python/DS_Unesp/P1/dataset/winequality-white.csv', sep=';')"
   ]
  },
  {
   "cell_type": "markdown",
   "id": "7ebe1bab",
   "metadata": {},
   "source": [
    "## Identificação na planilha de valores nulos e duplicados"
   ]
  },
  {
   "cell_type": "code",
   "execution_count": 170,
   "id": "d00c670a",
   "metadata": {},
   "outputs": [
    {
     "name": "stdout",
     "output_type": "stream",
     "text": [
      "Vinho Vermelho - Valores nulos por coluna: 0\n",
      "Vinho Vermelho - Número de duplicatas: 240\n",
      "Vinho Branco - Valores nulos por coluna: 0\n",
      "Vinho Branco - Número de duplicatas: 937\n"
     ]
    }
   ],
   "source": [
    "# Verificar se há valores nulos\n",
    "red_wine_nulls = df_red.isnull().sum()\n",
    "white_wine_nulls = df_white.isnull().sum()\n",
    "\n",
    "# Verificar se há duplicatas\n",
    "red_wine_duplicates = df_red.duplicated().sum()\n",
    "white_wine_duplicates = df_white.duplicated().sum()\n",
    "\n",
    "# Resultados da verificação\n",
    "print(\"Vinho Vermelho - Valores nulos por coluna:\", red_wine_nulls.sum())\n",
    "print(\"Vinho Vermelho - Número de duplicatas:\", red_wine_duplicates)\n",
    "print(\"Vinho Branco - Valores nulos por coluna:\", white_wine_nulls.sum())\n",
    "print(\"Vinho Branco - Número de duplicatas:\", white_wine_duplicates)"
   ]
  },
  {
   "cell_type": "markdown",
   "id": "44a0bd4d",
   "metadata": {},
   "source": [
    "## Remoção dos valores duplicados"
   ]
  },
  {
   "cell_type": "code",
   "execution_count": 171,
   "id": "46df3342",
   "metadata": {},
   "outputs": [
    {
     "name": "stdout",
     "output_type": "stream",
     "text": [
      "Vinho Vermelho - Duplicatas após limpeza: 0\n",
      "Vinho Branco - Duplicatas após limpeza: 0\n"
     ]
    }
   ],
   "source": [
    "# Remover duplicatas\n",
    "df_red_cleaned = df_red.drop_duplicates()\n",
    "df_white_cleaned = df_white.drop_duplicates()\n",
    "\n",
    "# Verificar se foram removidas\n",
    "red_wine_cleaned_duplicates = df_red_cleaned.duplicated().sum()\n",
    "white_wine_cleaned_duplicates = df_white_cleaned.duplicated().sum()\n",
    "\n",
    "print(\"Vinho Vermelho - Duplicatas após limpeza:\", red_wine_cleaned_duplicates)\n",
    "print(\"Vinho Branco - Duplicatas após limpeza:\", white_wine_cleaned_duplicates)"
   ]
  },
  {
   "cell_type": "markdown",
   "id": "0c342e6b",
   "metadata": {},
   "source": [
    "## Análise exploratória dos dados através do .describe"
   ]
  },
  {
   "cell_type": "code",
   "execution_count": 172,
   "id": "64023505",
   "metadata": {},
   "outputs": [
    {
     "name": "stdout",
     "output_type": "stream",
     "text": [
      "Estatísticas Descritivas do Vinho Vermelho:\n",
      "        fixed acidity  volatile acidity  citric acid  residual sugar  \\\n",
      "count    1359.000000       1359.000000  1359.000000     1359.000000   \n",
      "mean        8.310596          0.529478     0.272333        2.523400   \n",
      "std         1.736990          0.183031     0.195537        1.352314   \n",
      "min         4.600000          0.120000     0.000000        0.900000   \n",
      "25%         7.100000          0.390000     0.090000        1.900000   \n",
      "50%         7.900000          0.520000     0.260000        2.200000   \n",
      "75%         9.200000          0.640000     0.430000        2.600000   \n",
      "max        15.900000          1.580000     1.000000       15.500000   \n",
      "\n",
      "         chlorides  free sulfur dioxide  total sulfur dioxide      density  \\\n",
      "count  1359.000000          1359.000000           1359.000000  1359.000000   \n",
      "mean      0.088124            15.893304             46.825975     0.996709   \n",
      "std       0.049377            10.447270             33.408946     0.001869   \n",
      "min       0.012000             1.000000              6.000000     0.990070   \n",
      "25%       0.070000             7.000000             22.000000     0.995600   \n",
      "50%       0.079000            14.000000             38.000000     0.996700   \n",
      "75%       0.091000            21.000000             63.000000     0.997820   \n",
      "max       0.611000            72.000000            289.000000     1.003690   \n",
      "\n",
      "                pH    sulphates      alcohol      quality  \n",
      "count  1359.000000  1359.000000  1359.000000  1359.000000  \n",
      "mean      3.309787     0.658705    10.432315     5.623252  \n",
      "std       0.155036     0.170667     1.082065     0.823578  \n",
      "min       2.740000     0.330000     8.400000     3.000000  \n",
      "25%       3.210000     0.550000     9.500000     5.000000  \n",
      "50%       3.310000     0.620000    10.200000     6.000000  \n",
      "75%       3.400000     0.730000    11.100000     6.000000  \n",
      "max       4.010000     2.000000    14.900000     8.000000  \n",
      "Estatísticas Descritivas do Vinho Branco:\n",
      "        fixed acidity  volatile acidity  citric acid  residual sugar  \\\n",
      "count    3961.000000       3961.000000  3961.000000     3961.000000   \n",
      "mean        6.839346          0.280538     0.334332        5.914819   \n",
      "std         0.866860          0.103437     0.122446        4.861646   \n",
      "min         3.800000          0.080000     0.000000        0.600000   \n",
      "25%         6.300000          0.210000     0.270000        1.600000   \n",
      "50%         6.800000          0.260000     0.320000        4.700000   \n",
      "75%         7.300000          0.330000     0.390000        8.900000   \n",
      "max        14.200000          1.100000     1.660000       65.800000   \n",
      "\n",
      "         chlorides  free sulfur dioxide  total sulfur dioxide      density  \\\n",
      "count  3961.000000          3961.000000           3961.000000  3961.000000   \n",
      "mean      0.045905            34.889169            137.193512     0.993790   \n",
      "std       0.023103            17.210021             43.129065     0.002905   \n",
      "min       0.009000             2.000000              9.000000     0.987110   \n",
      "25%       0.035000            23.000000            106.000000     0.991620   \n",
      "50%       0.042000            33.000000            133.000000     0.993500   \n",
      "75%       0.050000            45.000000            166.000000     0.995710   \n",
      "max       0.346000           289.000000            440.000000     1.038980   \n",
      "\n",
      "                pH    sulphates      alcohol      quality  \n",
      "count  3961.000000  3961.000000  3961.000000  3961.000000  \n",
      "mean      3.195458     0.490351    10.589358     5.854835  \n",
      "std       0.151546     0.113523     1.217076     0.890683  \n",
      "min       2.720000     0.220000     8.000000     3.000000  \n",
      "25%       3.090000     0.410000     9.500000     5.000000  \n",
      "50%       3.180000     0.480000    10.400000     6.000000  \n",
      "75%       3.290000     0.550000    11.400000     6.000000  \n",
      "max       3.820000     1.080000    14.200000     9.000000  \n"
     ]
    }
   ],
   "source": [
    "# Gerar estatísticas descritivas para os datasets\n",
    "red_wine_stats = df_red_cleaned.describe()\n",
    "white_wine_stats = df_white_cleaned.describe()\n",
    "\n",
    "# Exibir os describes\n",
    "print(\"Estatísticas Descritivas do Vinho Vermelho:\\n\", red_wine_stats)\n",
    "print(\"Estatísticas Descritivas do Vinho Branco:\\n\", white_wine_stats)"
   ]
  },
  {
   "cell_type": "markdown",
   "id": "b768befe",
   "metadata": {},
   "source": [
    "## Visualização da distribuição de cada vinho em cada nivel de qualidade"
   ]
  },
  {
   "cell_type": "code",
   "execution_count": 173,
   "id": "9289adc5",
   "metadata": {},
   "outputs": [
    {
     "data": {
      "image/png": "[encoded data removed]",
      "text/plain": [
       "<Figure size 1400x600 with 1 Axes>"
      ]
     },
     "metadata": {},
     "output_type": "display_data"
    },
    {
     "name": "stdout",
     "output_type": "stream",
     "text": [
      "A categoria com mais unidades é a qualidade 5, com 681 unidades\n",
      "A participação de cada uma das categorias em porcentagem, no lote é :quality\n",
      "5    42.589118\n",
      "6    39.899937\n",
      "7    12.445278\n",
      "4     3.314572\n",
      "8     1.125704\n",
      "3     0.625391\n",
      "Name: proportion, dtype: float64\n"
     ]
    }
   ],
   "source": [
    "# Histograma para vinho Vermelho\n",
    "plt.figure(figsize=(14, 6))\n",
    "plt.hist(df_red['quality'], color='red')\n",
    "plt.title('Distribuição da Qualidade - Vinho Vermelho')\n",
    "plt.xlabel('Qualidade')\n",
    "plt.ylabel('Quantidade')\n",
    "\n",
    "plt.show()\n",
    "\n",
    "\n",
    "# Calcular a porcentagem de cada nível de qualidade\n",
    "quality_counts = df_red['quality'].value_counts(normalize=True) * 100\n",
    "\n",
    "# Identificar a qualidade com maior quantidade\n",
    "max_quality = df_red['quality'].value_counts().idxmax()\n",
    "max_count = df_red['quality'].value_counts().max()\n",
    "\n",
    "print(f'A categoria com mais unidades é a qualidade {max_quality}, com {max_count} unidades')\n",
    "print(f'A participação de cada uma das categorias em porcentagem, no lote é :{quality_counts}')"
   ]
  },
  {
   "cell_type": "code",
   "execution_count": 174,
   "id": "fb312393",
   "metadata": {},
   "outputs": [
    {
     "data": {
      "image/png": "[encoded data removed]",
      "text/plain": [
       "<Figure size 1400x600 with 1 Axes>"
      ]
     },
     "metadata": {},
     "output_type": "display_data"
    },
    {
     "name": "stdout",
     "output_type": "stream",
     "text": [
      "A categoria com mais unidades é a qualidade 6, com 2198 unidades\n",
      "A participação de cada uma das categorias em porcentagem, no lote é :quality\n",
      "6    44.875459\n",
      "5    29.746835\n",
      "7    17.966517\n",
      "8     3.572887\n",
      "4     3.327889\n",
      "3     0.408330\n",
      "9     0.102082\n",
      "Name: proportion, dtype: float64\n"
     ]
    }
   ],
   "source": [
    "# Histograma para vinho branco\n",
    "plt.figure(figsize=(14, 6))\n",
    "plt.hist(df_white['quality'], bins=10, color='yellow')\n",
    "plt.title('Distribuição da Qualidade - Vinho Branco')\n",
    "plt.xlabel('Qualidade')\n",
    "plt.ylabel('Quantidade')\n",
    "\n",
    "plt.show()\n",
    "\n",
    "# Calcular a porcentagem de cada nível de qualidade\n",
    "quality_counts = df_white['quality'].value_counts(normalize=True) * 100\n",
    "\n",
    "# Identificar a qualidade com maior quantidade\n",
    "max_quality = df_white['quality'].value_counts().idxmax()\n",
    "max_count = df_white['quality'].value_counts().max()\n",
    "\n",
    "print(f'A categoria com mais unidades é a qualidade {max_quality}, com {max_count} unidades')\n",
    "print(f'A participação de cada uma das categorias em porcentagem, no lote é :{quality_counts}')"
   ]
  },
  {
   "cell_type": "markdown",
   "id": "b4e0e224",
   "metadata": {},
   "source": [
    "## Matriz de correlação para entender a influência das variáveis no produto"
   ]
  },
  {
   "cell_type": "code",
   "execution_count": 175,
   "id": "32e6ab79",
   "metadata": {},
   "outputs": [
    {
     "name": "stdout",
     "output_type": "stream",
     "text": [
      "quality                 1.000000\n",
      "alcohol                 0.476166\n",
      "sulphates               0.251397\n",
      "citric acid             0.226373\n",
      "fixed acidity           0.124052\n",
      "residual sugar          0.013732\n",
      "free sulfur dioxide    -0.050656\n",
      "pH                     -0.057731\n",
      "chlorides              -0.128907\n",
      "density                -0.174919\n",
      "total sulfur dioxide   -0.185100\n",
      "volatile acidity       -0.390558\n",
      "Name: quality, dtype: float64\n"
     ]
    }
   ],
   "source": [
    "correlation_matrix = df_red.corr()\n",
    "print(correlation_matrix['quality'].sort_values(ascending=False))"
   ]
  },
  {
   "cell_type": "markdown",
   "id": "255f17e4",
   "metadata": {},
   "source": [
    "Essa análise mostra que o *ALCOHOL* é a variável com maior relação positiva com o vinho, ou seja, que maiores concentrações podem estar associadas com melhor qualidade."
   ]
  },
  {
   "cell_type": "markdown",
   "id": "67ea50a9",
   "metadata": {},
   "source": [
    "Enquanto a *VOLATILE ACIDITY* tem pior relação, o que pode significar que quanto em maior quantidade, pior a qualidade."
   ]
  }
 ],
 "metadata": {
  "kernelspec": {
   "display_name": "Python 3 (ipykernel)",
   "language": "python",
   "name": "python3"
  },
  "language_info": {
   "codemirror_mode": {
    "name": "ipython",
    "version": 3
   },
   "file_extension": ".py",
   "mimetype": "text/x-python",
   "name": "python",
   "nbconvert_exporter": "python",
   "pygments_lexer": "ipython3",
   "version": "3.12.2"
  }
 },
 "nbformat": 4,
 "nbformat_minor": 5
}
