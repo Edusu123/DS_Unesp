{
 "cells": [
  {
   "cell_type": "markdown",
   "id": "7d2ae0e7-5518-4af8-8ae4-8ebe26d4fe7e",
   "metadata": {},
   "source": [
    "# Bem vindo a nossa primeira avaliação!!\n",
    "\n",
    "## Informações sobre o Dataset\n",
    "\n",
    "   Input variables (based on physicochemical tests):\\\n",
    "   1 - fixed acidity\\\n",
    "   2 - volatile acidity\\\n",
    "   3 - citric acid\\\n",
    "   4 - residual sugar\\\n",
    "   5 - chlorides\\\n",
    "   6 - free sulfur dioxide\\\n",
    "   7 - total sulfur dioxide\\\n",
    "   8 - density\\\n",
    "   9 - pH\\\n",
    "   10 - sulphates\\\n",
    "   11 - alcohol\n",
    "   \n",
    "   Output variable (based on sensory data)\n",
    "   \n",
    "   12 - quality (score between 0 and 10)"
   ]
  },
  {
   "cell_type": "code",
   "execution_count": 1,
   "id": "f795883a-3c4e-4789-8b04-aca63a5db52a",
   "metadata": {},
   "outputs": [],
   "source": [
    "# Importar bibliotecas necessárias\n",
    "import pandas as pd\n",
    "import numpy as np\n",
    "import seaborn as sns\n",
    "import matplotlib.pyplot as plt"
   ]
  },
  {
   "cell_type": "markdown",
   "id": "52a92c04-0444-474d-9b2b-4e5883335f04",
   "metadata": {},
   "source": [
    "## Primeiramente, utilizando o conjunto de dados Winequality-red"
   ]
  },
  {
   "cell_type": "code",
   "execution_count": 74,
   "id": "4a057e68-4776-4340-b6f9-82f4d7719b34",
   "metadata": {},
   "outputs": [
    {
     "data": {
      "text/html": [
       "<div>\n",
       "<style scoped>\n",
       "    .dataframe tbody tr th:only-of-type {\n",
       "        vertical-align: middle;\n",
       "    }\n",
       "\n",
       "    .dataframe tbody tr th {\n",
       "        vertical-align: top;\n",
       "    }\n",
       "\n",
       "    .dataframe thead th {\n",
       "        text-align: right;\n",
       "    }\n",
       "</style>\n",
       "<table border=\"1\" class=\"dataframe\">\n",
       "  <thead>\n",
       "    <tr style=\"text-align: right;\">\n",
       "      <th></th>\n",
       "      <th>fixed acidity</th>\n",
       "      <th>volatile acidity</th>\n",
       "      <th>citric acid</th>\n",
       "      <th>residual sugar</th>\n",
       "      <th>chlorides</th>\n",
       "      <th>free sulfur dioxide</th>\n",
       "      <th>total sulfur dioxide</th>\n",
       "      <th>density</th>\n",
       "      <th>pH</th>\n",
       "      <th>sulphates</th>\n",
       "      <th>alcohol</th>\n",
       "      <th>quality</th>\n",
       "    </tr>\n",
       "  </thead>\n",
       "  <tbody>\n",
       "    <tr>\n",
       "      <th>0</th>\n",
       "      <td>7.4</td>\n",
       "      <td>0.70</td>\n",
       "      <td>0.00</td>\n",
       "      <td>1.9</td>\n",
       "      <td>0.076</td>\n",
       "      <td>11.0</td>\n",
       "      <td>34.0</td>\n",
       "      <td>0.9978</td>\n",
       "      <td>3.51</td>\n",
       "      <td>0.56</td>\n",
       "      <td>9.4</td>\n",
       "      <td>5</td>\n",
       "    </tr>\n",
       "    <tr>\n",
       "      <th>1</th>\n",
       "      <td>7.8</td>\n",
       "      <td>0.88</td>\n",
       "      <td>0.00</td>\n",
       "      <td>2.6</td>\n",
       "      <td>0.098</td>\n",
       "      <td>25.0</td>\n",
       "      <td>67.0</td>\n",
       "      <td>0.9968</td>\n",
       "      <td>3.20</td>\n",
       "      <td>0.68</td>\n",
       "      <td>9.8</td>\n",
       "      <td>5</td>\n",
       "    </tr>\n",
       "    <tr>\n",
       "      <th>2</th>\n",
       "      <td>7.8</td>\n",
       "      <td>0.76</td>\n",
       "      <td>0.04</td>\n",
       "      <td>2.3</td>\n",
       "      <td>0.092</td>\n",
       "      <td>15.0</td>\n",
       "      <td>54.0</td>\n",
       "      <td>0.9970</td>\n",
       "      <td>3.26</td>\n",
       "      <td>0.65</td>\n",
       "      <td>9.8</td>\n",
       "      <td>5</td>\n",
       "    </tr>\n",
       "    <tr>\n",
       "      <th>3</th>\n",
       "      <td>11.2</td>\n",
       "      <td>0.28</td>\n",
       "      <td>0.56</td>\n",
       "      <td>1.9</td>\n",
       "      <td>0.075</td>\n",
       "      <td>17.0</td>\n",
       "      <td>60.0</td>\n",
       "      <td>0.9980</td>\n",
       "      <td>3.16</td>\n",
       "      <td>0.58</td>\n",
       "      <td>9.8</td>\n",
       "      <td>6</td>\n",
       "    </tr>\n",
       "    <tr>\n",
       "      <th>4</th>\n",
       "      <td>7.4</td>\n",
       "      <td>0.70</td>\n",
       "      <td>0.00</td>\n",
       "      <td>1.9</td>\n",
       "      <td>0.076</td>\n",
       "      <td>11.0</td>\n",
       "      <td>34.0</td>\n",
       "      <td>0.9978</td>\n",
       "      <td>3.51</td>\n",
       "      <td>0.56</td>\n",
       "      <td>9.4</td>\n",
       "      <td>5</td>\n",
       "    </tr>\n",
       "  </tbody>\n",
       "</table>\n",
       "</div>"
      ],
      "text/plain": [
       "   fixed acidity  volatile acidity  citric acid  residual sugar  chlorides  \\\n",
       "0            7.4              0.70         0.00             1.9      0.076   \n",
       "1            7.8              0.88         0.00             2.6      0.098   \n",
       "2            7.8              0.76         0.04             2.3      0.092   \n",
       "3           11.2              0.28         0.56             1.9      0.075   \n",
       "4            7.4              0.70         0.00             1.9      0.076   \n",
       "\n",
       "   free sulfur dioxide  total sulfur dioxide  density    pH  sulphates  \\\n",
       "0                 11.0                  34.0   0.9978  3.51       0.56   \n",
       "1                 25.0                  67.0   0.9968  3.20       0.68   \n",
       "2                 15.0                  54.0   0.9970  3.26       0.65   \n",
       "3                 17.0                  60.0   0.9980  3.16       0.58   \n",
       "4                 11.0                  34.0   0.9978  3.51       0.56   \n",
       "\n",
       "   alcohol  quality  \n",
       "0      9.4        5  \n",
       "1      9.8        5  \n",
       "2      9.8        5  \n",
       "3      9.8        6  \n",
       "4      9.4        5  "
      ]
     },
     "execution_count": 74,
     "metadata": {},
     "output_type": "execute_result"
    }
   ],
   "source": [
    "# Carregar o dataset e mostrar as 5 primeiras linhas\n",
    "df = pd.read_csv('dataset/winequality-red.csv', delimiter=';')\n",
    "df.head()"
   ]
  },
  {
   "cell_type": "code",
   "execution_count": 76,
   "id": "e403cafd-3eee-4de0-89c5-1837a6cb16c8",
   "metadata": {},
   "outputs": [
    {
     "name": "stdout",
     "output_type": "stream",
     "text": [
      "\n",
      "Dimensões do dataset: (1599, 12)\n",
      "\n",
      "Tipos de dados:\n"
     ]
    },
    {
     "data": {
      "text/plain": [
       "fixed acidity           float64\n",
       "volatile acidity        float64\n",
       "citric acid             float64\n",
       "residual sugar          float64\n",
       "chlorides               float64\n",
       "free sulfur dioxide     float64\n",
       "total sulfur dioxide    float64\n",
       "density                 float64\n",
       "pH                      float64\n",
       "sulphates               float64\n",
       "alcohol                 float64\n",
       "quality                   int64\n",
       "dtype: object"
      ]
     },
     "execution_count": 76,
     "metadata": {},
     "output_type": "execute_result"
    }
   ],
   "source": [
    "# Verificar dimensões e tipos de dados\n",
    "print(\"\\nDimensões do dataset:\", df.shape)\n",
    "print(\"\\nTipos de dados:\")\n",
    "df.dtypes"
   ]
  },
  {
   "cell_type": "code",
   "execution_count": 77,
   "id": "3390d316-aef5-4f9a-acbc-fa8dcc5f43ad",
   "metadata": {},
   "outputs": [
    {
     "name": "stdout",
     "output_type": "stream",
     "text": [
      "\n",
      "Valores faltantes em cada coluna:\n"
     ]
    },
    {
     "data": {
      "text/plain": [
       "fixed acidity           0\n",
       "volatile acidity        0\n",
       "citric acid             0\n",
       "residual sugar          0\n",
       "chlorides               0\n",
       "free sulfur dioxide     0\n",
       "total sulfur dioxide    0\n",
       "density                 0\n",
       "pH                      0\n",
       "sulphates               0\n",
       "alcohol                 0\n",
       "quality                 0\n",
       "dtype: int64"
      ]
     },
     "execution_count": 77,
     "metadata": {},
     "output_type": "execute_result"
    }
   ],
   "source": [
    "# Identificar valores faltantes\n",
    "print(\"\\nValores faltantes em cada coluna:\")\n",
    "df.isnull().sum()"
   ]
  },
  {
   "cell_type": "code",
   "execution_count": 78,
   "id": "8be5455b-8383-4334-ad34-bdcf1d99ad81",
   "metadata": {},
   "outputs": [],
   "source": [
    "# Limpeza de dados\n",
    "# Não há valores faltantes, mas se houvesse, preencheríamos com a média\n",
    "df.fillna(df.mean(), inplace=True)"
   ]
  },
  {
   "cell_type": "code",
   "execution_count": 79,
   "id": "74c57946-35c2-4a4d-91df-86b749512903",
   "metadata": {},
   "outputs": [
    {
     "name": "stdout",
     "output_type": "stream",
     "text": [
      "\n",
      "Número de linhas após remoção de duplicatas: 1359\n"
     ]
    }
   ],
   "source": [
    "# Verificar duplicatas e removê-las\n",
    "df.drop_duplicates(inplace=True)\n",
    "print(\"\\nNúmero de linhas após remoção de duplicatas:\", df.shape[0])"
   ]
  },
  {
   "cell_type": "code",
   "execution_count": 80,
   "id": "872704ea-d4d8-4b8c-83a6-ce5e59136ac4",
   "metadata": {},
   "outputs": [
    {
     "name": "stdout",
     "output_type": "stream",
     "text": [
      "\n",
      "Vinhos com qualidade acima de 6:\n"
     ]
    },
    {
     "data": {
      "text/html": [
       "<div>\n",
       "<style scoped>\n",
       "    .dataframe tbody tr th:only-of-type {\n",
       "        vertical-align: middle;\n",
       "    }\n",
       "\n",
       "    .dataframe tbody tr th {\n",
       "        vertical-align: top;\n",
       "    }\n",
       "\n",
       "    .dataframe thead th {\n",
       "        text-align: right;\n",
       "    }\n",
       "</style>\n",
       "<table border=\"1\" class=\"dataframe\">\n",
       "  <thead>\n",
       "    <tr style=\"text-align: right;\">\n",
       "      <th></th>\n",
       "      <th>fixed acidity</th>\n",
       "      <th>volatile acidity</th>\n",
       "      <th>citric acid</th>\n",
       "      <th>residual sugar</th>\n",
       "      <th>chlorides</th>\n",
       "      <th>free sulfur dioxide</th>\n",
       "      <th>total sulfur dioxide</th>\n",
       "      <th>density</th>\n",
       "      <th>pH</th>\n",
       "      <th>sulphates</th>\n",
       "      <th>alcohol</th>\n",
       "      <th>quality</th>\n",
       "    </tr>\n",
       "  </thead>\n",
       "  <tbody>\n",
       "    <tr>\n",
       "      <th>7</th>\n",
       "      <td>7.3</td>\n",
       "      <td>0.65</td>\n",
       "      <td>0.00</td>\n",
       "      <td>1.2</td>\n",
       "      <td>0.065</td>\n",
       "      <td>15.0</td>\n",
       "      <td>21.0</td>\n",
       "      <td>0.9946</td>\n",
       "      <td>3.39</td>\n",
       "      <td>0.47</td>\n",
       "      <td>10.0</td>\n",
       "      <td>7</td>\n",
       "    </tr>\n",
       "    <tr>\n",
       "      <th>8</th>\n",
       "      <td>7.8</td>\n",
       "      <td>0.58</td>\n",
       "      <td>0.02</td>\n",
       "      <td>2.0</td>\n",
       "      <td>0.073</td>\n",
       "      <td>9.0</td>\n",
       "      <td>18.0</td>\n",
       "      <td>0.9968</td>\n",
       "      <td>3.36</td>\n",
       "      <td>0.57</td>\n",
       "      <td>9.5</td>\n",
       "      <td>7</td>\n",
       "    </tr>\n",
       "    <tr>\n",
       "      <th>16</th>\n",
       "      <td>8.5</td>\n",
       "      <td>0.28</td>\n",
       "      <td>0.56</td>\n",
       "      <td>1.8</td>\n",
       "      <td>0.092</td>\n",
       "      <td>35.0</td>\n",
       "      <td>103.0</td>\n",
       "      <td>0.9969</td>\n",
       "      <td>3.30</td>\n",
       "      <td>0.75</td>\n",
       "      <td>10.5</td>\n",
       "      <td>7</td>\n",
       "    </tr>\n",
       "    <tr>\n",
       "      <th>37</th>\n",
       "      <td>8.1</td>\n",
       "      <td>0.38</td>\n",
       "      <td>0.28</td>\n",
       "      <td>2.1</td>\n",
       "      <td>0.066</td>\n",
       "      <td>13.0</td>\n",
       "      <td>30.0</td>\n",
       "      <td>0.9968</td>\n",
       "      <td>3.23</td>\n",
       "      <td>0.73</td>\n",
       "      <td>9.7</td>\n",
       "      <td>7</td>\n",
       "    </tr>\n",
       "    <tr>\n",
       "      <th>62</th>\n",
       "      <td>7.5</td>\n",
       "      <td>0.52</td>\n",
       "      <td>0.16</td>\n",
       "      <td>1.9</td>\n",
       "      <td>0.085</td>\n",
       "      <td>12.0</td>\n",
       "      <td>35.0</td>\n",
       "      <td>0.9968</td>\n",
       "      <td>3.38</td>\n",
       "      <td>0.62</td>\n",
       "      <td>9.5</td>\n",
       "      <td>7</td>\n",
       "    </tr>\n",
       "  </tbody>\n",
       "</table>\n",
       "</div>"
      ],
      "text/plain": [
       "    fixed acidity  volatile acidity  citric acid  residual sugar  chlorides  \\\n",
       "7             7.3              0.65         0.00             1.2      0.065   \n",
       "8             7.8              0.58         0.02             2.0      0.073   \n",
       "16            8.5              0.28         0.56             1.8      0.092   \n",
       "37            8.1              0.38         0.28             2.1      0.066   \n",
       "62            7.5              0.52         0.16             1.9      0.085   \n",
       "\n",
       "    free sulfur dioxide  total sulfur dioxide  density    pH  sulphates  \\\n",
       "7                  15.0                  21.0   0.9946  3.39       0.47   \n",
       "8                   9.0                  18.0   0.9968  3.36       0.57   \n",
       "16                 35.0                 103.0   0.9969  3.30       0.75   \n",
       "37                 13.0                  30.0   0.9968  3.23       0.73   \n",
       "62                 12.0                  35.0   0.9968  3.38       0.62   \n",
       "\n",
       "    alcohol  quality  \n",
       "7      10.0        7  \n",
       "8       9.5        7  \n",
       "16     10.5        7  \n",
       "37      9.7        7  \n",
       "62      9.5        7  "
      ]
     },
     "execution_count": 80,
     "metadata": {},
     "output_type": "execute_result"
    }
   ],
   "source": [
    "# Manipulação de Dados\n",
    "# Filtrar vinhos com qualidade acima de 6\n",
    "vinhos_bons = df[df['quality'] > 6]\n",
    "print(\"\\nVinhos com qualidade acima de 6:\")\n",
    "vinhos_bons.head()"
   ]
  },
  {
   "cell_type": "code",
   "execution_count": 81,
   "id": "6fd14b61-eb36-4ddb-acb1-ed710d00cc45",
   "metadata": {},
   "outputs": [
    {
     "name": "stdout",
     "output_type": "stream",
     "text": [
      "\n",
      "Média de acidez fixa: 8.310596026490067\n"
     ]
    }
   ],
   "source": [
    "# Calcular a média de acidez fixa para vinhos com base no tipo (vermelho ou branco)\n",
    "# (Aqui usaremos a coluna `fixed_acidity`)\n",
    "media_acidez = df['fixed acidity'].mean()\n",
    "print(\"\\nMédia de acidez fixa:\", media_acidez)"
   ]
  },
  {
   "cell_type": "code",
   "execution_count": 82,
   "id": "7650a427-bf17-4eec-9eeb-a7e76f7b9017",
   "metadata": {},
   "outputs": [
    {
     "name": "stdout",
     "output_type": "stream",
     "text": [
      "\n",
      "Exemplo de nova coluna 'acidity_level':\n",
      "   fixed acidity acidity_level\n",
      "0            7.4         Média\n",
      "1            7.8         Média\n",
      "2            7.8         Média\n",
      "3           11.2          Alta\n",
      "5            7.4         Média\n"
     ]
    }
   ],
   "source": [
    "# Criar uma nova coluna categorizando a acidez\n",
    "\n",
    "df['acidity_level'] = df['fixed acidity'].apply(lambda x: 'Baixa' if x < 6 else ('Média' if x <= 10 else 'Alta'))\n",
    "print(\"\\nExemplo de nova coluna 'acidity_level':\")\n",
    "print(df[['fixed acidity', 'acidity_level']].head())"
   ]
  },
  {
   "cell_type": "code",
   "execution_count": 83,
   "id": "54750c00-4f56-4c68-96a8-8f293fce17a6",
   "metadata": {},
   "outputs": [
    {
     "data": {
      "image/png": "[encoded data removed]",
      "text/plain": [
       "<Figure size 800x600 with 1 Axes>"
      ]
     },
     "metadata": {},
     "output_type": "display_data"
    }
   ],
   "source": [
    "# 6. Visualizações\n",
    "# Gráfico de barras da qualidade\n",
    "plt.figure(figsize=(8, 6))\n",
    "sns.countplot(x='quality', data=df)\n",
    "plt.title('Contagem de vinhos por qualidade')\n",
    "plt.show()"
   ]
  },
  {
   "cell_type": "code",
   "execution_count": 84,
   "id": "d78fe192-b2fc-42c4-a1f9-d81fb1246003",
   "metadata": {},
   "outputs": [
    {
     "data": {
      "image/png": "[encoded data removed]",
      "text/plain": [
       "<Figure size 800x600 with 1 Axes>"
      ]
     },
     "metadata": {},
     "output_type": "display_data"
    }
   ],
   "source": [
    "# Gráfico de dispersão entre álcool e qualidade\n",
    "plt.figure(figsize=(8, 6))\n",
    "sns.scatterplot(x='alcohol', y='quality', data=df)\n",
    "plt.title('Relação entre álcool e qualidade')\n",
    "plt.show()"
   ]
  },
  {
   "cell_type": "code",
   "execution_count": 86,
   "id": "b869a174-460a-4958-a74d-abb246b28a76",
   "metadata": {},
   "outputs": [
    {
     "data": {
      "image/png": "[encoded data removed]",
      "text/plain": [
       "<Figure size 800x600 with 1 Axes>"
      ]
     },
     "metadata": {},
     "output_type": "display_data"
    }
   ],
   "source": [
    "# Histograma da distribuição de pH\n",
    "plt.figure(figsize=(8, 6))\n",
    "df['pH'].hist(bins=30)\n",
    "plt.title('Distribuição de pH')\n",
    "plt.show()"
   ]
  },
  {
   "cell_type": "markdown",
   "id": "a6058c98-c57f-4f1c-8729-6b144ba8bb07",
   "metadata": {},
   "source": [
    "## Agora, utilizando o conjunto de dados Winequality-white"
   ]
  },
  {
   "cell_type": "code",
   "execution_count": 87,
   "id": "7298f997-a374-4df2-8f38-25495f03f4a3",
   "metadata": {},
   "outputs": [
    {
     "data": {
      "text/html": [
       "<div>\n",
       "<style scoped>\n",
       "    .dataframe tbody tr th:only-of-type {\n",
       "        vertical-align: middle;\n",
       "    }\n",
       "\n",
       "    .dataframe tbody tr th {\n",
       "        vertical-align: top;\n",
       "    }\n",
       "\n",
       "    .dataframe thead th {\n",
       "        text-align: right;\n",
       "    }\n",
       "</style>\n",
       "<table border=\"1\" class=\"dataframe\">\n",
       "  <thead>\n",
       "    <tr style=\"text-align: right;\">\n",
       "      <th></th>\n",
       "      <th>fixed acidity</th>\n",
       "      <th>volatile acidity</th>\n",
       "      <th>citric acid</th>\n",
       "      <th>residual sugar</th>\n",
       "      <th>chlorides</th>\n",
       "      <th>free sulfur dioxide</th>\n",
       "      <th>total sulfur dioxide</th>\n",
       "      <th>density</th>\n",
       "      <th>pH</th>\n",
       "      <th>sulphates</th>\n",
       "      <th>alcohol</th>\n",
       "      <th>quality</th>\n",
       "    </tr>\n",
       "  </thead>\n",
       "  <tbody>\n",
       "    <tr>\n",
       "      <th>0</th>\n",
       "      <td>7.0</td>\n",
       "      <td>0.27</td>\n",
       "      <td>0.36</td>\n",
       "      <td>20.7</td>\n",
       "      <td>0.045</td>\n",
       "      <td>45.0</td>\n",
       "      <td>170.0</td>\n",
       "      <td>1.0010</td>\n",
       "      <td>3.00</td>\n",
       "      <td>0.45</td>\n",
       "      <td>8.8</td>\n",
       "      <td>6</td>\n",
       "    </tr>\n",
       "    <tr>\n",
       "      <th>1</th>\n",
       "      <td>6.3</td>\n",
       "      <td>0.30</td>\n",
       "      <td>0.34</td>\n",
       "      <td>1.6</td>\n",
       "      <td>0.049</td>\n",
       "      <td>14.0</td>\n",
       "      <td>132.0</td>\n",
       "      <td>0.9940</td>\n",
       "      <td>3.30</td>\n",
       "      <td>0.49</td>\n",
       "      <td>9.5</td>\n",
       "      <td>6</td>\n",
       "    </tr>\n",
       "    <tr>\n",
       "      <th>2</th>\n",
       "      <td>8.1</td>\n",
       "      <td>0.28</td>\n",
       "      <td>0.40</td>\n",
       "      <td>6.9</td>\n",
       "      <td>0.050</td>\n",
       "      <td>30.0</td>\n",
       "      <td>97.0</td>\n",
       "      <td>0.9951</td>\n",
       "      <td>3.26</td>\n",
       "      <td>0.44</td>\n",
       "      <td>10.1</td>\n",
       "      <td>6</td>\n",
       "    </tr>\n",
       "    <tr>\n",
       "      <th>3</th>\n",
       "      <td>7.2</td>\n",
       "      <td>0.23</td>\n",
       "      <td>0.32</td>\n",
       "      <td>8.5</td>\n",
       "      <td>0.058</td>\n",
       "      <td>47.0</td>\n",
       "      <td>186.0</td>\n",
       "      <td>0.9956</td>\n",
       "      <td>3.19</td>\n",
       "      <td>0.40</td>\n",
       "      <td>9.9</td>\n",
       "      <td>6</td>\n",
       "    </tr>\n",
       "    <tr>\n",
       "      <th>4</th>\n",
       "      <td>7.2</td>\n",
       "      <td>0.23</td>\n",
       "      <td>0.32</td>\n",
       "      <td>8.5</td>\n",
       "      <td>0.058</td>\n",
       "      <td>47.0</td>\n",
       "      <td>186.0</td>\n",
       "      <td>0.9956</td>\n",
       "      <td>3.19</td>\n",
       "      <td>0.40</td>\n",
       "      <td>9.9</td>\n",
       "      <td>6</td>\n",
       "    </tr>\n",
       "  </tbody>\n",
       "</table>\n",
       "</div>"
      ],
      "text/plain": [
       "   fixed acidity  volatile acidity  citric acid  residual sugar  chlorides  \\\n",
       "0            7.0              0.27         0.36            20.7      0.045   \n",
       "1            6.3              0.30         0.34             1.6      0.049   \n",
       "2            8.1              0.28         0.40             6.9      0.050   \n",
       "3            7.2              0.23         0.32             8.5      0.058   \n",
       "4            7.2              0.23         0.32             8.5      0.058   \n",
       "\n",
       "   free sulfur dioxide  total sulfur dioxide  density    pH  sulphates  \\\n",
       "0                 45.0                 170.0   1.0010  3.00       0.45   \n",
       "1                 14.0                 132.0   0.9940  3.30       0.49   \n",
       "2                 30.0                  97.0   0.9951  3.26       0.44   \n",
       "3                 47.0                 186.0   0.9956  3.19       0.40   \n",
       "4                 47.0                 186.0   0.9956  3.19       0.40   \n",
       "\n",
       "   alcohol  quality  \n",
       "0      8.8        6  \n",
       "1      9.5        6  \n",
       "2     10.1        6  \n",
       "3      9.9        6  \n",
       "4      9.9        6  "
      ]
     },
     "execution_count": 87,
     "metadata": {},
     "output_type": "execute_result"
    }
   ],
   "source": [
    "# Carregar o dataset e mostrar as 5 primeiras linhas\n",
    "df2 = pd.read_csv('dataset/winequality-white.csv', delimiter=';')\n",
    "df2.head()"
   ]
  },
  {
   "cell_type": "code",
   "execution_count": 88,
   "id": "88c23d6a-2d89-412d-8463-480987d0e821",
   "metadata": {},
   "outputs": [
    {
     "name": "stdout",
     "output_type": "stream",
     "text": [
      "\n",
      "Dimensões do dataset: (4898, 12)\n",
      "\n",
      "Tipos de dados:\n"
     ]
    },
    {
     "data": {
      "text/plain": [
       "fixed acidity           float64\n",
       "volatile acidity        float64\n",
       "citric acid             float64\n",
       "residual sugar          float64\n",
       "chlorides               float64\n",
       "free sulfur dioxide     float64\n",
       "total sulfur dioxide    float64\n",
       "density                 float64\n",
       "pH                      float64\n",
       "sulphates               float64\n",
       "alcohol                 float64\n",
       "quality                   int64\n",
       "dtype: object"
      ]
     },
     "execution_count": 88,
     "metadata": {},
     "output_type": "execute_result"
    }
   ],
   "source": [
    "# Verificar dimensões e tipos de dados\n",
    "print(\"\\nDimensões do dataset:\", df2.shape)\n",
    "print(\"\\nTipos de dados:\")\n",
    "df2.dtypes"
   ]
  },
  {
   "cell_type": "code",
   "execution_count": 89,
   "id": "52c6b7bc-bdbd-4331-b5aa-cebee23f2120",
   "metadata": {},
   "outputs": [
    {
     "name": "stdout",
     "output_type": "stream",
     "text": [
      "\n",
      "Valores faltantes em cada coluna:\n"
     ]
    },
    {
     "data": {
      "text/plain": [
       "fixed acidity           0\n",
       "volatile acidity        0\n",
       "citric acid             0\n",
       "residual sugar          0\n",
       "chlorides               0\n",
       "free sulfur dioxide     0\n",
       "total sulfur dioxide    0\n",
       "density                 0\n",
       "pH                      0\n",
       "sulphates               0\n",
       "alcohol                 0\n",
       "quality                 0\n",
       "dtype: int64"
      ]
     },
     "execution_count": 89,
     "metadata": {},
     "output_type": "execute_result"
    }
   ],
   "source": [
    "# Identificar valores faltantes\n",
    "print(\"\\nValores faltantes em cada coluna:\")\n",
    "df2.isnull().sum()"
   ]
  },
  {
   "cell_type": "code",
   "execution_count": 90,
   "id": "e3500d5a-dda4-4f6f-a15d-f6ea1c3afc1a",
   "metadata": {},
   "outputs": [],
   "source": [
    "# Limpeza de dados\n",
    "# Não há valores faltantes, mas se houvesse, preencheríamos com a média\n",
    "df2.fillna(df2.mean(), inplace=True)"
   ]
  },
  {
   "cell_type": "code",
   "execution_count": 91,
   "id": "e30dc786-d4e4-46a1-b28e-a550bf6990c1",
   "metadata": {},
   "outputs": [
    {
     "name": "stdout",
     "output_type": "stream",
     "text": [
      "\n",
      "Número de linhas após remoção de duplicatas: 3961\n"
     ]
    }
   ],
   "source": [
    "# Verificar duplicatas e removê-las\n",
    "df2.drop_duplicates(inplace=True)\n",
    "print(\"\\nNúmero de linhas após remoção de duplicatas:\", df2.shape[0])"
   ]
  },
  {
   "cell_type": "code",
   "execution_count": 93,
   "id": "23233df5-f636-44f0-8883-f227bd1fc0df",
   "metadata": {},
   "outputs": [
    {
     "name": "stdout",
     "output_type": "stream",
     "text": [
      "\n",
      "Vinhos com qualidade acima de 6:\n"
     ]
    },
    {
     "data": {
      "text/html": [
       "<div>\n",
       "<style scoped>\n",
       "    .dataframe tbody tr th:only-of-type {\n",
       "        vertical-align: middle;\n",
       "    }\n",
       "\n",
       "    .dataframe tbody tr th {\n",
       "        vertical-align: top;\n",
       "    }\n",
       "\n",
       "    .dataframe thead th {\n",
       "        text-align: right;\n",
       "    }\n",
       "</style>\n",
       "<table border=\"1\" class=\"dataframe\">\n",
       "  <thead>\n",
       "    <tr style=\"text-align: right;\">\n",
       "      <th></th>\n",
       "      <th>fixed acidity</th>\n",
       "      <th>volatile acidity</th>\n",
       "      <th>citric acid</th>\n",
       "      <th>residual sugar</th>\n",
       "      <th>chlorides</th>\n",
       "      <th>free sulfur dioxide</th>\n",
       "      <th>total sulfur dioxide</th>\n",
       "      <th>density</th>\n",
       "      <th>pH</th>\n",
       "      <th>sulphates</th>\n",
       "      <th>alcohol</th>\n",
       "      <th>quality</th>\n",
       "    </tr>\n",
       "  </thead>\n",
       "  <tbody>\n",
       "    <tr>\n",
       "      <th>13</th>\n",
       "      <td>6.6</td>\n",
       "      <td>0.16</td>\n",
       "      <td>0.40</td>\n",
       "      <td>1.5</td>\n",
       "      <td>0.044</td>\n",
       "      <td>48.0</td>\n",
       "      <td>143.0</td>\n",
       "      <td>0.9912</td>\n",
       "      <td>3.54</td>\n",
       "      <td>0.52</td>\n",
       "      <td>12.4</td>\n",
       "      <td>7</td>\n",
       "    </tr>\n",
       "    <tr>\n",
       "      <th>15</th>\n",
       "      <td>6.6</td>\n",
       "      <td>0.17</td>\n",
       "      <td>0.38</td>\n",
       "      <td>1.5</td>\n",
       "      <td>0.032</td>\n",
       "      <td>28.0</td>\n",
       "      <td>112.0</td>\n",
       "      <td>0.9914</td>\n",
       "      <td>3.25</td>\n",
       "      <td>0.55</td>\n",
       "      <td>11.4</td>\n",
       "      <td>7</td>\n",
       "    </tr>\n",
       "    <tr>\n",
       "      <th>17</th>\n",
       "      <td>6.2</td>\n",
       "      <td>0.66</td>\n",
       "      <td>0.48</td>\n",
       "      <td>1.2</td>\n",
       "      <td>0.029</td>\n",
       "      <td>29.0</td>\n",
       "      <td>75.0</td>\n",
       "      <td>0.9892</td>\n",
       "      <td>3.33</td>\n",
       "      <td>0.39</td>\n",
       "      <td>12.8</td>\n",
       "      <td>8</td>\n",
       "    </tr>\n",
       "    <tr>\n",
       "      <th>21</th>\n",
       "      <td>6.4</td>\n",
       "      <td>0.31</td>\n",
       "      <td>0.38</td>\n",
       "      <td>2.9</td>\n",
       "      <td>0.038</td>\n",
       "      <td>19.0</td>\n",
       "      <td>102.0</td>\n",
       "      <td>0.9912</td>\n",
       "      <td>3.17</td>\n",
       "      <td>0.35</td>\n",
       "      <td>11.0</td>\n",
       "      <td>7</td>\n",
       "    </tr>\n",
       "    <tr>\n",
       "      <th>22</th>\n",
       "      <td>6.8</td>\n",
       "      <td>0.26</td>\n",
       "      <td>0.42</td>\n",
       "      <td>1.7</td>\n",
       "      <td>0.049</td>\n",
       "      <td>41.0</td>\n",
       "      <td>122.0</td>\n",
       "      <td>0.9930</td>\n",
       "      <td>3.47</td>\n",
       "      <td>0.48</td>\n",
       "      <td>10.5</td>\n",
       "      <td>8</td>\n",
       "    </tr>\n",
       "  </tbody>\n",
       "</table>\n",
       "</div>"
      ],
      "text/plain": [
       "    fixed acidity  volatile acidity  citric acid  residual sugar  chlorides  \\\n",
       "13            6.6              0.16         0.40             1.5      0.044   \n",
       "15            6.6              0.17         0.38             1.5      0.032   \n",
       "17            6.2              0.66         0.48             1.2      0.029   \n",
       "21            6.4              0.31         0.38             2.9      0.038   \n",
       "22            6.8              0.26         0.42             1.7      0.049   \n",
       "\n",
       "    free sulfur dioxide  total sulfur dioxide  density    pH  sulphates  \\\n",
       "13                 48.0                 143.0   0.9912  3.54       0.52   \n",
       "15                 28.0                 112.0   0.9914  3.25       0.55   \n",
       "17                 29.0                  75.0   0.9892  3.33       0.39   \n",
       "21                 19.0                 102.0   0.9912  3.17       0.35   \n",
       "22                 41.0                 122.0   0.9930  3.47       0.48   \n",
       "\n",
       "    alcohol  quality  \n",
       "13     12.4        7  \n",
       "15     11.4        7  \n",
       "17     12.8        8  \n",
       "21     11.0        7  \n",
       "22     10.5        8  "
      ]
     },
     "execution_count": 93,
     "metadata": {},
     "output_type": "execute_result"
    }
   ],
   "source": [
    "# Manipulação de Dados\n",
    "# Filtrar vinhos com qualidade acima de 6\n",
    "vinhos_bons2 = df2[df2['quality'] > 6]\n",
    "print(\"\\nVinhos com qualidade acima de 6:\")\n",
    "vinhos_bons2.head()"
   ]
  },
  {
   "cell_type": "code",
   "execution_count": 94,
   "id": "14f21477-c0d5-492b-a037-577c3fd68e95",
   "metadata": {},
   "outputs": [
    {
     "name": "stdout",
     "output_type": "stream",
     "text": [
      "\n",
      "Média de acidez fixa: 6.8393461247159815\n"
     ]
    }
   ],
   "source": [
    "# Calcular a média de acidez fixa para vinhos com base no tipo (vermelho ou branco)\n",
    "# (Aqui usaremos a coluna `fixed_acidity`)\n",
    "media_acidez2 = df2['fixed acidity'].mean()\n",
    "print(\"\\nMédia de acidez fixa:\", media_acidez2)"
   ]
  },
  {
   "cell_type": "code",
   "execution_count": 95,
   "id": "19bf7e36-1f82-456b-8e1f-e4f8a52b321f",
   "metadata": {},
   "outputs": [
    {
     "name": "stdout",
     "output_type": "stream",
     "text": [
      "\n",
      "Exemplo de nova coluna 'acidity_level':\n",
      "   fixed acidity acidity_level\n",
      "0            7.0         Média\n",
      "1            6.3         Média\n",
      "2            8.1         Média\n",
      "3            7.2         Média\n",
      "6            6.2         Média\n"
     ]
    }
   ],
   "source": [
    "# Criar uma nova coluna categorizando a acidez\n",
    "\n",
    "df2['acidity_level'] = df2['fixed acidity'].apply(lambda x: 'Baixa' if x < 6 else ('Média' if x <= 10 else 'Alta'))\n",
    "print(\"\\nExemplo de nova coluna 'acidity_level':\")\n",
    "print(df2[['fixed acidity', 'acidity_level']].head())"
   ]
  },
  {
   "cell_type": "code",
   "execution_count": 97,
   "id": "cab99991-7757-4375-bab1-d3386b50b906",
   "metadata": {},
   "outputs": [
    {
     "data": {
      "image/png": "[encoded data removed]",
      "text/plain": [
       "<Figure size 800x600 with 1 Axes>"
      ]
     },
     "metadata": {},
     "output_type": "display_data"
    }
   ],
   "source": [
    "# 6. Visualizações\n",
    "# Gráfico de barras da qualidade\n",
    "plt.figure(figsize=(8, 6))\n",
    "sns.countplot(x='quality', data=df2)\n",
    "plt.title('Contagem de vinhos por qualidade')\n",
    "plt.show()"
   ]
  },
  {
   "cell_type": "code",
   "execution_count": 98,
   "id": "9234794a-fd8c-4992-b9cd-2b52c8aa71df",
   "metadata": {},
   "outputs": [
    {
     "data": {
      "image/png": "[encoded data removed]",
      "text/plain": [
       "<Figure size 800x600 with 1 Axes>"
      ]
     },
     "metadata": {},
     "output_type": "display_data"
    }
   ],
   "source": [
    "# Gráfico de dispersão entre álcool e qualidade\n",
    "plt.figure(figsize=(8, 6))\n",
    "sns.scatterplot(x='alcohol', y='quality', data=df2)\n",
    "plt.title('Relação entre álcool e qualidade')\n",
    "plt.show()"
   ]
  },
  {
   "cell_type": "code",
   "execution_count": 99,
   "id": "6a94172f-cf64-4156-84e3-49a7096aa126",
   "metadata": {},
   "outputs": [
    {
     "data": {
      "image/png": "[encoded data removed]",
      "text/plain": [
       "<Figure size 800x600 with 1 Axes>"
      ]
     },
     "metadata": {},
     "output_type": "display_data"
    }
   ],
   "source": [
    "# Histograma da distribuição de pH\n",
    "plt.figure(figsize=(8, 6))\n",
    "df2['pH'].hist(bins=30)\n",
    "plt.title('Distribuição de pH')\n",
    "plt.show()"
   ]
  },
  {
   "cell_type": "markdown",
   "id": "da14bc0a-3f27-4b39-8a8c-319b6edd2d8a",
   "metadata": {},
   "source": [
    "# Realizando uma análise comparativa entre os vinhos"
   ]
  },
  {
   "cell_type": "code",
   "execution_count": 24,
   "id": "349d2fa2-dd91-483b-9995-cb2d521e21a3",
   "metadata": {},
   "outputs": [
    {
     "name": "stdout",
     "output_type": "stream",
     "text": [
      "Comparação de Médias entre Vinhos Vermelhos e Brancos:\n",
      "               Vinho Vermelho  Vinho Branco\n",
      "fixed acidity        8.310596      6.839346\n",
      "alcohol             10.432315     10.589358\n",
      "pH                   3.309787      3.195458\n"
     ]
    }
   ],
   "source": [
    "# Comparação de média de acidez, álcool e pH entre vinhos vermelhos e brancos\n",
    "red_wine_means = df[['fixed acidity', 'alcohol', 'pH']].mean()\n",
    "white_wine_means = df2[['fixed acidity', 'alcohol', 'pH']].mean()\n",
    "\n",
    "comparison = pd.DataFrame({\n",
    "    'Vinho Vermelho': red_wine_means,\n",
    "    'Vinho Branco': white_wine_means\n",
    "})\n",
    "\n",
    "print(\"Comparação de Médias entre Vinhos Vermelhos e Brancos:\")\n",
    "print(comparison)\n"
   ]
  },
  {
   "cell_type": "code",
   "execution_count": 100,
   "id": "7b46d5f3-a0c4-4169-b8ea-7c83173a5062",
   "metadata": {},
   "outputs": [
    {
     "data": {
      "image/png": "[encoded data removed]",
      "text/plain": [
       "<Figure size 1000x600 with 2 Axes>"
      ]
     },
     "metadata": {},
     "output_type": "display_data"
    }
   ],
   "source": [
    "# Gráfico de barras da distribuição de qualidade para vinho vermelho e branco\n",
    "plt.figure(figsize=(10,6))\n",
    "\n",
    "plt.subplot(1, 2, 1)\n",
    "sns.countplot(x='quality', data=df)\n",
    "plt.title('Distribuição de Qualidade - Vinho Vermelho')\n",
    "\n",
    "plt.subplot(1, 2, 2)\n",
    "sns.countplot(x='quality', data=df2)\n",
    "plt.title('Distribuição de Qualidade - Vinho Branco')\n",
    "\n",
    "plt.tight_layout()\n",
    "plt.show()"
   ]
  },
  {
   "cell_type": "code",
   "execution_count": 101,
   "id": "790a4951-9f1a-4a41-85c2-23f9b2e0cddf",
   "metadata": {},
   "outputs": [
    {
     "data": {
      "image/png": "[encoded data removed]",
      "text/plain": [
       "<Figure size 1000x600 with 2 Axes>"
      ]
     },
     "metadata": {},
     "output_type": "display_data"
    }
   ],
   "source": [
    "# Gráfico de barras da distribuição de qualidade para vinho vermelho e branco\n",
    "plt.figure(figsize=(10,6))\n",
    "\n",
    "plt.subplot(1, 2, 1)\n",
    "sns.countplot(x='quality', data=df, hue='quality', palette='Reds')\n",
    "plt.title('Distribuição de Qualidade - Vinho Vermelho')\n",
    "\n",
    "plt.subplot(1, 2, 2)\n",
    "sns.countplot(x='quality', data=df2, hue='quality', palette='Blues')\n",
    "plt.title('Distribuição de Qualidade - Vinho Branco')\n",
    "\n",
    "plt.tight_layout()\n",
    "plt.show()"
   ]
  },
  {
   "cell_type": "code",
   "execution_count": 102,
   "id": "8cb7233b-9e6f-4f18-87b0-d20c13f1865a",
   "metadata": {},
   "outputs": [
    {
     "name": "stdout",
     "output_type": "stream",
     "text": [
      "Estatísticas Descritivas - Vinho Vermelho:\n",
      "         sulphates  residual sugar  citric acid\n",
      "count  1359.000000     1359.000000  1359.000000\n",
      "mean      0.658705        2.523400     0.272333\n",
      "std       0.170667        1.352314     0.195537\n",
      "min       0.330000        0.900000     0.000000\n",
      "25%       0.550000        1.900000     0.090000\n",
      "50%       0.620000        2.200000     0.260000\n",
      "75%       0.730000        2.600000     0.430000\n",
      "max       2.000000       15.500000     1.000000\n",
      "\n",
      "Estatísticas Descritivas - Vinho Branco:\n",
      "         sulphates  residual sugar  citric acid\n",
      "count  3961.000000     3961.000000  3961.000000\n",
      "mean      0.490351        5.914819     0.334332\n",
      "std       0.113523        4.861646     0.122446\n",
      "min       0.220000        0.600000     0.000000\n",
      "25%       0.410000        1.600000     0.270000\n",
      "50%       0.480000        4.700000     0.320000\n",
      "75%       0.550000        8.900000     0.390000\n",
      "max       1.080000       65.800000     1.660000\n"
     ]
    }
   ],
   "source": [
    "# Estatísticas descritivas para vinhos vermelhos e brancos\n",
    "red_wine_stats = df[['sulphates', 'residual sugar', 'citric acid']].describe()\n",
    "white_wine_stats = df2[['sulphates', 'residual sugar', 'citric acid']].describe()\n",
    "\n",
    "print(\"Estatísticas Descritivas - Vinho Vermelho:\")\n",
    "print(red_wine_stats)\n",
    "\n",
    "print(\"\\nEstatísticas Descritivas - Vinho Branco:\")\n",
    "print(white_wine_stats)"
   ]
  },
  {
   "cell_type": "code",
   "execution_count": 103,
   "id": "4e6d2788-bce9-4215-9e14-fd0e253ebda9",
   "metadata": {},
   "outputs": [
    {
     "data": {
      "image/png": "[encoded data removed]",
      "text/plain": [
       "<Figure size 800x600 with 1 Axes>"
      ]
     },
     "metadata": {},
     "output_type": "display_data"
    }
   ],
   "source": [
    "# Boxplot para comparar a acidez fixa entre vinhos vermelhos e brancos\n",
    "plt.figure(figsize=(8,6))\n",
    "sns.boxplot(x='type', y='fixed acidity', data=pd.concat([df.assign(type='Red Wine'), df2.assign(type='White Wine')]))\n",
    "plt.title('Comparação de Acidez Fixa entre Vinhos Vermelhos e Brancos')\n",
    "plt.show()"
   ]
  },
  {
   "cell_type": "markdown",
   "id": "24b8ab22-f899-47db-bd05-8fb34bf64350",
   "metadata": {},
   "source": [
    "## Agrupamentos"
   ]
  },
  {
   "cell_type": "code",
   "execution_count": 104,
   "id": "553662b1-5fea-4b3a-b686-bea8141891a7",
   "metadata": {},
   "outputs": [
    {
     "data": {
      "text/html": [
       "<div>\n",
       "<style scoped>\n",
       "    .dataframe tbody tr th:only-of-type {\n",
       "        vertical-align: middle;\n",
       "    }\n",
       "\n",
       "    .dataframe tbody tr th {\n",
       "        vertical-align: top;\n",
       "    }\n",
       "\n",
       "    .dataframe thead th {\n",
       "        text-align: right;\n",
       "    }\n",
       "</style>\n",
       "<table border=\"1\" class=\"dataframe\">\n",
       "  <thead>\n",
       "    <tr style=\"text-align: right;\">\n",
       "      <th></th>\n",
       "      <th>fixed acidity</th>\n",
       "      <th>volatile acidity</th>\n",
       "      <th>citric acid</th>\n",
       "      <th>residual sugar</th>\n",
       "      <th>chlorides</th>\n",
       "      <th>free sulfur dioxide</th>\n",
       "      <th>total sulfur dioxide</th>\n",
       "      <th>density</th>\n",
       "      <th>pH</th>\n",
       "      <th>sulphates</th>\n",
       "      <th>alcohol</th>\n",
       "    </tr>\n",
       "    <tr>\n",
       "      <th>quality</th>\n",
       "      <th></th>\n",
       "      <th></th>\n",
       "      <th></th>\n",
       "      <th></th>\n",
       "      <th></th>\n",
       "      <th></th>\n",
       "      <th></th>\n",
       "      <th></th>\n",
       "      <th></th>\n",
       "      <th></th>\n",
       "      <th></th>\n",
       "    </tr>\n",
       "  </thead>\n",
       "  <tbody>\n",
       "    <tr>\n",
       "      <th>3</th>\n",
       "      <td>8.360000</td>\n",
       "      <td>0.884500</td>\n",
       "      <td>0.171000</td>\n",
       "      <td>2.635000</td>\n",
       "      <td>0.122500</td>\n",
       "      <td>11.000000</td>\n",
       "      <td>24.900000</td>\n",
       "      <td>0.997464</td>\n",
       "      <td>3.398000</td>\n",
       "      <td>0.570000</td>\n",
       "      <td>9.955000</td>\n",
       "    </tr>\n",
       "    <tr>\n",
       "      <th>4</th>\n",
       "      <td>7.779245</td>\n",
       "      <td>0.693962</td>\n",
       "      <td>0.174151</td>\n",
       "      <td>2.694340</td>\n",
       "      <td>0.090679</td>\n",
       "      <td>12.264151</td>\n",
       "      <td>36.245283</td>\n",
       "      <td>0.996542</td>\n",
       "      <td>3.381509</td>\n",
       "      <td>0.596415</td>\n",
       "      <td>10.265094</td>\n",
       "    </tr>\n",
       "    <tr>\n",
       "      <th>5</th>\n",
       "      <td>8.171231</td>\n",
       "      <td>0.578596</td>\n",
       "      <td>0.244523</td>\n",
       "      <td>2.509532</td>\n",
       "      <td>0.093971</td>\n",
       "      <td>17.161179</td>\n",
       "      <td>57.406412</td>\n",
       "      <td>0.997082</td>\n",
       "      <td>3.300815</td>\n",
       "      <td>0.623570</td>\n",
       "      <td>9.888562</td>\n",
       "    </tr>\n",
       "    <tr>\n",
       "      <th>6</th>\n",
       "      <td>8.337383</td>\n",
       "      <td>0.496084</td>\n",
       "      <td>0.279364</td>\n",
       "      <td>2.457290</td>\n",
       "      <td>0.085075</td>\n",
       "      <td>15.637383</td>\n",
       "      <td>40.816822</td>\n",
       "      <td>0.996565</td>\n",
       "      <td>3.318000</td>\n",
       "      <td>0.674542</td>\n",
       "      <td>10.658879</td>\n",
       "    </tr>\n",
       "    <tr>\n",
       "      <th>7</th>\n",
       "      <td>8.858683</td>\n",
       "      <td>0.403653</td>\n",
       "      <td>0.371856</td>\n",
       "      <td>2.716766</td>\n",
       "      <td>0.076832</td>\n",
       "      <td>13.994012</td>\n",
       "      <td>35.449102</td>\n",
       "      <td>0.996051</td>\n",
       "      <td>3.290060</td>\n",
       "      <td>0.742635</td>\n",
       "      <td>11.491118</td>\n",
       "    </tr>\n",
       "    <tr>\n",
       "      <th>8</th>\n",
       "      <td>8.441176</td>\n",
       "      <td>0.427647</td>\n",
       "      <td>0.382941</td>\n",
       "      <td>2.576471</td>\n",
       "      <td>0.068353</td>\n",
       "      <td>13.764706</td>\n",
       "      <td>34.470588</td>\n",
       "      <td>0.995095</td>\n",
       "      <td>3.274118</td>\n",
       "      <td>0.774706</td>\n",
       "      <td>12.158824</td>\n",
       "    </tr>\n",
       "  </tbody>\n",
       "</table>\n",
       "</div>"
      ],
      "text/plain": [
       "         fixed acidity  volatile acidity  citric acid  residual sugar  \\\n",
       "quality                                                                 \n",
       "3             8.360000          0.884500     0.171000        2.635000   \n",
       "4             7.779245          0.693962     0.174151        2.694340   \n",
       "5             8.171231          0.578596     0.244523        2.509532   \n",
       "6             8.337383          0.496084     0.279364        2.457290   \n",
       "7             8.858683          0.403653     0.371856        2.716766   \n",
       "8             8.441176          0.427647     0.382941        2.576471   \n",
       "\n",
       "         chlorides  free sulfur dioxide  total sulfur dioxide   density  \\\n",
       "quality                                                                   \n",
       "3         0.122500            11.000000             24.900000  0.997464   \n",
       "4         0.090679            12.264151             36.245283  0.996542   \n",
       "5         0.093971            17.161179             57.406412  0.997082   \n",
       "6         0.085075            15.637383             40.816822  0.996565   \n",
       "7         0.076832            13.994012             35.449102  0.996051   \n",
       "8         0.068353            13.764706             34.470588  0.995095   \n",
       "\n",
       "               pH  sulphates    alcohol  \n",
       "quality                                  \n",
       "3        3.398000   0.570000   9.955000  \n",
       "4        3.381509   0.596415  10.265094  \n",
       "5        3.300815   0.623570   9.888562  \n",
       "6        3.318000   0.674542  10.658879  \n",
       "7        3.290060   0.742635  11.491118  \n",
       "8        3.274118   0.774706  12.158824  "
      ]
     },
     "execution_count": 104,
     "metadata": {},
     "output_type": "execute_result"
    }
   ],
   "source": [
    "# Selecionar apenas colunas numéricas antes de aplicar o groupby e mean\n",
    "df_numeric = df.select_dtypes(include=[np.number])\n",
    "\n",
    "# Agora, realizar o groupby e calcular a média nas colunas numéricas\n",
    "df_numeric.groupby('quality').mean()"
   ]
  },
  {
   "cell_type": "code",
   "execution_count": 55,
   "id": "2777b254-a138-436d-9978-7488fbb4cf4b",
   "metadata": {},
   "outputs": [
    {
     "data": {
      "text/html": [
       "<div>\n",
       "<style scoped>\n",
       "    .dataframe tbody tr th:only-of-type {\n",
       "        vertical-align: middle;\n",
       "    }\n",
       "\n",
       "    .dataframe tbody tr th {\n",
       "        vertical-align: top;\n",
       "    }\n",
       "\n",
       "    .dataframe thead th {\n",
       "        text-align: right;\n",
       "    }\n",
       "</style>\n",
       "<table border=\"1\" class=\"dataframe\">\n",
       "  <thead>\n",
       "    <tr style=\"text-align: right;\">\n",
       "      <th></th>\n",
       "      <th>fixed acidity</th>\n",
       "      <th>volatile acidity</th>\n",
       "      <th>citric acid</th>\n",
       "      <th>residual sugar</th>\n",
       "      <th>chlorides</th>\n",
       "      <th>free sulfur dioxide</th>\n",
       "      <th>total sulfur dioxide</th>\n",
       "      <th>density</th>\n",
       "      <th>pH</th>\n",
       "      <th>sulphates</th>\n",
       "      <th>alcohol</th>\n",
       "    </tr>\n",
       "    <tr>\n",
       "      <th>quality</th>\n",
       "      <th></th>\n",
       "      <th></th>\n",
       "      <th></th>\n",
       "      <th></th>\n",
       "      <th></th>\n",
       "      <th></th>\n",
       "      <th></th>\n",
       "      <th></th>\n",
       "      <th></th>\n",
       "      <th></th>\n",
       "      <th></th>\n",
       "    </tr>\n",
       "  </thead>\n",
       "  <tbody>\n",
       "    <tr>\n",
       "      <th>3</th>\n",
       "      <td>7.600000</td>\n",
       "      <td>0.333250</td>\n",
       "      <td>0.336000</td>\n",
       "      <td>6.392500</td>\n",
       "      <td>0.054300</td>\n",
       "      <td>53.325000</td>\n",
       "      <td>170.600000</td>\n",
       "      <td>0.994884</td>\n",
       "      <td>3.187500</td>\n",
       "      <td>0.474500</td>\n",
       "      <td>10.345000</td>\n",
       "    </tr>\n",
       "    <tr>\n",
       "      <th>4</th>\n",
       "      <td>7.139869</td>\n",
       "      <td>0.382157</td>\n",
       "      <td>0.305229</td>\n",
       "      <td>4.499346</td>\n",
       "      <td>0.050059</td>\n",
       "      <td>23.127451</td>\n",
       "      <td>124.127451</td>\n",
       "      <td>0.994199</td>\n",
       "      <td>3.185425</td>\n",
       "      <td>0.476667</td>\n",
       "      <td>10.197712</td>\n",
       "    </tr>\n",
       "    <tr>\n",
       "      <th>5</th>\n",
       "      <td>6.921745</td>\n",
       "      <td>0.303306</td>\n",
       "      <td>0.335957</td>\n",
       "      <td>6.941532</td>\n",
       "      <td>0.052323</td>\n",
       "      <td>36.002979</td>\n",
       "      <td>150.099574</td>\n",
       "      <td>0.995072</td>\n",
       "      <td>3.171779</td>\n",
       "      <td>0.482621</td>\n",
       "      <td>9.864182</td>\n",
       "    </tr>\n",
       "    <tr>\n",
       "      <th>6</th>\n",
       "      <td>6.819435</td>\n",
       "      <td>0.261630</td>\n",
       "      <td>0.338227</td>\n",
       "      <td>5.959787</td>\n",
       "      <td>0.045178</td>\n",
       "      <td>35.308166</td>\n",
       "      <td>136.460850</td>\n",
       "      <td>0.993722</td>\n",
       "      <td>3.196029</td>\n",
       "      <td>0.492355</td>\n",
       "      <td>10.646122</td>\n",
       "    </tr>\n",
       "    <tr>\n",
       "      <th>7</th>\n",
       "      <td>6.701089</td>\n",
       "      <td>0.265363</td>\n",
       "      <td>0.327358</td>\n",
       "      <td>4.523875</td>\n",
       "      <td>0.037556</td>\n",
       "      <td>33.851234</td>\n",
       "      <td>122.052975</td>\n",
       "      <td>0.992059</td>\n",
       "      <td>3.228462</td>\n",
       "      <td>0.502859</td>\n",
       "      <td>11.515844</td>\n",
       "    </tr>\n",
       "    <tr>\n",
       "      <th>8</th>\n",
       "      <td>6.609924</td>\n",
       "      <td>0.286794</td>\n",
       "      <td>0.335038</td>\n",
       "      <td>5.056489</td>\n",
       "      <td>0.036756</td>\n",
       "      <td>35.618321</td>\n",
       "      <td>122.034351</td>\n",
       "      <td>0.991745</td>\n",
       "      <td>3.235115</td>\n",
       "      <td>0.485878</td>\n",
       "      <td>11.880153</td>\n",
       "    </tr>\n",
       "    <tr>\n",
       "      <th>9</th>\n",
       "      <td>7.420000</td>\n",
       "      <td>0.298000</td>\n",
       "      <td>0.386000</td>\n",
       "      <td>4.120000</td>\n",
       "      <td>0.027400</td>\n",
       "      <td>33.400000</td>\n",
       "      <td>116.000000</td>\n",
       "      <td>0.991460</td>\n",
       "      <td>3.308000</td>\n",
       "      <td>0.466000</td>\n",
       "      <td>12.180000</td>\n",
       "    </tr>\n",
       "  </tbody>\n",
       "</table>\n",
       "</div>"
      ],
      "text/plain": [
       "         fixed acidity  volatile acidity  citric acid  residual sugar  \\\n",
       "quality                                                                 \n",
       "3             7.600000          0.333250     0.336000        6.392500   \n",
       "4             7.139869          0.382157     0.305229        4.499346   \n",
       "5             6.921745          0.303306     0.335957        6.941532   \n",
       "6             6.819435          0.261630     0.338227        5.959787   \n",
       "7             6.701089          0.265363     0.327358        4.523875   \n",
       "8             6.609924          0.286794     0.335038        5.056489   \n",
       "9             7.420000          0.298000     0.386000        4.120000   \n",
       "\n",
       "         chlorides  free sulfur dioxide  total sulfur dioxide   density  \\\n",
       "quality                                                                   \n",
       "3         0.054300            53.325000            170.600000  0.994884   \n",
       "4         0.050059            23.127451            124.127451  0.994199   \n",
       "5         0.052323            36.002979            150.099574  0.995072   \n",
       "6         0.045178            35.308166            136.460850  0.993722   \n",
       "7         0.037556            33.851234            122.052975  0.992059   \n",
       "8         0.036756            35.618321            122.034351  0.991745   \n",
       "9         0.027400            33.400000            116.000000  0.991460   \n",
       "\n",
       "               pH  sulphates    alcohol  \n",
       "quality                                  \n",
       "3        3.187500   0.474500  10.345000  \n",
       "4        3.185425   0.476667  10.197712  \n",
       "5        3.171779   0.482621   9.864182  \n",
       "6        3.196029   0.492355  10.646122  \n",
       "7        3.228462   0.502859  11.515844  \n",
       "8        3.235115   0.485878  11.880153  \n",
       "9        3.308000   0.466000  12.180000  "
      ]
     },
     "execution_count": 55,
     "metadata": {},
     "output_type": "execute_result"
    }
   ],
   "source": [
    "# Selecionar apenas colunas numéricas antes de aplicar o groupby e mean\n",
    "df_numeric2 = df2.select_dtypes(include=[np.number])\n",
    "\n",
    "# Agora, realizar o groupby e calcular a média nas colunas numéricas\n",
    "df_numeric2.groupby('quality').mean()"
   ]
  },
  {
   "cell_type": "code",
   "execution_count": 106,
   "id": "c9a88e98-841f-4b24-ada4-ab9d7d8d952f",
   "metadata": {},
   "outputs": [
    {
     "data": {
      "text/plain": [
       "quality\n",
       "3    8.360000\n",
       "4    7.779245\n",
       "5    8.171231\n",
       "6    8.337383\n",
       "7    8.858683\n",
       "8    8.441176\n",
       "Name: fixed acidity, dtype: float64"
      ]
     },
     "execution_count": 106,
     "metadata": {},
     "output_type": "execute_result"
    }
   ],
   "source": [
    "# Converter colunas específicas para numéricas, se necessário\n",
    "df['fixed acidity'] = pd.to_numeric(df['fixed acidity'], errors='coerce')\n",
    "\n",
    "# Agora você pode calcular a média sem erro\n",
    "df.groupby('quality')['fixed acidity'].mean()"
   ]
  },
  {
   "cell_type": "code",
   "execution_count": 107,
   "id": "0d012cf9-a921-45ba-aa98-94f3f0b928f2",
   "metadata": {},
   "outputs": [
    {
     "data": {
      "text/plain": [
       "quality\n",
       "3    7.600000\n",
       "4    7.139869\n",
       "5    6.921745\n",
       "6    6.819435\n",
       "7    6.701089\n",
       "8    6.609924\n",
       "9    7.420000\n",
       "Name: fixed acidity, dtype: float64"
      ]
     },
     "execution_count": 107,
     "metadata": {},
     "output_type": "execute_result"
    }
   ],
   "source": [
    "# Converter colunas específicas para numéricas, se necessário\n",
    "df2['fixed acidity'] = pd.to_numeric(df2['fixed acidity'], errors='coerce')\n",
    "\n",
    "# Agora você pode calcular a média sem erro\n",
    "df2.groupby('quality')['fixed acidity'].mean()"
   ]
  },
  {
   "cell_type": "code",
   "execution_count": 108,
   "id": "b7dc0b02-768b-4452-a931-ff40c7c79ce8",
   "metadata": {},
   "outputs": [
    {
     "name": "stdout",
     "output_type": "stream",
     "text": [
      "fixed acidity           float64\n",
      "volatile acidity        float64\n",
      "citric acid             float64\n",
      "residual sugar          float64\n",
      "chlorides               float64\n",
      "free sulfur dioxide     float64\n",
      "total sulfur dioxide    float64\n",
      "density                 float64\n",
      "pH                      float64\n",
      "sulphates               float64\n",
      "alcohol                 float64\n",
      "quality                   int64\n",
      "acidity_level            object\n",
      "dtype: object\n",
      "[ 7.4  7.8 11.2  7.9  7.3  7.5  6.7  5.6  8.9  8.5  8.1  7.6  6.9  6.3\n",
      "  7.1  8.3  5.2  5.7  8.8  6.8  4.6  7.7  8.7  6.4  6.6  8.6 10.2  7.\n",
      "  7.2  9.3  8.   9.7  6.2  5.   4.7  8.4 10.1  9.4  9.   8.2  6.1  5.8\n",
      "  9.2 11.5  5.4  9.6 12.8 11.  11.6 12.  15.  10.8 11.1 10.  12.5 11.8\n",
      " 10.9 10.3 11.4  9.9 10.4 13.3 10.6  9.8 13.4 10.7 11.9 12.4 12.2 13.8\n",
      "  9.1 13.5 10.5 12.6 14.  13.7  9.5 12.7 12.3 15.6  5.3 11.3 13.   6.5\n",
      " 12.9 14.3 15.5 11.7 13.2 15.9 12.1  5.1  4.9  5.9  6.   5.5]\n"
     ]
    }
   ],
   "source": [
    "# Verificar o tipo de dados em cada coluna\n",
    "print(df.dtypes)\n",
    "\n",
    "# Se precisar, verificar valores específicos em uma coluna\n",
    "print(df['fixed acidity'].unique())"
   ]
  },
  {
   "cell_type": "code",
   "execution_count": 109,
   "id": "a4327087-7429-4b12-ad04-46a140f42b9a",
   "metadata": {},
   "outputs": [
    {
     "name": "stdout",
     "output_type": "stream",
     "text": [
      "fixed acidity           float64\n",
      "volatile acidity        float64\n",
      "citric acid             float64\n",
      "residual sugar          float64\n",
      "chlorides               float64\n",
      "free sulfur dioxide     float64\n",
      "total sulfur dioxide    float64\n",
      "density                 float64\n",
      "pH                      float64\n",
      "sulphates               float64\n",
      "alcohol                 float64\n",
      "quality                   int64\n",
      "acidity_level            object\n",
      "dtype: object\n",
      "[ 7.    6.3   8.1   7.2   6.2   8.6   7.9   6.6   8.3   7.4   6.5   6.4\n",
      "  6.8   7.6   6.9   8.5   5.8   7.3   6.7   6.    7.1   6.1   7.5   9.8\n",
      "  5.5   5.9   7.8   5.7   8.2   5.6   5.2   8.4  10.2   7.7   5.3   5.4\n",
      "  9.1   5.    8.   10.    5.1   9.2   9.    8.8   8.7   4.8  10.3   9.4\n",
      "  9.6   9.3   8.9   9.7  10.7  14.2   9.9   9.5  11.8   4.6   6.15  4.5\n",
      "  7.15  6.45  4.2   4.9   4.7   3.8   4.4   3.9 ]\n"
     ]
    }
   ],
   "source": [
    "# Verificar o tipo de dados em cada coluna\n",
    "print(df2.dtypes)\n",
    "\n",
    "# Se precisar, verificar valores específicos em uma coluna\n",
    "print(df2['fixed acidity'].unique())"
   ]
  },
  {
   "cell_type": "code",
   "execution_count": 110,
   "id": "bd4ebc52-bd89-459e-854e-4861c274cc06",
   "metadata": {},
   "outputs": [
    {
     "data": {
      "text/html": [
       "<div>\n",
       "<style scoped>\n",
       "    .dataframe tbody tr th:only-of-type {\n",
       "        vertical-align: middle;\n",
       "    }\n",
       "\n",
       "    .dataframe tbody tr th {\n",
       "        vertical-align: top;\n",
       "    }\n",
       "\n",
       "    .dataframe thead th {\n",
       "        text-align: right;\n",
       "    }\n",
       "</style>\n",
       "<table border=\"1\" class=\"dataframe\">\n",
       "  <thead>\n",
       "    <tr style=\"text-align: right;\">\n",
       "      <th></th>\n",
       "      <th>fixed acidity</th>\n",
       "      <th>volatile acidity</th>\n",
       "      <th>citric acid</th>\n",
       "      <th>residual sugar</th>\n",
       "      <th>chlorides</th>\n",
       "      <th>free sulfur dioxide</th>\n",
       "      <th>total sulfur dioxide</th>\n",
       "      <th>density</th>\n",
       "      <th>pH</th>\n",
       "      <th>sulphates</th>\n",
       "      <th>alcohol</th>\n",
       "    </tr>\n",
       "    <tr>\n",
       "      <th>quality</th>\n",
       "      <th></th>\n",
       "      <th></th>\n",
       "      <th></th>\n",
       "      <th></th>\n",
       "      <th></th>\n",
       "      <th></th>\n",
       "      <th></th>\n",
       "      <th></th>\n",
       "      <th></th>\n",
       "      <th></th>\n",
       "      <th></th>\n",
       "    </tr>\n",
       "  </thead>\n",
       "  <tbody>\n",
       "    <tr>\n",
       "      <th>3</th>\n",
       "      <td>8.360000</td>\n",
       "      <td>0.884500</td>\n",
       "      <td>0.171000</td>\n",
       "      <td>2.635000</td>\n",
       "      <td>0.122500</td>\n",
       "      <td>11.000000</td>\n",
       "      <td>24.900000</td>\n",
       "      <td>0.997464</td>\n",
       "      <td>3.398000</td>\n",
       "      <td>0.570000</td>\n",
       "      <td>9.955000</td>\n",
       "    </tr>\n",
       "    <tr>\n",
       "      <th>4</th>\n",
       "      <td>7.779245</td>\n",
       "      <td>0.693962</td>\n",
       "      <td>0.174151</td>\n",
       "      <td>2.694340</td>\n",
       "      <td>0.090679</td>\n",
       "      <td>12.264151</td>\n",
       "      <td>36.245283</td>\n",
       "      <td>0.996542</td>\n",
       "      <td>3.381509</td>\n",
       "      <td>0.596415</td>\n",
       "      <td>10.265094</td>\n",
       "    </tr>\n",
       "    <tr>\n",
       "      <th>5</th>\n",
       "      <td>8.171231</td>\n",
       "      <td>0.578596</td>\n",
       "      <td>0.244523</td>\n",
       "      <td>2.509532</td>\n",
       "      <td>0.093971</td>\n",
       "      <td>17.161179</td>\n",
       "      <td>57.406412</td>\n",
       "      <td>0.997082</td>\n",
       "      <td>3.300815</td>\n",
       "      <td>0.623570</td>\n",
       "      <td>9.888562</td>\n",
       "    </tr>\n",
       "    <tr>\n",
       "      <th>6</th>\n",
       "      <td>8.337383</td>\n",
       "      <td>0.496084</td>\n",
       "      <td>0.279364</td>\n",
       "      <td>2.457290</td>\n",
       "      <td>0.085075</td>\n",
       "      <td>15.637383</td>\n",
       "      <td>40.816822</td>\n",
       "      <td>0.996565</td>\n",
       "      <td>3.318000</td>\n",
       "      <td>0.674542</td>\n",
       "      <td>10.658879</td>\n",
       "    </tr>\n",
       "    <tr>\n",
       "      <th>7</th>\n",
       "      <td>8.858683</td>\n",
       "      <td>0.403653</td>\n",
       "      <td>0.371856</td>\n",
       "      <td>2.716766</td>\n",
       "      <td>0.076832</td>\n",
       "      <td>13.994012</td>\n",
       "      <td>35.449102</td>\n",
       "      <td>0.996051</td>\n",
       "      <td>3.290060</td>\n",
       "      <td>0.742635</td>\n",
       "      <td>11.491118</td>\n",
       "    </tr>\n",
       "    <tr>\n",
       "      <th>8</th>\n",
       "      <td>8.441176</td>\n",
       "      <td>0.427647</td>\n",
       "      <td>0.382941</td>\n",
       "      <td>2.576471</td>\n",
       "      <td>0.068353</td>\n",
       "      <td>13.764706</td>\n",
       "      <td>34.470588</td>\n",
       "      <td>0.995095</td>\n",
       "      <td>3.274118</td>\n",
       "      <td>0.774706</td>\n",
       "      <td>12.158824</td>\n",
       "    </tr>\n",
       "  </tbody>\n",
       "</table>\n",
       "</div>"
      ],
      "text/plain": [
       "         fixed acidity  volatile acidity  citric acid  residual sugar  \\\n",
       "quality                                                                 \n",
       "3             8.360000          0.884500     0.171000        2.635000   \n",
       "4             7.779245          0.693962     0.174151        2.694340   \n",
       "5             8.171231          0.578596     0.244523        2.509532   \n",
       "6             8.337383          0.496084     0.279364        2.457290   \n",
       "7             8.858683          0.403653     0.371856        2.716766   \n",
       "8             8.441176          0.427647     0.382941        2.576471   \n",
       "\n",
       "         chlorides  free sulfur dioxide  total sulfur dioxide   density  \\\n",
       "quality                                                                   \n",
       "3         0.122500            11.000000             24.900000  0.997464   \n",
       "4         0.090679            12.264151             36.245283  0.996542   \n",
       "5         0.093971            17.161179             57.406412  0.997082   \n",
       "6         0.085075            15.637383             40.816822  0.996565   \n",
       "7         0.076832            13.994012             35.449102  0.996051   \n",
       "8         0.068353            13.764706             34.470588  0.995095   \n",
       "\n",
       "               pH  sulphates    alcohol  \n",
       "quality                                  \n",
       "3        3.398000   0.570000   9.955000  \n",
       "4        3.381509   0.596415  10.265094  \n",
       "5        3.300815   0.623570   9.888562  \n",
       "6        3.318000   0.674542  10.658879  \n",
       "7        3.290060   0.742635  11.491118  \n",
       "8        3.274118   0.774706  12.158824  "
      ]
     },
     "execution_count": 110,
     "metadata": {},
     "output_type": "execute_result"
    }
   ],
   "source": [
    "# Calcular a média somente nas colunas numéricas, ignorando objetos\n",
    "df.groupby('quality').mean(numeric_only=True)"
   ]
  },
  {
   "cell_type": "code",
   "execution_count": 111,
   "id": "bcc989d4-650f-43d9-863d-3b1206c7d651",
   "metadata": {},
   "outputs": [
    {
     "data": {
      "text/html": [
       "<div>\n",
       "<style scoped>\n",
       "    .dataframe tbody tr th:only-of-type {\n",
       "        vertical-align: middle;\n",
       "    }\n",
       "\n",
       "    .dataframe tbody tr th {\n",
       "        vertical-align: top;\n",
       "    }\n",
       "\n",
       "    .dataframe thead th {\n",
       "        text-align: right;\n",
       "    }\n",
       "</style>\n",
       "<table border=\"1\" class=\"dataframe\">\n",
       "  <thead>\n",
       "    <tr style=\"text-align: right;\">\n",
       "      <th></th>\n",
       "      <th>fixed acidity</th>\n",
       "      <th>volatile acidity</th>\n",
       "      <th>citric acid</th>\n",
       "      <th>residual sugar</th>\n",
       "      <th>chlorides</th>\n",
       "      <th>free sulfur dioxide</th>\n",
       "      <th>total sulfur dioxide</th>\n",
       "      <th>density</th>\n",
       "      <th>pH</th>\n",
       "      <th>sulphates</th>\n",
       "      <th>alcohol</th>\n",
       "    </tr>\n",
       "    <tr>\n",
       "      <th>quality</th>\n",
       "      <th></th>\n",
       "      <th></th>\n",
       "      <th></th>\n",
       "      <th></th>\n",
       "      <th></th>\n",
       "      <th></th>\n",
       "      <th></th>\n",
       "      <th></th>\n",
       "      <th></th>\n",
       "      <th></th>\n",
       "      <th></th>\n",
       "    </tr>\n",
       "  </thead>\n",
       "  <tbody>\n",
       "    <tr>\n",
       "      <th>3</th>\n",
       "      <td>7.600000</td>\n",
       "      <td>0.333250</td>\n",
       "      <td>0.336000</td>\n",
       "      <td>6.392500</td>\n",
       "      <td>0.054300</td>\n",
       "      <td>53.325000</td>\n",
       "      <td>170.600000</td>\n",
       "      <td>0.994884</td>\n",
       "      <td>3.187500</td>\n",
       "      <td>0.474500</td>\n",
       "      <td>10.345000</td>\n",
       "    </tr>\n",
       "    <tr>\n",
       "      <th>4</th>\n",
       "      <td>7.139869</td>\n",
       "      <td>0.382157</td>\n",
       "      <td>0.305229</td>\n",
       "      <td>4.499346</td>\n",
       "      <td>0.050059</td>\n",
       "      <td>23.127451</td>\n",
       "      <td>124.127451</td>\n",
       "      <td>0.994199</td>\n",
       "      <td>3.185425</td>\n",
       "      <td>0.476667</td>\n",
       "      <td>10.197712</td>\n",
       "    </tr>\n",
       "    <tr>\n",
       "      <th>5</th>\n",
       "      <td>6.921745</td>\n",
       "      <td>0.303306</td>\n",
       "      <td>0.335957</td>\n",
       "      <td>6.941532</td>\n",
       "      <td>0.052323</td>\n",
       "      <td>36.002979</td>\n",
       "      <td>150.099574</td>\n",
       "      <td>0.995072</td>\n",
       "      <td>3.171779</td>\n",
       "      <td>0.482621</td>\n",
       "      <td>9.864182</td>\n",
       "    </tr>\n",
       "    <tr>\n",
       "      <th>6</th>\n",
       "      <td>6.819435</td>\n",
       "      <td>0.261630</td>\n",
       "      <td>0.338227</td>\n",
       "      <td>5.959787</td>\n",
       "      <td>0.045178</td>\n",
       "      <td>35.308166</td>\n",
       "      <td>136.460850</td>\n",
       "      <td>0.993722</td>\n",
       "      <td>3.196029</td>\n",
       "      <td>0.492355</td>\n",
       "      <td>10.646122</td>\n",
       "    </tr>\n",
       "    <tr>\n",
       "      <th>7</th>\n",
       "      <td>6.701089</td>\n",
       "      <td>0.265363</td>\n",
       "      <td>0.327358</td>\n",
       "      <td>4.523875</td>\n",
       "      <td>0.037556</td>\n",
       "      <td>33.851234</td>\n",
       "      <td>122.052975</td>\n",
       "      <td>0.992059</td>\n",
       "      <td>3.228462</td>\n",
       "      <td>0.502859</td>\n",
       "      <td>11.515844</td>\n",
       "    </tr>\n",
       "    <tr>\n",
       "      <th>8</th>\n",
       "      <td>6.609924</td>\n",
       "      <td>0.286794</td>\n",
       "      <td>0.335038</td>\n",
       "      <td>5.056489</td>\n",
       "      <td>0.036756</td>\n",
       "      <td>35.618321</td>\n",
       "      <td>122.034351</td>\n",
       "      <td>0.991745</td>\n",
       "      <td>3.235115</td>\n",
       "      <td>0.485878</td>\n",
       "      <td>11.880153</td>\n",
       "    </tr>\n",
       "    <tr>\n",
       "      <th>9</th>\n",
       "      <td>7.420000</td>\n",
       "      <td>0.298000</td>\n",
       "      <td>0.386000</td>\n",
       "      <td>4.120000</td>\n",
       "      <td>0.027400</td>\n",
       "      <td>33.400000</td>\n",
       "      <td>116.000000</td>\n",
       "      <td>0.991460</td>\n",
       "      <td>3.308000</td>\n",
       "      <td>0.466000</td>\n",
       "      <td>12.180000</td>\n",
       "    </tr>\n",
       "  </tbody>\n",
       "</table>\n",
       "</div>"
      ],
      "text/plain": [
       "         fixed acidity  volatile acidity  citric acid  residual sugar  \\\n",
       "quality                                                                 \n",
       "3             7.600000          0.333250     0.336000        6.392500   \n",
       "4             7.139869          0.382157     0.305229        4.499346   \n",
       "5             6.921745          0.303306     0.335957        6.941532   \n",
       "6             6.819435          0.261630     0.338227        5.959787   \n",
       "7             6.701089          0.265363     0.327358        4.523875   \n",
       "8             6.609924          0.286794     0.335038        5.056489   \n",
       "9             7.420000          0.298000     0.386000        4.120000   \n",
       "\n",
       "         chlorides  free sulfur dioxide  total sulfur dioxide   density  \\\n",
       "quality                                                                   \n",
       "3         0.054300            53.325000            170.600000  0.994884   \n",
       "4         0.050059            23.127451            124.127451  0.994199   \n",
       "5         0.052323            36.002979            150.099574  0.995072   \n",
       "6         0.045178            35.308166            136.460850  0.993722   \n",
       "7         0.037556            33.851234            122.052975  0.992059   \n",
       "8         0.036756            35.618321            122.034351  0.991745   \n",
       "9         0.027400            33.400000            116.000000  0.991460   \n",
       "\n",
       "               pH  sulphates    alcohol  \n",
       "quality                                  \n",
       "3        3.187500   0.474500  10.345000  \n",
       "4        3.185425   0.476667  10.197712  \n",
       "5        3.171779   0.482621   9.864182  \n",
       "6        3.196029   0.492355  10.646122  \n",
       "7        3.228462   0.502859  11.515844  \n",
       "8        3.235115   0.485878  11.880153  \n",
       "9        3.308000   0.466000  12.180000  "
      ]
     },
     "execution_count": 111,
     "metadata": {},
     "output_type": "execute_result"
    }
   ],
   "source": [
    "# Calcular a média somente nas colunas numéricas, ignorando objetos\n",
    "df2.groupby('quality').mean(numeric_only=True)"
   ]
  },
  {
   "cell_type": "code",
   "execution_count": 112,
   "id": "aedae035-7105-419b-b9ca-cf5b31cc9979",
   "metadata": {},
   "outputs": [
    {
     "data": {
      "text/plain": [
       "quality\n",
       "3     10\n",
       "4     53\n",
       "5    577\n",
       "6    535\n",
       "7    167\n",
       "8     17\n",
       "dtype: int64"
      ]
     },
     "execution_count": 112,
     "metadata": {},
     "output_type": "execute_result"
    }
   ],
   "source": [
    "# Contar o número de vinhos por nível de qualidade\n",
    "df.groupby('quality').size()"
   ]
  },
  {
   "cell_type": "code",
   "execution_count": 113,
   "id": "83deb918-8c8a-40b6-8f9b-6855d1852ab1",
   "metadata": {},
   "outputs": [
    {
     "data": {
      "text/plain": [
       "quality\n",
       "3      20\n",
       "4     153\n",
       "5    1175\n",
       "6    1788\n",
       "7     689\n",
       "8     131\n",
       "9       5\n",
       "dtype: int64"
      ]
     },
     "execution_count": 113,
     "metadata": {},
     "output_type": "execute_result"
    }
   ],
   "source": [
    "# Contar o número de vinhos por nível de qualidade\n",
    "df2.groupby('quality').size()"
   ]
  },
  {
   "cell_type": "code",
   "execution_count": 114,
   "id": "7002b680-5da1-4476-a089-e2dec2598864",
   "metadata": {},
   "outputs": [
    {
     "data": {
      "text/plain": [
       "type\n",
       "Red      8.310596\n",
       "White    6.839346\n",
       "Name: fixed acidity, dtype: float64"
      ]
     },
     "execution_count": 114,
     "metadata": {},
     "output_type": "execute_result"
    }
   ],
   "source": [
    "# Criar uma coluna 'type' para distinguir vinhos vermelhos e brancos\n",
    "df['type'] = 'Red'\n",
    "df2['type'] = 'White'\n",
    "\n",
    "# Combinar os dois DataFrames\n",
    "df_combined = pd.concat([df, df2])\n",
    "\n",
    "# Calcular a média de acidez fixa por tipo de vinho\n",
    "df_combined.groupby('type')['fixed acidity'].mean()"
   ]
  },
  {
   "cell_type": "code",
   "execution_count": 115,
   "id": "fe1df543-dd02-4872-a518-33a94e6431d6",
   "metadata": {},
   "outputs": [
    {
     "data": {
      "text/plain": [
       "quality\n",
       "3    0.818009\n",
       "4    0.934776\n",
       "5    0.749930\n",
       "6    1.054933\n",
       "7    0.970779\n",
       "8    1.229867\n",
       "Name: alcohol, dtype: float64"
      ]
     },
     "execution_count": 115,
     "metadata": {},
     "output_type": "execute_result"
    }
   ],
   "source": [
    "# Calcular o desvio padrão do teor alcoólico por nível de qualidade\n",
    "df.groupby('quality')['alcohol'].std()"
   ]
  },
  {
   "cell_type": "code",
   "execution_count": 116,
   "id": "fbc505a6-2816-48ee-8f19-6e2a640fe94c",
   "metadata": {},
   "outputs": [
    {
     "data": {
      "text/plain": [
       "quality\n",
       "3    1.224089\n",
       "4    1.012266\n",
       "5    0.864439\n",
       "6    1.128400\n",
       "7    1.149214\n",
       "8    1.058186\n",
       "9    1.013410\n",
       "Name: alcohol, dtype: float64"
      ]
     },
     "execution_count": 116,
     "metadata": {},
     "output_type": "execute_result"
    }
   ],
   "source": [
    "# Calcular o desvio padrão do teor alcoólico por nível de qualidade\n",
    "df2.groupby('quality')['alcohol'].std()"
   ]
  },
  {
   "cell_type": "code",
   "execution_count": 117,
   "id": "54ba10bd-1ef7-400e-81be-185b2558c1af",
   "metadata": {},
   "outputs": [
    {
     "data": {
      "text/plain": [
       "quality\n",
       "3    2.635000\n",
       "4    2.694340\n",
       "5    2.509532\n",
       "6    2.457290\n",
       "7    2.716766\n",
       "8    2.576471\n",
       "Name: residual sugar, dtype: float64"
      ]
     },
     "execution_count": 117,
     "metadata": {},
     "output_type": "execute_result"
    }
   ],
   "source": [
    "# Calcular a média de açúcar residual por nível de qualidade\n",
    "df.groupby('quality')['residual sugar'].mean()"
   ]
  },
  {
   "cell_type": "code",
   "execution_count": 118,
   "id": "5e97ab43-9329-4904-8c50-498097d68e69",
   "metadata": {},
   "outputs": [
    {
     "data": {
      "text/plain": [
       "quality\n",
       "3    6.392500\n",
       "4    4.499346\n",
       "5    6.941532\n",
       "6    5.959787\n",
       "7    4.523875\n",
       "8    5.056489\n",
       "9    4.120000\n",
       "Name: residual sugar, dtype: float64"
      ]
     },
     "execution_count": 118,
     "metadata": {},
     "output_type": "execute_result"
    }
   ],
   "source": [
    "# Calcular a média de açúcar residual por nível de qualidade\n",
    "df2.groupby('quality')['residual sugar'].mean()"
   ]
  },
  {
   "cell_type": "code",
   "execution_count": 119,
   "id": "20893e4f-cd71-4f29-8337-46ddb74c81ee",
   "metadata": {},
   "outputs": [
    {
     "data": {
      "text/plain": [
       "type   quality\n",
       "Red    3            10\n",
       "       4            53\n",
       "       5           577\n",
       "       6           535\n",
       "       7           167\n",
       "       8            17\n",
       "White  3            20\n",
       "       4           153\n",
       "       5          1175\n",
       "       6          1788\n",
       "       7           689\n",
       "       8           131\n",
       "       9             5\n",
       "dtype: int64"
      ]
     },
     "execution_count": 119,
     "metadata": {},
     "output_type": "execute_result"
    }
   ],
   "source": [
    "# Contar quantos vinhos de cada tipo têm cada nível de qualidade\n",
    "df_combined.groupby(['type', 'quality']).size()"
   ]
  },
  {
   "cell_type": "code",
   "execution_count": 120,
   "id": "9122058c-2e56-47dd-9fbe-24ba67ae7599",
   "metadata": {},
   "outputs": [
    {
     "data": {
      "text/html": [
       "<div>\n",
       "<style scoped>\n",
       "    .dataframe tbody tr th:only-of-type {\n",
       "        vertical-align: middle;\n",
       "    }\n",
       "\n",
       "    .dataframe tbody tr th {\n",
       "        vertical-align: top;\n",
       "    }\n",
       "\n",
       "    .dataframe thead th {\n",
       "        text-align: right;\n",
       "    }\n",
       "</style>\n",
       "<table border=\"1\" class=\"dataframe\">\n",
       "  <thead>\n",
       "    <tr style=\"text-align: right;\">\n",
       "      <th></th>\n",
       "      <th>fixed acidity</th>\n",
       "      <th>volatile acidity</th>\n",
       "      <th>citric acid</th>\n",
       "      <th>residual sugar</th>\n",
       "      <th>chlorides</th>\n",
       "      <th>free sulfur dioxide</th>\n",
       "      <th>total sulfur dioxide</th>\n",
       "      <th>density</th>\n",
       "      <th>pH</th>\n",
       "      <th>sulphates</th>\n",
       "      <th>alcohol</th>\n",
       "      <th>quality</th>\n",
       "      <th>acidity_level</th>\n",
       "      <th>type</th>\n",
       "    </tr>\n",
       "  </thead>\n",
       "  <tbody>\n",
       "    <tr>\n",
       "      <th>7</th>\n",
       "      <td>7.3</td>\n",
       "      <td>0.65</td>\n",
       "      <td>0.00</td>\n",
       "      <td>1.2</td>\n",
       "      <td>0.065</td>\n",
       "      <td>15.0</td>\n",
       "      <td>21.0</td>\n",
       "      <td>0.9946</td>\n",
       "      <td>3.39</td>\n",
       "      <td>0.47</td>\n",
       "      <td>10.0</td>\n",
       "      <td>7</td>\n",
       "      <td>Média</td>\n",
       "      <td>Red</td>\n",
       "    </tr>\n",
       "    <tr>\n",
       "      <th>8</th>\n",
       "      <td>7.8</td>\n",
       "      <td>0.58</td>\n",
       "      <td>0.02</td>\n",
       "      <td>2.0</td>\n",
       "      <td>0.073</td>\n",
       "      <td>9.0</td>\n",
       "      <td>18.0</td>\n",
       "      <td>0.9968</td>\n",
       "      <td>3.36</td>\n",
       "      <td>0.57</td>\n",
       "      <td>9.5</td>\n",
       "      <td>7</td>\n",
       "      <td>Média</td>\n",
       "      <td>Red</td>\n",
       "    </tr>\n",
       "    <tr>\n",
       "      <th>16</th>\n",
       "      <td>8.5</td>\n",
       "      <td>0.28</td>\n",
       "      <td>0.56</td>\n",
       "      <td>1.8</td>\n",
       "      <td>0.092</td>\n",
       "      <td>35.0</td>\n",
       "      <td>103.0</td>\n",
       "      <td>0.9969</td>\n",
       "      <td>3.30</td>\n",
       "      <td>0.75</td>\n",
       "      <td>10.5</td>\n",
       "      <td>7</td>\n",
       "      <td>Média</td>\n",
       "      <td>Red</td>\n",
       "    </tr>\n",
       "    <tr>\n",
       "      <th>37</th>\n",
       "      <td>8.1</td>\n",
       "      <td>0.38</td>\n",
       "      <td>0.28</td>\n",
       "      <td>2.1</td>\n",
       "      <td>0.066</td>\n",
       "      <td>13.0</td>\n",
       "      <td>30.0</td>\n",
       "      <td>0.9968</td>\n",
       "      <td>3.23</td>\n",
       "      <td>0.73</td>\n",
       "      <td>9.7</td>\n",
       "      <td>7</td>\n",
       "      <td>Média</td>\n",
       "      <td>Red</td>\n",
       "    </tr>\n",
       "    <tr>\n",
       "      <th>62</th>\n",
       "      <td>7.5</td>\n",
       "      <td>0.52</td>\n",
       "      <td>0.16</td>\n",
       "      <td>1.9</td>\n",
       "      <td>0.085</td>\n",
       "      <td>12.0</td>\n",
       "      <td>35.0</td>\n",
       "      <td>0.9968</td>\n",
       "      <td>3.38</td>\n",
       "      <td>0.62</td>\n",
       "      <td>9.5</td>\n",
       "      <td>7</td>\n",
       "      <td>Média</td>\n",
       "      <td>Red</td>\n",
       "    </tr>\n",
       "  </tbody>\n",
       "</table>\n",
       "</div>"
      ],
      "text/plain": [
       "    fixed acidity  volatile acidity  citric acid  residual sugar  chlorides  \\\n",
       "7             7.3              0.65         0.00             1.2      0.065   \n",
       "8             7.8              0.58         0.02             2.0      0.073   \n",
       "16            8.5              0.28         0.56             1.8      0.092   \n",
       "37            8.1              0.38         0.28             2.1      0.066   \n",
       "62            7.5              0.52         0.16             1.9      0.085   \n",
       "\n",
       "    free sulfur dioxide  total sulfur dioxide  density    pH  sulphates  \\\n",
       "7                  15.0                  21.0   0.9946  3.39       0.47   \n",
       "8                   9.0                  18.0   0.9968  3.36       0.57   \n",
       "16                 35.0                 103.0   0.9969  3.30       0.75   \n",
       "37                 13.0                  30.0   0.9968  3.23       0.73   \n",
       "62                 12.0                  35.0   0.9968  3.38       0.62   \n",
       "\n",
       "    alcohol  quality acidity_level type  \n",
       "7      10.0        7         Média  Red  \n",
       "8       9.5        7         Média  Red  \n",
       "16     10.5        7         Média  Red  \n",
       "37      9.7        7         Média  Red  \n",
       "62      9.5        7         Média  Red  "
      ]
     },
     "execution_count": 120,
     "metadata": {},
     "output_type": "execute_result"
    }
   ],
   "source": [
    "# Filtrar vinhos com qualidade >= 7 e teor alcoólico médio acima de 10\n",
    "df_high_quality = df.groupby('quality').filter(lambda x: x['alcohol'].mean() > 10 and x['quality'].mean() >= 7)\n",
    "\n",
    "# Mostrar as primeiras linhas dos vinhos que atendem a esses critérios\n",
    "df_high_quality.head()"
   ]
  },
  {
   "cell_type": "code",
   "execution_count": 121,
   "id": "45205ef7-fc1d-40a4-907a-66964171ed60",
   "metadata": {},
   "outputs": [
    {
     "data": {
      "text/html": [
       "<div>\n",
       "<style scoped>\n",
       "    .dataframe tbody tr th:only-of-type {\n",
       "        vertical-align: middle;\n",
       "    }\n",
       "\n",
       "    .dataframe tbody tr th {\n",
       "        vertical-align: top;\n",
       "    }\n",
       "\n",
       "    .dataframe thead th {\n",
       "        text-align: right;\n",
       "    }\n",
       "</style>\n",
       "<table border=\"1\" class=\"dataframe\">\n",
       "  <thead>\n",
       "    <tr style=\"text-align: right;\">\n",
       "      <th></th>\n",
       "      <th>fixed acidity</th>\n",
       "      <th>volatile acidity</th>\n",
       "      <th>citric acid</th>\n",
       "      <th>residual sugar</th>\n",
       "      <th>chlorides</th>\n",
       "      <th>free sulfur dioxide</th>\n",
       "      <th>total sulfur dioxide</th>\n",
       "      <th>density</th>\n",
       "      <th>pH</th>\n",
       "      <th>sulphates</th>\n",
       "      <th>alcohol</th>\n",
       "      <th>quality</th>\n",
       "      <th>acidity_level</th>\n",
       "      <th>type</th>\n",
       "    </tr>\n",
       "  </thead>\n",
       "  <tbody>\n",
       "    <tr>\n",
       "      <th>13</th>\n",
       "      <td>6.6</td>\n",
       "      <td>0.16</td>\n",
       "      <td>0.40</td>\n",
       "      <td>1.5</td>\n",
       "      <td>0.044</td>\n",
       "      <td>48.0</td>\n",
       "      <td>143.0</td>\n",
       "      <td>0.9912</td>\n",
       "      <td>3.54</td>\n",
       "      <td>0.52</td>\n",
       "      <td>12.4</td>\n",
       "      <td>7</td>\n",
       "      <td>Média</td>\n",
       "      <td>White</td>\n",
       "    </tr>\n",
       "    <tr>\n",
       "      <th>15</th>\n",
       "      <td>6.6</td>\n",
       "      <td>0.17</td>\n",
       "      <td>0.38</td>\n",
       "      <td>1.5</td>\n",
       "      <td>0.032</td>\n",
       "      <td>28.0</td>\n",
       "      <td>112.0</td>\n",
       "      <td>0.9914</td>\n",
       "      <td>3.25</td>\n",
       "      <td>0.55</td>\n",
       "      <td>11.4</td>\n",
       "      <td>7</td>\n",
       "      <td>Média</td>\n",
       "      <td>White</td>\n",
       "    </tr>\n",
       "    <tr>\n",
       "      <th>17</th>\n",
       "      <td>6.2</td>\n",
       "      <td>0.66</td>\n",
       "      <td>0.48</td>\n",
       "      <td>1.2</td>\n",
       "      <td>0.029</td>\n",
       "      <td>29.0</td>\n",
       "      <td>75.0</td>\n",
       "      <td>0.9892</td>\n",
       "      <td>3.33</td>\n",
       "      <td>0.39</td>\n",
       "      <td>12.8</td>\n",
       "      <td>8</td>\n",
       "      <td>Média</td>\n",
       "      <td>White</td>\n",
       "    </tr>\n",
       "    <tr>\n",
       "      <th>21</th>\n",
       "      <td>6.4</td>\n",
       "      <td>0.31</td>\n",
       "      <td>0.38</td>\n",
       "      <td>2.9</td>\n",
       "      <td>0.038</td>\n",
       "      <td>19.0</td>\n",
       "      <td>102.0</td>\n",
       "      <td>0.9912</td>\n",
       "      <td>3.17</td>\n",
       "      <td>0.35</td>\n",
       "      <td>11.0</td>\n",
       "      <td>7</td>\n",
       "      <td>Média</td>\n",
       "      <td>White</td>\n",
       "    </tr>\n",
       "    <tr>\n",
       "      <th>22</th>\n",
       "      <td>6.8</td>\n",
       "      <td>0.26</td>\n",
       "      <td>0.42</td>\n",
       "      <td>1.7</td>\n",
       "      <td>0.049</td>\n",
       "      <td>41.0</td>\n",
       "      <td>122.0</td>\n",
       "      <td>0.9930</td>\n",
       "      <td>3.47</td>\n",
       "      <td>0.48</td>\n",
       "      <td>10.5</td>\n",
       "      <td>8</td>\n",
       "      <td>Média</td>\n",
       "      <td>White</td>\n",
       "    </tr>\n",
       "  </tbody>\n",
       "</table>\n",
       "</div>"
      ],
      "text/plain": [
       "    fixed acidity  volatile acidity  citric acid  residual sugar  chlorides  \\\n",
       "13            6.6              0.16         0.40             1.5      0.044   \n",
       "15            6.6              0.17         0.38             1.5      0.032   \n",
       "17            6.2              0.66         0.48             1.2      0.029   \n",
       "21            6.4              0.31         0.38             2.9      0.038   \n",
       "22            6.8              0.26         0.42             1.7      0.049   \n",
       "\n",
       "    free sulfur dioxide  total sulfur dioxide  density    pH  sulphates  \\\n",
       "13                 48.0                 143.0   0.9912  3.54       0.52   \n",
       "15                 28.0                 112.0   0.9914  3.25       0.55   \n",
       "17                 29.0                  75.0   0.9892  3.33       0.39   \n",
       "21                 19.0                 102.0   0.9912  3.17       0.35   \n",
       "22                 41.0                 122.0   0.9930  3.47       0.48   \n",
       "\n",
       "    alcohol  quality acidity_level   type  \n",
       "13     12.4        7         Média  White  \n",
       "15     11.4        7         Média  White  \n",
       "17     12.8        8         Média  White  \n",
       "21     11.0        7         Média  White  \n",
       "22     10.5        8         Média  White  "
      ]
     },
     "execution_count": 121,
     "metadata": {},
     "output_type": "execute_result"
    }
   ],
   "source": [
    "# Filtrar vinhos com qualidade >= 7 e teor alcoólico médio acima de 10\n",
    "df_high_quality2 = df2.groupby('quality').filter(lambda x: x['alcohol'].mean() > 10 and x['quality'].mean() >= 7)\n",
    "\n",
    "# Mostrar as primeiras linhas dos vinhos que atendem a esses critérios\n",
    "df_high_quality2.head()\n"
   ]
  },
  {
   "cell_type": "code",
   "execution_count": 122,
   "id": "2664e6dd-a682-4ef4-8099-50ffff47023e",
   "metadata": {},
   "outputs": [
    {
     "data": {
      "text/plain": [
       "quality\n",
       "3    0\n",
       "4    0\n",
       "5    7\n",
       "6    3\n",
       "7    2\n",
       "8    0\n",
       "Name: fixed acidity, dtype: int64"
      ]
     },
     "execution_count": 122,
     "metadata": {},
     "output_type": "execute_result"
    }
   ],
   "source": [
    "# Definir uma função para contar outliers com base em desvios padrão\n",
    "def contar_outliers(x):\n",
    "    return ((x < (x.mean() - 3 * x.std())) | (x > (x.mean() + 3 * x.std()))).sum()\n",
    "\n",
    "# Aplicar essa função por nível de qualidade na acidez fixa\n",
    "df.groupby('quality')['fixed acidity'].apply(contar_outliers)"
   ]
  },
  {
   "cell_type": "code",
   "execution_count": 123,
   "id": "f89bd595-87fb-43ec-a581-9025b38fc0fa",
   "metadata": {},
   "outputs": [
    {
     "data": {
      "text/plain": [
       "quality\n",
       "3     0\n",
       "4     0\n",
       "5    10\n",
       "6    13\n",
       "7     3\n",
       "8     1\n",
       "9     0\n",
       "Name: fixed acidity, dtype: int64"
      ]
     },
     "execution_count": 123,
     "metadata": {},
     "output_type": "execute_result"
    }
   ],
   "source": [
    "# Definir uma função para contar outliers com base em desvios padrão\n",
    "def contar_outliers2(x):\n",
    "    return ((x < (x.mean() - 3 * x.std())) | (x > (x.mean() + 3 * x.std()))).sum()\n",
    "\n",
    "# Aplicar essa função por nível de qualidade na acidez fixa\n",
    "df2.groupby('quality')['fixed acidity'].apply(contar_outliers2)"
   ]
  }
 ],
 "metadata": {
  "kernelspec": {
   "display_name": "Python 3 (ipykernel)",
   "language": "python",
   "name": "python3"
  },
  "language_info": {
   "codemirror_mode": {
    "name": "ipython",
    "version": 3
   },
   "file_extension": ".py",
   "mimetype": "text/x-python",
   "name": "python",
   "nbconvert_exporter": "python",
   "pygments_lexer": "ipython3",
   "version": "3.11.9"
  }
 },
 "nbformat": 4,
 "nbformat_minor": 5
}
